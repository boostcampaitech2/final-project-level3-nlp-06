{
 "cells": [
  {
   "cell_type": "code",
   "execution_count": 1,
   "metadata": {},
   "outputs": [],
   "source": [
    "from neo4j import GraphDatabase"
   ]
  },
  {
   "cell_type": "code",
   "execution_count": 6,
   "metadata": {},
   "outputs": [],
   "source": [
    "driver=GraphDatabase.driver(uri=\"bolt://192.168.0.158:7687\",auth=(\"jin\",\"password\"))"
   ]
  },
  {
   "cell_type": "code",
   "execution_count": 7,
   "metadata": {},
   "outputs": [],
   "source": [
    "session=driver.session()"
   ]
  },
  {
   "cell_type": "markdown",
   "metadata": {},
   "source": [
    "# get results from graphdb"
   ]
  },
  {
   "cell_type": "code",
   "execution_count": 8,
   "metadata": {},
   "outputs": [],
   "source": [
    "query=\"\"\"\n",
    "match (n:Student{name:$name}) return n.name as name\n",
    "\"\"\""
   ]
  },
  {
   "cell_type": "code",
   "execution_count": 10,
   "metadata": {},
   "outputs": [],
   "source": [
    "from neo4j import GraphDatabase\n",
    "import re\n",
    "from ast import literal_eval\n",
    "\"\"\" make node & relationship\"\"\"\n",
    "def add_corp(tx, name, corp_code, stock_code, date, report_idx, keyword):\n",
    "    tx.run(\"MERGE (c:Corp {name: $name , corp_code : $corp_code, stock_code:$stock_code, date: $date, report_idx: $report_idx, keyword: $keyword})\",\n",
    "           name=name, corp_code=corp_code, stock_code=stock_code, date=date,  report_idx=report_idx, keyword=keyword)\n",
    "\n",
    "def add_product(tx):\n",
    "    tx.run(\"MATCH (c:Corp) \"\n",
    "           \"UNWIND c.keyword as k \"\n",
    "           \"MERGE (b:Keyword {name:k}) \"\n",
    "           \"MERGE (c)-[r:Product]->(b)\")\n",
    "\n",
    "\n",
    "\"\"\" 한자와 공백 제거 \"\"\"\n",
    "# Neo4j -> Gephi 에서 parsing error의 원인이 될 수 있음\n",
    "def clean_text_for_neo4j(row):\n",
    "    text = row['주요 사업']\n",
    "    text_list = eval(text)\n",
    "    answer = [] \n",
    "    for text in text_list : \n",
    "        text = re.sub(pattern='[^a-zA-Z0-9ㄱ-ㅣ가-힣]', repl='', string=text)\n",
    "        answer.append(text) \n",
    "    # print(\"영어, 숫자, 한글만 포함 : \", text )\n",
    "    return answer\n"
   ]
  },
  {
   "cell_type": "code",
   "execution_count": 15,
   "metadata": {},
   "outputs": [
    {
     "ename": "TypeError",
     "evalue": "eval() arg 1 must be a string, bytes or code object",
     "output_type": "error",
     "traceback": [
      "\u001b[0;31m---------------------------------------------------------------------------\u001b[0m",
      "\u001b[0;31mTypeError\u001b[0m                                 Traceback (most recent call last)",
      "\u001b[0;32m<ipython-input-15-a7e6c2ccb853>\u001b[0m in \u001b[0;36m<module>\u001b[0;34m\u001b[0m\n\u001b[1;32m      3\u001b[0m \u001b[0;32mimport\u001b[0m \u001b[0mpandas\u001b[0m \u001b[0;32mas\u001b[0m \u001b[0mpd\u001b[0m\u001b[0;34m\u001b[0m\u001b[0;34m\u001b[0m\u001b[0m\n\u001b[1;32m      4\u001b[0m \u001b[0mdf\u001b[0m \u001b[0;34m=\u001b[0m \u001b[0mpd\u001b[0m\u001b[0;34m.\u001b[0m\u001b[0mread_csv\u001b[0m\u001b[0;34m(\u001b[0m\u001b[0;34m\"./filterd_data_v1.csv\"\u001b[0m\u001b[0;34m,\u001b[0m \u001b[0mencoding\u001b[0m\u001b[0;34m=\u001b[0m\u001b[0;34m'CP949'\u001b[0m\u001b[0;34m)\u001b[0m\u001b[0;34m\u001b[0m\u001b[0;34m\u001b[0m\u001b[0m\n\u001b[0;32m----> 5\u001b[0;31m \u001b[0mdf\u001b[0m\u001b[0;34m[\u001b[0m\u001b[0;34m'주요 사업'\u001b[0m\u001b[0;34m]\u001b[0m \u001b[0;34m=\u001b[0m \u001b[0mdf\u001b[0m\u001b[0;34m.\u001b[0m\u001b[0mapply\u001b[0m\u001b[0;34m(\u001b[0m\u001b[0mclean_text_for_neo4j\u001b[0m\u001b[0;34m,\u001b[0m \u001b[0maxis\u001b[0m\u001b[0;34m=\u001b[0m\u001b[0;36m1\u001b[0m\u001b[0;34m)\u001b[0m\u001b[0;34m\u001b[0m\u001b[0;34m\u001b[0m\u001b[0m\n\u001b[0m\u001b[1;32m      6\u001b[0m \u001b[0;34m\u001b[0m\u001b[0m\n\u001b[1;32m      7\u001b[0m \u001b[0;34m\u001b[0m\u001b[0m\n",
      "\u001b[0;32m/opt/conda/lib/python3.8/site-packages/pandas/core/frame.py\u001b[0m in \u001b[0;36mapply\u001b[0;34m(self, func, axis, raw, result_type, args, **kwds)\u001b[0m\n\u001b[1;32m   7550\u001b[0m             \u001b[0mkwds\u001b[0m\u001b[0;34m=\u001b[0m\u001b[0mkwds\u001b[0m\u001b[0;34m,\u001b[0m\u001b[0;34m\u001b[0m\u001b[0;34m\u001b[0m\u001b[0m\n\u001b[1;32m   7551\u001b[0m         )\n\u001b[0;32m-> 7552\u001b[0;31m         \u001b[0;32mreturn\u001b[0m \u001b[0mop\u001b[0m\u001b[0;34m.\u001b[0m\u001b[0mget_result\u001b[0m\u001b[0;34m(\u001b[0m\u001b[0;34m)\u001b[0m\u001b[0;34m\u001b[0m\u001b[0;34m\u001b[0m\u001b[0m\n\u001b[0m\u001b[1;32m   7553\u001b[0m \u001b[0;34m\u001b[0m\u001b[0m\n\u001b[1;32m   7554\u001b[0m     \u001b[0;32mdef\u001b[0m \u001b[0mapplymap\u001b[0m\u001b[0;34m(\u001b[0m\u001b[0mself\u001b[0m\u001b[0;34m,\u001b[0m \u001b[0mfunc\u001b[0m\u001b[0;34m)\u001b[0m \u001b[0;34m->\u001b[0m \u001b[0;34m\"DataFrame\"\u001b[0m\u001b[0;34m:\u001b[0m\u001b[0;34m\u001b[0m\u001b[0;34m\u001b[0m\u001b[0m\n",
      "\u001b[0;32m/opt/conda/lib/python3.8/site-packages/pandas/core/apply.py\u001b[0m in \u001b[0;36mget_result\u001b[0;34m(self)\u001b[0m\n\u001b[1;32m    183\u001b[0m             \u001b[0;32mreturn\u001b[0m \u001b[0mself\u001b[0m\u001b[0;34m.\u001b[0m\u001b[0mapply_raw\u001b[0m\u001b[0;34m(\u001b[0m\u001b[0;34m)\u001b[0m\u001b[0;34m\u001b[0m\u001b[0;34m\u001b[0m\u001b[0m\n\u001b[1;32m    184\u001b[0m \u001b[0;34m\u001b[0m\u001b[0m\n\u001b[0;32m--> 185\u001b[0;31m         \u001b[0;32mreturn\u001b[0m \u001b[0mself\u001b[0m\u001b[0;34m.\u001b[0m\u001b[0mapply_standard\u001b[0m\u001b[0;34m(\u001b[0m\u001b[0;34m)\u001b[0m\u001b[0;34m\u001b[0m\u001b[0;34m\u001b[0m\u001b[0m\n\u001b[0m\u001b[1;32m    186\u001b[0m \u001b[0;34m\u001b[0m\u001b[0m\n\u001b[1;32m    187\u001b[0m     \u001b[0;32mdef\u001b[0m \u001b[0mapply_empty_result\u001b[0m\u001b[0;34m(\u001b[0m\u001b[0mself\u001b[0m\u001b[0;34m)\u001b[0m\u001b[0;34m:\u001b[0m\u001b[0;34m\u001b[0m\u001b[0;34m\u001b[0m\u001b[0m\n",
      "\u001b[0;32m/opt/conda/lib/python3.8/site-packages/pandas/core/apply.py\u001b[0m in \u001b[0;36mapply_standard\u001b[0;34m(self)\u001b[0m\n\u001b[1;32m    274\u001b[0m \u001b[0;34m\u001b[0m\u001b[0m\n\u001b[1;32m    275\u001b[0m     \u001b[0;32mdef\u001b[0m \u001b[0mapply_standard\u001b[0m\u001b[0;34m(\u001b[0m\u001b[0mself\u001b[0m\u001b[0;34m)\u001b[0m\u001b[0;34m:\u001b[0m\u001b[0;34m\u001b[0m\u001b[0;34m\u001b[0m\u001b[0m\n\u001b[0;32m--> 276\u001b[0;31m         \u001b[0mresults\u001b[0m\u001b[0;34m,\u001b[0m \u001b[0mres_index\u001b[0m \u001b[0;34m=\u001b[0m \u001b[0mself\u001b[0m\u001b[0;34m.\u001b[0m\u001b[0mapply_series_generator\u001b[0m\u001b[0;34m(\u001b[0m\u001b[0;34m)\u001b[0m\u001b[0;34m\u001b[0m\u001b[0;34m\u001b[0m\u001b[0m\n\u001b[0m\u001b[1;32m    277\u001b[0m \u001b[0;34m\u001b[0m\u001b[0m\n\u001b[1;32m    278\u001b[0m         \u001b[0;31m# wrap results\u001b[0m\u001b[0;34m\u001b[0m\u001b[0;34m\u001b[0m\u001b[0;34m\u001b[0m\u001b[0m\n",
      "\u001b[0;32m/opt/conda/lib/python3.8/site-packages/pandas/core/apply.py\u001b[0m in \u001b[0;36mapply_series_generator\u001b[0;34m(self)\u001b[0m\n\u001b[1;32m    303\u001b[0m                 \u001b[0;32mfor\u001b[0m \u001b[0mi\u001b[0m\u001b[0;34m,\u001b[0m \u001b[0mv\u001b[0m \u001b[0;32min\u001b[0m \u001b[0menumerate\u001b[0m\u001b[0;34m(\u001b[0m\u001b[0mseries_gen\u001b[0m\u001b[0;34m)\u001b[0m\u001b[0;34m:\u001b[0m\u001b[0;34m\u001b[0m\u001b[0;34m\u001b[0m\u001b[0m\n\u001b[1;32m    304\u001b[0m                     \u001b[0;31m# ignore SettingWithCopy here in case the user mutates\u001b[0m\u001b[0;34m\u001b[0m\u001b[0;34m\u001b[0m\u001b[0;34m\u001b[0m\u001b[0m\n\u001b[0;32m--> 305\u001b[0;31m                     \u001b[0mresults\u001b[0m\u001b[0;34m[\u001b[0m\u001b[0mi\u001b[0m\u001b[0;34m]\u001b[0m \u001b[0;34m=\u001b[0m \u001b[0mself\u001b[0m\u001b[0;34m.\u001b[0m\u001b[0mf\u001b[0m\u001b[0;34m(\u001b[0m\u001b[0mv\u001b[0m\u001b[0;34m)\u001b[0m\u001b[0;34m\u001b[0m\u001b[0;34m\u001b[0m\u001b[0m\n\u001b[0m\u001b[1;32m    306\u001b[0m                     \u001b[0;32mif\u001b[0m \u001b[0misinstance\u001b[0m\u001b[0;34m(\u001b[0m\u001b[0mresults\u001b[0m\u001b[0;34m[\u001b[0m\u001b[0mi\u001b[0m\u001b[0;34m]\u001b[0m\u001b[0;34m,\u001b[0m \u001b[0mABCSeries\u001b[0m\u001b[0;34m)\u001b[0m\u001b[0;34m:\u001b[0m\u001b[0;34m\u001b[0m\u001b[0;34m\u001b[0m\u001b[0m\n\u001b[1;32m    307\u001b[0m                         \u001b[0;31m# If we have a view on v, we need to make a copy because\u001b[0m\u001b[0;34m\u001b[0m\u001b[0;34m\u001b[0m\u001b[0;34m\u001b[0m\u001b[0m\n",
      "\u001b[0;32m<ipython-input-10-aaff373c2345>\u001b[0m in \u001b[0;36mclean_text_for_neo4j\u001b[0;34m(row)\u001b[0m\n\u001b[1;32m     18\u001b[0m \u001b[0;32mdef\u001b[0m \u001b[0mclean_text_for_neo4j\u001b[0m\u001b[0;34m(\u001b[0m\u001b[0mrow\u001b[0m\u001b[0;34m)\u001b[0m\u001b[0;34m:\u001b[0m\u001b[0;34m\u001b[0m\u001b[0;34m\u001b[0m\u001b[0m\n\u001b[1;32m     19\u001b[0m     \u001b[0mtext\u001b[0m \u001b[0;34m=\u001b[0m \u001b[0mrow\u001b[0m\u001b[0;34m[\u001b[0m\u001b[0;34m'주요 사업'\u001b[0m\u001b[0;34m]\u001b[0m\u001b[0;34m\u001b[0m\u001b[0;34m\u001b[0m\u001b[0m\n\u001b[0;32m---> 20\u001b[0;31m     \u001b[0mtext_list\u001b[0m \u001b[0;34m=\u001b[0m \u001b[0meval\u001b[0m\u001b[0;34m(\u001b[0m\u001b[0mtext\u001b[0m\u001b[0;34m)\u001b[0m\u001b[0;34m\u001b[0m\u001b[0;34m\u001b[0m\u001b[0m\n\u001b[0m\u001b[1;32m     21\u001b[0m     \u001b[0manswer\u001b[0m \u001b[0;34m=\u001b[0m \u001b[0;34m[\u001b[0m\u001b[0;34m]\u001b[0m\u001b[0;34m\u001b[0m\u001b[0;34m\u001b[0m\u001b[0m\n\u001b[1;32m     22\u001b[0m     \u001b[0;32mfor\u001b[0m \u001b[0mtext\u001b[0m \u001b[0;32min\u001b[0m \u001b[0mtext_list\u001b[0m \u001b[0;34m:\u001b[0m\u001b[0;34m\u001b[0m\u001b[0;34m\u001b[0m\u001b[0m\n",
      "\u001b[0;31mTypeError\u001b[0m: eval() arg 1 must be a string, bytes or code object"
     ]
    }
   ],
   "source": [
    "import os\n",
    "\n",
    "import pandas as pd \n",
    "df = pd.read_csv(\"./filterd_data_v1.csv\", encoding='CP949')\n",
    "df['주요 사업'] = df.apply(clean_text_for_neo4j, axis=1)\n",
    "\n",
    "\n"
   ]
  },
  {
   "cell_type": "markdown",
   "metadata": {},
   "source": [
    "# create new node"
   ]
  },
  {
   "cell_type": "code",
   "execution_count": 86,
   "metadata": {},
   "outputs": [],
   "source": [
    "query=\"\"\"\n",
    "create(n:Student{name:\"Stephan\",city:\"Cape Town\"})\n",
    "RETURN n.name as name ,n.city as city\n",
    "\"\"\""
   ]
  },
  {
   "cell_type": "code",
   "execution_count": 87,
   "metadata": {},
   "outputs": [],
   "source": [
    "results=session.run(query)"
   ]
  },
  {
   "cell_type": "code",
   "execution_count": 88,
   "metadata": {},
   "outputs": [
    {
     "name": "stdout",
     "output_type": "stream",
     "text": [
      "Name:Stephan,City:Cape Town\n"
     ]
    }
   ],
   "source": [
    "for result in results:\n",
    "    print(f'Name:{result[\"name\"]},City:{result[\"city\"]}')"
   ]
  },
  {
   "cell_type": "markdown",
   "metadata": {},
   "source": [
    "# update new node by adding new properties"
   ]
  },
  {
   "cell_type": "code",
   "execution_count": 89,
   "metadata": {},
   "outputs": [],
   "source": [
    "query=\"\"\"\n",
    "Match(n:Student{name:\"Stephan\"}) \n",
    "set n.company=\"Neo4j\"\n",
    "RETURN n.name as name,n.company as company,n.city as city\n",
    "\"\"\""
   ]
  },
  {
   "cell_type": "code",
   "execution_count": 90,
   "metadata": {},
   "outputs": [],
   "source": [
    "results=session.run(query)"
   ]
  },
  {
   "cell_type": "code",
   "execution_count": 91,
   "metadata": {},
   "outputs": [
    {
     "name": "stdout",
     "output_type": "stream",
     "text": [
      "Name:Stephan,City:Cape Town,Company:Neo4j\n"
     ]
    }
   ],
   "source": [
    "for result in results:\n",
    "    print(f'Name:{result[\"name\"]},City:{result[\"city\"]},Company:{result[\"company\"]}')"
   ]
  },
  {
   "cell_type": "markdown",
   "metadata": {},
   "source": [
    "# add relationship between nodes\n"
   ]
  },
  {
   "cell_type": "code",
   "execution_count": 92,
   "metadata": {},
   "outputs": [],
   "source": [
    "query=\"\"\"match(a:Student{name:\"Roni\"}),(b:Student{name:\"Stephan\"}) \n",
    "create (a)-[r1:friend_of]->(b)\n",
    "\"\"\""
   ]
  },
  {
   "cell_type": "code",
   "execution_count": 93,
   "metadata": {},
   "outputs": [],
   "source": [
    "results=session.run(query)"
   ]
  },
  {
   "cell_type": "code",
   "execution_count": 7,
   "metadata": {},
   "outputs": [],
   "source": [
    "from neo4j import GraphDatabase\n",
    "import re\n",
    "from ast import literal_eval\n",
    "import os\n",
    "import pandas as pd \n",
    "import networkx as nx\n",
    "import matplotlib.pyplot as plt\n",
    "\"\"\" make node & relationship\"\"\"\n",
    "def add_corp(tx, name, corp_code, stock_code, date, report_idx, keyword):\n",
    "    tx.run(\"MERGE (c:Corp {name: $name , corp_code : $corp_code, stock_code:$stock_code, date: $date, report_idx: $report_idx, keyword: $keyword})\",\n",
    "           name=name, corp_code=corp_code, stock_code=stock_code, date=date,  report_idx=report_idx, keyword=keyword)\n",
    "\n",
    "def add_product(tx):\n",
    "    tx.run(\"MATCH (c:Corp) \"\n",
    "           \"UNWIND c.keyword as k \"\n",
    "           \"MERGE (b:Keyword {name:k}) \"\n",
    "           \"MERGE (c)-[r:Product]->(b)\")\n",
    "\n",
    "\n",
    "\"\"\" 한자와 공백 제거 \"\"\"\n",
    "# Neo4j -> Gephi 에서 parsing error의 원인이 될 수 있음\n",
    "def clean_text_for_neo4j(row):\n",
    "    text = row['주요 사업']\n",
    "    try :\n",
    "        text_list = eval(text)\n",
    "        answer = [] \n",
    "        for text in text_list : \n",
    "            text = re.sub(pattern='[^a-zA-Z0-9ㄱ-ㅣ가-힣]', repl='', string=text)\n",
    "            answer.append(text) \n",
    "        # print(\"영어, 숫자, 한글만 포함 : \", text )\n",
    "        return answer\n",
    "    except:\n",
    "        return [] \n",
    "\n",
    "\n",
    "\n",
    "\n",
    "\"\"\" 입력 \"\"\"\n",
    "# Cyper code를 이용,  크롤링한 Data를 DB에 입력\n",
    "\n",
    "\n",
    "class neo4jDB:\n",
    "    def __init__(self, uri, user, password):\n",
    "        self.driver = GraphDatabase.driver(\"bolt://localhost:7687\", auth=(\"neo4j\", \"password\"))  \n",
    "\n",
    "    def close(self):\n",
    "        self.driver.close()    \n",
    "\n",
    "    def create_graph(self) :\n",
    "        df = pd.read_csv(\"./flaskr/filterd_data_v1.csv\", encoding='CP949')\n",
    "        df['주요 사업'] = df.apply(clean_text_for_neo4j, axis=1)\n",
    "        with self.driver.session() as session:\n",
    "            \"\"\" make node \"\"\"\n",
    "            for idx in range(len(df)):        \n",
    "                session.write_transaction(add_corp, name=df.iloc[idx]['기업 이름'], corp_code=str(df.iloc[idx]['기업 코드']), stock_code=str(df.iloc[idx]['주식 코드']), \n",
    "                date=str(df.iloc[idx]['수정 일자']),  report_idx=str(df.iloc[idx]['보고서 ID']), keyword=df.iloc[idx]['주요 사업'])    \n",
    "            session.write_transaction(add_product)\n",
    "\n",
    "    def print_product(self):\n",
    "        with self.driver.session() as session:\n",
    "            return session.write_transaction(self._return_product_relation)\n",
    "            \n",
    "\n",
    "    @staticmethod\n",
    "    def _return_product_relation(tx):\n",
    "        result = tx.run(\"MATCH p=(n1:)-[r:Product]->(n2)\"\n",
    "                        \" RETURN n1, r, n2\"\n",
    "                        \" LIMIT 5\")\n",
    "        DG = nx.DiGraph()\n",
    "        for i, path in enumerate(result):            \n",
    "            n1_dict = {\n",
    "                'name':path['n1']['name'],\n",
    "                'id': path['n1'].id, \n",
    "                'labels':path['n1'].labels, \n",
    "                'properties':dict(path['n1'])                \n",
    "            }\n",
    "            n2_dict = {\n",
    "                'name':path['n2']['name'],\n",
    "                'id': path['n2'].id, \n",
    "                'labels':path['n2'].labels, \n",
    "                'properties':dict(path['n2'])\n",
    "            }\n",
    "            # 마찬가지로, edge의 경우도 아래와 같이 정보를 저장한다.\n",
    "            e_dict = {\n",
    "                'name': \"주요사업\",\n",
    "                'id':path['r'].id, \n",
    "                'type':path['r'].type, \n",
    "                'properties':dict(path['r'])\n",
    "            }\n",
    "            # print(e_dict)\n",
    "            # 해당 노드를 넣은 적이 없으면 넣는다.\n",
    "            if n1_dict['name'] not in DG:\n",
    "                if 'corp_code' in n1_dict['properties'].keys() : \n",
    "                    DG.add_nodes_from([\n",
    "                        (n1_dict['name'], n1_dict)\n",
    "                    ], color='blue')\n",
    "                else : \n",
    "                    DG.add_nodes_from([\n",
    "                    (n1_dict['name'], n1_dict)\n",
    "                ], color='red')\n",
    "            # 해당 노드를 넣은 적이 없으면 넣는다.\n",
    "            if n2_dict['name'] not in DG:\n",
    "                DG.add_nodes_from([\n",
    "                    (n2_dict['name'], n2_dict)\n",
    "                ], color='red')\n",
    "            # edge를 넣어준다. 노드의 경우 중복으로 들어갈 수 있으므로 중복을 체크해서 넣어주지만, \n",
    "            # edge의 경우 중복을 체크하지 않아도 문제없다.\n",
    "            DG.add_edges_from([\n",
    "                (n1_dict['name'], n2_dict['name'], e_dict)\n",
    "            ])\n",
    "        return DG"
   ]
  },
  {
   "cell_type": "code",
   "execution_count": 8,
   "metadata": {},
   "outputs": [],
   "source": [
    "import matplotlib.font_manager as fm\n",
    "\n",
    "from matplotlib import rc\n",
    "\n",
    "font_name = fm.FontProperties(fname=\"./font/malgun.ttf\").get_name()\n",
    "\n",
    "rc('font', family=font_name)\n",
    "\n",
    "\n",
    "\n"
   ]
  },
  {
   "cell_type": "code",
   "execution_count": 15,
   "metadata": {},
   "outputs": [
    {
     "ename": "AttributeError",
     "evalue": "'str' object has no attribute 'id'",
     "output_type": "error",
     "traceback": [
      "\u001b[0;31m---------------------------------------------------------------------------\u001b[0m",
      "\u001b[0;31mAttributeError\u001b[0m                            Traceback (most recent call last)",
      "\u001b[0;32m<ipython-input-15-dd7ab5e0d33e>\u001b[0m in \u001b[0;36m<module>\u001b[0;34m\u001b[0m\n\u001b[1;32m      3\u001b[0m \u001b[0mcolor_map\u001b[0m\u001b[0;34m=\u001b[0m\u001b[0;34m[\u001b[0m\u001b[0;34m]\u001b[0m\u001b[0;34m\u001b[0m\u001b[0;34m\u001b[0m\u001b[0m\n\u001b[1;32m      4\u001b[0m \u001b[0;32mfor\u001b[0m \u001b[0mnode\u001b[0m \u001b[0;32min\u001b[0m \u001b[0mDG\u001b[0m\u001b[0;34m:\u001b[0m\u001b[0;34m\u001b[0m\u001b[0;34m\u001b[0m\u001b[0m\n\u001b[0;32m----> 5\u001b[0;31m     \u001b[0;32mif\u001b[0m \u001b[0mnode\u001b[0m\u001b[0;34m.\u001b[0m\u001b[0mid\u001b[0m\u001b[0;34m<\u001b[0m\u001b[0;36m10\u001b[0m\u001b[0;34m:\u001b[0m\u001b[0;34m\u001b[0m\u001b[0;34m\u001b[0m\u001b[0m\n\u001b[0m\u001b[1;32m      6\u001b[0m         \u001b[0mcolor_map\u001b[0m\u001b[0;34m.\u001b[0m\u001b[0mappend\u001b[0m\u001b[0;34m(\u001b[0m\u001b[0;34m'blue'\u001b[0m\u001b[0;34m)\u001b[0m\u001b[0;34m\u001b[0m\u001b[0;34m\u001b[0m\u001b[0m\n\u001b[1;32m      7\u001b[0m     \u001b[0;32melse\u001b[0m \u001b[0;34m:\u001b[0m\u001b[0;34m\u001b[0m\u001b[0;34m\u001b[0m\u001b[0m\n",
      "\u001b[0;31mAttributeError\u001b[0m: 'str' object has no attribute 'id'"
     ]
    }
   ],
   "source": [
    "greeter = neo4jDB(\"bolt://localhost:7687\", \"neo4j\", \"password\")\n",
    "DG = greeter.print_product()\n",
    "\n",
    "nx.draw(DG, with_labels=True, node_size=1000, alpha=0.9)\n",
    "plt.show()  \n",
    "greeter.close()"
   ]
  },
  {
   "cell_type": "code",
   "execution_count": 17,
   "metadata": {},
   "outputs": [
    {
     "data": {
      "text/plain": [
       "'/opt/ml/.cache/matplotlib'"
      ]
     },
     "execution_count": 17,
     "metadata": {},
     "output_type": "execute_result"
    }
   ],
   "source": [
    "import matplotlib\n",
    "matplotlib.get_cachedir()"
   ]
  },
  {
   "cell_type": "code",
   "execution_count": null,
   "metadata": {},
   "outputs": [],
   "source": []
  }
 ],
 "metadata": {
  "kernelspec": {
   "display_name": "Python 3",
   "language": "python",
   "name": "python3"
  },
  "language_info": {
   "codemirror_mode": {
    "name": "ipython",
    "version": 3
   },
   "file_extension": ".py",
   "mimetype": "text/x-python",
   "name": "python",
   "nbconvert_exporter": "python",
   "pygments_lexer": "ipython3",
   "version": "3.8.5"
  }
 },
 "nbformat": 4,
 "nbformat_minor": 4
}
