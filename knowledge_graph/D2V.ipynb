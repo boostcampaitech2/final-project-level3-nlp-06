{
 "cells": [
  {
   "cell_type": "code",
   "execution_count": 16,
   "metadata": {},
   "outputs": [],
   "source": [
    "import tensorflow_datasets as tfds\n",
    "import tfds_korean.namuwikitext\n",
    "\n",
    "dataset = tfds.load(\"namuwikitext\",  split=tfds.Split.TRAIN)"
   ]
  },
  {
   "cell_type": "code",
   "execution_count": 17,
   "metadata": {},
   "outputs": [],
   "source": [
    "from gensim.models import doc2vec\n",
    "import pandas as pd\n",
    "from konlpy.tag import Mecab\n",
    "from gensim.models.doc2vec import TaggedDocument\n",
    "from tqdm import tqdm\n",
    "from datasets import load_dataset\n",
    "mecab = Mecab()"
   ]
  },
  {
   "cell_type": "code",
   "execution_count": 27,
   "metadata": {},
   "outputs": [
    {
     "name": "stdout",
     "output_type": "stream",
     "text": [
      "= = = 시즌3 = = =\n",
      "양양몰 오픈! 지하 1층 식당가 양식당 운영기!\n",
      "시즌3 보기\n",
      "1화: 양양몰&양식당 드디어 오픈!\n",
      "2화: 양양몰 4층에 숨겨진 비밀?!\n",
      "3화: 최고급 토끼고기수프 탄생!?\n",
      "4화: 프링의 낚시 실력 최초공개?!\n",
      "5화: 치킨 200마리 배달 주문?!\n",
      "6화: 장난전화한 트롤을 잡아라!\n",
      "7화: 좀비고기로 요리를?\n",
      "8화: 마지막 미션의 결과는?\n",
      "9화: 드디어 미슐랭 등극하다!\n",
      "0\n",
      "= 대우재단 산하 대우학원 =\n",
      "새시대를 맞는 경건하고 숙연한 입장에서 저는 제가 지닌 모든 재산을 완전히 공개함과 동시에 그 사재 ( 私財 ) 모두를 이 참다운 사회에 환원시켜 앞으로 국민 여러분 모두가 염원하고 있는 가장 선량한 경영자인 전문경영자로서 소임을 다하고자 합니다. 사욕에 연연하지 않는 무사념 ( 無邪念 ) 의 자세로 더욱더 국가발전 역사 ( 役事 ) 에 매진하겠다는 신념에 바로 저의 사재 완전공개와 사회환원의 근본 연원이 있다고 하겠습니다. - 1978년 사재 50억원 출연 이후, 1980년에 200억원 추가 출연 당시 김우중회장 기자회견 중 당시의 50억과 200억은 한국은행경제통계시스템의 현재 소비자 물가지수로 비교해 볼때 약 1000억에 달하는 값어치를 지닌다.\n",
      "1977년 김우중 회장이 아주대학교를 인수한 초기부터 대학의 자율성을 최대한 보장하기 위해 ‘지원은 하되 간섭은 하지 않는다’는 원칙을 내세웠다. 그리하여 국내에서 보기 드물게 ‘정도 ( 正道 ) 를 걷는 사립대학’의 모델을 제시하며, 사재 50억을 기부해 소유와 경영을 분리한 대우학원을 세웠다. 이후 1980년에 추가로 200억의 사재를 기부하면서 대우재단을 설립하였고 ‘대우재단 산하에 대우학원‘을 두어 ‘대우그룹재단과 별개의 기관‘으로 두었다. 그런 연유로 1999년 대우가 해체되는 과정에서도 아주대는 재정적 타격 없이 운영되고 성장할 수 있었다.대우재단\n",
      "대우재단은 크게 3가지 분야의 사업을 추진중인데 1.보건복지사업 2.교육지원사업 3.학술사업이다. 분야로 나뉜 대우재단의 산하 관계기관을 나열해보면 재단이 굉장히 크다는것을 알 수 있는데 대우세계경영연구회, 대우인회, 대우학원 ( 아주대학교, 아주자동차대학, 아주대학교의료원 ) , 대우장학재단, 대우의료재단 ( 옥포대우병원 ) , 지성학원 ( 옥포유치원, 옥림유치원, 대우초등학교, 거제중학교, 거제고등학교 ) , 고등기술연구원 ( 제품기술연구센터, 엔지니어링정보기술센터, 로봇/생산기술센터, 플라즈마기술센터, 플랜트엔지니어링센터 ) 이 전부 대우재단 산하 기관이다. 때문에 아주대학교 이사회는 아주대학교 캠퍼스에서 열리지 않는다. 서울에서 열리지..\n",
      "현재 대우재단 산하 대우학원의 아주대학교 이사장은 대우 전무이사와 대우중공업 종합기계부문 대표이사 사장을 역임한 추호석 씨이다. 관련 기사\n",
      "0\n"
     ]
    }
   ],
   "source": [
    "import numpy as np\n",
    "count=0\n",
    "for data in dataset.take(2):\n",
    "    content, label = data['content'], data['title']        \n",
    "    print(label.numpy().decode( \"utf-8\"))\n",
    "    print(content.numpy().decode( \"utf-8\"))\n",
    "    print(count)"
   ]
  },
  {
   "cell_type": "code",
   "execution_count": 46,
   "metadata": {},
   "outputs": [
    {
     "name": "stderr",
     "output_type": "stream",
     "text": [
      "  0%|          | 1/3906579 [00:01<1630:57:47,  1.50s/it]"
     ]
    },
    {
     "name": "stdout",
     "output_type": "stream",
     "text": [
      "= = = 시즌3 = = =\n",
      "= 대우재단 산하 대우학원 =\n",
      "= = 개요 = =\n",
      "= = = = 저그 ( 비공식 ) = = = =\n",
      "= = 개요 = =\n",
      "= = = 개요 = = =\n",
      "= = VS 쿠사나기 쿄 = =\n",
      "= = 플레이 = =\n",
      "= = 관련 문서 = =\n",
      "= = = Project『Shangri-la』 다큐멘터리반 = = =\n",
      "= = 아르카나 = =\n",
      "= = = 능력 = = =\n",
      "= = = 악역 = = =\n",
      "= = 전과 = =\n",
      "= = 복면가왕 출연 = =\n",
      "= = 수록곡 = =\n",
      "= = 평가 = =\n",
      "= = = 조세포탈, 배임, 횡령 = = =\n",
      "= = = 1화 = = =\n",
      "= = = = = 세정법 = = = = =\n",
      "= = = 노기 노노카 = = =\n",
      "= = 개요 = =\n",
      "= = 개요 = =\n",
      "= = = 2015년 = = =\n",
      "= = = = = 3페이즈 : 시간 정지 = = = = =\n",
      "= = = 인도 신화의 관념 전륜성왕 ( 轉輪聖王 ) = = =\n",
      "= = = =\n",
      "= 알리스터 =\n",
      "= = = 여담 = = =\n",
      "= = = 뒤주에 들어가다 = = =\n",
      "= = = 가이사크 스팅거 스폐셜 = = =\n",
      "= = = 홍콩 = = =\n"
     ]
    },
    {
     "name": "stderr",
     "output_type": "stream",
     "text": [
      "  0%|          | 197/3906579 [00:01<6:12:20, 174.85it/s]"
     ]
    },
    {
     "name": "stdout",
     "output_type": "stream",
     "text": [
      "= 포스 힐라론 =\n",
      "= = 특징 = =\n",
      "= = = 재기드 얼라이언스: 백 인 액션 = = =\n",
      "= = 줄거리 = =\n",
      "= 루셰(코즈믹 브레이크) =\n",
      "= = 카마이타치의 밤 = =\n",
      "= = = 2차 창작에서의 모습 = = =\n",
      "= 쿼드라(사이버펑크 2077) =\n",
      "= = 지구 = =\n",
      "= = = 테일즈 오브 더 월드 시리즈 = = =\n",
      "= = 개요 = =\n",
      "= = 개요 = =\n",
      "= = 연계 철도역 = =\n",
      "= = 기타 = =\n",
      "= 문경 봉암사 지증대사탑비 =\n",
      "= = 상세 = =\n",
      "= = 특징 = =\n",
      "= = 그 외 = =\n",
      "= 나가츠키 탓페이 =\n",
      "= = = 5K ONLY = = =\n",
      "= = = = 본관 = = = =\n",
      "= = = ★1 액티브 스킬 - 급습 ( Sudden Stab ) = = =\n",
      "= = = 루저라기 = = =\n",
      "= = = = 전기 타입 설치류 포켓몬 = = = =\n",
      "= = 생애 = =\n",
      "= = 프로파일 = =\n",
      "= = 같이보기 = =\n",
      "= = 소속팀 목록 = =\n",
      "= = = 화물선 = = =\n",
      "= = 관련 이미지 = =\n",
      "= = = 모델 = = =\n",
      "= = 관련 문서 = =\n",
      "= 민족자결주의 =\n",
      "= = 실존 인물 = =\n",
      "= = 트리비아 = =\n",
      "= = 가사 = =\n",
      "= = = = 이지스 = = = =\n",
      "= 자마역 =\n",
      "= = 여담 = =\n",
      "= = = = = 하라드 제국 = = = = =\n",
      "= = 비씨카드와의 관계 = =\n",
      "= 아쿠오스 폰 더블엑스 =\n",
      "= = 상세 = =\n",
      "= = = 7 체육관 = = =\n",
      "= = 개요 = =\n",
      "= 루크 폰 파브레 =\n",
      "= 병과 기술 =\n",
      "= = = 인향심, 불사의 몸을 가진 아이, 혈편아 = = =\n",
      "= = = 클럽 경력 = = =\n",
      "= = 개요 = =\n",
      "= = 그 외 = =\n",
      "= = 지도자 시절 = =\n",
      "= = 흥망성쇠 = =\n",
      "= Go Higher =\n",
      "= = = 목욕 같은 걸 끼얹나 = = =\n",
      "= = 캐릭터/스토리 = =\n",
      "= 타마 통가 =\n",
      "= 제6항공전단 =\n",
      "= 후쿠시마 공항 =\n",
      "= = = = 동맹 변경 사항 = = = =\n",
      "= = 주기율표 = =\n",
      "= = 윈드시커 ( Windseeker ) = =\n",
      "= = = 왕가의 문장 = = =\n",
      "= = = 철도 = = =\n",
      "= = 개요 = =\n",
      "= = = 스테이지 = = =\n",
      "= = = 유튜브 밀리언 달성곡 = = =\n",
      "= = = = 버스 = = = =\n",
      "= = = 스타크래프트 2: 자유의 날개 = = =\n",
      "= = 은어 = =\n",
      "= = = SKE48에서의 모습 = = =\n",
      "= = 진삼국무쌍 8 = =\n",
      "= = = 기타 국가 = = =\n",
      "= = = 단어 = = =\n",
      "= = 플레이 스타일 = =\n",
      "= = = 18층 = = =\n",
      "= = 관련 문서 = =\n",
      "= = = 배틀그라운드 = = =\n",
      "= = = = Tupolev Tu-12 - 9티어 = = = =\n",
      "= = 개요 = =\n",
      "= = 개요 = =\n",
      "= 에레보스와 닉스의 자식들 =\n",
      "= 라구엘(신데렐라 일레븐) =\n",
      "= = = 주요 행사 = = =\n",
      "= = 승강장 = =\n",
      "= 사가 시리즈 =\n",
      "= 궨트: 더 위쳐 카드 게임/브론즈카드 목록/신디케이트/노비그라드 =\n",
      "= 치즈인더트랩/비판 =\n",
      "= = 플레이 스타일 = =\n",
      "= = 스포츠카의 정의 = =\n",
      "= = = 연합군 해병대 4연대 3대대 = = =\n",
      "= 오버워치 월드컵/대한민국 대표팀/2019년 =\n",
      "= = = 지역 예선 = = =\n",
      "= 유우키 아키에 =\n",
      "= = 평가 = =\n",
      "= = 작중행적 = =\n",
      "= = 운용 = =\n",
      "= = = 하이 하퍼즈 = = =\n",
      "= 칸자키 류지 =\n",
      "= = 활동 = =\n",
      "= = = 레전드히어로 삼국전 = = =\n",
      "= = 소개 = =\n",
      "= = 대사 = =\n",
      "= = = 개요 = = =\n",
      "= HOT6 Champions Summer 2014/8강 =\n",
      "= = = 4월 11일 = = =\n",
      "= = 설명 = =\n",
      "= = = TV 일반 = = =\n",
      "= = = = 여고생 성적대상 논란 = = = =\n",
      "= 이탈리아 거대 도시 개혁 =\n",
      "= = 6월 24일 2017 상반기 왕중왕전 = =\n",
      "= = = 미 OCG화 카드 = = =\n",
      "= = 주재료 = =\n",
      "= = = 종교미술계열 = = =\n",
      "= 망가진 르망 =\n",
      "= = 연계도로 = =\n",
      "= = = 주연 = = =\n",
      "= = = 추상옥 = = =\n",
      "= = 역사 = =\n",
      "= = = = 로스앤젤레스 레이커스 = = = =\n",
      "= = 종류 = =\n",
      "= = 一手 = =\n",
      "= = 전투력 = =\n",
      "= = 상세 = =\n",
      "= = = 작중 행적 = = =\n",
      "= = = 가상 인물 = = =\n",
      "= 워패스 =\n",
      "= = 관련 문서 = =\n",
      "= = = 시즌 1 = = =\n",
      "= = = WGS ARMAMENT = = =\n",
      "= = 지방관 = =\n",
      "= = 출연 = =\n",
      "= = 가입국 = =\n",
      "= = = 리얼리티 = = =\n",
      "= 1071년 =\n",
      "= 포로의 균열 ~음대를 졸업한 전 가희가 울리는 음란한 울음 소리 =\n",
      "= = 겉 뜻 = =\n",
      "= = = 닛폰햄 파이터즈 시절 = = =\n",
      "= = 칼잎벌상과 ( Xyeloidea ) = =\n",
      "= = 개요 = =\n",
      "= = = 하수구 ( 도랑 ) = = =\n",
      "= = 여담 = =\n",
      "= = = 1980년대의 최고의 앨범들 = = =\n",
      "= 프로코피우스 =\n",
      "= = 그리스 신화의 여신 = =\n",
      "= = = = 2019 시즌 = = = =\n",
      "= = 노선 정보 = =\n",
      "= = 학교생활 = =\n",
      "= = 클럽 경력 = =\n",
      "= = = = = 동결된 나비다 거리 ( Lv100-120 ) = = = = =\n",
      "= = = NEST 런처 ( NEST Launcher ) = = =\n",
      "= = 은혼의 등장인물 = =\n",
      "= = 역사 = =\n",
      "= = 게임 요소 = =\n",
      "= = = 링크 몬스터 = = =\n",
      "= = 연혁 = =\n",
      "= = 기타 = =\n",
      "= = = = 사무라이 쇼다운 = = = =\n",
      "= = = 아발론 MSL 2009 = = =\n",
      "= = = = = 일제강점기 시대의 잔재 제거 = = = = =\n",
      "= = 선거 이력 = =\n",
      "= = = 폐교와 후속조치 = = =\n",
      "= = = M고 교사 = = =\n",
      "= = 이자벨 = =\n",
      "= = 2013년까지 행적 = =\n",
      "= A-E-I-O-U (The Caterpillar Song) =\n",
      "= 法 =\n",
      "= 유저박스/교육/대학교 재학 =\n"
     ]
    },
    {
     "name": "stderr",
     "output_type": "stream",
     "text": [
      "  0%|          | 199/3906579 [00:02<15:50:23, 68.51it/s]"
     ]
    },
    {
     "name": "stdout",
     "output_type": "stream",
     "text": [
      "문서의 수 : 0\n"
     ]
    },
    {
     "name": "stderr",
     "output_type": "stream",
     "text": [
      "\n"
     ]
    }
   ],
   "source": [
    "tagged_corpus_list = []\n",
    "cnt=0\n",
    "for data in tqdm(dataset.take(len(dataset)), total=len(dataset)):    \n",
    "    content, label = data['content'].numpy().decode('utf-8'), data['title'].numpy().decode('utf-8')        \n",
    "    print(label)\n",
    "    print(content)\n",
    "    cnt+=1\n",
    "    if cnt==200:\n",
    "        break\n",
    "\n",
    "print('문서의 수 :', len(tagged_corpus_list))"
   ]
  },
  {
   "cell_type": "code",
   "execution_count": 43,
   "metadata": {},
   "outputs": [
    {
     "data": {
      "text/plain": [
       "'= = 치킨집을 차리는 이유 = ='"
      ]
     },
     "execution_count": 43,
     "metadata": {},
     "output_type": "execute_result"
    }
   ],
   "source": [
    "from gensim.models import doc2vec\n",
    "import gensim\n",
    "\n",
    "# !pip install gensim==3.8.3\n",
    "gensim.__version__\n",
    "data['title'].numpy().decode('utf-8')\n"
   ]
  },
  {
   "cell_type": "code",
   "execution_count": 34,
   "metadata": {},
   "outputs": [
    {
     "name": "stderr",
     "output_type": "stream",
     "text": [
      "<ipython-input-34-7a7215b037ff>:6: DeprecationWarning: Call to deprecated `docvecs` (The `docvecs` property has been renamed `dv`.).\n",
      "  print(f\"Tag Size: {len(model.docvecs.doctags.keys())}\", end=' / ')\n"
     ]
    },
    {
     "name": "stdout",
     "output_type": "stream",
     "text": [
      "error!\n"
     ]
    }
   ],
   "source": [
    "model = doc2vec.Doc2Vec(vector_size=300, alpha=0.025, min_alpha=0.025, workers=8, window=6)\n",
    "\n",
    "# Vocabulary 빌드\n",
    "model.build_vocab(tagged_corpus_list)\n",
    "try:\n",
    "    print(f\"Tag Size: {len(model.docvecs.doctags.keys())}\", end=' / ')\n",
    "except:\n",
    "    print(\"error!\")\n",
    "\n",
    "# Doc2Vec 학습\n",
    "model.train(tagged_corpus_list, total_examples=model.corpus_count, epochs=50)\n",
    "\n",
    "# 모델 저장\n",
    "model.save('dart.doc2vec')"
   ]
  },
  {
   "cell_type": "code",
   "execution_count": 45,
   "metadata": {},
   "outputs": [
    {
     "name": "stderr",
     "output_type": "stream",
     "text": [
      "<ipython-input-45-26bcf3ccfae4>:2: DeprecationWarning: Call to deprecated `docvecs` (The `docvecs` property has been renamed `dv`.).\n",
      "  similar_doc = model.docvecs.most_similar('= = VS 쿠사나기 쿄 = =', topn=10)\n"
     ]
    },
    {
     "name": "stdout",
     "output_type": "stream",
     "text": [
      "[('= = VS 네스츠편 쿠사나기 쿄 = =', 0.8150253295898438), ('= = VS 료 사카자키 = =', 0.8093182444572449), ('= = VS 로버트 가르시아 = =', 0.8070316314697266), ('= = VS 테리 보가드 = =', 0.8029060959815979), ('= = VS 매츄어 = =', 0.7976651787757874), ('= = VS 애쉬 크림슨 = =', 0.7943670749664307), ('= = VS 시라누이 마이 = =', 0.7940175533294678), ('= = VS 빌리 칸 = =', 0.7938794493675232), ('= = VS 야가미 이오리 = =', 0.7905135154724121), ('= = VS 변신 전 사이키 = =', 0.7880679965019226)]\n"
     ]
    }
   ],
   "source": [
    "model = doc2vec.Doc2Vec.load('dart.doc2vec')\n",
    "similar_doc = model.docvecs.most_similar('= = VS 쿠사나기 쿄 = =', topn=10)\n",
    "print(similar_doc)"
   ]
  },
  {
   "cell_type": "code",
   "execution_count": 1,
   "metadata": {},
   "outputs": [],
   "source": [
    "import fasttext\n",
    "import fasttext.util\n",
    "import os\n",
    "\n",
    "ft = fasttext.load_model('./fastText/cc.ko.300.bin')"
   ]
  },
  {
   "cell_type": "code",
   "execution_count": 5,
   "metadata": {},
   "outputs": [
    {
     "data": {
      "text/plain": [
       "[(0.701184868812561, '모빌리티의'),\n",
       " (0.6931098699569702, '모빌리티와'),\n",
       " (0.6606677770614624, '모빌리티가'),\n",
       " (0.656341552734375, '모빌리티를'),\n",
       " (0.6402336955070496, '모빌리티라는'),\n",
       " (0.6361937522888184, '모빌리티에'),\n",
       " (0.6025812029838562, '모빌리티는'),\n",
       " (0.5570028424263, '커넥티비티'),\n",
       " (0.54749995470047, '커넥티드카의'),\n",
       " (0.5461723804473877, '커넥티드카')]"
      ]
     },
     "execution_count": 5,
     "metadata": {},
     "output_type": "execute_result"
    }
   ],
   "source": [
    "ft.get_nearest_neighbors('모빌리티')"
   ]
  },
  {
   "cell_type": "code",
   "execution_count": null,
   "metadata": {},
   "outputs": [],
   "source": []
  }
 ],
 "metadata": {
  "interpreter": {
   "hash": "d4d1e4263499bec80672ea0156c357c1ee493ec2b1c70f0acce89fc37c4a6abe"
  },
  "kernelspec": {
   "display_name": "Python 3.8.5 64-bit ('base': conda)",
   "language": "python",
   "name": "python3"
  },
  "language_info": {
   "codemirror_mode": {
    "name": "ipython",
    "version": 3
   },
   "file_extension": ".py",
   "mimetype": "text/x-python",
   "name": "python",
   "nbconvert_exporter": "python",
   "pygments_lexer": "ipython3",
   "version": "3.8.5"
  },
  "orig_nbformat": 4
 },
 "nbformat": 4,
 "nbformat_minor": 2
}
