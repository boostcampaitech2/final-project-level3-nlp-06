{
 "cells": [
  {
   "cell_type": "code",
   "execution_count": 27,
   "metadata": {},
   "outputs": [],
   "source": [
    "import pickle\n",
    "with open('result5.pickle', 'rb') as f:\n",
    "    result5 = pickle.load(f)"
   ]
  },
  {
   "cell_type": "code",
   "execution_count": 28,
   "metadata": {},
   "outputs": [],
   "source": [
    "import pandas as pd\n",
    "\n",
    "df_result5 = pd.DataFrame(list(zip(result5.keys(), result5.values())), columns=[\"corp_name\", \"extractive5\"])\n",
    "df_result5.to_csv(\"summarize5.csv\")"
   ]
  },
  {
   "cell_type": "code",
   "execution_count": 29,
   "metadata": {},
   "outputs": [],
   "source": [
    "import pickle\n",
    "with open('result3.pickle', 'rb') as f:\n",
    "    result3 = pickle.load(f)"
   ]
  },
  {
   "cell_type": "code",
   "execution_count": 30,
   "metadata": {},
   "outputs": [],
   "source": [
    "import pandas as pd\n",
    "\n",
    "df_result3 = pd.DataFrame(list(zip(result3.keys(), result3.values())), columns=[\"corp_name\", \"extractive3\"])\n",
    "df_result3.to_csv(\"summarize3.csv\")"
   ]
  },
  {
   "cell_type": "code",
   "execution_count": 31,
   "metadata": {},
   "outputs": [
    {
     "name": "stderr",
     "output_type": "stream",
     "text": [
      "Using custom data configuration nlpHakdang___beneficiary-9ee45f4b52a082be\n",
      "Reusing dataset csv (/opt/ml/.cache/huggingface/datasets/csv/nlpHakdang___beneficiary-9ee45f4b52a082be/0.0.0/bf68a4c4aefa545d0712b2fcbb1b327f905bbe2f6425fbc5e8c25234acb9e14a)\n"
     ]
    },
    {
     "data": {
      "application/vnd.jupyter.widget-view+json": {
       "model_id": "e275b4077aba4043bd96dd6834ecca7f",
       "version_major": 2,
       "version_minor": 0
      },
      "text/plain": [
       "  0%|          | 0/1 [00:00<?, ?it/s]"
      ]
     },
     "metadata": {},
     "output_type": "display_data"
    }
   ],
   "source": [
    "from datasets import load_dataset\n",
    "dart_dataset = load_dataset('nlpHakdang/beneficiary',  data_files=\"dart_v3_3.csv\", use_auth_token='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')"
   ]
  },
  {
   "cell_type": "code",
   "execution_count": 32,
   "metadata": {},
   "outputs": [],
   "source": [
    "df_dart_dataset = pd.DataFrame(dart_dataset['train'])"
   ]
  },
  {
   "cell_type": "code",
   "execution_count": 33,
   "metadata": {},
   "outputs": [
    {
     "data": {
      "text/html": [
       "<div>\n",
       "<style scoped>\n",
       "    .dataframe tbody tr th:only-of-type {\n",
       "        vertical-align: middle;\n",
       "    }\n",
       "\n",
       "    .dataframe tbody tr th {\n",
       "        vertical-align: top;\n",
       "    }\n",
       "\n",
       "    .dataframe thead th {\n",
       "        text-align: right;\n",
       "    }\n",
       "</style>\n",
       "<table border=\"1\" class=\"dataframe\">\n",
       "  <thead>\n",
       "    <tr style=\"text-align: right;\">\n",
       "      <th></th>\n",
       "      <th>Unnamed: 0</th>\n",
       "      <th>index</th>\n",
       "      <th>주식 코드</th>\n",
       "      <th>report_idx</th>\n",
       "      <th>기업 코드</th>\n",
       "      <th>기업 이름</th>\n",
       "      <th>수정 일자</th>\n",
       "      <th>회사의 개요</th>\n",
       "      <th>사업의 개요</th>\n",
       "    </tr>\n",
       "  </thead>\n",
       "  <tbody>\n",
       "    <tr>\n",
       "      <th>0</th>\n",
       "      <td>0</td>\n",
       "      <td>0</td>\n",
       "      <td>950130</td>\n",
       "      <td>20211115000151</td>\n",
       "      <td>956028</td>\n",
       "      <td>엑세스바이오</td>\n",
       "      <td>20170630</td>\n",
       "      <td>['1  연결대상 종속회사 개황 (연결재무제표를 작성하는 권상장법인이 사업보고서 분...</td>\n",
       "      <td>['당사는 체외진단 기술을 토대로 면역화학진단 바이오센서 분자진단 기술을 기반으로 ...</td>\n",
       "    </tr>\n",
       "    <tr>\n",
       "      <th>1</th>\n",
       "      <td>1</td>\n",
       "      <td>1</td>\n",
       "      <td>900070</td>\n",
       "      <td>20211125000049</td>\n",
       "      <td>783246</td>\n",
       "      <td>글로벌에스엠</td>\n",
       "      <td>20170703</td>\n",
       "      <td>['1  연결대상 종속회사 개황 (연결재무제표를 작성하는 권상장법인이 사업보고서 분...</td>\n",
       "      <td>['지회사 (持    Holding Company) 란 다른 회사의 식을 소유한 회...</td>\n",
       "    </tr>\n",
       "    <tr>\n",
       "      <th>2</th>\n",
       "      <td>2</td>\n",
       "      <td>2</td>\n",
       "      <td>900120</td>\n",
       "      <td>20211028000448</td>\n",
       "      <td>800084</td>\n",
       "      <td>씨케이에이치</td>\n",
       "      <td>20170703</td>\n",
       "      <td>['(1) 연결대상 종속회사 개황연결대상 종속회사 현황 (요약)', '(1) 1  ...</td>\n",
       "      <td>['가  산업개황 및 전망 당사의 매출과 이익은 중국 내에서의 건강식품 생산 및 판...</td>\n",
       "    </tr>\n",
       "    <tr>\n",
       "      <th>3</th>\n",
       "      <td>3</td>\n",
       "      <td>3</td>\n",
       "      <td>900290</td>\n",
       "      <td>20211028000456</td>\n",
       "      <td>1170962</td>\n",
       "      <td>GRT</td>\n",
       "      <td>20181122</td>\n",
       "      <td>['가  연결대상 종속회사 현황 (요약)', '11  연결대상회사의 변동내용', '...</td>\n",
       "      <td>['가  산업의 이해 (1) 영위하고 있는 사업', '당사의 요 사업영역으로는 정밀...</td>\n",
       "    </tr>\n",
       "    <tr>\n",
       "      <th>4</th>\n",
       "      <td>4</td>\n",
       "      <td>4</td>\n",
       "      <td>900340</td>\n",
       "      <td>20210830000685</td>\n",
       "      <td>1328639</td>\n",
       "      <td>윙입푸드</td>\n",
       "      <td>20181130</td>\n",
       "      <td>['가  연결대상 종속회사 개황 11 연결대상 종속회사 현황 (요약)', '12  ...</td>\n",
       "      <td>['당사는 한국 표준산업 분류 기준 대분류상 식료품 제조업 산업에 세분류상 가금류 ...</td>\n",
       "    </tr>\n",
       "    <tr>\n",
       "      <th>...</th>\n",
       "      <td>...</td>\n",
       "      <td>...</td>\n",
       "      <td>...</td>\n",
       "      <td>...</td>\n",
       "      <td>...</td>\n",
       "      <td>...</td>\n",
       "      <td>...</td>\n",
       "      <td>...</td>\n",
       "      <td>...</td>\n",
       "    </tr>\n",
       "    <tr>\n",
       "      <th>2308</th>\n",
       "      <td>2308</td>\n",
       "      <td>2309</td>\n",
       "      <td>17800</td>\n",
       "      <td>20211115002172</td>\n",
       "      <td>164724</td>\n",
       "      <td>현대엘리베이터</td>\n",
       "      <td>20210512</td>\n",
       "      <td>['가  회사의 법적 상업적 명칭 당사의 명칭은 현대엘리베이터식회사로 표기하며 영문...</td>\n",
       "      <td>['  당사는 1984년 5월 23일 설립하여 엘리베이터 에스컬레이터 무빙워크 등을...</td>\n",
       "    </tr>\n",
       "    <tr>\n",
       "      <th>2309</th>\n",
       "      <td>2309</td>\n",
       "      <td>2310</td>\n",
       "      <td>3410</td>\n",
       "      <td>20211115002437</td>\n",
       "      <td>138224</td>\n",
       "      <td>쌍용씨앤이</td>\n",
       "      <td>20211020</td>\n",
       "      <td>['가  연결대상 종속회사 현황 (요약)', '  연결대상회사의 변동내용', '나 ...</td>\n",
       "      <td>['쌍용C E 는 시멘트사업을 중심으로 환경자원사업 레미콘사업 기타사업 (석회석사업...</td>\n",
       "    </tr>\n",
       "    <tr>\n",
       "      <th>2310</th>\n",
       "      <td>2310</td>\n",
       "      <td>2311</td>\n",
       "      <td>15760</td>\n",
       "      <td>20211115001967</td>\n",
       "      <td>159193</td>\n",
       "      <td>한국전력공사</td>\n",
       "      <td>20210602</td>\n",
       "      <td>['한국전력공사는 1982년 1월 1일 설립되어 1989년 8월 10일에 유가증권시...</td>\n",
       "      <td>['현재 국내 전력 산업의 체계는 전력생산 수송 판매 체계로 이뤄지고 있으며 당사는...</td>\n",
       "    </tr>\n",
       "    <tr>\n",
       "      <th>2311</th>\n",
       "      <td>2311</td>\n",
       "      <td>2312</td>\n",
       "      <td>900140</td>\n",
       "      <td>20211126000686</td>\n",
       "      <td>838500</td>\n",
       "      <td>엘브이엠씨</td>\n",
       "      <td>20210611</td>\n",
       "      <td>['가  연결대상 종속회사 개황 (연결재무제표를 작성하는 권상장법인이 사업보고서 분...</td>\n",
       "      <td>['당사는 2009년 6월 16일 라오스 소재의 사업자회사인 Auto World (...</td>\n",
       "    </tr>\n",
       "    <tr>\n",
       "      <th>2312</th>\n",
       "      <td>2312</td>\n",
       "      <td>2313</td>\n",
       "      <td>5380</td>\n",
       "      <td>20211115001980</td>\n",
       "      <td>164742</td>\n",
       "      <td>현대자동차</td>\n",
       "      <td>20210512</td>\n",
       "      <td>['가 연결대상 종속회사 개황 1  연결대상 종속회사 현황 (요약)', '2  연결...</td>\n",
       "      <td>['[차량부문] 당사는 제 54기 3분기 누적 293만대의 판매 실적을 바탕으로 연...</td>\n",
       "    </tr>\n",
       "  </tbody>\n",
       "</table>\n",
       "<p>2313 rows × 9 columns</p>\n",
       "</div>"
      ],
      "text/plain": [
       "      Unnamed: 0  index   주식 코드      report_idx    기업 코드    기업 이름     수정 일자  \\\n",
       "0              0      0  950130  20211115000151   956028   엑세스바이오  20170630   \n",
       "1              1      1  900070  20211125000049   783246   글로벌에스엠  20170703   \n",
       "2              2      2  900120  20211028000448   800084   씨케이에이치  20170703   \n",
       "3              3      3  900290  20211028000456  1170962      GRT  20181122   \n",
       "4              4      4  900340  20210830000685  1328639     윙입푸드  20181130   \n",
       "...          ...    ...     ...             ...      ...      ...       ...   \n",
       "2308        2308   2309   17800  20211115002172   164724  현대엘리베이터  20210512   \n",
       "2309        2309   2310    3410  20211115002437   138224    쌍용씨앤이  20211020   \n",
       "2310        2310   2311   15760  20211115001967   159193   한국전력공사  20210602   \n",
       "2311        2311   2312  900140  20211126000686   838500    엘브이엠씨  20210611   \n",
       "2312        2312   2313    5380  20211115001980   164742    현대자동차  20210512   \n",
       "\n",
       "                                                 회사의 개요  \\\n",
       "0     ['1  연결대상 종속회사 개황 (연결재무제표를 작성하는 권상장법인이 사업보고서 분...   \n",
       "1     ['1  연결대상 종속회사 개황 (연결재무제표를 작성하는 권상장법인이 사업보고서 분...   \n",
       "2     ['(1) 연결대상 종속회사 개황연결대상 종속회사 현황 (요약)', '(1) 1  ...   \n",
       "3     ['가  연결대상 종속회사 현황 (요약)', '11  연결대상회사의 변동내용', '...   \n",
       "4     ['가  연결대상 종속회사 개황 11 연결대상 종속회사 현황 (요약)', '12  ...   \n",
       "...                                                 ...   \n",
       "2308  ['가  회사의 법적 상업적 명칭 당사의 명칭은 현대엘리베이터식회사로 표기하며 영문...   \n",
       "2309  ['가  연결대상 종속회사 현황 (요약)', '  연결대상회사의 변동내용', '나 ...   \n",
       "2310  ['한국전력공사는 1982년 1월 1일 설립되어 1989년 8월 10일에 유가증권시...   \n",
       "2311  ['가  연결대상 종속회사 개황 (연결재무제표를 작성하는 권상장법인이 사업보고서 분...   \n",
       "2312  ['가 연결대상 종속회사 개황 1  연결대상 종속회사 현황 (요약)', '2  연결...   \n",
       "\n",
       "                                                 사업의 개요  \n",
       "0     ['당사는 체외진단 기술을 토대로 면역화학진단 바이오센서 분자진단 기술을 기반으로 ...  \n",
       "1     ['지회사 (持    Holding Company) 란 다른 회사의 식을 소유한 회...  \n",
       "2     ['가  산업개황 및 전망 당사의 매출과 이익은 중국 내에서의 건강식품 생산 및 판...  \n",
       "3     ['가  산업의 이해 (1) 영위하고 있는 사업', '당사의 요 사업영역으로는 정밀...  \n",
       "4     ['당사는 한국 표준산업 분류 기준 대분류상 식료품 제조업 산업에 세분류상 가금류 ...  \n",
       "...                                                 ...  \n",
       "2308  ['  당사는 1984년 5월 23일 설립하여 엘리베이터 에스컬레이터 무빙워크 등을...  \n",
       "2309  ['쌍용C E 는 시멘트사업을 중심으로 환경자원사업 레미콘사업 기타사업 (석회석사업...  \n",
       "2310  ['현재 국내 전력 산업의 체계는 전력생산 수송 판매 체계로 이뤄지고 있으며 당사는...  \n",
       "2311  ['당사는 2009년 6월 16일 라오스 소재의 사업자회사인 Auto World (...  \n",
       "2312  ['[차량부문] 당사는 제 54기 3분기 누적 293만대의 판매 실적을 바탕으로 연...  \n",
       "\n",
       "[2313 rows x 9 columns]"
      ]
     },
     "execution_count": 33,
     "metadata": {},
     "output_type": "execute_result"
    }
   ],
   "source": [
    "df_dart_dataset"
   ]
  },
  {
   "cell_type": "code",
   "execution_count": 34,
   "metadata": {},
   "outputs": [],
   "source": [
    "df_dart_dataset = df_dart_dataset.assign(extractive3 = df_result3['extractive3'])\n",
    "#df_dart_dataset = df_dart_dataset.assign(extractive5 = df_result5['extractive5'])"
   ]
  },
  {
   "cell_type": "code",
   "execution_count": 35,
   "metadata": {},
   "outputs": [],
   "source": [
    "df_dart_dataset = df_dart_dataset.drop([\"Unnamed: 0\"], axis=1)\n",
    "df_dart_dataset = df_dart_dataset.drop([\"index\"], axis=1)"
   ]
  },
  {
   "cell_type": "code",
   "execution_count": 36,
   "metadata": {},
   "outputs": [
    {
     "data": {
      "text/html": [
       "<div>\n",
       "<style scoped>\n",
       "    .dataframe tbody tr th:only-of-type {\n",
       "        vertical-align: middle;\n",
       "    }\n",
       "\n",
       "    .dataframe tbody tr th {\n",
       "        vertical-align: top;\n",
       "    }\n",
       "\n",
       "    .dataframe thead th {\n",
       "        text-align: right;\n",
       "    }\n",
       "</style>\n",
       "<table border=\"1\" class=\"dataframe\">\n",
       "  <thead>\n",
       "    <tr style=\"text-align: right;\">\n",
       "      <th></th>\n",
       "      <th>주식 코드</th>\n",
       "      <th>report_idx</th>\n",
       "      <th>기업 코드</th>\n",
       "      <th>기업 이름</th>\n",
       "      <th>수정 일자</th>\n",
       "      <th>회사의 개요</th>\n",
       "      <th>사업의 개요</th>\n",
       "      <th>extractive3</th>\n",
       "    </tr>\n",
       "  </thead>\n",
       "  <tbody>\n",
       "    <tr>\n",
       "      <th>0</th>\n",
       "      <td>950130</td>\n",
       "      <td>20211115000151</td>\n",
       "      <td>956028</td>\n",
       "      <td>엑세스바이오</td>\n",
       "      <td>20170630</td>\n",
       "      <td>['1  연결대상 종속회사 개황 (연결재무제표를 작성하는 권상장법인이 사업보고서 분...</td>\n",
       "      <td>['당사는 체외진단 기술을 토대로 면역화학진단 바이오센서 분자진단 기술을 기반으로 ...</td>\n",
       "      <td>당사는 체외진단 기술을 토대로 면역화학진단 바이오센서 분자진단 기술을 기반으로 진단...</td>\n",
       "    </tr>\n",
       "    <tr>\n",
       "      <th>1</th>\n",
       "      <td>900070</td>\n",
       "      <td>20211125000049</td>\n",
       "      <td>783246</td>\n",
       "      <td>글로벌에스엠</td>\n",
       "      <td>20170703</td>\n",
       "      <td>['1  연결대상 종속회사 개황 (연결재무제표를 작성하는 권상장법인이 사업보고서 분...</td>\n",
       "      <td>['지회사 (持    Holding Company) 란 다른 회사의 식을 소유한 회...</td>\n",
       "      <td>지회사 (持 Holding Company) 란 다른 회사의 식을 소유한 회사이며 단...</td>\n",
       "    </tr>\n",
       "    <tr>\n",
       "      <th>2</th>\n",
       "      <td>900120</td>\n",
       "      <td>20211028000448</td>\n",
       "      <td>800084</td>\n",
       "      <td>씨케이에이치</td>\n",
       "      <td>20170703</td>\n",
       "      <td>['(1) 연결대상 종속회사 개황연결대상 종속회사 현황 (요약)', '(1) 1  ...</td>\n",
       "      <td>['가  산업개황 및 전망 당사의 매출과 이익은 중국 내에서의 건강식품 생산 및 판...</td>\n",
       "      <td>가 산업개황 및 전망 당사의 매출과 이익은 중국 내에서의 건강식품 생산 및 판매사업...</td>\n",
       "    </tr>\n",
       "    <tr>\n",
       "      <th>3</th>\n",
       "      <td>900290</td>\n",
       "      <td>20211028000456</td>\n",
       "      <td>1170962</td>\n",
       "      <td>GRT</td>\n",
       "      <td>20181122</td>\n",
       "      <td>['가  연결대상 종속회사 현황 (요약)', '11  연결대상회사의 변동내용', '...</td>\n",
       "      <td>['가  산업의 이해 (1) 영위하고 있는 사업', '당사의 요 사업영역으로는 정밀...</td>\n",
       "      <td>당사의 요 사업영역으로는 정밀 코팅 기능성 신소재 및 고분자 박막자재 개발 생산 판...</td>\n",
       "    </tr>\n",
       "    <tr>\n",
       "      <th>4</th>\n",
       "      <td>900340</td>\n",
       "      <td>20210830000685</td>\n",
       "      <td>1328639</td>\n",
       "      <td>윙입푸드</td>\n",
       "      <td>20181130</td>\n",
       "      <td>['가  연결대상 종속회사 개황 11 연결대상 종속회사 현황 (요약)', '12  ...</td>\n",
       "      <td>['당사는 한국 표준산업 분류 기준 대분류상 식료품 제조업 산업에 세분류상 가금류 ...</td>\n",
       "      <td>당사는 한국 표준산업 분류 기준 대분류상 식료품 제조업 산업에 세분류상 가금류 가공...</td>\n",
       "    </tr>\n",
       "    <tr>\n",
       "      <th>...</th>\n",
       "      <td>...</td>\n",
       "      <td>...</td>\n",
       "      <td>...</td>\n",
       "      <td>...</td>\n",
       "      <td>...</td>\n",
       "      <td>...</td>\n",
       "      <td>...</td>\n",
       "      <td>...</td>\n",
       "    </tr>\n",
       "    <tr>\n",
       "      <th>2308</th>\n",
       "      <td>17800</td>\n",
       "      <td>20211115002172</td>\n",
       "      <td>164724</td>\n",
       "      <td>현대엘리베이터</td>\n",
       "      <td>20210512</td>\n",
       "      <td>['가  회사의 법적 상업적 명칭 당사의 명칭은 현대엘리베이터식회사로 표기하며 영문...</td>\n",
       "      <td>['  당사는 1984년 5월 23일 설립하여 엘리베이터 에스컬레이터 무빙워크 등을...</td>\n",
       "      <td>당사는 1984년 5월 23일 설립하여 엘리베이터 에스컬레이터 무빙워크 등을 생산 ...</td>\n",
       "    </tr>\n",
       "    <tr>\n",
       "      <th>2309</th>\n",
       "      <td>3410</td>\n",
       "      <td>20211115002437</td>\n",
       "      <td>138224</td>\n",
       "      <td>쌍용씨앤이</td>\n",
       "      <td>20211020</td>\n",
       "      <td>['가  연결대상 종속회사 현황 (요약)', '  연결대상회사의 변동내용', '나 ...</td>\n",
       "      <td>['쌍용C E 는 시멘트사업을 중심으로 환경자원사업 레미콘사업 기타사업 (석회석사업...</td>\n",
       "      <td>쌍용C E 는 시멘트사업을 중심으로 환경자원사업 레미콘사업 기타사업 (석회석사업 해...</td>\n",
       "    </tr>\n",
       "    <tr>\n",
       "      <th>2310</th>\n",
       "      <td>15760</td>\n",
       "      <td>20211115001967</td>\n",
       "      <td>159193</td>\n",
       "      <td>한국전력공사</td>\n",
       "      <td>20210602</td>\n",
       "      <td>['한국전력공사는 1982년 1월 1일 설립되어 1989년 8월 10일에 유가증권시...</td>\n",
       "      <td>['현재 국내 전력 산업의 체계는 전력생산 수송 판매 체계로 이뤄지고 있으며 당사는...</td>\n",
       "      <td>현재 국내 전력 산업의 체계는 전력생산 수송 판매 체계로 이뤄지고 있으며 당사는 6...</td>\n",
       "    </tr>\n",
       "    <tr>\n",
       "      <th>2311</th>\n",
       "      <td>900140</td>\n",
       "      <td>20211126000686</td>\n",
       "      <td>838500</td>\n",
       "      <td>엘브이엠씨</td>\n",
       "      <td>20210611</td>\n",
       "      <td>['가  연결대상 종속회사 개황 (연결재무제표를 작성하는 권상장법인이 사업보고서 분...</td>\n",
       "      <td>['당사는 2009년 6월 16일 라오스 소재의 사업자회사인 Auto World (...</td>\n",
       "      <td>당사는 2009년 6월 16일 라오스 소재의 사업자회사인 Auto World (KO...</td>\n",
       "    </tr>\n",
       "    <tr>\n",
       "      <th>2312</th>\n",
       "      <td>5380</td>\n",
       "      <td>20211115001980</td>\n",
       "      <td>164742</td>\n",
       "      <td>현대자동차</td>\n",
       "      <td>20210512</td>\n",
       "      <td>['가 연결대상 종속회사 개황 1  연결대상 종속회사 현황 (요약)', '2  연결...</td>\n",
       "      <td>['[차량부문] 당사는 제 54기 3분기 누적 293만대의 판매 실적을 바탕으로 연...</td>\n",
       "      <td>[차량부문] 당사는 제 54기 3분기 누적 293만대의 판매 실적을 바탕으로 연결기...</td>\n",
       "    </tr>\n",
       "  </tbody>\n",
       "</table>\n",
       "<p>2313 rows × 8 columns</p>\n",
       "</div>"
      ],
      "text/plain": [
       "       주식 코드      report_idx    기업 코드    기업 이름     수정 일자  \\\n",
       "0     950130  20211115000151   956028   엑세스바이오  20170630   \n",
       "1     900070  20211125000049   783246   글로벌에스엠  20170703   \n",
       "2     900120  20211028000448   800084   씨케이에이치  20170703   \n",
       "3     900290  20211028000456  1170962      GRT  20181122   \n",
       "4     900340  20210830000685  1328639     윙입푸드  20181130   \n",
       "...      ...             ...      ...      ...       ...   \n",
       "2308   17800  20211115002172   164724  현대엘리베이터  20210512   \n",
       "2309    3410  20211115002437   138224    쌍용씨앤이  20211020   \n",
       "2310   15760  20211115001967   159193   한국전력공사  20210602   \n",
       "2311  900140  20211126000686   838500    엘브이엠씨  20210611   \n",
       "2312    5380  20211115001980   164742    현대자동차  20210512   \n",
       "\n",
       "                                                 회사의 개요  \\\n",
       "0     ['1  연결대상 종속회사 개황 (연결재무제표를 작성하는 권상장법인이 사업보고서 분...   \n",
       "1     ['1  연결대상 종속회사 개황 (연결재무제표를 작성하는 권상장법인이 사업보고서 분...   \n",
       "2     ['(1) 연결대상 종속회사 개황연결대상 종속회사 현황 (요약)', '(1) 1  ...   \n",
       "3     ['가  연결대상 종속회사 현황 (요약)', '11  연결대상회사의 변동내용', '...   \n",
       "4     ['가  연결대상 종속회사 개황 11 연결대상 종속회사 현황 (요약)', '12  ...   \n",
       "...                                                 ...   \n",
       "2308  ['가  회사의 법적 상업적 명칭 당사의 명칭은 현대엘리베이터식회사로 표기하며 영문...   \n",
       "2309  ['가  연결대상 종속회사 현황 (요약)', '  연결대상회사의 변동내용', '나 ...   \n",
       "2310  ['한국전력공사는 1982년 1월 1일 설립되어 1989년 8월 10일에 유가증권시...   \n",
       "2311  ['가  연결대상 종속회사 개황 (연결재무제표를 작성하는 권상장법인이 사업보고서 분...   \n",
       "2312  ['가 연결대상 종속회사 개황 1  연결대상 종속회사 현황 (요약)', '2  연결...   \n",
       "\n",
       "                                                 사업의 개요  \\\n",
       "0     ['당사는 체외진단 기술을 토대로 면역화학진단 바이오센서 분자진단 기술을 기반으로 ...   \n",
       "1     ['지회사 (持    Holding Company) 란 다른 회사의 식을 소유한 회...   \n",
       "2     ['가  산업개황 및 전망 당사의 매출과 이익은 중국 내에서의 건강식품 생산 및 판...   \n",
       "3     ['가  산업의 이해 (1) 영위하고 있는 사업', '당사의 요 사업영역으로는 정밀...   \n",
       "4     ['당사는 한국 표준산업 분류 기준 대분류상 식료품 제조업 산업에 세분류상 가금류 ...   \n",
       "...                                                 ...   \n",
       "2308  ['  당사는 1984년 5월 23일 설립하여 엘리베이터 에스컬레이터 무빙워크 등을...   \n",
       "2309  ['쌍용C E 는 시멘트사업을 중심으로 환경자원사업 레미콘사업 기타사업 (석회석사업...   \n",
       "2310  ['현재 국내 전력 산업의 체계는 전력생산 수송 판매 체계로 이뤄지고 있으며 당사는...   \n",
       "2311  ['당사는 2009년 6월 16일 라오스 소재의 사업자회사인 Auto World (...   \n",
       "2312  ['[차량부문] 당사는 제 54기 3분기 누적 293만대의 판매 실적을 바탕으로 연...   \n",
       "\n",
       "                                            extractive3  \n",
       "0     당사는 체외진단 기술을 토대로 면역화학진단 바이오센서 분자진단 기술을 기반으로 진단...  \n",
       "1     지회사 (持 Holding Company) 란 다른 회사의 식을 소유한 회사이며 단...  \n",
       "2     가 산업개황 및 전망 당사의 매출과 이익은 중국 내에서의 건강식품 생산 및 판매사업...  \n",
       "3     당사의 요 사업영역으로는 정밀 코팅 기능성 신소재 및 고분자 박막자재 개발 생산 판...  \n",
       "4     당사는 한국 표준산업 분류 기준 대분류상 식료품 제조업 산업에 세분류상 가금류 가공...  \n",
       "...                                                 ...  \n",
       "2308  당사는 1984년 5월 23일 설립하여 엘리베이터 에스컬레이터 무빙워크 등을 생산 ...  \n",
       "2309  쌍용C E 는 시멘트사업을 중심으로 환경자원사업 레미콘사업 기타사업 (석회석사업 해...  \n",
       "2310  현재 국내 전력 산업의 체계는 전력생산 수송 판매 체계로 이뤄지고 있으며 당사는 6...  \n",
       "2311  당사는 2009년 6월 16일 라오스 소재의 사업자회사인 Auto World (KO...  \n",
       "2312  [차량부문] 당사는 제 54기 3분기 누적 293만대의 판매 실적을 바탕으로 연결기...  \n",
       "\n",
       "[2313 rows x 8 columns]"
      ]
     },
     "execution_count": 36,
     "metadata": {},
     "output_type": "execute_result"
    }
   ],
   "source": [
    "df_dart_dataset"
   ]
  },
  {
   "cell_type": "code",
   "execution_count": 39,
   "metadata": {},
   "outputs": [],
   "source": [
    "df_dart_dataset.to_csv('dart_v3_4.csv', index=False)"
   ]
  },
  {
   "cell_type": "code",
   "execution_count": 40,
   "metadata": {},
   "outputs": [
    {
     "name": "stderr",
     "output_type": "stream",
     "text": [
      "Using custom data configuration nlpHakdang___beneficiary-96103ec46e13f7ad\n"
     ]
    },
    {
     "name": "stdout",
     "output_type": "stream",
     "text": [
      "Downloading and preparing dataset csv/nlpHakdang___beneficiary to /opt/ml/.cache/huggingface/datasets/csv/nlpHakdang___beneficiary-96103ec46e13f7ad/0.0.0/bf68a4c4aefa545d0712b2fcbb1b327f905bbe2f6425fbc5e8c25234acb9e14a...\n"
     ]
    },
    {
     "data": {
      "application/vnd.jupyter.widget-view+json": {
       "model_id": "d679e644f7254ed494239e178d9d3143",
       "version_major": 2,
       "version_minor": 0
      },
      "text/plain": [
       "  0%|          | 0/1 [00:00<?, ?it/s]"
      ]
     },
     "metadata": {},
     "output_type": "display_data"
    },
    {
     "data": {
      "application/vnd.jupyter.widget-view+json": {
       "model_id": "a66e38829d50408a9e8f76e1a811cae0",
       "version_major": 2,
       "version_minor": 0
      },
      "text/plain": [
       "Downloading:   0%|          | 0.00/22.4M [00:00<?, ?B/s]"
      ]
     },
     "metadata": {},
     "output_type": "display_data"
    },
    {
     "data": {
      "application/vnd.jupyter.widget-view+json": {
       "model_id": "ffb54b332c584632bc873bc97623fdef",
       "version_major": 2,
       "version_minor": 0
      },
      "text/plain": [
       "  0%|          | 0/1 [00:00<?, ?it/s]"
      ]
     },
     "metadata": {},
     "output_type": "display_data"
    },
    {
     "name": "stdout",
     "output_type": "stream",
     "text": [
      "Dataset csv downloaded and prepared to /opt/ml/.cache/huggingface/datasets/csv/nlpHakdang___beneficiary-96103ec46e13f7ad/0.0.0/bf68a4c4aefa545d0712b2fcbb1b327f905bbe2f6425fbc5e8c25234acb9e14a. Subsequent calls will reuse this data.\n"
     ]
    },
    {
     "data": {
      "application/vnd.jupyter.widget-view+json": {
       "model_id": "d0d571a1ec3341e98999c8b3a1fc148e",
       "version_major": 2,
       "version_minor": 0
      },
      "text/plain": [
       "  0%|          | 0/1 [00:00<?, ?it/s]"
      ]
     },
     "metadata": {},
     "output_type": "display_data"
    }
   ],
   "source": [
    "from datasets import load_dataset\n",
    "dart_dataset = load_dataset('nlpHakdang/beneficiary',  data_files=\"dart_v3_4.csv\", use_auth_token='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')"
   ]
  },
  {
   "cell_type": "code",
   "execution_count": 41,
   "metadata": {},
   "outputs": [
    {
     "data": {
      "text/plain": [
       "DatasetDict({\n",
       "    train: Dataset({\n",
       "        features: ['주식 코드', 'report_idx', '기업 코드', '기업 이름', '수정 일자', '회사의 개요', '사업의 개요', 'extractive3'],\n",
       "        num_rows: 2313\n",
       "    })\n",
       "})"
      ]
     },
     "execution_count": 41,
     "metadata": {},
     "output_type": "execute_result"
    }
   ],
   "source": [
    "dart_dataset"
   ]
  },
  {
   "cell_type": "code",
   "execution_count": null,
   "metadata": {},
   "outputs": [],
   "source": []
  }
 ],
 "metadata": {
  "interpreter": {
   "hash": "e31c68abf1d5dd3f9e2269f23eadf1b199587e56c0618a30760176a65ebfcab4"
  },
  "kernelspec": {
   "display_name": "Python 3.7.11 64-bit ('lightweight': conda)",
   "language": "python",
   "name": "python3"
  },
  "language_info": {
   "codemirror_mode": {
    "name": "ipython",
    "version": 3
   },
   "file_extension": ".py",
   "mimetype": "text/x-python",
   "name": "python",
   "nbconvert_exporter": "python",
   "pygments_lexer": "ipython3",
   "version": "3.7.11"
  },
  "orig_nbformat": 4
 },
 "nbformat": 4,
 "nbformat_minor": 2
}
