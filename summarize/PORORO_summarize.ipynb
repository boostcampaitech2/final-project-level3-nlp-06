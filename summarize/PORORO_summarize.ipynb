{
 "cells": [
  {
   "cell_type": "markdown",
   "metadata": {},
   "source": [
    "!pip install pororo  \n",
    "!pip install bert-extractive-summarizer\n",
    "!pip install -U sentence-transformers\n",
    "!pip install python-mecab-ko"
   ]
  },
  {
   "cell_type": "markdown",
   "metadata": {},
   "source": [
    "# 1. Pororo 요약"
   ]
  },
  {
   "cell_type": "code",
   "execution_count": 1,
   "metadata": {},
   "outputs": [],
   "source": [
    "from pororo import Pororo\n",
    "\n",
    "text = \"한글과컴퓨터그룹이 내년 1월 5일부터 8일까지 미국 라스베이거스에서 열리는 세계 최대 규모의 종합 가전 및 IT 전시회인 'CES 2022'에 참가한다.한컴그룹은 창의와 혁신으로 미래를 뛰어넘어 새로운 세상을 만든다는 의미를 담은 'Beyond the future with creative thinking and innovative solutions'을 전시 컨셉트로 정하고, 라스베이거스컨벤션센터 노스홀에 부스를 마련한다고 22일 밝혔다.2018년부터 5년 연속으로 CES에 참가하는 한컴그룹은 코로나 팬데믹과 함께 새로운 패러다임으로 부상한 메타버스와 NFT 분야를 비롯해 AIoT(사물지능융합기술), 인공위성, 드론 관련 제품 및 솔루션을 선보일 예정이다.특히, 한컴그룹의 메타버스 전문기업 한컴프론티스는 PC, 모바일 등 디바이스에 관계없이 가상공간에서 회의가 가능한 3D 기반의 메타버스 플랫폼 'XR판도라'를 처음 선보인다. XR판도라는 한컴오피스와 연동해 PDF를 비롯해 워드, 엑셀 등 다양한 문서를 공유 및 편집할 수 있으며, 인터넷 검색, 음성 대화 등 회의에 최적화된 기능을 제공한다.또한 한컴위드는 메타버스 공간에서 쇼핑 및 NFT 활용이 가능한 아로와나몰을 선보이고, 한글과컴퓨터는 메타버스 서비스 '한컴타운'을 소개할 계획이다.한컴인텔리전스는 CES 2022에서 스마트시티 부문 혁신상을 수상한 AIoT 수도 원격 검침 서비스 '하이체크'를 전시한다. 하이체크는 아날로그 수도 계량기 지침을 촬영한 이미지 데이터를 IoT(사물인터넷) 플랫폼을 통해 전달하고, 인공지능 딥러닝으로 분석해 실제 검침 데이터로 활용 가능한 것이 특징이다.한컴인텔리전스는 하이체크에 활용된 IoT 플랫폼인 네오아이디엠 기반으로 구축된 수질 모니터링 시스템 '하이아쿠아'도 함께 선보일 계획이다.한컴인스페이스는 내년 상반기 중으로 발사할 지구관측위성 '세종1호' 소개와 함께, 자체 개발한 군수용 드론(HD-850) 및 미션 드론 4기를 탑재하여 항공모함과 같은 역할을 하는 드론십 등 우주·드론 기술도 선보일 예정이다.한컴그룹은 이번 전시회를 통해 메타버스와 NFT 등 국내외에서 많은 주목을 받고 있는 신사업을 중심으로 해외 파트너사 발굴 및 비즈니스 기회 창출에 힘쓸 예정이다. 이를 위해 김상철 한컴그룹 회장을 비롯한 주요 경영진 및 임직원들은 CES 2022를 직접 참관한다.\"\n",
    "summ = Pororo(task=\"summarization\", model=\"extractive\", lang=\"ko\")"
   ]
  },
  {
   "cell_type": "code",
   "execution_count": 2,
   "metadata": {},
   "outputs": [
    {
     "name": "stderr",
     "output_type": "stream",
     "text": [
      "[Korean Sentence Splitter]: Initializing Pynori...\n"
     ]
    },
    {
     "data": {
      "text/plain": [
       "\"한글과컴퓨터그룹이 내년 1월 5일부터 8일까지 미국 라스베이거스에서 열리는 세계 최대 규모의 종합 가전 및 IT 전시회인 'CES 2022'에 참가한다. 한컴그룹은 창의와 혁신으로 미래를 뛰어넘어 새로운 세상을 만든다는 의미를 담은 'Beyond the future with creative thinking and innovative solutions'을 전시 컨셉트로 정하고, 라스베이거스컨벤션센터 노스홀에 부스를 마련한다고 22일 밝혔다. 2018년부터 5년 연속으로 CES에 참가하는 한컴그룹은 코로나 팬데믹과 함께 새로운 패러다임으로 부상한 메타버스와 NFT 분야를 비롯해 AIoT(사물지능융합기술), 인공위성, 드론 관련 제품 및 솔루션을 선보일 예정이다.\""
      ]
     },
     "execution_count": 2,
     "metadata": {},
     "output_type": "execute_result"
    }
   ],
   "source": [
    "summ(text)"
   ]
  },
  {
   "cell_type": "markdown",
   "metadata": {},
   "source": [
    "# 2. bert-extractive-summarizer\n"
   ]
  },
  {
   "cell_type": "markdown",
   "metadata": {},
   "source": [
    "https://github.com/dmmiller612/bert-extractive-summarizer"
   ]
  },
  {
   "cell_type": "code",
   "execution_count": 3,
   "metadata": {},
   "outputs": [],
   "source": [
    "from datasets import load_dataset\n",
    "from summarizer import Summarizer\n",
    "\n",
    "import transformers \n",
    "from transformers import AutoConfig, AutoTokenizer, AutoModel"
   ]
  },
  {
   "cell_type": "code",
   "execution_count": 4,
   "metadata": {},
   "outputs": [
    {
     "name": "stderr",
     "output_type": "stream",
     "text": [
      "Some weights of the model checkpoint at klue/roberta-large were not used when initializing RobertaModel: ['lm_head.dense.weight', 'lm_head.decoder.weight', 'lm_head.bias', 'lm_head.layer_norm.weight', 'lm_head.layer_norm.bias', 'lm_head.decoder.bias', 'lm_head.dense.bias']\n",
      "- This IS expected if you are initializing RobertaModel from the checkpoint of a model trained on another task or with another architecture (e.g. initializing a BertForSequenceClassification model from a BertForPreTraining model).\n",
      "- This IS NOT expected if you are initializing RobertaModel from the checkpoint of a model that you expect to be exactly identical (initializing a BertForSequenceClassification model from a BertForSequenceClassification model).\n",
      "Some weights of RobertaModel were not initialized from the model checkpoint at klue/roberta-large and are newly initialized: ['roberta.pooler.dense.weight', 'roberta.pooler.dense.bias']\n",
      "You should probably TRAIN this model on a down-stream task to be able to use it for predictions and inference.\n"
     ]
    }
   ],
   "source": [
    "custom_config = AutoConfig.from_pretrained('klue/roberta-large')\n",
    "custom_config.output_hidden_states=True\n",
    "custom_tokenizer = AutoTokenizer.from_pretrained('klue/roberta-large')\n",
    "custom_model = AutoModel.from_pretrained('klue/roberta-large', config=custom_config)"
   ]
  },
  {
   "cell_type": "code",
   "execution_count": 5,
   "metadata": {},
   "outputs": [],
   "source": [
    "model = Summarizer(custom_model=custom_model, custom_tokenizer=custom_tokenizer)"
   ]
  },
  {
   "cell_type": "code",
   "execution_count": 6,
   "metadata": {},
   "outputs": [
    {
     "data": {
      "text/plain": [
       "''"
      ]
     },
     "execution_count": 6,
     "metadata": {},
     "output_type": "execute_result"
    }
   ],
   "source": [
    "text = \"'[\\'가  회사의 법적 상업적 명칭 당사의 명칭은 한화손해보험식회사라고 표기하며 영문으로는 Hanwha General Insurance Co  Ltd  라고 표기합니다 \\', \\'나  설립일자   1946 04 01\\', \\'다  본사의 소 전화번호 홈페이지 소 소   서울특별시 영등포구 여의대로 56 (여의도동) 전화번호   15668000 홈페이지    \\', \\'라  회사사업 영위의 근거가 되는 법률 당사는 보험업법 및 관계법령에 근거하여 사업을 영위하고 있습니다 \\', \\'마  요 사업의 내용 (1) 회사가 영위하는 목적사업은 다음과 같습니다  [지배회사 (한화손해보험) 및 요종속회사 (캐롯손해보험) ]\\', \\'(2) 요 사업의 내용과 관련하여 자세한 사항은 본 보고서 II  사업의 내용을 참조하시기 바랍니다 \\', \\'바  신용평가에 관한 사항\\', \\'(1) 해외 신용평가\\', \\'당사는 글로벌 신용평가사인 S P Moodys A M Best로부터 받은 재무건전성 신용등급 (Financial Strength Rating) 은 다음과 같습니다 \\', \\'1) S P Moodys의 2021년 신용평가등급은 3분기 이후 수령 예정 2) Fitch Ratings는 2020 4 21일자로 종료 (2) 국내 신용평가\\', \\'당사의 보험금지급능력과 관련하여 신용평가 전문기관으로부터 받은 신용평가등급은 다음과 같습니다 \\', \\'당사 회사채 발행과 관련하여 신용평가 전문기관으로부터 받은 신용평가등급은 다음과 같습니다 \\',  신용평가전문기관의 신용등급체계 및 등급정의   Standard   Poor\\',  Moody\\'s Investors Service, \\'  A M  Best 신용등급 체계 (재무건전성등급)\\', \\'  한국신용평가 신용등급체계 (보험금지급능력평가 회사채평가)\\', \\'  상기 등급 중 AA부터 B등급까지는 + 부호를 부가하여 동일 등급 내에서의 우열을 나타냄 \\', \\'  한국기업평가 신용등급체계 (보험금지급능력평가)\\', \\'  AA부터 B까지는 동일 등급내에서 세분하여 구분할 필요가 있는 경우에는   또는   의 기호를 부여할 수 있음\\', \\'  NICE신용평가 신용등급체계 (보험금지급능력평가회사채평가)\\', \\'  위 등급 중 AA등급부터 CCC등급까지는 등급내의 상대적인 우열에 따라 + 기호가 첨부 됨\\', \\'사  연결대상 종속회사 개황 2021년 3분기 KIFRS 기준 당사의 연결대상 종속회사의 현황은 다음과 같습니다 \\', \\'사1  연결대상회사의 변동내용\\', \\'아  중소기업 등 해당 여부\\', \\'자  회사의 권상장 (또는 등록 지정) 여부 및 특례상장에 관한 사항\\']'\"\n",
    "model(text, max_length=500)"
   ]
  },
  {
   "cell_type": "code",
   "execution_count": 7,
   "metadata": {},
   "outputs": [
    {
     "name": "stderr",
     "output_type": "stream",
     "text": [
      "[Korean Sentence Splitter]: Using custom data configuration nlpHakdang___beneficiary-3e323434366d4003\n",
      "[Korean Sentence Splitter]: Reusing dataset csv (/opt/ml/.cache/huggingface/datasets/csv/nlpHakdang___beneficiary-3e323434366d4003/0.0.0/bf68a4c4aefa545d0712b2fcbb1b327f905bbe2f6425fbc5e8c25234acb9e14a)\n"
     ]
    },
    {
     "data": {
      "application/vnd.jupyter.widget-view+json": {
       "model_id": "738d5d4920834c0a88c6145d02a20caf",
       "version_major": 2,
       "version_minor": 0
      },
      "text/plain": [
       "  0%|          | 0/1 [00:00<?, ?it/s]"
      ]
     },
     "metadata": {},
     "output_type": "display_data"
    }
   ],
   "source": [
    "from datasets import load_dataset\n",
    "dart_dataset = load_dataset('nlpHakdang/beneficiary',  data_files=\"dart_ver1_2.csv\", use_auth_token='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')"
   ]
  },
  {
   "cell_type": "code",
   "execution_count": 8,
   "metadata": {},
   "outputs": [
    {
     "data": {
      "text/plain": [
       "'1. 사업의 개요당사는 체외진단 기술을 토대로  면역화학진단, 바이오센서, 분자진단 기술을 기반으로 진단 제품을 개발, 제조, 판매하는 사업을 영위하고 있습니다.  회사의 사업은 작게는 현장진단검사(Point of Care Test: POCT) 시장에 속해 있고, 크게는 체외진단(In-Vitro Diagnostics) 시장에 속해 있습니다. 당사에서 생산하고 있는 진단시약은 기타의약품으로 분류되어 의약품 제조기준에 규제를 받고 있습니다.  체외진단 시장은 인구 고령화 및 감염성 질병의 퇴치, 질병 확산 방지를 위한 수요 증가에 따라 꾸준히 성장하고 있습니다. 체외진단 시장에서도 현장진단(Point of Care Testing) 분야는 그 접근성과 편리성, 신속성, 비용면에서의 장점들로 인해 더욱 주목받고 있습니다. 최근에는 진단의 정확도 및 편의성을 증대하고 진단 정보를 관리하기위해 BT, NT, IT 기술 융합을 통한 차세대 체외진단기기가 개발되고 있어, 과학 기술 발달은 현장진단시장의 성장을 더욱 촉진하고 있습니다.    식품의약품안전평가원의『2019년 신개발 의료기기 전망분석 보고서』에 따르면, 체외진단기기 세계시장은 2015년 약 52조 2천억원에서 2025년에는 78조 5천 3백억원으로 연평균 약 4.2% 성장률이 예상되고 있으며, 현장진단기기 세계시장은 2015년 7조 6천억원에서 2023년 11조 8천 6백억원으로 연평균 5.6%의 높은 시장 성장률을 보일 것으로 전망됩니다.  당사의 주요 제품은 말라리아, 독감, 코비드-19과 같은 감염성 질병을 진단하는 신속진단시약입니다.  말라리아 진단제품은 아프리카에서 주로 발병하는 열대열 말라리아 진단 제품 뿐 아니라 여러 종류의 말라리아 진단도 병행할 수 있는 Combo RDT 제품, 중남미와 아프리카 지역에서 발견되고 있는 변종 말라리아 진단 제품까지 총 11가지 종류의 제품을 보유하고 있습니다.  또한  2020년과 2021년도에 걸쳐 코로나 진단 제품 5종(신속진단키트인 COVID-19IgG/IgM, COVID-19 antigen test, EZ Covid-19 IgG/IgM, COVID-19 Antigen Hometest, 분자진단키트인 COVID-19 RT-PCR)에 대하여, 미 FDA로부터 긴급사용승인(Emergency Use Authorization)을 획득하면서, 코로나 진단제품이 주요 매출로자리매김하였습니다.   당사의 매출은 기본적으로 공공부문과 민간부분으로 이루어지고 있습니다. 말라리아의 경우 아프리카, 동남아시아 지역에서 많이 발생하고 있으며, 해당 국가들은 대부분 경제적 결핍 및 의료시설 미비로 의료 혜택을 받기 어려운 경우가 많습니다. 이에 말라리아 진단제품은 일반적으로 WHO, UNICEF 등과 같은 국제기구 및 각국 보건복지부 주관의 입찰시장을 통하여 각 국가의 병원, 보건소 등에 배급되는 형태를 이루고 있습니다. 반면, 선진시장의 경우 의료기기 전문 유통사를 통하여 판매를 진행하고 있습니다.  당사의 제 20기 3분기 누적 매출액은 2,831억원이며, 전년 동기 연결 매출액은 307억원입니다. '"
      ]
     },
     "execution_count": 8,
     "metadata": {},
     "output_type": "execute_result"
    }
   ],
   "source": [
    "dart_text = dart_dataset['train']['사업의 개요']\n",
    "dart_text[0]"
   ]
  },
  {
   "cell_type": "code",
   "execution_count": 9,
   "metadata": {},
   "outputs": [
    {
     "data": {
      "text/plain": [
       "'사업의 개요당사는 체외진단 기술을 토대로  면역화학진단, 바이오센서, 분자진단 기술을 기반으로 진단 제품을 개발, 제조, 판매하는 사업을 영위하고 있습니다. 말라리아 진단제품은 아프리카에서 주로 발병하는 열대열 말라리아 진단 제품 뿐 아니라 여러 종류의 말라리아 진단도 병행할 수 있는 Combo RDT 제품, 중남미와 아프리카 지역에서 발견되고 있는 변종 말라리아 진단 제품까지 총 11가지 종류의 제품을 보유하고 있습니다. 당사의 제 20기 3분기 누적 매출액은 2,831억원이며, 전년 동기 연결 매출액은 307억원입니다.'"
      ]
     },
     "execution_count": 9,
     "metadata": {},
     "output_type": "execute_result"
    }
   ],
   "source": [
    "model(dart_text[0], max_length=200)"
   ]
  },
  {
   "cell_type": "code",
   "execution_count": 4,
   "metadata": {},
   "outputs": [
    {
     "name": "stderr",
     "output_type": "stream",
     "text": [
      "[Korean Sentence Splitter]: Using custom data configuration nlpHakdang___beneficiary-ad031a29515874f5\n",
      "[Korean Sentence Splitter]: Reusing dataset csv (/opt/ml/.cache/huggingface/datasets/csv/nlpHakdang___beneficiary-ad031a29515874f5/0.0.0/bf68a4c4aefa545d0712b2fcbb1b327f905bbe2f6425fbc5e8c25234acb9e14a)\n"
     ]
    },
    {
     "data": {
      "application/vnd.jupyter.widget-view+json": {
       "model_id": "1403f55a32964c1ab972ebdab28d55ef",
       "version_major": 2,
       "version_minor": 0
      },
      "text/plain": [
       "  0%|          | 0/1 [00:00<?, ?it/s]"
      ]
     },
     "metadata": {},
     "output_type": "display_data"
    }
   ],
   "source": [
    "from datasets import load_dataset\n",
    "dart_dataset = load_dataset('nlpHakdang/beneficiary',  data_files=\"dart_v3_3.csv\", use_auth_token='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')"
   ]
  },
  {
   "cell_type": "code",
   "execution_count": 5,
   "metadata": {},
   "outputs": [
    {
     "data": {
      "text/plain": [
       "DatasetDict({\n",
       "    train: Dataset({\n",
       "        features: ['Unnamed: 0', 'index', '주식 코드', 'report_idx', '기업 코드', '기업 이름', '수정 일자', '회사의 개요', '사업의 개요'],\n",
       "        num_rows: 2313\n",
       "    })\n",
       "})"
      ]
     },
     "execution_count": 5,
     "metadata": {},
     "output_type": "execute_result"
    }
   ],
   "source": [
    "dart_dataset"
   ]
  },
  {
   "cell_type": "markdown",
   "metadata": {},
   "source": [
    "### 2.1. bert-summarizer 활용 (사업의 개요) 요약"
   ]
  },
  {
   "cell_type": "code",
   "execution_count": 1,
   "metadata": {},
   "outputs": [],
   "source": [
    "import kss\n",
    "import MeCab\n",
    "import os\n",
    "os.environ[\"TOKENIZERS_PARALLELISM\"] = \"false\""
   ]
  },
  {
   "cell_type": "code",
   "execution_count": null,
   "metadata": {},
   "outputs": [],
   "source": [
    "from tqdm import tqdm\n",
    "result5 = {}\n",
    "for dart_text in tqdm(dart_dataset['train']):\n",
    "    sents = kss.split_sentences(dart_text['사업의 개요'], backend = \"mecab\", num_workers=-1)\n",
    "    sents = '. '.join(sents)\n",
    "    sents = map(str.strip, eval(sents))\n",
    "    sents = '. '.join(sents)\n",
    "    result5[dart_text['기업 이름']] = model(sents, num_sentences=5)"
   ]
  },
  {
   "cell_type": "code",
   "execution_count": null,
   "metadata": {},
   "outputs": [],
   "source": [
    "from tqdm import tqdm\n",
    "result3 = {}\n",
    "for dart_text in tqdm(dart_dataset['train']):\n",
    "    sents = kss.split_sentences(dart_text['사업의 개요'], backend = \"mecab\", num_workers=-1)\n",
    "    sents = '. '.join(sents)\n",
    "    sents = map(str.strip, eval(sents))\n",
    "    sents = '. '.join(sents)\n",
    "    result3[dart_text['기업 이름']] = model(sents, num_sentences=3)"
   ]
  },
  {
   "cell_type": "code",
   "execution_count": null,
   "metadata": {},
   "outputs": [],
   "source": [
    "import pickle\n",
    "with open('result5.pickle', 'wb') as f:\n",
    "    pickle.dump(result5, f, pickle.HIGHEST_PROTOCOL)"
   ]
  },
  {
   "cell_type": "code",
   "execution_count": null,
   "metadata": {},
   "outputs": [],
   "source": [
    "import pickle\n",
    "with open('result3.pickle', 'wb') as f:\n",
    "    pickle.dump(result3, f, pickle.HIGHEST_PROTOCOL)"
   ]
  },
  {
   "cell_type": "markdown",
   "metadata": {},
   "source": [
    "### 2.2. bert-summarizer 활용 (회사의 개요) 요약"
   ]
  },
  {
   "cell_type": "code",
   "execution_count": null,
   "metadata": {},
   "outputs": [],
   "source": [
    "from tqdm import tqdm\n",
    "result5 = {}\n",
    "for dart_text in tqdm(dart_dataset['train']):\n",
    "    sents = kss.split_sentences(dart_text['회사의 개요'], backend = \"mecab\", num_workers=-1)\n",
    "    sents = '. '.join(sents)\n",
    "    sents = map(str.strip, eval(sents))\n",
    "    sents = '. '.join(sents)\n",
    "    result5[dart_text['기업 이름']] = model(sents, num_sentences=5)"
   ]
  },
  {
   "cell_type": "code",
   "execution_count": null,
   "metadata": {},
   "outputs": [],
   "source": [
    "from tqdm import tqdm\n",
    "result3 = {}\n",
    "for dart_text in tqdm(dart_dataset['train']):\n",
    "    sents = kss.split_sentences(dart_text['회사의 개요'], backend = \"mecab\", num_workers=-1)\n",
    "    sents = '. '.join(sents)\n",
    "    sents = map(str.strip, eval(sents))\n",
    "    sents = '. '.join(sents)\n",
    "    print(sents)\n",
    "    result3[dart_text['기업 이름']] = model(sents, num_sentences=3)\n",
    "    break"
   ]
  },
  {
   "cell_type": "code",
   "execution_count": null,
   "metadata": {},
   "outputs": [],
   "source": [
    "import pickle\n",
    "with open('result3_corp.pickle', 'wb') as f:\n",
    "    pickle.dump(result3, f, pickle.HIGHEST_PROTOCOL)"
   ]
  },
  {
   "cell_type": "code",
   "execution_count": null,
   "metadata": {},
   "outputs": [],
   "source": [
    "import pickle\n",
    "with open('result5_corp.pickle', 'wb') as f:\n",
    "    pickle.dump(result3, f, pickle.HIGHEST_PROTOCOL)"
   ]
  }
 ],
 "metadata": {
  "interpreter": {
   "hash": "e31c68abf1d5dd3f9e2269f23eadf1b199587e56c0618a30760176a65ebfcab4"
  },
  "kernelspec": {
   "display_name": "Python 3.7.11 64-bit ('lightweight': conda)",
   "language": "python",
   "name": "python3"
  },
  "language_info": {
   "codemirror_mode": {
    "name": "ipython",
    "version": 3
   },
   "file_extension": ".py",
   "mimetype": "text/x-python",
   "name": "python",
   "nbconvert_exporter": "python",
   "pygments_lexer": "ipython3",
   "version": "3.7.11"
  },
  "orig_nbformat": 4
 },
 "nbformat": 4,
 "nbformat_minor": 2
}
