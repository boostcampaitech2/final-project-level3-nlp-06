{
 "cells": [
  {
   "cell_type": "markdown",
   "metadata": {},
   "source": [
    "### 1. 데이터 로드"
   ]
  },
  {
   "cell_type": "code",
   "execution_count": 125,
   "metadata": {},
   "outputs": [
    {
     "name": "stderr",
     "output_type": "stream",
     "text": [
      "Using custom data configuration nlpHakdang___aihub-news30k-1ea472361ab2489f\n",
      "Reusing dataset csv (/opt/ml/.cache/huggingface/datasets/csv/nlpHakdang___aihub-news30k-1ea472361ab2489f/0.0.0/bf68a4c4aefa545d0712b2fcbb1b327f905bbe2f6425fbc5e8c25234acb9e14a)\n"
     ]
    },
    {
     "data": {
      "application/vnd.jupyter.widget-view+json": {
       "model_id": "65044a42073741f4b4c03c050efd931c",
       "version_major": 2,
       "version_minor": 0
      },
      "text/plain": [
       "  0%|          | 0/2 [00:00<?, ?it/s]"
      ]
     },
     "metadata": {},
     "output_type": "display_data"
    }
   ],
   "source": [
    "from datasets import load_dataset\n",
    "import pandas as pd\n",
    "\n",
    "news_dataset = load_dataset('nlpHakdang/aihub-news30k',  data_files={\"train\":\"news_train_1_1.csv\", \"valid\":\"news_valid_1_1.csv\"}, use_auth_token='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')"
   ]
  },
  {
   "cell_type": "code",
   "execution_count": 126,
   "metadata": {},
   "outputs": [
    {
     "name": "stderr",
     "output_type": "stream",
     "text": [
      "Using custom data configuration nlpHakdang___beneficiary-9ee45f4b52a082be\n",
      "Reusing dataset csv (/opt/ml/.cache/huggingface/datasets/csv/nlpHakdang___beneficiary-9ee45f4b52a082be/0.0.0/bf68a4c4aefa545d0712b2fcbb1b327f905bbe2f6425fbc5e8c25234acb9e14a)\n"
     ]
    },
    {
     "data": {
      "application/vnd.jupyter.widget-view+json": {
       "model_id": "59a3032b66e74ff7a2f26ce71719dbba",
       "version_major": 2,
       "version_minor": 0
      },
      "text/plain": [
       "  0%|          | 0/1 [00:00<?, ?it/s]"
      ]
     },
     "metadata": {},
     "output_type": "display_data"
    }
   ],
   "source": [
    "dart_dataset = load_dataset('nlpHakdang/beneficiary',  data_files=\"dart_v3_3.csv\", use_auth_token='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')"
   ]
  },
  {
   "cell_type": "markdown",
   "metadata": {},
   "source": [
    "## 2. 전처리"
   ]
  },
  {
   "cell_type": "code",
   "execution_count": 127,
   "metadata": {},
   "outputs": [
    {
     "data": {
      "text/plain": [
       "Dataset({\n",
       "    features: ['id', 'category', 'media_sub_type', 'media_name', 'char_count', 'publish_date', 'title', 'original', 'article', 'extractive', 'abstract'],\n",
       "    num_rows: 271093\n",
       "})"
      ]
     },
     "execution_count": 127,
     "metadata": {},
     "output_type": "execute_result"
    }
   ],
   "source": [
    "news_dataset['train']"
   ]
  },
  {
   "cell_type": "code",
   "execution_count": 128,
   "metadata": {},
   "outputs": [
    {
     "data": {
      "text/plain": [
       "Dataset({\n",
       "    features: ['Unnamed: 0', 'index', '주식 코드', 'report_idx', '기업 코드', '기업 이름', '수정 일자', '회사의 개요', '사업의 개요'],\n",
       "    num_rows: 2313\n",
       "})"
      ]
     },
     "execution_count": 128,
     "metadata": {},
     "output_type": "execute_result"
    }
   ],
   "source": [
    "dart_dataset['train']"
   ]
  },
  {
   "cell_type": "code",
   "execution_count": 129,
   "metadata": {},
   "outputs": [
    {
     "data": {
      "text/plain": [
       "2313"
      ]
     },
     "execution_count": 129,
     "metadata": {},
     "output_type": "execute_result"
    }
   ],
   "source": [
    "dart_dict = {}\n",
    "error =0\n",
    "for dart in dart_dataset['train']:\n",
    "    try:\n",
    "        dart_dict[dart['사업의 개요'] + \" \" + dart['주요 제품 및 서비스']] = dart['기업 이름']\n",
    "    except:\n",
    "        error+=1\n",
    "error        "
   ]
  },
  {
   "cell_type": "code",
   "execution_count": 130,
   "metadata": {},
   "outputs": [
    {
     "data": {
      "text/html": [
       "<div>\n",
       "<style scoped>\n",
       "    .dataframe tbody tr th:only-of-type {\n",
       "        vertical-align: middle;\n",
       "    }\n",
       "\n",
       "    .dataframe tbody tr th {\n",
       "        vertical-align: top;\n",
       "    }\n",
       "\n",
       "    .dataframe thead th {\n",
       "        text-align: right;\n",
       "    }\n",
       "</style>\n",
       "<table border=\"1\" class=\"dataframe\">\n",
       "  <thead>\n",
       "    <tr style=\"text-align: right;\">\n",
       "      <th></th>\n",
       "      <th>0</th>\n",
       "    </tr>\n",
       "  </thead>\n",
       "  <tbody>\n",
       "    <tr>\n",
       "      <th>0</th>\n",
       "      <td>중국 투자의향기업 직접 방문 투자협약 체결 협의이성훈 여수광양항만공사 사장 방희석 ...</td>\n",
       "    </tr>\n",
       "    <tr>\n",
       "      <th>1</th>\n",
       "      <td>이성훈 포스코 광양제철소 소장 김학동 가 자동차 강판 생산공장인 제3냉연공장을 최신...</td>\n",
       "    </tr>\n",
       "    <tr>\n",
       "      <th>2</th>\n",
       "      <td>이성훈 여수광양항만공사 사장 방희석 이하 공사 는 2018년도 승진 및 전보 인사를...</td>\n",
       "    </tr>\n",
       "    <tr>\n",
       "      <th>3</th>\n",
       "      <td>지역 특화작목 틈새소득작목 발굴 미래농업 준비이성훈 광양시는 경쟁력을 갖춘 풍요로운...</td>\n",
       "    </tr>\n",
       "    <tr>\n",
       "      <th>4</th>\n",
       "      <td>2만2500여명 참여 생명나눔 확산이성훈 포스코 광양제철소 소장 김학동 가 사랑나눔...</td>\n",
       "    </tr>\n",
       "    <tr>\n",
       "      <th>...</th>\n",
       "      <td>...</td>\n",
       "    </tr>\n",
       "    <tr>\n",
       "      <th>995</th>\n",
       "      <td>GIST 이광희 교수 연구팀 초박막금속 투명전극 이용실생활서 접할 것으로 기대 국제...</td>\n",
       "    </tr>\n",
       "    <tr>\n",
       "      <th>996</th>\n",
       "      <td>5년간 다문화 60가족 총 200여명 기회 제공광주은행은 지난 10일 본점 3층에서...</td>\n",
       "    </tr>\n",
       "    <tr>\n",
       "      <th>997</th>\n",
       "      <td>2개월 연속 고용률 통계 작성 후 최고치 기록취업자 전년 동월比 광주 6천 전남 1...</td>\n",
       "    </tr>\n",
       "    <tr>\n",
       "      <th>998</th>\n",
       "      <td>김장철 수요 증가와 저장비용 상승 등으로 깐마늘과 양파 등 양념류 가격이 오름세를 ...</td>\n",
       "    </tr>\n",
       "    <tr>\n",
       "      <th>999</th>\n",
       "      <td>현지 주류시장 맞춤형 브랜드 개발한국농수산식품유통공사가 국내 농수식품 수출 3위 시...</td>\n",
       "    </tr>\n",
       "  </tbody>\n",
       "</table>\n",
       "<p>1000 rows × 1 columns</p>\n",
       "</div>"
      ],
      "text/plain": [
       "                                                     0\n",
       "0    중국 투자의향기업 직접 방문 투자협약 체결 협의이성훈 여수광양항만공사 사장 방희석 ...\n",
       "1    이성훈 포스코 광양제철소 소장 김학동 가 자동차 강판 생산공장인 제3냉연공장을 최신...\n",
       "2    이성훈 여수광양항만공사 사장 방희석 이하 공사 는 2018년도 승진 및 전보 인사를...\n",
       "3    지역 특화작목 틈새소득작목 발굴 미래농업 준비이성훈 광양시는 경쟁력을 갖춘 풍요로운...\n",
       "4    2만2500여명 참여 생명나눔 확산이성훈 포스코 광양제철소 소장 김학동 가 사랑나눔...\n",
       "..                                                 ...\n",
       "995  GIST 이광희 교수 연구팀 초박막금속 투명전극 이용실생활서 접할 것으로 기대 국제...\n",
       "996  5년간 다문화 60가족 총 200여명 기회 제공광주은행은 지난 10일 본점 3층에서...\n",
       "997  2개월 연속 고용률 통계 작성 후 최고치 기록취업자 전년 동월比 광주 6천 전남 1...\n",
       "998  김장철 수요 증가와 저장비용 상승 등으로 깐마늘과 양파 등 양념류 가격이 오름세를 ...\n",
       "999  현지 주류시장 맞춤형 브랜드 개발한국농수산식품유통공사가 국내 농수식품 수출 3위 시...\n",
       "\n",
       "[1000 rows x 1 columns]"
      ]
     },
     "execution_count": 130,
     "metadata": {},
     "output_type": "execute_result"
    }
   ],
   "source": [
    "import pandas as pd\n",
    "\n",
    "length =500\n",
    "result = []\n",
    "cnt = 0\n",
    "for e in news_dataset['train']:\n",
    "    if e['category'] in ['경제','기업']:\n",
    "        for i in range(0, len(e),                                                                                                                                                                                                                                                                                                                                                                                                                                                                                                                                                                                                                                                                                                                                                                                                                                                                                                                                                                                                                                                                                                                                                                                                                                                                                                                                                                                                                                                                                                                                                                                                                                                                                                                                                                                     ):\n",
    "            result.append(e['article'][i:i+length])\n",
    "            break\n",
    "        cnt += 1\n",
    "    if cnt==1000:\n",
    "        break\n",
    "\n",
    "\n",
    "df = pd.DataFrame(result)#.sort_values(by=[0])\n",
    "df.to_csv('./article_train.csv', index=False)\n",
    "df"
   ]
  },
  {
   "cell_type": "code",
   "execution_count": 131,
   "metadata": {},
   "outputs": [],
   "source": [
    "import pandas as pd\n",
    "\n",
    "length =500\n",
    "result = []\n",
    "cnt = 0\n",
    "for e in news_dataset['train']:\n",
    "    if e['category'] in ['경제','기업']:\n",
    "        for i in range(0, len(e), length):\n",
    "            result.append(e['article'])\n",
    "            break\n",
    "        cnt += 1\n",
    "    if cnt==1000:\n",
    "        break\n",
    "\n",
    "#for e in news_dataset['train']['article'][:1000]:\n",
    "\n",
    "df2 = pd.DataFrame(result)"
   ]
  },
  {
   "cell_type": "markdown",
   "metadata": {},
   "source": [
    "## 2. NER"
   ]
  },
  {
   "cell_type": "code",
   "execution_count": 132,
   "metadata": {},
   "outputs": [],
   "source": [
    "from utils import init_logger, load_tokenizer, get_labels\n",
    "from predict import *"
   ]
  },
  {
   "cell_type": "markdown",
   "metadata": {},
   "source": [
    "### 2.1 Evaluation"
   ]
  },
  {
   "cell_type": "code",
   "execution_count": 133,
   "metadata": {},
   "outputs": [],
   "source": [
    "def predict(pred_config):\n",
    "    # load model and args\n",
    "    args = get_args(pred_config)\n",
    "    device = get_device(pred_config)\n",
    "    model = load_model(pred_config, args, device)\n",
    "    label_lst = get_labels(args)\n",
    "    logger.info(args)\n",
    "\n",
    "    # Convert input file to TensorDataset\n",
    "    pad_token_label_id = torch.nn.CrossEntropyLoss().ignore_index\n",
    "    tokenizer = load_tokenizer(args)\n",
    "    lines = read_input_file(pred_config)\n",
    "    dataset = convert_input_file_to_tensor_dataset(lines, pred_config, args, tokenizer, pad_token_label_id)\n",
    "\n",
    "    # Predict\n",
    "    sampler = SequentialSampler(dataset)\n",
    "    data_loader = DataLoader(dataset, sampler=sampler, batch_size=pred_config.batch_size)\n",
    "\n",
    "    all_slot_label_mask = None\n",
    "    preds = None\n",
    "\n",
    "    for batch in tqdm(data_loader, desc=\"Predicting\"):\n",
    "        batch = tuple(t.to(device) for t in batch)\n",
    "        with torch.no_grad():\n",
    "            inputs = {\"input_ids\": batch[0],\n",
    "                      \"attention_mask\": batch[1],\n",
    "                      \"labels\": None}\n",
    "            if args.model_type != \"distilkobert\":\n",
    "                inputs[\"token_type_ids\"] = batch[2]\n",
    "            outputs = model(**inputs)\n",
    "            logits = outputs[0]\n",
    "\n",
    "            if preds is None:\n",
    "                preds = logits.detach().cpu().numpy()\n",
    "                all_slot_label_mask = batch[3].detach().cpu().numpy()\n",
    "            else:\n",
    "                preds = np.append(preds, logits.detach().cpu().numpy(), axis=0)\n",
    "                all_slot_label_mask = np.append(all_slot_label_mask, batch[3].detach().cpu().numpy(), axis=0)\n",
    "\n",
    "    preds = np.argmax(preds, axis=2)\n",
    "    slot_label_map = {i: label for i, label in enumerate(label_lst)}\n",
    "    print(slot_label_map)\n",
    "    preds_list = [[] for _ in range(preds.shape[0])]\n",
    "\n",
    "    for i in range(preds.shape[0]):\n",
    "        for j in range(preds.shape[1]):\n",
    "            if all_slot_label_mask[i, j] != pad_token_label_id:\n",
    "                preds_list[i].append(slot_label_map[preds[i][j]])\n",
    "    \n",
    "    # Write to output file\n",
    "    with open(pred_config.output_file, \"w\", encoding=\"utf-8\") as f:\n",
    "        for words, preds in zip(lines, preds_list):\n",
    "            #line = \"\"\n",
    "            line = []\n",
    "            for word, pred in zip(words, preds):\n",
    "                if pred == 'O' or pred =='UNK':\n",
    "                    #line = line + word + \" \"\n",
    "                    pass\n",
    "                else:\n",
    "                    #line = line + \"[{}:{}] \".format(word, pred)\n",
    "                    if not \"기자\" in word:\n",
    "                        #line.append([word, pred])\n",
    "                        line.append(word)\n",
    "\n",
    "            f.write(\"{}\\n\".format(line))\n",
    "\n",
    "    logger.info(\"Prediction Done!\")"
   ]
  },
  {
   "cell_type": "code",
   "execution_count": 134,
   "metadata": {},
   "outputs": [],
   "source": [
    "parser = argparse.ArgumentParser()\n",
    "\n",
    "parser.add_argument(\"--input_file\", default=\"article_train.csv\", type=str, help=\"Input file for prediction\")\n",
    "parser.add_argument(\"--output_file\", default=\"sample_pred_out.txt\", type=str, help=\"Output file for prediction\")\n",
    "parser.add_argument(\"--model_dir\", default=\"./model\", type=str, help=\"Path to save, load model\")\n",
    "\n",
    "parser.add_argument(\"--batch_size\", default=32, type=int, help=\"Batch size for prediction\")\n",
    "parser.add_argument(\"--no_cuda\", action=\"store_false\", default=False, help=\"Avoid using CUDA when available\")\n",
    "\n",
    "pred_config = parser.parse_args(args=[])"
   ]
  },
  {
   "cell_type": "code",
   "execution_count": 135,
   "metadata": {},
   "outputs": [
    {
     "name": "stdout",
     "output_type": "stream",
     "text": [
      "<class 'transformers.models.auto.tokenization_auto.AutoTokenizer'> klue/roberta-large\n"
     ]
    },
    {
     "name": "stderr",
     "output_type": "stream",
     "text": [
      "Predicting: 100%|██████████| 32/32 [00:11<00:00,  2.71it/s]\n"
     ]
    },
    {
     "name": "stdout",
     "output_type": "stream",
     "text": [
      "{0: 'UNK', 1: 'O', 2: 'FLD-B', 3: 'FLD-I', 4: 'AFW-B', 5: 'AFW-I', 6: 'ORG-B', 7: 'ORG-I', 8: 'CVL-B', 9: 'CVL-I', 10: 'EVT-B', 11: 'EVT-I', 12: 'TRM-B', 13: 'TRM-I'}\n"
     ]
    }
   ],
   "source": [
    "predict(pred_config)"
   ]
  },
  {
   "cell_type": "markdown",
   "metadata": {},
   "source": [
    "### 2.2. 예측결과 불러오기"
   ]
  },
  {
   "cell_type": "code",
   "execution_count": 136,
   "metadata": {},
   "outputs": [],
   "source": [
    "ner_list = []\n",
    "with open(\"./sample_pred_out.txt\", \"r\") as f:\n",
    "    for line in f.readlines():\n",
    "        ner_list.append(line)"
   ]
  },
  {
   "cell_type": "code",
   "execution_count": 137,
   "metadata": {},
   "outputs": [
    {
     "data": {
      "text/plain": [
       "['[]\\n',\n",
       " \"['여수광양항만공사', '사장', 'CEO가', '중남부지역에서', '사장이', 'MOU', '사장은', '푸드존', '운남허메이격치', '주', '콜드체인', '냉동냉장창고', '바이란식품', '주']\\n\",\n",
       " \"['포스코', '광양제철소', '소장', '자동차', '제3냉연공장을', '자동차', '3냉연공장', '자동차', '자동차', '자동차']\\n\",\n",
       " \"['여수광양항만공사', '사장', '공사', '항만운영팀', '글로벌마케팅팀', '물류단지팀', '정부', '팀장', '항만운영팀장', '부장', '항만개발팀장', '재무회계팀', '물류단지팀', '차장', '가치경영팀', '인재육성팀', '기획조정실', '항만시설팀', '과장', '재무회계팀', '항만개발팀', '주임', '경영지원팀', '항만운영팀']\\n\",\n",
       " \"['생강', '취나물', '수박', '아열대소득과수', '애플망고']\\n\",\n",
       " \"['포스코', '광양제철소', '소장', '헌혈행사는', '광양제철소와', '대한적십자사', '광주전남혈액원이', '광양제철소에서', '임직원들과', '시민들의', '메일', '직원들의', '직원들에게', '임직원들이']\\n\",\n",
       " \"['인공지능', '빅데이터', '스마트팩토리', '포스코', '광양제철소', '소장', '인공지능', '빅데이터', '기술을', '스마트팩토리', '임직원', '포스코의', '사물인터넷', '빅데이터', '인공지능', '직원이', '임직원들은', '광양제철소', '스마트팩토리']\\n\",\n",
       " \"['동광양농협', '조합장', '하나로마트가', '대회의실에서', '정기총회를', '하나로마트를', '조합장은', '임직원이']\\n\",\n",
       " \"['광양상공회의소', '회장을', '임원단이', '광양시청을', '시장과', '시장은', '회장의', '상의회장은']\\n\",\n",
       " \"['시민들', '부영그룹의', '회장이', '목성뜰', '광양읍민들의', '회장은', '특정범죄가중처벌법상', '공정거래법', '임대주택법', '임대주택법', '회장의', '회장의']\\n\",\n",
       " \"['이에스바이오', '농업회사법인주식회사', '㈜이에스바이오', '대표', '시민접견실에서', '시장과', '㈜이에스바이오', '대표를', '㈜이에스바이오는', '㈜이에스바이오는']\\n\",\n",
       " \"['국고보조금', '광양경제청이', '일반직원의', '국무조정실', '정부합동', '부패예방감시단', '단장', '국무1차장', '국조실', '광양경제청을', '경제청에', '광양경제청은', '일반직원']\\n\",\n",
       " \"['시민이', '납세자를', '대상자를', '덕진종합건설', '주', '씨지앤코리아홀딩스', '주', '포스코에너지', '주']\\n\",\n",
       " \"['동반성장', '혁신허브', '추진위원회', '위원장', '광양제철소장', '광양상의', '회장', '동반성장', '혁신허브', '워크숍', '포스코', '광양제철소', '광양상공회의소', '실무위원', '동반성장', '혁신허브', '포스코', '광양제철소', '광양상공회의소']\\n\",\n",
       " \"['광양제철소', '직원', '포스코', '광양제철소', '소장', '임직원들이', 'e', '러닝을', '직원들의', 'PC와', '모바일로', 'e', '캠퍼스는', '마이크로러닝', '포스킷', 'POSCuit', '포스코와']\\n\",\n",
       " \"['회장', '부영회장', 'LH', '한국토지주택공사', '㈜부영주택으로', '㈜부영주택']\\n\",\n",
       " \"['광양시', '여성새로일하기센터는', '중소기업맞춤형사무원', 'ITQ', '한글', '엑셀', '급식실무', '한식전문과과정', '한식조리기능사', '결혼이민여성을', '중소기업맞춤형사무원', '급식실무']\\n\",\n",
       " \"['플랜트건설노조', '전남동부경남서부지부', '접견실에서', '전국플랜트건설노동조합', '전남동부경남서부지부와', '근로자', '시장', '플랜트건설노조', '전남동부경남서부지부장', '근로자', '근로자의', '근로자']\\n\",\n",
       " \"['여수광양항만공사', '사장이', '사장은', '정부', '사장은', '자동차']\\n\",\n",
       " \"['광양상공회의소', '회장', '광양보건대학교', '700만원을', '광양보건대학교에', '회장과', '광양보건대', '㈜유니테크', '대표이사', '㈜아쿠아텍', '대표이사', '㈜신진기업', '대표이사', '두원기업', '주', '대표이사', '㈜신우기술', '대표이사', '㈜정우', '대표이사', '광양보건대학교', '총장', '회장은', '광양보건대학교의', '광양보건대학교']\\n\",\n",
       " \"['중소기업연수원', '한국산업단지공단', '근로자는', '근로자들의']\\n\",\n",
       " \"['컨부두', '활성화', '실무협의회', '재난안전상황실에서', '실무협의회를', '실무위원들의', '컨테이너', '크레인', '셔틀']\\n\",\n",
       " \"['안전총괄과', '이안파워텍', '주', '광양보건대학교', '한국항만물류고등학교', '광양사랑병원', '혁신허브', '공동위원장인', '시장', '광양제철소장', '광양상공회의소회장', '대표와', '임직원']\\n\",\n",
       " \"['광양사랑상품권', '포스코가', '소장', '임직원과', '직원들에게', '광양사랑상품권카드와', '직원들에게', '임직원', '광양사랑상품권카드', '35억원', '광양사랑상품권을', '직원들에게', '광양사랑상품권카드']\\n\",\n",
       " '[]\\n',\n",
       " \"['바리스타로', '다문화가정의', '친구처럼', '광양제철소', '프렌즈봉사단이', '바리스타로', '다문화가정을', '프렌즈봉사단의', '광양제철소', '바리스타로', '바리스타로', '남편을', '바리스타로', '심리학과를', '한국말이', '프렌즈봉사단은', '프렌즈봉사단과']\\n\",\n",
       " \"['상인들', '포스코가', '광양사랑상품권을', '임직원들에게', '50주년을', '임직원들에게', '광양제철소', '외주파트너사협회를', '외주파트너사', '임직원', '50만원씩', '광양사랑상품권', '포스코']\\n\",\n",
       " \"['광양시여성새로일하기센터가', '광양시여성새로일하기센터', '맞춤형사무원양성과정과', '급식실무', '한식전문가과정', 'SW']\\n\",\n",
       " \"['광양제철소', '광양제철소', '소장', '직원들', '직원들이', '직원들의', '팀장', '파트장', '주임들은', '직원들을']\\n\",\n",
       " \"['중국인들의', '샤상그룹', '외국상품직영센터', '중국인들에게', '소비자들로부터']\\n\",\n",
       " \"['산업평화', '실현', '노사민정', '한마음대회', '노사민정한마음대회가', '광양실내체육관에서', '근로자', '근로자', '조선내화', '서강기업', '건우', '성암산업', '쌍용양회', '전라남도지사상을', '광양항만항운', '포스코켐텍', '대한시멘트', 'CJ대한통운', '광양시장상을', '근로자는']\\n\",\n",
       " \"['근로자들의', '국도', '2호선과', '국도', '59호선이', '남해', '고속도로', '광양', 'IC와']\\n\",\n",
       " \"['취나물', '부종완화에', '취나물을']\\n\",\n",
       " \"['광양제철소', '소장', 'Strong&Smart', '광양제철소', '실현', '결의대회', '직원들의', '소장을', '직원', '외주파트너사', '광양제철소', '외주파트너사', '임직원', '포스코가', '100%', '포스코', '스마트', 'VR', '직원들이']\\n\",\n",
       " \"['임산부', '반조리', '식품', '광양신문', '신년특집', '청춘협동조합', '기획재정부가', '한국사회적기업진흥원이', '청년협동조합창업팀에', '기사>청년협동조합창업지원사업은', '반조리식품', '밥', '아저씨', '청춘협동조합', '대표', '임산부를', '반조리', '식품', '대표는', '임산부들이', '화학보존제와', 'GMO곡물을']\\n\",\n",
       " \"['포스코', '회장', '국회의원이', '의원은', '포스코가', '최고경영자', 'CEO', '차기회장', '의원은', '의원은', '포스코', '회장은']\\n\",\n",
       " \"['주인공은', '미니들농원', '대표로', '대표는', '남편과', '빨강', '노랑', '오렌지색의', '파프리카를']\\n\",\n",
       " \"['광양매화빵', '가족에게']\\n\",\n",
       " \"['황금', '도립미술관', '광영']\\n\",\n",
       " \"['광양뉴스', '광양제철소', '소장', '광양제철소', '1열연공장을', '승용차를', '자동차용']\\n\",\n",
       " \"['포스코', '기술교육그룹은', '포항제철소', '외주파트너사에', '구직자', '포항', '외주파트너사들의']\\n\",\n",
       " \"['여수광양항만공사', '사장']\\n\",\n",
       " \"['광양의봄', '프리미엄2차가', '앞', '덕진종합건설', '수요자들로', '봄', '프리미엄', '2차', '수요자들의', '봄', '프리미엄', 'B', '남향']\\n\",\n",
       " \"['단장', '포스코', '직원들의', '광양제철소', '소장', '학습봉사단', '단장', '엔지니어', '학습봉사단장', '신입사원의', '담임교사는', '광양제철소', '엔지니어']\\n\",\n",
       " \"['이마트', 'LF', '스퀘어', '이마트', '노브랜드', '지역상공인회가', '상공인들의', '광양읍사무소에서', '슈퍼', '곡물소매', '육류소매상', '이마트', '노브랜드', 'LF는', '패션아웃렛인데']\\n\",\n",
       " \"['직원이', '광양뉴스', '광양제철소', '소장', '후판부가', '직원이', '직원들이', '안전도우미의']\\n\",\n",
       " \"['해수부장관', '여수광양항만공사', '사장', '사장을', '광양항만항운노조', '위원장과', '민주당', '광양시지역위원회', '위원장을', '사장']\\n\",\n",
       " \"['회장', '광양뉴스', '포스코그룹이', '포스코', '회장은', '광양제철소']\\n\",\n",
       " \"['화학소재', 'KTR', 'KTR융복합소재지원센터', '단체장들이', 'KTR융복합소재실증화지원센터', '자동차나', '컴퓨터용', '화학소재', '자동차', '선박']\\n\",\n",
       " \"['市', '4차산업혁명', '4차산업혁명', '기업지원', '발굴을', '위한', '설명회', '광양상공회의소', '4차산업혁명의', '인공지능', '빅데이터', 'ICT기술을', '부시장을', '광양상의', 'ICT', '기업인', '100여명이', '4차', '산업혁명', 'ICT기술과', '전문가']\\n\",\n",
       " \"['광양제철소', '소장', '직원들을', 'OJT우수사례', '발표대회', 'On', 'the', 'job', 'training', '우수사례', '발표대회는', '선배사원들의', 'OJT', 'OJT', '행정부소장은', 'OJT를']\\n\",\n",
       " \"['광양만권', '일자리박람회', '광양기업', '주', '광양만권', '일자리박람회']\\n\",\n",
       " \"['여수광양항만공사', '사장', '외국인투자촉진법에']\\n\",\n",
       " \"['광양상공인회', '회장', '회원과', '부인회원', '회원들은', '익산', '천만송이국화축제장에서', '관광객들에게', '광양불고기를', '보석박물관과', '고속도로', '광양기정떡', '섬진강', '매화빵', '매실쿠키', '광양막걸리', '매실액기스']\\n\",\n",
       " \"['광양뉴스', '여수광양항만공사', '사장', '한국생산성본부로부터', 'ISO', '37001', '37001은', '국제표준화기구', 'ISO', 'ISO', '37001', '감사팀을', '부패방지경영시스템']\\n\",\n",
       " \"['조치고용노동부여수지청', '지청장', '질식', '중독']\\n\",\n",
       " \"['빅데이터', '경진대회', '공유광양뉴스', '포스코', '광양제철소', '소장', '빅데이터', 'Big', 'Data', '경진대회', '경진대회는', '4차', '산업혁명이라는', '직원들의', '포스코의', '사물인터넷', '빅데이터', '인공지능', '4차', '산업혁명을', '광양제철소', '직원들은']\\n\",\n",
       " \"['광양뉴스', '서울가든호텔에서', '노사발전재단', '노사상생형', '지역일자리', '컨설팅', '지원사업', '성과보고회가', '광양만권일자리사업단장과', '전남대교수는', '광양제철소', '광양제철협력사협회', '교수에', '광양제철소를', '광양제철소', '근로자']\\n\",\n",
       " \"['동반성장위원회', '중기중앙회', 'POSCO', '체결광양뉴스', '임직원', '처우개선포스코그룹', '회장은', '포스코센터에서', 'With', 'POSCO', '동반성장', '파트너스데이', '동반성장위원회', '위원장', '중소기업중앙회', '회장', '조선내화', '회장과', 'With', 'POSCO', '중소기업중앙회', '회장', '포스코', '회장', '동반성장위원회', '위원장', '조선내화', '회장협약에는', '포스코가', '포스코건설', '포스코ICT', '포스코에너지로', '포스코그룹']\\n\",\n",
       " \"['산업인력공단', '직원', '왼쪽부터', '㈜대진', '대표', '㈜케이원테크', '전무', '전남지사장', '롯데케미칼', '책임', 'GS칼텍스', '팀장', '케이원테크', '주', '포스코', '한국산업인력공단', '전남지사', '포스코', '국가인적자원개발컨소시엄', '과정에', '공감리더십', '행복디자인', '직원을', '기술교육그룹', '과장은', '㈜케이원테크는', '㈜대진은', '직원들이', '산업인력공단의']\\n\",\n",
       " \"['포스코', '광양제철소', '소장', '광양제철소장과', '노경협의회', '대표', 'World', 'Premium', 'WP', '2열연공장은', '모터', 'motor']\\n\",\n",
       " \"['여수광양항만공사.여수광양항만공사', '사장', '울산항만공사가', '항만공사', '공동', '연구개발사업', '개방형', '아이디어', '공모전', '이메일', '전문가로']\\n\",\n",
       " \"['대상광양뉴스', '광양상공회의소', '회장', '커뮤니티센터에서', '귀속', '연말정산', '교육', '순천세무서와', '임직원', '홈택스를', '근로자와', '실무자들이']\\n\",\n",
       " \"['선진시스템', '㈜대평', '㈜선진시스템', '대표', '주', '대평', '대표', '전남도청', '왕인실에서', '일자리', '투자유치', '한마당', '행사에서', '고용환경개선자금', '2000만원과']\\n\",\n",
       " \"['광양만권경제자유구역청이', '경제청장과', '읍장을', '삼성마을', '광양읍사무소', '경제청', '직원', '경제청은', '투자유치본부', '주무관', '직원', '대표', '세풍산단']\\n\",\n",
       " \"['광양뉴스', '여수광양항만공사', '사장', '보안울타리']\\n\",\n",
       " \"['광양상의', '광양상공회의소', '회장', 'BSI']\\n\",\n",
       " \"['포스코', '광양제철소', '소장', '천장크레인', '천장크레인', '포스코가', '광양제철소', '포스코', '중소기업컨소시엄교육시스템을', '포스코']\\n\",\n",
       " \"['기대여수광양항만공사', '한진해운', '월드마린센터에서는', '여수광양항만공사']\\n\",\n",
       " \"['최고경영인상', '행복주택']\\n\",\n",
       " \"['광양뉴스', '여수광양항만공사', '사장', '우드펠릿', '우드펠릿이']\\n\",\n",
       " \"['입학식광양만권일자리사업단', '광양만권일자리사업단', '센터장', '신중년', '전문인력', '지원센터', '지원센터는', '구직자', '근로자종합복지관', '퇴직자들의', '구직자', '근로자의']\\n\",\n",
       " \"['환경부', '받기로녹색연합', '광양제철소', '수재슬래그', '전남도보건환경연구원에']\\n\",\n",
       " \"['기업지원', '시책', '합동설명회', '전남테크노파크', '대강당에서', '정부의', '광양청과', '전남테크노파크가', '고용노동부', '여수지청', '중소벤처기업부', '전남동부사무소', '전남중소기업진흥원', '광주지방국세청과']\\n\",\n",
       " \"['대리인이']\\n\",\n",
       " \"['동반성장', '혁신허브', '추진위원회', '공동위원장', '광양시장', '광양제철소장', '광양상공회의소회장', '동반성장', '혁신허브', '워크숍', '세미나실에서', '실무위원', '동반성장', '혁신허브에', '의료기관', '제철항만팀장은', '혁신허브']\\n\",\n",
       " \"['광양만권', '일자리사업단', '단장', '근로자종합복지관에서', '시장을', '시의회의장', '상공회의소장', '한국노총', '광양지역지부', '의장', '광양제철소협력사협회장', '40세', '퇴직예정자', '은퇴자', '강당에서', '의원이', '입학생은', '산업운송장비']\\n\",\n",
       " \"['연결', '우수직원', '포스코', '포스코기술대학', '학장', '인사문화실장', '직원', '광양캠퍼스와', '포항캠퍼스를', '생산본부장', '광양제철소장', '포항제철소장', '경영진들이', '입학생들을', '생산본부장은', '신입생들이', '입학생들이']\\n\",\n",
       " \"['도시재생', '지역역량강화사업', '도시재생현장지원센터', '주', '트라앤이', '함께하는', '광양살이', '청년창업가', '도시재생사업', '광양읍사무소', '대회의실에서', '대표가']\\n\",\n",
       " \"['사랑병원', '대표원장', '도지사', '광양사랑병원', '대표원장이', '도지사', '지방세', '납세자', '납세자를']\\n\",\n",
       " \"['배추김치로', '김치찌개도', '에어컨을', '춘곤증', '춘곤증', '마스크는']\\n\",\n",
       " \"['부영아파트', '대우', '푸르지오', 'e편한세상']\\n\",\n",
       " \"['한우', '사골육수', '쌀국수', '연유커피', '쌀국수의', '국물과', '면발', '싸이공', '쌀국수', '직원이', '손님들로', '쌀국수', '쌀국수에', '소고기를', '한국인의']\\n\",\n",
       " \"['호수', '806', '시민', '벚꽃길', '걷기대회', '어린이보육재단', '기부광양시새마을금고', '이사장', '어린이보육재단에', '광양시새마을금고', '광양시민', '벚꽃길', '걷기대회', '광양시새마을금고는', '어린이보육재단에', '이사장은', '광양시새마을금고가']\\n\",\n",
       " \"['805', '광양상의', '회장', 'BSI']\\n\",\n",
       " \"['광양', '스위트엠', '르네상스', '삼부토건이', '광양', '스위트엠', '르네상스는', '이순신대교를', '홈플러스', '광양점과', '광양시청', '체육공원']\\n\",\n",
       " \"['광양뉴스', '신청자를', '한국장학재단', '이용자']\\n\",\n",
       " \"['807시민들', '가능시의회', '시의회', '부영', '광양시의회', '부영', '시민들에게', '광양시의회', '부영', '시의회', '시민들의', '부영', '부영']\\n\",\n",
       " \"['807광양주식회사', '포스코가', '설비자재구매실은', '광양주식회사를', '직원들과', '설비자재구매실장은', '임직원의', '여성리더로서의', '실장은']\\n\",\n",
       " \"['중마동', '아버지의', '보신전골', '손님들이', '손님들과', '손님들의', '아버지', '아들인', '대표가', '앞다리살은', '김치찌개에']\\n\",\n",
       " \"['자루소바', '돈코츠라멘', '미소라멘', '알밥', '이순신대교', '먹거리타운', '생선초밥과', '생선회가', '광양초밥', '일식조리사', '대표의', '광양초밥', '자루소바', '정통식', '돈코츠라멘', '미소라멘', '알밥', '자루소바', '냉소바를', '특제소스에', '메밀국수로', '냉면과는', '고객들의']\\n\",\n",
       " \"['밍타이그룹', '밍타이그룹의', '광양알루미늄', '공장', '60톤급', '광양알루미늄', '용해로가', '밍타이그룹이']\\n\",\n",
       " \"['점주', '무화학비료', '고객들로부터']\\n\",\n",
       " \"['광양시', '체육회', '전남동부', '수협', '청년회', '지역주민']\\n\",\n",
       " \"['810화학', '화공', '제철소', 'RIST가', '광양분원에서', '미세먼지연구센터', 'RIST', '포항산업과학연구원', '원장', '미세먼지연구센터', '광양분원에서', '미세먼지연구센터', '포스코', '사장', '광양제철소장', '유성', 'RIST', '원장', '미세먼지연구센터는', '화학', '화공', '박사급']\\n\",\n",
       " \"['국가유공자', '국가유공자를', '광학문자판독기', '영상전화기', '터치모니터', '정보통신보조기기', '80%를', '90%까지', '장애인복지법에', '국가유공자가']\\n\",\n",
       " \"['자동차', '차로이탈경고장치', '화물차', '버스', '차량의', '차로이탈경고장치', '과태료가', '50%', '전방충돌경고기능이', '차로이탈경고장치', '자동차', '승합차와', '특수차량과']\\n\",\n",
       " \"['꿀팁', '에어컨', '차량', '배터리', '운전자', '자동차', '동광양', '밧데리', '동광양', '밧데리', '배터리를', '전화']\\n\",\n",
       " \"['811반영구적', '레이노', '왕복항공권', '썬팅필름이', '필름', '레이노', '프리미엄', '썬팅', '마동점', '대표']\\n\",\n",
       " \"['SNS', '맞벌이부부', '짱언니', '짱언니', '포차', '고객의', '석박지', '절임과', '장아찌류가']\\n\"]"
      ]
     },
     "execution_count": 137,
     "metadata": {},
     "output_type": "execute_result"
    }
   ],
   "source": [
    "ner_list[0:100]"
   ]
  },
  {
   "cell_type": "markdown",
   "metadata": {},
   "source": [
    "## 3. BM25 문서검색"
   ]
  },
  {
   "cell_type": "code",
   "execution_count": 138,
   "metadata": {},
   "outputs": [
    {
     "data": {
      "text/plain": [
       "Dataset({\n",
       "    features: ['Unnamed: 0', 'index', '주식 코드', 'report_idx', '기업 코드', '기업 이름', '수정 일자', '회사의 개요', '사업의 개요'],\n",
       "    num_rows: 2313\n",
       "})"
      ]
     },
     "execution_count": 138,
     "metadata": {},
     "output_type": "execute_result"
    }
   ],
   "source": [
    "dart_dataset['train']#['기업 이름']"
   ]
  },
  {
   "cell_type": "code",
   "execution_count": 139,
   "metadata": {},
   "outputs": [],
   "source": [
    "contents_list = ['회사의 개요',  '사업의 개요']#, '주요 제품 및 서비스','주요계약 및 연구개발활동']\n",
    "\n",
    "dart_dict= {\n",
    "    \"corp_name\" :[],\n",
    "    \"corp_text\":[]\n",
    "}\n",
    "\n",
    "for corp in dart_dataset['train']:\n",
    "    dart_text = \"\"\n",
    "    dart_dict['corp_name'].append(corp['기업 이름'])\n",
    "    for content in contents_list:\n",
    "        dart_text += corp[content]\n",
    "    dart_dict['corp_text'].append(dart_text)"
   ]
  },
  {
   "cell_type": "markdown",
   "metadata": {},
   "source": [
    "\n",
    "news_list = []\n",
    "for news in tqdm(news_dataset['train']):\n",
    "    if news['category'] == '경제' or news['category'] =='기업':\n",
    "        news_list.append(news['article'])\n",
    "\n",
    "split_news=[]\n",
    "for article in news_list:\n",
    "    split_news.append(article.split(\".\"))\n"
   ]
  },
  {
   "cell_type": "code",
   "execution_count": 140,
   "metadata": {},
   "outputs": [],
   "source": [
    "import re\n",
    "def preprocessing(s): \n",
    "        hangul = re.compile('[^ ㄱ-ㅣ가-힣+]')\n",
    "        result = hangul.sub('', s)\n",
    "        return result"
   ]
  },
  {
   "cell_type": "code",
   "execution_count": 141,
   "metadata": {},
   "outputs": [],
   "source": [
    "pre_dart = {}\n",
    "for idx in range(len(dart_dict['corp_name'])):\n",
    "    pre_dart[dart_dict['corp_name'][idx]] = preprocessing(dart_dict['corp_text'][idx])\n",
    "    \n",
    "pre_name = {}\n",
    "for idx in range(len(dart_dict['corp_name'])):\n",
    "    pre_name[preprocessing(dart_dict['corp_text'][idx])] = dart_dict['corp_name'][idx]\n"
   ]
  },
  {
   "cell_type": "code",
   "execution_count": 142,
   "metadata": {},
   "outputs": [
    {
     "name": "stderr",
     "output_type": "stream",
     "text": [
      "100%|██████████| 2313/2313 [00:16<00:00, 139.56it/s]\n"
     ]
    }
   ],
   "source": [
    "from konlpy.tag import Mecab\n",
    "\n",
    "tokenizer = Mecab()\n",
    "tot = []\n",
    "for txt in tqdm(list(pre_dart.values())):\n",
    "    tot.append(tokenizer.nouns(txt))"
   ]
  },
  {
   "cell_type": "code",
   "execution_count": 143,
   "metadata": {},
   "outputs": [],
   "source": [
    "from rank_bm25 import BM25Okapi\n",
    "bm25 = BM25Okapi(tot)"
   ]
  },
  {
   "cell_type": "code",
   "execution_count": 144,
   "metadata": {},
   "outputs": [
    {
     "data": {
      "text/plain": [
       "\"['여수광양항만공사', '사장', '공사', '항만운영팀', '글로벌마케팅팀', '물류단지팀', '정부', '팀장', '항만운영팀장', '부장', '항만개발팀장', '재무회계팀', '물류단지팀', '차장', '가치경영팀', '인재육성팀', '기획조정실', '항만시설팀', '과장', '재무회계팀', '항만개발팀', '주임', '경영지원팀', '항만운영팀']\\n\""
      ]
     },
     "execution_count": 144,
     "metadata": {},
     "output_type": "execute_result"
    }
   ],
   "source": [
    "ner_list[3]"
   ]
  },
  {
   "cell_type": "markdown",
   "metadata": {},
   "source": [
    "### 3.1. NER with BM25"
   ]
  },
  {
   "cell_type": "code",
   "execution_count": 145,
   "metadata": {},
   "outputs": [],
   "source": [
    "def print_corp(newsindex, dart_dict, bm25, pre_dart, pre_name):\n",
    "    target_idx=newsindex\n",
    "    target = df.iloc[target_idx]\n",
    "    inside_corp = []\n",
    "\n",
    "    stopwords=['모두','지난','있다','회의','강조','성과','오는','모집','과정','계약',\"체결\",\"건립\",'현대식','사업',\n",
    "            '주관사로','통해','일까지','이벤트','지원','지역','기자','실험','한다','진행','설명회','예정이다',\n",
    "            '이번','방문','올해','제공','찾아가','재림','당시','한국','프로젝트','있는','추진','다양한','적극',\n",
    "            '위해','나갈','협력','협약','상당의','물품','명으로','지난해','증가했다','의한','영향','보면','통계',\n",
    "            '순위','명당','관련','업체','부실','관심','명칭','합작법인','일자리','시흥배곧','서울대','했다',\n",
    "            '한다고','위원장은','기반','혁신','인재','마련','정책','권고안','함께','시장','성장','대비','전월',\n",
    "            '전년','동월','물가','하락','소비자','상승','운영','증가','억원','억만원','할인','사용','것으']\n",
    "\n",
    "    tokenized_query = tokenizer.nouns(ner_list[newsindex])\n",
    "    #print('tokenized_query:',tokenized_query)\n",
    "\n",
    "    # for key in target.split(\" \"):\n",
    "    #     if key in dart_dict['corp_name']:\n",
    "    #         inside_corp.append(key)\n",
    "\n",
    "    # for key in tokenized_query:\n",
    "    #     if key in dart_dict['corp_name']:\n",
    "    #         inside_corp.append(key)\n",
    "    \n",
    "    inside_corp = list(set(inside_corp))\n",
    "    \n",
    "    doc_scores = bm25.get_scores(tokenized_query)\n",
    "    print(doc_scores)\n",
    "    print(max(doc_scores))\n",
    "    if max(doc_scores) <3:\n",
    "        #마땅한 회사가 없음\n",
    "        return False\n",
    "    else:\n",
    "        list_dart_n = bm25.get_top_n(tokenized_query, list(pre_dart.values()), n=5)\n",
    "        corps = [pre_name[dart] for dart in list_dart_n]\n",
    "    \"\"\"\n",
    "    tokenized_query : keywords\n",
    "    inside_corp : 언급된 회사\n",
    "    \" \".join(target) : 뉴스텍스트\n",
    "    corps : topk의 회사이름\n",
    "    list_dart_n : topk dart\n",
    "    \"\"\"\n",
    "    return tokenized_query, inside_corp, \" \".join(target),corps#, list_dart_n\n"
   ]
  },
  {
   "cell_type": "markdown",
   "metadata": {},
   "source": [
    "### 3.2. krwordrank with BM25"
   ]
  },
  {
   "cell_type": "code",
   "execution_count": 146,
   "metadata": {},
   "outputs": [],
   "source": [
    "from krwordrank.word import summarize_with_keywords\n",
    "\n",
    "def print_corp2(newsindex, dart_dict, bm25, pre_dart, pre_name):\n",
    "    target_idx=newsindex\n",
    "    target = df2.iloc[target_idx]\n",
    "    inside_corp = []\n",
    "\n",
    "    stopwords=['모두','지난','있다','회의','강조','성과','오는','모집','과정','계약',\"체결\",\"건립\",'현대식','사업',\n",
    "            '주관사로','통해','일까지','이벤트','지원','지역','기자','실험','한다','진행','설명회','예정이다',\n",
    "            '이번','방문','올해','제공','찾아가','재림','당시','한국','프로젝트','있는','추진','다양한','적극',\n",
    "            '위해','나갈','협력','협약','상당의','물품','명으로','지난해','증가했다','의한','영향','보면','통계',\n",
    "            '순위','명당','관련','업체','부실','관심','명칭','합작법인','일자리','시흥배곧','서울대','했다',\n",
    "            '한다고','위원장은','기반','혁신','인재','마련','정책','권고안','함께','시장','성장','대비','전월',\n",
    "            '전년','동월','물가','하락','소비자','상승','운영','증가','억원','억만원','할인','사용','것으']\n",
    "    print(target)\n",
    "    keywords = summarize_with_keywords(target, min_count=4, max_length=7,\n",
    "        beta=0.85, max_iter=10,stopwords=stopwords,verbose=True)\n",
    "    print(keywords)\n",
    "    tokenized_query = list(keywords.keys())\n",
    "\n",
    "    # for key in target.split(\" \"):\n",
    "    #     if key in dart_dict['corp_name']:\n",
    "    #         inside_corp.append(key)\n",
    "\n",
    "    # for key in tokenized_query:\n",
    "    #     if key in dart_dict['corp_name']:\n",
    "    #         inside_corp.append(key)\n",
    "    \n",
    "    inside_corp = list(set(inside_corp))\n",
    "    \n",
    "    doc_scores = bm25.get_scores(tokenized_query)\n",
    "    if max(doc_scores) <5:\n",
    "        #마땅한 회사가 없음\n",
    "        return False\n",
    "    else:\n",
    "        list_dart_n = bm25.get_top_n(tokenized_query, list(pre_dart.values()), n=5)\n",
    "        corps = [pre_name[dart] for dart in list_dart_n]\n",
    "    \"\"\"\n",
    "    tokenized_query : keywords\n",
    "    inside_corp : 언급된 회사\n",
    "    \" \".join(target) : 뉴스텍스트\n",
    "    corps : topk의 회사이름\n",
    "    list_dart_n : topk dart\n",
    "    \"\"\"\n",
    "    return tokenized_query, inside_corp, \" \".join(target),corps, [e[300:1000] for e  in list_dart_n]"
   ]
  },
  {
   "cell_type": "markdown",
   "metadata": {},
   "source": [
    "### 3.3 Eval with NER & kwordrank with BM25"
   ]
  },
  {
   "cell_type": "code",
   "execution_count": 157,
   "metadata": {},
   "outputs": [
    {
     "name": "stdout",
     "output_type": "stream",
     "text": [
      "[ 6.59009457  3.96333764  6.38593438 ...  7.39197232  3.51869902\n",
      " 11.06638796]\n",
      "35.26247017202604\n"
     ]
    },
    {
     "data": {
      "text/plain": [
       "(['시민',\n",
       "  '부영',\n",
       "  '그룹',\n",
       "  '회장',\n",
       "  '목성',\n",
       "  '뜰',\n",
       "  '광양',\n",
       "  '읍민',\n",
       "  '회장',\n",
       "  '특정',\n",
       "  '범죄',\n",
       "  '중처',\n",
       "  '벌',\n",
       "  '법상',\n",
       "  '공정',\n",
       "  '거래법',\n",
       "  '임대',\n",
       "  '주택',\n",
       "  '법',\n",
       "  '임대',\n",
       "  '주택',\n",
       "  '법',\n",
       "  '회장',\n",
       "  '회장'],\n",
       " [],\n",
       " '고용창출 경제 활성화 기대이성훈 지역 업체인 이에스바이오 농업회사법인주식회사 이하 ㈜이에스바이오 대표 강기연 와 광양시는 지난 19일 시민접견실에서 투자협약을 체결했다.이번 투자협약은 광양시가 올해 처음으로 체결한 협약이다.협약식에는 정현복 시장과 강기연 ㈜이에스바이오 대표를 비롯한 관계자 10여명이 참석했다.이번에 신규 투자를 결정한 ㈜이에스바이오는 상토 및 유기질 비료 생산 전문 업체로 분말형상토 압착매트형상토 양액배지 유기질 비료 등 농작물의 종류에 맞는 제품을 생산하는 기술을 보유하고 있으며 생산품을 일본 중국 등지로 수출을 계획하고 있다.이번 협약으로 ㈜이에스바이오는 광양항 동측배후단지 2만9113㎡의 부지에 41억원을 투자해 내년까지 상토 및 유기질 비료 제조 공장을 설립하게 된다.또 광양항 동측배후단지에 입주해 물류비 절감과 수입 원자재에 대한 원가 절감 등을 통한 수익을 극대화해 나갈 예정이다.시는 이번 투자유치를 통해 관리직 생산직을 비롯한 40여명이 양질의 새로운 ',\n",
       " ['대원제약', '일성신약', '한신공영', '우리금융지주', '덕양산업'])"
      ]
     },
     "execution_count": 157,
     "metadata": {},
     "output_type": "execute_result"
    }
   ],
   "source": [
    "\n",
    "#tokenized_corpus = [doc.split(\" \") for doc in dart_dict.keys()]\n",
    "#bm25 = BM25Okapi(tokenized_corpus)\n",
    "news_id = 9\n",
    "\n",
    "print_corp(news_id, dart_dict, bm25, pre_dart, pre_name)"
   ]
  },
  {
   "cell_type": "code",
   "execution_count": 154,
   "metadata": {},
   "outputs": [
    {
     "name": "stdout",
     "output_type": "stream",
     "text": [
      "0    정기총회 개최 조합원 실익 사업 최선 이성훈 동광양농협 조합장 이명기 하나로마트가 ...\n",
      "Name: 6, dtype: object\n",
      "scan vocabs ... \n",
      "num vocabs = 25\n",
      "done = 10\n",
      "{'조합원': 1.5712066401602494, '최선': 1.1489907352542938}\n"
     ]
    },
    {
     "data": {
      "text/plain": [
       "(['조합원', '최선'],\n",
       " [],\n",
       " '정기총회 개최 조합원 실익 사업 최선 이성훈 동광양농협 조합장 이명기 하나로마트가 6년 연속 총매출 500억원을 돌파했다.동광양농협은 지난달 26일 3층 대회의실에서 2018년 정기총회를 개최했다.동광양농협은 지난해 다양한 금융서비스 제공과 하나로마트를 통한 우수농산물 판매로 순이익 21억원 총자산 4713억원 이상을 달성했다고 밝혔다.또한 상호금융예수금 4174억원과 상호금융대출금 3327억원을 달성했다.하나로마트 모든 사무소 총 매출액은 517억원으로 6년 연속 500억원 이상을 달성했다.이명기 조합장은 지난 1년은 조합원 여러분과 약속했던 일들을 기필코 달성하기 위해 전 임직원이 일심단결했다 면서 건전하고 투명한 경영을 통한 자립경영 기반강화를 탄탄히 다지는 한 해였다 고 밝혔다.이 조합장은 임직원은 혼연일체가 되어 무술년 한 해 새롭게 농협을 창립한다는 정신으로 조합원과 고객과의 협력을 통해 최고의 목표인 건전결산의 결실을 이루는 한 해가 되도록 최선을 다하겠다 고 다짐했다.이어 조합원 삶의 질을 높이고 작은 소리에도 귀 기울여 업무수행에 최선을 다할 것 이라며 우리 조합을 믿고 찾는 고객을 최고로 모시며 민원 없는 업무수행과 조합원 실익사업에 최선을 다하겠다 고 강조했다.동광양농협은 지난해 우수조합원 해외역사문화 탐방 조합원 건강검진 추곡 자체수매차액 지원 영농자재 구입용 교환권 공급 조합원 자녀장학금 지원 등 다양한 환원사업을 실시 농업인 조합원의 삶의 질 향상과 농가실익 증대를 위해 노력했다.',\n",
       " ['미래에셋벤처투자', '컴퍼니케이', '나우IB', '삼호개발', '디피씨'],\n",
       " [' 사업을 영위할 목적으로 년 월 일 설립되었습니다  년 월경영참여형사모집합투자기구  의 업무집행사원 등록을 완료함으로써 사업의 범위를 확대해 가고 있습니다  당사는 별도의 존속기간을 정하고 있지 않습니다  바  본사의 소 전화번호 홈페이지 소 소   경기도 성남시 분당구 판교역로번길  전화번호    홈페이지   사  회사사업 영위의 근거가 되는 법률 당사는  중소기업창업지원법  제조 제항 규정에 의해 설립된 중소기업창업투자회사입니다  아  요 사업의 내용 및 향후 추진하려는 신규사업에 관한 간략한 설명 지배회사 미래에셋벤처투자  가 영위하는 목적사업 연결대상 요종속회사의 사업 내용   상세 내용 및 향후 추진하려는 신규사업에 관한 설명은 동 공시서류의    사업의 내용을 참조하시기 바랍니다  자  계열회사에 관한 사항 당사는 미래에셋 기업집단에 소속된 회사로서 독점규제및공정거래에관한법률에 의해 년 월 일자로 상호출자제한 채무보증제한기업집단으로 지정되었습니다  자세한 내용은   계열회사 등에 관한 사항을 참조하시기 바랍니다  차  신용평가에 관한 사항 해당사항 없음당사는 중소기업창업지원법에 근거한 창업투자회사로 중소기업의 창업 투자 지원 및 초기 단계에 있는 우수기업에 대한 컨설팅 업무와 자본시장법에 근거한 사모투자전문회사 를 통해 스몰캡 강소기업에 대한 경영권 인수  투자를 로 수행하고 있습니다  중소 벤처기업에게는 신기술과 아이디어',\n",
       "  '률에 근거하여 설립된 중소기업창업투자회사입니다  바  중소기업해당 여부 당사는 중소기업기본법 상 업종별 규모기준 및 독립성 기준을 충족하고 있어 중소기업에 해당됩니다  중소기업 등 해당 여부 사  대한민국에 대리인이 있는 경우에는 이름 대표자 소 및 연락처 해당사항 없습니다  아  요 사업의 내용 당사는 창업자에 대한 투자 벤처투자조합의 결성 및 업무의 집행 벤처기업에 대한 투자등의 사업을 력사업으로 영위하고 있습니다  당사가 영위하는 상세한 사업의 내용은    사업의 내용을 참조하시기 바랍니다  정관에 기재된 목적사업 자  신용평가에 관한 사항 해당사항 없습니다  차  상법  제조에 따른 변태설립사항 해당사항 없습니다 카  회사의 권상장 또는 등록 지정 여부 및 특례상장에 관한 사항 회사의 권상장 또는 등록 지정 여부 및 특례상장에 관한 사항가  사업 개황 당사는 중소 벤처기업에 대한 투자금융을 제공하는 벤처캐피탈    로 벤처투자 촉진에 관한 법률 구중소기업창업 지원법 에 의거 중소벤처기업부에 등록된 중소기업창업투자회사이며 벤처투자조합 등 조합결성을 통한 창업초기 기업 투자를 력사업으로 영위하고 있습니다  벤처캐피탈은 잠재적으로 기술력이 높지만 자본과 경영여건이 취약한 연구개발 기업설립 초기단계에 있는 벤처기업에게 자금과 경영서비스 등을 제공하고 나중에 인수합병   기업공개  등을 통해서 투자자금을 회수하는 금융자본이며 동시에 금',\n",
       "  ' 해당 여부 사  대한민국에 대리인이 있는 경우에는 이름 대표자 소 및 연락처 당사는 보고서 작성기준일 현재 해당사항 없습니다  아  요 사업의 내용 당사는 여신전문금융업법에 따른 신기술사업금융회사로 투자조합 및 를 운용하고 있으며 신기술사업자 창업 벤처기업 등에 투자 및 회수 하는 사업을 력사업으로 영위하고 있습니다  당사가 영위하는 상세한 사업의 내용은    사업의 내용을 참조하시기 바랍니다  자  신용평가에 관한 사항 당사는 보고서 작성기준일 현재 해당사항 없습니다  차  상법  제조에 따른 변태설립사항 당사는 보고서 작성기준일 현재 해당사항 없습니다 카  회사의 권상장 또는 등록 지정 여부 및 특례상장에 관한 사항 산업의 특성 당사는 한국표준산업분류상   기타 금융 투자업에 속하는 회사로서 신기술사업금융업을 영위하고 있습니다  신기술사업금융업을 영위하는 신기술사업금융회사는 벤처캐피탈에 속하며 벤처캐피탈은 잠재적으로 기술력이 높지만 자본과 경영여건이 취약한 연구개발 기업설립 초기단계에 있는 벤처기업에게 자금과 경영서비스 등을 제공하고 이후 인수합병   상장  등을 통해서 투자자금을 회수하는 금융자본 신기술투자조합 등 이며 동시에 금융회사 신기술사업금융회사 입니다  벤처캐피탈업계는 여신전문금융업법에 의거한 신기술사업금융회사와 중소기업창업지원법에 의거한 중소기업창업투자회사등으로 구분됩니다  신기술사업금융회사와 창업투자회사는 장래성이',\n",
       "  '조합 이며 요 사업의 내용은 다음과 같습니다    삼호개발  연결회사 중 지배회사인 삼호개발  는 전문건설업체로서 고속도로 및 국도 등의도로공사 지하철공사 항만시설공사 간척지공사 택지 및 산업단지조성공사 등의 국내외 요토목공사 시공에 참여하고 있습니다  특히 전문건설업 이외에 일반건설업면허를 취득하여 건축 및 토목공사업으로 그 사업분야를 넓혀가고 있습니다  또한 충남 당진에 쇄석 골재 생산공장을 운영함으로써 충남권 일원의 건설현장에 양질의 골재를 공급하고 있습니다    삼호그린인베스트먼트  고도의 기술력이나 우수한 비지니스 모델을 갖고 있는 중소기업 및 벤처기업에 투자하여 자본 경영관리 기술정보 마케팅 등을 종합적으로 지원함으로써 투자기업가치를 제고한 후 투자지분 처분을 통하여 투자수익을 실현하는 창업투자회사입니다    신성장메짜닌펀드 신성장동력 분야 우수 중소 벤처기업에 투자하여 그 수익을 조합원들에게 배분하기 위하여 년 월에 결성된 중소기업창업투자조합으로 업무집행조합원은 삼호그린인베스트먼트  입니다    세컨더리 투자조합 제호 우수한 비상장 중소기업의 구 등을 인수하여 매각하고 그 수익을 조합원들에게 배분하기 위하여 년 월에 결성된 한국벤처투자조합으로 업무집행조합원은 삼호그린인베스트먼트  입니다  아  신용평가에 관한 사항  협력업체 등록용 신용등급이며 회사채 및 기업어음 발행시 부여받은 신용등급이 아닙니다  자  회사의 권상장 ',\n",
       "  '권선물거래소가 개설하는 유가증권시장에 상장한 권상장법인입니다  마  본점의 소 전화번호 및 홈페이지 소   경기도 안산시 단원구 산단로번길  목내동 전 화    홈페이지   바  중소기업 등 해당 여부  중소기업기본법 제조의에 의거 하여 중소기업에 해당됩니다  제조  항에 의거 중소기업에 해당하지 않지만 제조  항에 의거 유예를 적용받고있습니다  사  요사업의 내용 당사의 사업부문은 제조부문과 투자부문으로 구별됩니다  제조부문은 전자레인지용 고압변성기 등으로 중국현지법인과 말레이시아현지법인을 통해 생산하여 전세계 가전업체에 납품하고 있습니다  투자부문은 프라이빗에쿼티 펀드 및 벤처투자조합 운영 부동산 및 인프라 등에 대한투자 등을 하고 있습니다  기타의 자세한 사항은 동 보고서의 사업의 내용 참조하시기 바랍니다  아  신용평가에 관한 사항 당사의 공시대상기간동안 신용평가를 받은 내역은 아래와 같습니다    나이스디앤비의 신용등급체계 자  회사의 권상장 또는 등록 지정 여부 및 특례상장에 관한 사항당사의 사업부문은 제조부문 파워 과 투자부문 금융 으로 구별됩니다  당사 및 종속회사의 사업부문별 현황을 요약하면 아래와 같습니다  제조부문     제조서비스업 사업의개요    제조서비스업 기타 참고사항 투자부문     금융업 사업의개요  재무건전성 등 기타 참고사항 제조부문 회사의 제조 파워 부문은 전자레인지용     와 에어컨용   를 해'])"
      ]
     },
     "execution_count": 154,
     "metadata": {},
     "output_type": "execute_result"
    }
   ],
   "source": [
    "print_corp2(news_id, dart_dict, bm25, pre_dart, pre_name)"
   ]
  },
  {
   "cell_type": "code",
   "execution_count": null,
   "metadata": {},
   "outputs": [],
   "source": []
  },
  {
   "cell_type": "code",
   "execution_count": null,
   "metadata": {},
   "outputs": [],
   "source": []
  },
  {
   "cell_type": "code",
   "execution_count": null,
   "metadata": {},
   "outputs": [],
   "source": []
  }
 ],
 "metadata": {
  "interpreter": {
   "hash": "e31c68abf1d5dd3f9e2269f23eadf1b199587e56c0618a30760176a65ebfcab4"
  },
  "kernelspec": {
   "display_name": "Python 3.7.11 64-bit ('lightweight': conda)",
   "language": "python",
   "name": "python3"
  },
  "language_info": {
   "codemirror_mode": {
    "name": "ipython",
    "version": 3
   },
   "file_extension": ".py",
   "mimetype": "text/x-python",
   "name": "python",
   "nbconvert_exporter": "python",
   "pygments_lexer": "ipython3",
   "version": "3.7.11"
  },
  "orig_nbformat": 4
 },
 "nbformat": 4,
 "nbformat_minor": 2
}
