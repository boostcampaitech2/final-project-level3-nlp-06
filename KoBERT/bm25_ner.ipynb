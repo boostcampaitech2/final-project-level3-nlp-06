{
 "cells": [
  {
   "cell_type": "markdown",
   "metadata": {},
   "source": [
    "### 1. 데이터 로드"
   ]
  },
  {
   "cell_type": "code",
   "execution_count": 1,
   "metadata": {},
   "outputs": [
    {
     "name": "stderr",
     "output_type": "stream",
     "text": [
      "Using custom data configuration nlpHakdang___aihub-news30k-4ae9b68bff3cf5c2\n",
      "Reusing dataset csv (/opt/ml/.cache/huggingface/datasets/csv/nlpHakdang___aihub-news30k-4ae9b68bff3cf5c2/0.0.0/bf68a4c4aefa545d0712b2fcbb1b327f905bbe2f6425fbc5e8c25234acb9e14a)\n"
     ]
    },
    {
     "data": {
      "application/vnd.jupyter.widget-view+json": {
       "model_id": "1b5bfe4b77b34fab86965aca9f2bebf9",
       "version_major": 2,
       "version_minor": 0
      },
      "text/plain": [
       "  0%|          | 0/2 [00:00<?, ?it/s]"
      ]
     },
     "metadata": {},
     "output_type": "display_data"
    }
   ],
   "source": [
    "from datasets import load_dataset\n",
    "import pandas as pd\n",
    "\n",
    "news_dataset = load_dataset('nlpHakdang/aihub-news30k',  data_files={\"train\":\"news_train_1_1.csv\", \"valid\":\"news_valid_1_1.csv\"}, use_auth_token='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')"
   ]
  },
  {
   "cell_type": "code",
   "execution_count": 2,
   "metadata": {},
   "outputs": [
    {
     "name": "stderr",
     "output_type": "stream",
     "text": [
      "Using custom data configuration nlpHakdang___beneficiary-28d7ba8a9c412e49\n"
     ]
    },
    {
     "name": "stdout",
     "output_type": "stream",
     "text": [
      "Downloading and preparing dataset csv/nlpHakdang___beneficiary to /opt/ml/.cache/huggingface/datasets/csv/nlpHakdang___beneficiary-28d7ba8a9c412e49/0.0.0/bf68a4c4aefa545d0712b2fcbb1b327f905bbe2f6425fbc5e8c25234acb9e14a...\n"
     ]
    },
    {
     "data": {
      "application/vnd.jupyter.widget-view+json": {
       "model_id": "92e6f9725d444b50ad15c2bcd390723f",
       "version_major": 2,
       "version_minor": 0
      },
      "text/plain": [
       "  0%|          | 0/1 [00:00<?, ?it/s]"
      ]
     },
     "metadata": {},
     "output_type": "display_data"
    },
    {
     "data": {
      "application/vnd.jupyter.widget-view+json": {
       "model_id": "10cae70472dd40509aca8014fde63eeb",
       "version_major": 2,
       "version_minor": 0
      },
      "text/plain": [
       "Downloading:   0%|          | 0.00/67.0M [00:00<?, ?B/s]"
      ]
     },
     "metadata": {},
     "output_type": "display_data"
    },
    {
     "data": {
      "application/vnd.jupyter.widget-view+json": {
       "model_id": "399a8e5fb3734342bf9eab1fdd1f3db5",
       "version_major": 2,
       "version_minor": 0
      },
      "text/plain": [
       "  0%|          | 0/1 [00:00<?, ?it/s]"
      ]
     },
     "metadata": {},
     "output_type": "display_data"
    },
    {
     "name": "stdout",
     "output_type": "stream",
     "text": [
      "Dataset csv downloaded and prepared to /opt/ml/.cache/huggingface/datasets/csv/nlpHakdang___beneficiary-28d7ba8a9c412e49/0.0.0/bf68a4c4aefa545d0712b2fcbb1b327f905bbe2f6425fbc5e8c25234acb9e14a. Subsequent calls will reuse this data.\n"
     ]
    },
    {
     "data": {
      "application/vnd.jupyter.widget-view+json": {
       "model_id": "a5200317a7fb4933b4345bf114e22253",
       "version_major": 2,
       "version_minor": 0
      },
      "text/plain": [
       "  0%|          | 0/1 [00:00<?, ?it/s]"
      ]
     },
     "metadata": {},
     "output_type": "display_data"
    }
   ],
   "source": [
    "dart_dataset = load_dataset('nlpHakdang/beneficiary',  data_files=\"dart_ver1_2.csv\", use_auth_token='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')"
   ]
  },
  {
   "cell_type": "markdown",
   "metadata": {},
   "source": [
    "## 2. 전처리"
   ]
  },
  {
   "cell_type": "code",
   "execution_count": 3,
   "metadata": {},
   "outputs": [
    {
     "data": {
      "text/plain": [
       "Dataset({\n",
       "    features: ['Unnamed: 0', 'stock_code', 'report_idx', 'corp_code', 'corp_name', 'report_date', '회사의 개요', '회사의 연혁', '사업의 개요', '주요 제품 및 서비스', '주요계약 및 연구개발활동'],\n",
       "    num_rows: 2318\n",
       "})"
      ]
     },
     "execution_count": 3,
     "metadata": {},
     "output_type": "execute_result"
    }
   ],
   "source": [
    "dart_dataset['train']"
   ]
  },
  {
   "cell_type": "code",
   "execution_count": 4,
   "metadata": {},
   "outputs": [
    {
     "data": {
      "text/plain": [
       "2318"
      ]
     },
     "execution_count": 4,
     "metadata": {},
     "output_type": "execute_result"
    }
   ],
   "source": [
    "dart_dict = {}\n",
    "error =0\n",
    "for dart in dart_dataset['train']:\n",
    "    try:\n",
    "        dart_dict[dart['사업의 개요'] + \" \" + dart['주요 제품 및 서비스']] = dart['기업 이름']\n",
    "    except:\n",
    "        error+=1\n",
    "error        "
   ]
  },
  {
   "cell_type": "code",
   "execution_count": 5,
   "metadata": {},
   "outputs": [
    {
     "data": {
      "text/html": [
       "<div>\n",
       "<style scoped>\n",
       "    .dataframe tbody tr th:only-of-type {\n",
       "        vertical-align: middle;\n",
       "    }\n",
       "\n",
       "    .dataframe tbody tr th {\n",
       "        vertical-align: top;\n",
       "    }\n",
       "\n",
       "    .dataframe thead th {\n",
       "        text-align: right;\n",
       "    }\n",
       "</style>\n",
       "<table border=\"1\" class=\"dataframe\">\n",
       "  <thead>\n",
       "    <tr style=\"text-align: right;\">\n",
       "      <th></th>\n",
       "      <th>0</th>\n",
       "    </tr>\n",
       "  </thead>\n",
       "  <tbody>\n",
       "    <tr>\n",
       "      <th>0</th>\n",
       "      <td>중국 투자의향기업 직접 방문투자협약 체결 협의이성훈 여수광양항만공사사장 방희석는 1...</td>\n",
       "    </tr>\n",
       "    <tr>\n",
       "      <th>1</th>\n",
       "      <td>이성훈 포스코 광양제철소소장 김학동가 자동차 강판 생산공장인 제3냉연공장을 최신 설...</td>\n",
       "    </tr>\n",
       "    <tr>\n",
       "      <th>2</th>\n",
       "      <td>이성훈 여수광양항만공사사장 방희석 이하 공사는 2018년도 승진 및 전보 인사를 단...</td>\n",
       "    </tr>\n",
       "    <tr>\n",
       "      <th>3</th>\n",
       "      <td>지역 특화작목틈새소득작목 발굴 미래농업 준비이성훈 광양시는 경쟁력을 갖춘 풍요로운 ...</td>\n",
       "    </tr>\n",
       "    <tr>\n",
       "      <th>4</th>\n",
       "      <td>2만2500여명 참여생명나눔 확산이성훈 포스코 광양제철소소장 김학동가 사랑나눔 헌혈...</td>\n",
       "    </tr>\n",
       "    <tr>\n",
       "      <th>...</th>\n",
       "      <td>...</td>\n",
       "    </tr>\n",
       "    <tr>\n",
       "      <th>995</th>\n",
       "      <td>GIST 이광희 교수 연구팀 초박막금속 투명전극 이용실생활서 접할 것으로 기대국제학...</td>\n",
       "    </tr>\n",
       "    <tr>\n",
       "      <th>996</th>\n",
       "      <td>5년간 다문화 60가족 총 200여명 기회 제공광주은행은 지난 10일 본점 3층에서...</td>\n",
       "    </tr>\n",
       "    <tr>\n",
       "      <th>997</th>\n",
       "      <td>2개월 연속 고용률 통계 작성 후 최고치 기록취업자 전년 동월比 광주 6천전남 1만...</td>\n",
       "    </tr>\n",
       "    <tr>\n",
       "      <th>998</th>\n",
       "      <td>김장철 수요 증가와 저장비용 상승 등으로 깐마늘과 양파 등 양념류 가격이 오름세를 ...</td>\n",
       "    </tr>\n",
       "    <tr>\n",
       "      <th>999</th>\n",
       "      <td>현지 주류시장 맞춤형 브랜드 개발한국농수산식품유통공사가 국내 농수식품 수출 3위 시...</td>\n",
       "    </tr>\n",
       "  </tbody>\n",
       "</table>\n",
       "<p>1000 rows × 1 columns</p>\n",
       "</div>"
      ],
      "text/plain": [
       "                                                     0\n",
       "0    중국 투자의향기업 직접 방문투자협약 체결 협의이성훈 여수광양항만공사사장 방희석는 1...\n",
       "1    이성훈 포스코 광양제철소소장 김학동가 자동차 강판 생산공장인 제3냉연공장을 최신 설...\n",
       "2    이성훈 여수광양항만공사사장 방희석 이하 공사는 2018년도 승진 및 전보 인사를 단...\n",
       "3    지역 특화작목틈새소득작목 발굴 미래농업 준비이성훈 광양시는 경쟁력을 갖춘 풍요로운 ...\n",
       "4    2만2500여명 참여생명나눔 확산이성훈 포스코 광양제철소소장 김학동가 사랑나눔 헌혈...\n",
       "..                                                 ...\n",
       "995  GIST 이광희 교수 연구팀 초박막금속 투명전극 이용실생활서 접할 것으로 기대국제학...\n",
       "996  5년간 다문화 60가족 총 200여명 기회 제공광주은행은 지난 10일 본점 3층에서...\n",
       "997  2개월 연속 고용률 통계 작성 후 최고치 기록취업자 전년 동월比 광주 6천전남 1만...\n",
       "998  김장철 수요 증가와 저장비용 상승 등으로 깐마늘과 양파 등 양념류 가격이 오름세를 ...\n",
       "999  현지 주류시장 맞춤형 브랜드 개발한국농수산식품유통공사가 국내 농수식품 수출 3위 시...\n",
       "\n",
       "[1000 rows x 1 columns]"
      ]
     },
     "execution_count": 5,
     "metadata": {},
     "output_type": "execute_result"
    }
   ],
   "source": [
    "import pandas as pd\n",
    "\n",
    "length =500\n",
    "result = []\n",
    "cnt = 0\n",
    "for e in news_dataset['train']:\n",
    "    if e['category'] in ['경제','기업']:\n",
    "        for i in range(0, len(e), length):\n",
    "            result.append(e['article'][i:i+length])\n",
    "            break\n",
    "        cnt += 1\n",
    "    if cnt==1000:\n",
    "        break\n",
    "\n",
    "#for e in news_dataset['train']['article'][:1000]:\n",
    "\n",
    "df = pd.DataFrame(result)\n",
    "df.to_csv('./article_train.csv', index=False, header=False)\n",
    "df"
   ]
  },
  {
   "cell_type": "code",
   "execution_count": 6,
   "metadata": {},
   "outputs": [
    {
     "data": {
      "text/html": [
       "<div>\n",
       "<style scoped>\n",
       "    .dataframe tbody tr th:only-of-type {\n",
       "        vertical-align: middle;\n",
       "    }\n",
       "\n",
       "    .dataframe tbody tr th {\n",
       "        vertical-align: top;\n",
       "    }\n",
       "\n",
       "    .dataframe thead th {\n",
       "        text-align: right;\n",
       "    }\n",
       "</style>\n",
       "<table border=\"1\" class=\"dataframe\">\n",
       "  <thead>\n",
       "    <tr style=\"text-align: right;\">\n",
       "      <th></th>\n",
       "      <th>0</th>\n",
       "    </tr>\n",
       "  </thead>\n",
       "  <tbody>\n",
       "    <tr>\n",
       "      <th>0</th>\n",
       "      <td>중국 투자의향기업 직접 방문투자협약 체결 협의이성훈 여수광양항만공사사장 방희석는 1...</td>\n",
       "    </tr>\n",
       "    <tr>\n",
       "      <th>1</th>\n",
       "      <td>이성훈 포스코 광양제철소소장 김학동가 자동차 강판 생산공장인 제3냉연공장을 최신 설...</td>\n",
       "    </tr>\n",
       "    <tr>\n",
       "      <th>2</th>\n",
       "      <td>이성훈 여수광양항만공사사장 방희석 이하 공사는 2018년도 승진 및 전보 인사를 단...</td>\n",
       "    </tr>\n",
       "    <tr>\n",
       "      <th>3</th>\n",
       "      <td>지역 특화작목틈새소득작목 발굴 미래농업 준비이성훈 광양시는 경쟁력을 갖춘 풍요로운 ...</td>\n",
       "    </tr>\n",
       "    <tr>\n",
       "      <th>4</th>\n",
       "      <td>2만2500여명 참여생명나눔 확산이성훈 포스코 광양제철소소장 김학동가 사랑나눔 헌혈...</td>\n",
       "    </tr>\n",
       "    <tr>\n",
       "      <th>...</th>\n",
       "      <td>...</td>\n",
       "    </tr>\n",
       "    <tr>\n",
       "      <th>995</th>\n",
       "      <td>GIST 이광희 교수 연구팀 초박막금속 투명전극 이용실생활서 접할 것으로 기대국제학...</td>\n",
       "    </tr>\n",
       "    <tr>\n",
       "      <th>996</th>\n",
       "      <td>5년간 다문화 60가족 총 200여명 기회 제공광주은행은 지난 10일 본점 3층에서...</td>\n",
       "    </tr>\n",
       "    <tr>\n",
       "      <th>997</th>\n",
       "      <td>2개월 연속 고용률 통계 작성 후 최고치 기록취업자 전년 동월比 광주 6천전남 1만...</td>\n",
       "    </tr>\n",
       "    <tr>\n",
       "      <th>998</th>\n",
       "      <td>김장철 수요 증가와 저장비용 상승 등으로 깐마늘과 양파 등 양념류 가격이 오름세를 ...</td>\n",
       "    </tr>\n",
       "    <tr>\n",
       "      <th>999</th>\n",
       "      <td>현지 주류시장 맞춤형 브랜드 개발한국농수산식품유통공사가 국내 농수식품 수출 3위 시...</td>\n",
       "    </tr>\n",
       "  </tbody>\n",
       "</table>\n",
       "<p>1000 rows × 1 columns</p>\n",
       "</div>"
      ],
      "text/plain": [
       "                                                     0\n",
       "0    중국 투자의향기업 직접 방문투자협약 체결 협의이성훈 여수광양항만공사사장 방희석는 1...\n",
       "1    이성훈 포스코 광양제철소소장 김학동가 자동차 강판 생산공장인 제3냉연공장을 최신 설...\n",
       "2    이성훈 여수광양항만공사사장 방희석 이하 공사는 2018년도 승진 및 전보 인사를 단...\n",
       "3    지역 특화작목틈새소득작목 발굴 미래농업 준비이성훈 광양시는 경쟁력을 갖춘 풍요로운 ...\n",
       "4    2만2500여명 참여생명나눔 확산이성훈 포스코 광양제철소소장 김학동가 사랑나눔 헌혈...\n",
       "..                                                 ...\n",
       "995  GIST 이광희 교수 연구팀 초박막금속 투명전극 이용실생활서 접할 것으로 기대국제학...\n",
       "996  5년간 다문화 60가족 총 200여명 기회 제공광주은행은 지난 10일 본점 3층에서...\n",
       "997  2개월 연속 고용률 통계 작성 후 최고치 기록취업자 전년 동월比 광주 6천전남 1만...\n",
       "998  김장철 수요 증가와 저장비용 상승 등으로 깐마늘과 양파 등 양념류 가격이 오름세를 ...\n",
       "999  현지 주류시장 맞춤형 브랜드 개발한국농수산식품유통공사가 국내 농수식품 수출 3위 시...\n",
       "\n",
       "[1000 rows x 1 columns]"
      ]
     },
     "execution_count": 6,
     "metadata": {},
     "output_type": "execute_result"
    }
   ],
   "source": [
    "import pandas as pd\n",
    "\n",
    "length =500\n",
    "result = []\n",
    "cnt = 0\n",
    "for e in news_dataset['train']:\n",
    "    if e['category'] in ['경제','기업']:\n",
    "        result.append(e['article'])\n",
    "        cnt += 1\n",
    "    if cnt==1000:\n",
    "        break\n",
    "\n",
    "#for e in news_dataset['train']['article'][:1000]:\n",
    "\n",
    "df2 = pd.DataFrame(result)\n",
    "df2.to_csv('./article_train.csv', index=False, header=False)\n",
    "df2"
   ]
  },
  {
   "cell_type": "markdown",
   "metadata": {},
   "source": [
    "## 2. NER"
   ]
  },
  {
   "cell_type": "code",
   "execution_count": 7,
   "metadata": {},
   "outputs": [],
   "source": [
    "import tokenization_kobert\n",
    "import utils"
   ]
  },
  {
   "cell_type": "code",
   "execution_count": 8,
   "metadata": {},
   "outputs": [],
   "source": [
    "from utils import init_logger, load_tokenizer, get_labels\n",
    "from predict import *"
   ]
  },
  {
   "cell_type": "markdown",
   "metadata": {},
   "source": [
    "### 2.1 Evaluation"
   ]
  },
  {
   "cell_type": "code",
   "execution_count": 9,
   "metadata": {},
   "outputs": [],
   "source": [
    "def predict(pred_config):\n",
    "    # load model and args\n",
    "    args = get_args(pred_config)\n",
    "    device = get_device(pred_config)\n",
    "    model = load_model(pred_config, args, device)\n",
    "    label_lst = get_labels(args)\n",
    "    logger.info(args)\n",
    "\n",
    "    # Convert input file to TensorDataset\n",
    "    pad_token_label_id = torch.nn.CrossEntropyLoss().ignore_index\n",
    "    tokenizer = load_tokenizer(args)\n",
    "    lines = read_input_file(pred_config)\n",
    "    dataset = convert_input_file_to_tensor_dataset(lines, pred_config, args, tokenizer, pad_token_label_id)\n",
    "\n",
    "    # Predict\n",
    "    sampler = SequentialSampler(dataset)\n",
    "    data_loader = DataLoader(dataset, sampler=sampler, batch_size=pred_config.batch_size)\n",
    "\n",
    "    all_slot_label_mask = None\n",
    "    preds = None\n",
    "\n",
    "    for batch in tqdm(data_loader, desc=\"Predicting\"):\n",
    "        batch = tuple(t.to(device) for t in batch)\n",
    "        with torch.no_grad():\n",
    "            inputs = {\"input_ids\": batch[0],\n",
    "                      \"attention_mask\": batch[1],\n",
    "                      \"labels\": None}\n",
    "            if args.model_type != \"distilkobert\":\n",
    "                inputs[\"token_type_ids\"] = batch[2]\n",
    "            outputs = model(**inputs)\n",
    "            logits = outputs[0]\n",
    "\n",
    "            if preds is None:\n",
    "                preds = logits.detach().cpu().numpy()\n",
    "                all_slot_label_mask = batch[3].detach().cpu().numpy()\n",
    "            else:\n",
    "                preds = np.append(preds, logits.detach().cpu().numpy(), axis=0)\n",
    "                all_slot_label_mask = np.append(all_slot_label_mask, batch[3].detach().cpu().numpy(), axis=0)\n",
    "\n",
    "    preds = np.argmax(preds, axis=2)\n",
    "    slot_label_map = {i: label for i, label in enumerate(label_lst)}\n",
    "    print(slot_label_map)\n",
    "    preds_list = [[] for _ in range(preds.shape[0])]\n",
    "\n",
    "    for i in range(preds.shape[0]):\n",
    "        for j in range(preds.shape[1]):\n",
    "            if all_slot_label_mask[i, j] != pad_token_label_id:\n",
    "                preds_list[i].append(slot_label_map[preds[i][j]])\n",
    "    \n",
    "    # Write to output file\n",
    "    with open(pred_config.output_file, \"w\", encoding=\"utf-8\") as f:\n",
    "        for words, preds in zip(lines, preds_list):\n",
    "            #line = \"\"\n",
    "            line = []\n",
    "            for word, pred in zip(words, preds):\n",
    "                if pred == 'O' or pred =='UNK':\n",
    "                    #line = line + word + \" \"\n",
    "                    pass\n",
    "                else:\n",
    "                    #line = line + \"[{}:{}] \".format(word, pred)\n",
    "                    if not \"기자\" in word:\n",
    "                        #line.append([word, pred])\n",
    "                        line.append(word)\n",
    "\n",
    "            f.write(\"{}\\n\".format(line))\n",
    "\n",
    "    logger.info(\"Prediction Done!\")"
   ]
  },
  {
   "cell_type": "code",
   "execution_count": 10,
   "metadata": {},
   "outputs": [],
   "source": [
    "parser = argparse.ArgumentParser()\n",
    "\n",
    "parser.add_argument(\"--input_file\", default=\"article_train.csv\", type=str, help=\"Input file for prediction\")\n",
    "parser.add_argument(\"--output_file\", default=\"sample_pred_out.txt\", type=str, help=\"Output file for prediction\")\n",
    "parser.add_argument(\"--model_dir\", default=\"./model\", type=str, help=\"Path to save, load model\")\n",
    "\n",
    "parser.add_argument(\"--batch_size\", default=32, type=int, help=\"Batch size for prediction\")\n",
    "parser.add_argument(\"--no_cuda\", action=\"store_false\", default=False, help=\"Avoid using CUDA when available\")\n",
    "\n",
    "pred_config = parser.parse_args(args=[])"
   ]
  },
  {
   "cell_type": "code",
   "execution_count": 11,
   "metadata": {},
   "outputs": [
    {
     "name": "stdout",
     "output_type": "stream",
     "text": [
      "./model\n",
      "<class 'transformers.models.auto.tokenization_auto.AutoTokenizer'> klue/roberta-large\n"
     ]
    },
    {
     "name": "stderr",
     "output_type": "stream",
     "text": [
      "Predicting: 100%|██████████| 32/32 [00:11<00:00,  2.71it/s]\n"
     ]
    },
    {
     "name": "stdout",
     "output_type": "stream",
     "text": [
      "{0: 'UNK', 1: 'O', 2: 'FLD-B', 3: 'FLD-I', 4: 'AFW-B', 5: 'AFW-I', 6: 'ORG-B', 7: 'ORG-I', 8: 'CVL-B', 9: 'CVL-I', 10: 'EVT-B', 11: 'EVT-I', 12: 'TRM-B', 13: 'TRM-I'}\n"
     ]
    }
   ],
   "source": [
    "predict(pred_config)"
   ]
  },
  {
   "cell_type": "markdown",
   "metadata": {},
   "source": [
    "### 2.2. 예측결과 불러오기"
   ]
  },
  {
   "cell_type": "code",
   "execution_count": 12,
   "metadata": {},
   "outputs": [],
   "source": [
    "ner_list = []\n",
    "with open(\"./sample_pred_out.txt\", \"r\") as f:\n",
    "    for line in f.readlines():\n",
    "        ner_list.append(line)"
   ]
  },
  {
   "cell_type": "code",
   "execution_count": 13,
   "metadata": {},
   "outputs": [
    {
     "data": {
      "text/plain": [
       "[\"['여수광양항만공사사장', 'CEO가', '중남부지역에서', '펼친다광양만권경제자유구역청과', '사장이', '사장은', '푸드존', '운남허메이격치주를', '콜드체인', '냉동냉장창고', '바이란식품주을']\\n\",\n",
       " \"['포스코', '광양제철소소장', '자동차', '제3냉연공장을', '자동차', '3냉연공장', '자동차', '자동차', '자동차']\\n\",\n",
       " \"['여수광양항만공사사장', '공사는', '글로벌마케팅팀', '물류단지팀의', '정부', '1급실팀장', '△항만운영팀장', '2급부장', '△항만개발팀장', '△재무회계팀', '△물류단지팀', '3급차장', '△가치경영팀', '△인재육성팀', '△기획조정실', '△항만시설팀', '◇', '4급과장', '△재무회계팀']\\n\",\n",
       " \"['생강', '취나물', '수박', '알스트로메리아', '아열대소득과수', '애플망고']\\n\",\n",
       " \"['포스코', '광양제철소소장', '헌혈행사는', '광양제철소와', '대한적십자사', '광주전남혈액원이', '광양제철소에서', '임직원들과', '시민들의', '메일', '직원들의', '직원들에게', '임직원들이']\\n\",\n",
       " \"['인공지능빅데이터스마트팩토리', '포스코', '광양제철소소장', '인공지능', '빅데이터', '스마트팩토리구현과', '임직원', '포스코의', '사물인터넷', '빅데이터', '인공지능', '직원이', '임직원들은', '스마트팩토리']\\n\",\n",
       " \"['동광양농협조합장', '하나로마트가', '대회의실에서', '정기총회를', '하나로마트를', '조합장은지난', '임직원이']\\n\",\n",
       " \"['광양상공회의소', '회장을', '광양시청을', '시장과', '시장은', '회장의', '상의회장은기업이']\\n\",\n",
       " \"['부영그룹의', '회장이', '광양읍민들의', '회장은', '특정범죄가중처벌법상', '공정거래법', '임대주택법', '회장의', '회장의']\\n\",\n",
       " \"['이에스바이오', '농업회사법인주식회사이하', '㈜이에스바이오대표', '시민접견실에서', '협약이다협약식에는', '시장과', '㈜이에스바이오', '대표를', '㈜이에스바이오는', '㈜이에스바이오는']\\n\",\n",
       " \"['광양경제청이', '일반직원의', '국무조정실', '정부합동', '부패예방감시단단장', '국무1차장', '국조실은', '광양경제청을', '경제청에', '광양경제청은', '일반직원']\\n\",\n",
       " \"['시민이', '납세자를', '대상자를', '덕진종합건설주', '씨지앤코리아홀딩스주', '포스코에너지주']\\n\",\n",
       " \"['동반성장', '혁신허브', '추진위원회위원장', '광양시장광양제철소장광양상의', '회장는', '동반성장', '혁신허브', '워크숍을', '포스코', '광양제철소', '광양상공회의소', '실무위원', '포스코', '광양제철소', '광양상공회의소']\\n\",\n",
       " \"['광양제철소', '직원', '포스코', '광양제철소소장', '임직원들이', 'e러닝을', '있다포스코는', '직원들의', 'PC와', '모바일로', 'e캠퍼스는', '포스킷POSCuit을']\\n\",\n",
       " \"['회장', '부영회장', '시민들의', 'LH한국토지주택공사에서', '㈜부영주택으로', '㈜부영주택']\\n\",\n",
       " \"['광양시', '여성새로일하기센터는', '중소기업맞춤형사무원', '한글엑셀', '급식실무', '한식전문과과정한식조리기능사', '결혼이민여성을']\\n\",\n",
       " \"['시플랜트건설노조', '전남동부경남서부지부협약이성훈', '전국플랜트건설노동조합', '전남동부경남서부지부와', '근로자', '시장', '플랜트건설노조', '전남동부경남서부지부장', '근로자', '근로자의', '근로자']\\n\",\n",
       " \"['여수광양항만공사', '사장이', '사장은', '정부', '사장은광양항', '자동차']\\n\",\n",
       " \"['광양상공회의소회장', '광양보건대학교', '광양보건대학교에', '회장과', '광양보건대', '㈜유니테크', '대표이사', '㈜아쿠아텍', '대표이사', '㈜신진기업', '대표이사', '두원기업주', '대표이사', '㈜신우기술', '대표이사', '㈜정우', '대표이사', '광양보건대학교', '총장', '회장은조그마한', '광양보건대학교의', '광양보건대학교']\\n\",\n",
       " \"['중소기업연수원', '한국산업단지공단', '광양지사', '근로자는', '근로자들의']\\n\",\n",
       " \"['컨부두', '활성화', '실무협의회', '재난안전상황실에서', '위한', '실무협의회를', '실무위원들의', '동서측', '정비사업', '컨테이너', '크레인']\\n\",\n",
       " \"['안전총괄과', '이안파워텍주을', '중소기업소상공인', '광양보건대학교', '한국항만물류고등학교', '광양사랑병원', '혁신허브', '공동위원장인', '시장', '광양제철소장', '광양상공회의소회장', '대표와', '임직원']\\n\",\n",
       " \"['광양사랑상품권', '포스코가', '임직원과', '직원들에게', '300여억원', '광양사랑상품권카드와', '직원들에게', '임직원', '광양사랑상품권을', '직원들에게']\\n\",\n",
       " '[]\\n',\n",
       " \"['바리스타로', '다문화가정의', '친구처럼', '광양제철소', '프렌즈봉사단이', '바리스타로', '다문화가정을', '프렌즈봉사단의', '광양제철소', '바리스타로', '바리스타로', '남편을', '바리스타로', '심리학과를', '한국말이', '프렌즈봉사단은', '프렌즈봉사단과']\\n\",\n",
       " \"['상인들', '포스코가', '광양사랑상품권을', '임직원들에게', '50주년을', '임직원들에게', '광양제철소', '외주파트너사협회를', '외주파트너사', '임직원', '광양사랑상품권', '포스코', '임직원들']\\n\",\n",
       " \"['광양시여성새로일하기센터가', '맞춤형사무원양성과정과', '급식실무', '한식전문가과정', 'SW']\\n\",\n",
       " \"['광양제철소', '광양제철소소장', '직원들', '직원들이', '직원들의', '파트장', '주임들은', '직원들을', '전송', '앱을']\\n\",\n",
       " \"['중국인들의', '샤상그룹', '외국상품직영센터', '중국인들에게', '소비자들로부터']\\n\",\n",
       " \"['실현', '노사민정', '한마음대회노사', '화합협력다짐이성훈', '위한', '노사민정한마음대회가', '광양실내체육관에서', '근로자', '근로자', '조선내화', '서강기업', '성암산업', '쌍용양회', '전라남도지사상을', '포스코켐텍', '대한시멘트', 'CJ대한통운', '광양시장상을']\\n\",\n",
       " \"['근로자들의', '국도', '2호선과', '국도', '59호선이', '남해', '고속도로', '광양', 'IC와', '하동IC가']\\n\",\n",
       " \"['토란', '비가림하우스', '부종완화에', '취나물을']\\n\",\n",
       " \"['광양제철소소장', '광양제철소', '직원들의', '소장을', '직원', '외주파트너사', '광양제철소', '외주파트너사', '임직원', '포스코가', '포스코', '스마트', 'VR', '직원들이']\\n\",\n",
       " \"['임산부', '맞춤식', '반조리', '식품응모사업비', '광양신문', '구성된청춘협동조합이', '기획재정부가', '한국사회적기업진흥원이', '청년협동조합창업팀에', '떴다청춘협동조합', '청년들의', '반조리식품', '조리판매밥', '아저씨를', '청춘협동조합대표', '반조리', '식품을', '대표는임산부들이']\\n\",\n",
       " \"['포스코', '회장', '국회의원이', '의원은지역', '최고경영자CEO', '차기회장', '의원은']\\n\",\n",
       " \"['주인공은', '미니들농원', '대표로', '대표는', '남편과', '빨강', '노랑', '오렌지색의', '파프리카를', '파프리카는']\\n\",\n",
       " \"['지원', '가족에게']\\n\",\n",
       " \"['황금익신명당', '도립미술관']\\n\",\n",
       " \"['kr광양제철소소장', '광양제철소', '1열연공장을', 'WP', '승용차를', '월드프리미엄WP', 'WP제품', '자동차용']\\n\",\n",
       " \"['포스코', '기술교육그룹은', '광양포항제철소', '외주파트너사에', '구직자', '외주파트너사들의', '직장인의']\\n\",\n",
       " \"['여수광양항만공사사장']\\n\",\n",
       " \"['광양의봄', '덕진종합건설', '모델하우스는', '수요자들로', '봄', '프리미엄', '수요자들의', '봄', '프리미엄', 'AB', '남향']\\n\",\n",
       " \"['신입사원', '단장', '직원들의', '광양제철소소장', '학습봉사단단장', '엔지니어', '학습봉사단장좌과', '신입사원의', '담임교사는', '광양제철소', '엔지니어']\\n\",\n",
       " \"['이마트', '반대연명부', '입점철회자신LF', '스퀘어', '이마트', '노브랜드', '지역상공인회가', '상공인들의', '광양읍사무소에서', '시장상인', '곡물소매', '육류소매상', '이마트', '노브랜드']\\n\",\n",
       " \"['직원이', '강화광양뉴스', 'kr광양제철소소장', '후판부가', '직원이', '직원들이']\\n\",\n",
       " \"['해수부장관최종', '여수광양항만공사', '사장', '사장공모에', '사장을', '광양항만항운노조', '위원장과', '민주당', '광양시지역위원회', '위원장을', '사장']\\n\",\n",
       " \"['회장철강사업', '미래대응광양뉴스', 'kr포스코그룹이', '포스코', '회장은글로벌', '산업혁명', '100일', '개혁과제', '광양제철소', '기가스틸']\\n\",\n",
       " \"['화학소재', '것KTR융복합소재지원센터', '단체장들이', '석유화학산업을', 'KTR융복합소재실증화지원센터가', '범용화학제품을', '자동차나', '컴퓨터용', '화학소재', '자동차선박전자섬유산업']\\n\",\n",
       " \"['市', '4차산업혁명', '기업지원', '발굴', '설명회', '시청', '4차산업혁명', '광양상공회의소', '4차산업혁명의', '인공지능', '빅데이터', 'ICT기술을', '부시장을', '광양상의', 'ICT', '기업인', '100여명이', '산업혁명', '정부정책', 'ICT기술과', '전문가']\\n\",\n",
       " \"['kr광양제철소소장', '직원들을', 'OJT우수사례', '발표대회를', 'the', 'job', 'training', '우수사례', '발표대회는', '선배사원들의', 'OJT', 'OJT', '행정부소장은입사']\\n\",\n",
       " \"['광양만권', '일자리박람회가', '광양기업주', '광양만권', '일자리박람회또한']\\n\",\n",
       " \"['kr여수광양항만공사사장', '농축수산물', '외국인투자촉진법에']\\n\",\n",
       " \"['kr광양상공인회회장', '회원과', '부인회원', '것이다상공인회', '회원들은', '익산', '천만송이국화축제장에서', '관광객들에게', '광양불고기를', '보석박물관과', '고속도로', '광양기정떡', '매화빵', '매실쿠키', '광양막걸리', '매실액기스']\\n\",\n",
       " \"['광양뉴스', 'kr여수광양항만공사사장', '한국생산성본부로부터', '37001인증을', '37001은', '국제표준화기구ISO가', 'ISO', '감사팀을']\\n\",\n",
       " \"['kr내달', '질식중독']\\n\",\n",
       " \"['빅데이터', '경진대회', '공유광양뉴스', 'kr포스코', '광양제철소소장', '빅데이터Big', 'Data', '경진대회를', '경진대회는', '산업혁명이라는', '직원들의', '스마트팩토리Smart', '포스코의', '사물인터넷', '빅데이터', '인공지능', '산업혁명을']\\n\",\n",
       " \"['광양뉴스', 'kr지난달', '서울가든호텔에서', '노사발전재단', '노사상생형', '지역일자리', '컨설팅', '지원사업성과보고회가', '광양만권일자리사업단장과', '전남대교수는', '광양제철소', '연구한광양제철협력사협회', '교수에', '광양제철소를', '광양제철소', '근로자', '2030대']\\n\",\n",
       " \"['동반성장위원회', '중기중앙회', 'POSCO', '협약체결광양뉴스', '임직원', '처우개선포스코그룹', '회장은', '포스코센터에서', 'With', 'POSCO', '동반성장', '파트너스데이에서', '동반성장위원회', '위원장', '중소기업중앙회', '회장', '조선내화', '회장과', '함께With', 'POSCO', '중소기업중앙회', '회장', '포스코', '회장', '동반성장위원회', '위원장', '조선내화', '회장협약에는', '△포스코가', '포스코건설', '포스코ICT', '포스코에너지로']\\n\",\n",
       " \"['산업인력공단', '직원', 'kr▲', '왼쪽부터', '㈜대진', '대표', '㈜케이원테크', '전무', '전남지사장', '롯데케미칼', '책임', 'GS칼텍스', '팀장주케이원테크주대진', '포스코', '한국산업인력공단', '전남지사', '포스코', '국가인적자원개발컨소시엄', '용접크레인기계정비계측', '공감리더십행복디자인', '직원을', '거뒀다포스코', '기술교육그룹', '과장은', '㈜케이원테크는', '㈜대진은', '직원들이']\\n\",\n",
       " \"['kr포스코', '광양제철소소장', '제2열연공장을', '2열연공장에서', '광양제철소장과', '노경협의회', 'World', 'Premium이하', 'WP제품', '2열연공장은', '모터motor']\\n\",\n",
       " \"['kr여수광양항만공사여수광양항만공사사장', '부산인천울산항만공사가', '공동', '연구개발사업', '개방형', '아이디어', '공모전을', '이메일', '전문가로']\\n\",\n",
       " \"['재무회계', '담당직원', '대상광양뉴스', 'kr광양상공회의소회장', '커뮤니티센터에서2018년', '교육을', '순천세무서와', '임직원', '홈택스를', '근로자와', '실무자들이']\\n\",\n",
       " \"['선진시스템주㈜대평지역', 'kr㈜선진시스템대표', '주', '대평대표', '전남도청', '왕인실에서', '일자리', '투자유치', '한마당', '행사에서']\\n\",\n",
       " \"['알루미늄공장이견환경오염', 'kr광양만권경제자유구역청이', '경제청장과', '읍장을', '삼성마을', '광양읍사무소', '경제청은', '투자유치본부', '주무관', '직원', '대표', '참석자들은']\\n\",\n",
       " \"['광양뉴스', 'kr여수광양항만공사사장', '보안울타리']\\n\",\n",
       " \"['광양상의', 'kr광양지역', '광양상공회의소회장']\\n\",\n",
       " \"['kr포스코', '광양제철소소장', '기계전기천장크레인', '지원자를', '△천장크레인', '포스코가', '광양제철소', '포스코', '중소기업컨소시엄교육시스템을']\\n\",\n",
       " \"['kr여수광양항이', '한진해운', '월드마린센터에서는', '여수광양항만공사사장']\\n\",\n",
       " \"['1핵심', '맞춤정보', '기술사업화R&BD', '지원사업', '△최고경영인상', '△공장설립', '원스톱', '서비스', '주택자금', '지원과행복주택', '건립사업등']\\n\",\n",
       " \"['증가광양뉴스', 'kr여수광양항만공사사장', '우드펠릿', '우드펠릿이']\\n\",\n",
       " \"['입학식광양만권일자리사업단', '일자리제공기대김호', 'kr광양만권일자리사업단센터장', '구직자', '근로자종합복지관', '퇴직자들의', '구직자']\\n\",\n",
       " \"['환경부', '받기로녹색연합', '광양제철소', '수재슬래그', '전남도보건환경연구원에']\\n\",\n",
       " \"['kr광양만권', '기업지원', '시책', '합동설명회가', '전남테크노파크', '대강당에서', '정부의', '광양청과', '전남테크노파크가', '고용노동부', '여수지청', '중소벤처기업부', '전남동부사무소', '전남중소기업진흥원']\\n\",\n",
       " \"['대리인이']\\n\",\n",
       " \"['광양제철소장', '광양상공회의소회장가', '동반성장', '혁신허브', '워크숍을', '세미나실에서', '실무위원', '혁신허브에', '제철항만팀장은동반성장']\\n\",\n",
       " \"['일자리사업단단장', '근로자종합복지관에서', '시장을', '시의회의장', '상공회의소장', '한국노총', '광양지역지부', '의장', '광양제철소협력사협회장', '퇴직예정자', '은퇴자', '강당에서', '의원이', '입학생들의', '입학생은', '공장자동화', '산업운송장비']\\n\",\n",
       " \"['포항광양', '원격', '연결우수직원26명', '포스코기술대학학장', '인사문화실장이', '직원', '광양캠퍼스와', '포항캠퍼스를', '생산본부장', '광양제철소장', '포항제철소장', '경영진들이', '입학생들을', '생산본부장은신입생들이', '신입생들이', '입학생들이']\\n\",\n",
       " \"['지역역량', '강화사업', '도시재생', '지역역량강화사업일환으로', '도시재생현장지원센터', '주트라앤이', '광양살이라는', '청년창업가', '광양읍사무소', '대회의실에서']\\n\",\n",
       " \"['사랑병원', '대표원장', '도지사', '인하지방세', '광양사랑병원', '대표원장이', '도지사', '지방세', '납세자']\\n\",\n",
       " \"['배추김치로', '김치찌개도천하일품쌀쌀해서', '에어컨을', '일춘곤증이', '마스크는']\\n\",\n",
       " \"['부영아파트활력', '대우', '푸르지오계획오는', '공동주택아파트']\\n\",\n",
       " \"['한우', '사골육수쌀국수', '반죽반새우등', '국물과', '면발', '숙주와', '싸이공', '쌀국수는', '직원이', '손님들로', '쌀국수', '쌀국수에', '소고기를', '한국인의']\\n\",\n",
       " \"['시민', '벚꽃길', '걷기대회에서', '어린이보육재단', '어린이보육재단에', '광양시새마을금고', '광양시민', '벚꽃길', '걷기대회에서', '광양시새마을금고는', '어린이보육재단에', '이사장은광양시새마을금고가']\\n\",\n",
       " \"['광양상의']\\n\",\n",
       " \"['스위트엠', '르네상스이', '삼부토건이', '광양', '스위트엠', '르네상스는', '이순신대교를', '홈플러스', '광양점과', '광양시청', '체육공원']\\n\",\n",
       " \"['광양뉴스', '신청자를', '△한국장학재단', '이용자']\\n\",\n",
       " \"['시의회', '광양시의회', '주부영', '시민들에게', '부영', '시의회', '부영']\\n\",\n",
       " \"['설비자재구매실은', '광양주식회사를', '직원들과', '설비자재구매실장은', '임직원의', '여성리더로서의', '실장은조직은']\\n\",\n",
       " \"['이전아버지의', '보신전골미세먼지에는', '손님들이', '손님들과', '손님들의', '아버지', '대신', '아들인', '대표가', '김치찌개에']\\n\",\n",
       " \"['재미자루소바돈코츠라멘미소라멘', '알밥우동세트', '이순신대교', '먹거리타운', '생선초밥과', '생선회가', '초밥', '일식조리사', '대표의광양초밥이', '정통식', '돈코츠라멘미소라멘8000원', '알밥우동', '자루소바메밀는', '냉소바를', '메밀국수로', '냉면과는', '고객들의']\\n\",\n",
       " \"['밍타이그룹', '밍타이그룹의', '광양알루미늄', '공장', '용해로60톤급', '광양알루미늄', '알려졌다광양경제청은', '용해로가', '밍타이그룹이']\\n\",\n",
       " \"['점주건강을', '고객들로부터']\\n\",\n",
       " \"['광양시', '체육회', '전남동부', '수협', '청년회', '지역주민']\\n\",\n",
       " \"['810화학', '화공', '박사급', '포항광양', '제철소', 'RIST가', '광양분원에서미세먼지연구센터현판', 'RIST포항산업과학연구원', '원장', '위해미세먼지연구센터를', '광양분원에서', '미세먼지연구센터', '현판제막식에는', '포스코', '사장', '광양제철소장', 'RIST', '원장', '미세먼지연구센터는', '화학', '화공', '박사급']\\n\",\n",
       " \"['국가유공자', '국가유공자를', '정보통신보조기기', '광학문자판독기', '영상전화기', '터치모니터', '정보통신보조기기', '80%를', '장애인복지법에', '국가유공자가']\\n\",\n",
       " \"['자동차', '차로이탈경고장치장착', '지원사업을', '화물차버스', '차량의', '과태료가', '전방충돌경고기능이', '자동차']\\n\",\n",
       " \"['에어컨', '차량', '운전자', '있다독자들의', '자동차', '밧데리를', '배터리를']\\n\",\n",
       " \"['811반영구적', '레이노젊은층', '고객감사', '이벤트', '썬팅필름이', '그렇다자외선이', '필름', '레이노', '마동점대표', '차량']\\n\",\n",
       " \"['맞벌이부부', '고객의', '절임과', '장아찌류가']\\n\",\n",
       " \"['모아나눔', '대표', '㈜모아나눔을', '한국수소건강협회', '회장이수소와', '대한미용학회회장', '국제수소생물의학회가', 'aT센터', '그랜드홀', '힐링센터에서', '힐링스파와', '수소체험프로그램으로', '전문가들의', '국제학술대회는']\\n\"]"
      ]
     },
     "execution_count": 13,
     "metadata": {},
     "output_type": "execute_result"
    }
   ],
   "source": [
    "ner_list[0:100]"
   ]
  },
  {
   "cell_type": "markdown",
   "metadata": {},
   "source": [
    "## 3. BM25 문서검색"
   ]
  },
  {
   "cell_type": "code",
   "execution_count": 14,
   "metadata": {},
   "outputs": [],
   "source": [
    "contents_list = ['회사의 개요',  '사업의 개요', '주요 제품 및 서비스','주요계약 및 연구개발활동']\n",
    "\n",
    "dart_dict= {\n",
    "    \"corp_name\" :[],\n",
    "    \"corp_text\":[]\n",
    "}\n",
    "\n",
    "for corp in dart_dataset['train']:\n",
    "    dart_text = \"\"\n",
    "    dart_dict['corp_name'].append(corp['corp_name'])\n",
    "    for content in contents_list:\n",
    "        dart_text += corp[content]\n",
    "    dart_dict['corp_text'].append(dart_text)"
   ]
  },
  {
   "cell_type": "code",
   "execution_count": 15,
   "metadata": {},
   "outputs": [
    {
     "name": "stderr",
     "output_type": "stream",
     "text": [
      "100%|██████████| 271093/271093 [00:40<00:00, 6663.35it/s]\n"
     ]
    }
   ],
   "source": [
    "\n",
    "news_list = []\n",
    "for news in tqdm(news_dataset['train']):\n",
    "    if news['category'] == '경제' or news['category'] =='기업':\n",
    "        news_list.append(news['article'])\n",
    "\n",
    "split_news=[]\n",
    "for article in news_list:\n",
    "    split_news.append(article.split(\".\"))\n"
   ]
  },
  {
   "cell_type": "code",
   "execution_count": 16,
   "metadata": {},
   "outputs": [],
   "source": [
    "import re\n",
    "def preprocessing(s): \n",
    "        hangul = re.compile('[^ ㄱ-ㅣ가-힣+]')\n",
    "        result = hangul.sub('', s)\n",
    "        return result"
   ]
  },
  {
   "cell_type": "code",
   "execution_count": 17,
   "metadata": {},
   "outputs": [],
   "source": [
    "pre_dart = {}\n",
    "for idx in range(len(dart_dict['corp_name'])):\n",
    "    pre_dart[dart_dict['corp_name'][idx]] = preprocessing(dart_dict['corp_text'][idx])\n",
    "    \n",
    "pre_name = {}\n",
    "for idx in range(len(dart_dict['corp_name'])):\n",
    "    pre_name[preprocessing(dart_dict['corp_text'][idx])] = dart_dict['corp_name'][idx]\n"
   ]
  },
  {
   "cell_type": "code",
   "execution_count": 18,
   "metadata": {},
   "outputs": [
    {
     "name": "stderr",
     "output_type": "stream",
     "text": [
      "100%|██████████| 2318/2318 [00:40<00:00, 57.75it/s]\n"
     ]
    }
   ],
   "source": [
    "from konlpy.tag import Mecab\n",
    "\n",
    "tokenizer = Mecab()\n",
    "tot = []\n",
    "for txt in tqdm(list(pre_dart.values())):\n",
    "    tot.append(tokenizer.nouns(txt))"
   ]
  },
  {
   "cell_type": "code",
   "execution_count": 19,
   "metadata": {},
   "outputs": [],
   "source": [
    "from rank_bm25 import BM25Okapi\n",
    "bm25 = BM25Okapi(tot)"
   ]
  },
  {
   "cell_type": "code",
   "execution_count": 20,
   "metadata": {},
   "outputs": [
    {
     "data": {
      "text/plain": [
       "\"['생강', '취나물', '수박', '알스트로메리아', '아열대소득과수', '애플망고']\\n\""
      ]
     },
     "execution_count": 20,
     "metadata": {},
     "output_type": "execute_result"
    }
   ],
   "source": [
    "ner_list[3]"
   ]
  },
  {
   "cell_type": "markdown",
   "metadata": {},
   "source": [
    "### 3.1. NER with BM25"
   ]
  },
  {
   "cell_type": "code",
   "execution_count": 21,
   "metadata": {},
   "outputs": [],
   "source": [
    "def print_corp(newsindex, dart_dict, bm25, pre_dart, pre_name):\n",
    "    target_idx=newsindex\n",
    "    target = df.iloc[target_idx]\n",
    "    inside_corp = []\n",
    "\n",
    "    stopwords=['모두','지난','있다','회의','강조','성과','오는','모집','과정','계약',\"체결\",\"건립\",'현대식','사업',\n",
    "            '주관사로','통해','일까지','이벤트','지원','지역','기자','실험','한다','진행','설명회','예정이다',\n",
    "            '이번','방문','올해','제공','찾아가','재림','당시','한국','프로젝트','있는','추진','다양한','적극',\n",
    "            '위해','나갈','협력','협약','상당의','물품','명으로','지난해','증가했다','의한','영향','보면','통계',\n",
    "            '순위','명당','관련','업체','부실','관심','명칭','합작법인','일자리','시흥배곧','서울대','했다',\n",
    "            '한다고','위원장은','기반','혁신','인재','마련','정책','권고안','함께','시장','성장','대비','전월',\n",
    "            '전년','동월','물가','하락','소비자','상승','운영','증가','억원','억만원','할인','사용','것으']\n",
    "\n",
    "    tokenized_query = tokenizer.nouns(ner_list[newsindex])\n",
    "    #print('tokenized_query:',tokenized_query)\n",
    "\n",
    "    for key in ' '.join(target).split(\" \"):\n",
    "        if key in dart_dict['corp_name']:\n",
    "            inside_corp.append(key)\n",
    "\n",
    "    for key in tokenized_query:\n",
    "        if key in dart_dict['corp_name']:\n",
    "            inside_corp.append(key)\n",
    "    \n",
    "    inside_corp = list(set(inside_corp))\n",
    "    \n",
    "    doc_scores = bm25.get_scores(tokenized_query)\n",
    "    print(doc_scores)\n",
    "    print(max(doc_scores))\n",
    "    if max(doc_scores) <3:\n",
    "        #마땅한 회사가 없음\n",
    "        return False\n",
    "    else:\n",
    "        list_dart_n = bm25.get_top_n(tokenized_query, list(pre_dart.values()), n=5)\n",
    "        corps = [pre_name[dart] for dart in list_dart_n]\n",
    "    \"\"\"\n",
    "    tokenized_query : keywords\n",
    "    inside_corp : 언급된 회사\n",
    "    \" \".join(target) : 뉴스텍스트\n",
    "    corps : topk의 회사이름\n",
    "    list_dart_n : topk dart\n",
    "    \"\"\"\n",
    "    return tokenized_query, inside_corp, \" \".join(target),corps#, list_dart_n\n"
   ]
  },
  {
   "cell_type": "markdown",
   "metadata": {},
   "source": [
    "### 3.2. krwordrank with BM25"
   ]
  },
  {
   "cell_type": "code",
   "execution_count": 22,
   "metadata": {},
   "outputs": [],
   "source": [
    "from krwordrank.word import summarize_with_keywords\n",
    "\n",
    "def print_corp2(newsindex, dart_dict, bm25, pre_dart, pre_name):\n",
    "    target_idx=newsindex\n",
    "    target = df2.iloc[target_idx]\n",
    "    inside_corp = []\n",
    "\n",
    "    stopwords=['모두','지난','있다','회의','강조','성과','오는','모집','과정','계약',\"체결\",\"건립\",'현대식','사업',\n",
    "            '주관사로','통해','일까지','이벤트','지원','지역','기자','실험','한다','진행','설명회','예정이다',\n",
    "            '이번','방문','올해','제공','찾아가','재림','당시','한국','프로젝트','있는','추진','다양한','적극',\n",
    "            '위해','나갈','협력','협약','상당의','물품','명으로','지난해','증가했다','의한','영향','보면','통계',\n",
    "            '순위','명당','관련','업체','부실','관심','명칭','합작법인','일자리','시흥배곧','서울대','했다',\n",
    "            '한다고','위원장은','기반','혁신','인재','마련','정책','권고안','함께','시장','성장','대비','전월',\n",
    "            '전년','동월','물가','하락','소비자','상승','운영','증가','억원','억만원','할인','사용','것으']\n",
    "    keywords = summarize_with_keywords(target, min_count=4, max_length=7,\n",
    "        beta=0.85, max_iter=10,stopwords=stopwords,verbose=True)\n",
    "    tokenized_query = list(keywords.keys())\n",
    "\n",
    "    for key in ' '.join(target).split(\" \"):\n",
    "        if key in dart_dict['corp_name']:\n",
    "            inside_corp.append(key)\n",
    "\n",
    "    for key in tokenized_query:\n",
    "        if key in dart_dict['corp_name']:\n",
    "            inside_corp.append(key)\n",
    "    \n",
    "    inside_corp = list(set(inside_corp))\n",
    "    \n",
    "    doc_scores = bm25.get_scores(tokenized_query)\n",
    "    if max(doc_scores) <5:\n",
    "        #마땅한 회사가 없음\n",
    "        return False\n",
    "    else:\n",
    "        list_dart_n = bm25.get_top_n(tokenized_query, list(pre_dart.values()), n=5)\n",
    "        corps = [pre_name[dart] for dart in list_dart_n]\n",
    "    \"\"\"\n",
    "    tokenized_query : keywords\n",
    "    inside_corp : 언급된 회사\n",
    "    \" \".join(target) : 뉴스텍스트\n",
    "    corps : topk의 회사이름\n",
    "    list_dart_n : topk dart\n",
    "    \"\"\"\n",
    "    return tokenized_query, inside_corp, \" \".join(target),corps, [e[300:1000] for e  in list_dart_n]"
   ]
  },
  {
   "cell_type": "markdown",
   "metadata": {},
   "source": [
    "### 3.3 Eval with NER & kwordrank with BM25"
   ]
  },
  {
   "cell_type": "code",
   "execution_count": 23,
   "metadata": {},
   "outputs": [
    {
     "name": "stdout",
     "output_type": "stream",
     "text": [
      "[11.7465628  12.63472128  5.82667598 ... 11.19772453 12.19480272\n",
      " 11.62589758]\n",
      "33.79406007718258\n"
     ]
    },
    {
     "data": {
      "text/plain": [
       "(['광양', '상공', '회의소', '회장', '광양', '시청', '시장', '시장', '회장', '상', '회장', '기업'],\n",
       " [],\n",
       " '기업하기 좋은 도시 지역경제 활성화다짐이성훈 최근 취임한 이백구 제4대 광양상공회의소 회장을 비롯한 임원단이 지난 2일 광양시청을 방문 정현복 시장과 만나 지역경제 활성화를 함께 이끌어 나가기로 다짐했다정현복 시장은 이백구 회장의 취임을 축하하며광양에서 기업하기 좋은 경제 환경을 조성하고 소상공인 골목상권 활성화와 시민이 참여하는 경제살리기 운동 등 지역 현안에 대해 실천 결의를 다지는 계기를 함께 마련해 나가자고 말했다이어올해는 시민의 삶이 나아지는 경제운영에 목표를 두고 있다면서 실물경제가 살아나도록 기업은 투자를 확대하고 시민은 지갑을 여는 모두가 행복한 경제 정책을 펼쳐나겠다고 덧붙였다이백구 상의회장은기업이 지역환원사업에 과감히 투자해 시민들로부터 환영받을 수 있도록 최선을 다하겠다며 소상공인들의 안정적인 경영을 통해 골목상권 활성화에 적극 동참하겠다고 밝혔다이번에 취임한 이백구 회장은 김효수 전 회장에 이어 지난 1월 18일부터 광양상공회의소를 이끌어 오고 있다이 회장은 특',\n",
       " ['큐라클', '문배철강', '제넥신', '유성티엔에스', '한신공영'])"
      ]
     },
     "execution_count": 23,
     "metadata": {},
     "output_type": "execute_result"
    }
   ],
   "source": [
    "\n",
    "#tokenized_corpus = [doc.split(\" \") for doc in dart_dict.keys()]\n",
    "#bm25 = BM25Okapi(tokenized_corpus)\n",
    "news_id = 7\n",
    "\n",
    "print_corp(news_id, dart_dict, bm25, pre_dart, pre_name)"
   ]
  },
  {
   "cell_type": "code",
   "execution_count": 24,
   "metadata": {},
   "outputs": [
    {
     "name": "stdout",
     "output_type": "stream",
     "text": [
      "scan vocabs ... \n",
      "num vocabs = 38\n",
      "done = 10\n"
     ]
    },
    {
     "data": {
      "text/plain": [
       "(['회장', '소상공인', '활성화', '시민', '취임', '경제', '기업'],\n",
       " [],\n",
       " '기업하기 좋은 도시 지역경제 활성화다짐이성훈 최근 취임한 이백구 제4대 광양상공회의소 회장을 비롯한 임원단이 지난 2일 광양시청을 방문 정현복 시장과 만나 지역경제 활성화를 함께 이끌어 나가기로 다짐했다정현복 시장은 이백구 회장의 취임을 축하하며광양에서 기업하기 좋은 경제 환경을 조성하고 소상공인 골목상권 활성화와 시민이 참여하는 경제살리기 운동 등 지역 현안에 대해 실천 결의를 다지는 계기를 함께 마련해 나가자고 말했다이어올해는 시민의 삶이 나아지는 경제운영에 목표를 두고 있다면서 실물경제가 살아나도록 기업은 투자를 확대하고 시민은 지갑을 여는 모두가 행복한 경제 정책을 펼쳐나겠다고 덧붙였다이백구 상의회장은기업이 지역환원사업에 과감히 투자해 시민들로부터 환영받을 수 있도록 최선을 다하겠다며 소상공인들의 안정적인 경영을 통해 골목상권 활성화에 적극 동참하겠다고 밝혔다이번에 취임한 이백구 회장은 김효수 전 회장에 이어 지난 1월 18일부터 광양상공회의소를 이끌어 오고 있다이 회장은 특히 취임식을 생략한 비용으로 지역 소상공인을 대상으로 취임 인사회와 소상공인의 의견을 청취하는 등 지역경제 활성화에 적극 노력하겠다는 의지를 보여 지역민들로부터 큰 호응을 받고 있다2008년 창립한 광양상공회의소는 포스코광양제철소와 협력사 항만 관련 기업 등 300여 업체가 참여한 경제 단체로써 기업성장과 상공인의 건전한 육성을 통한 지역 발전을 이끌어 오고 있다',\n",
       " ['한신공영', '덕양산업', '동아엘텍', '에이루트', '쇼박스'],\n",
       " ['병에 의한 소멸  에이치케이세종  이관에 의한 소멸  나 회사의 법적상업적 명칭    당사의 명칭은 한신공영 주식회사라고 표기합니다 영문으로는       으로 표기합니다  다 설립일자     당사는 년 월 일에 한신축로공업사라는 상호로 설립되었고 년 월 일 한신공영으로 상호를 변경하여 법인으로 등기하였습니다    년 월 일 한국거래소에 주식을 상장하여 기업을 공개하였으며 건설 세대 기업으로 년부터 신반포한신아파트를 착수하여 현재까지 꾸준히 성장해온 종합건설회사 입니다  라 본사의 주소 전화번호 및 홈페이지    주소  경기도 용인시 처인구 백암면 덕평로     전화번호      홈페이지     마 회사사업 영위의 근거가 되는 법률    건설산업기본법 주택법 도시 및 주거환경정비법 건축법 하도급거래 공정화에 관한 법률 등 다양한 법규 및 규제의 영향을 받고 있습니다  바 중소기업 해당여부 중소기업 해당 여부  미해당    벤처기업 해당 여부  미해당  중견기업 해당 여부  미해당 사 주요 사업의 내용 및 향후 추진하려는 신규사업에 관한 간략한 설명   당사는 건축 부문공공건축물 상업시설 아파트 등 토목 부문도로 교량 철도 등 플랜트 부문송변전 전기공사 등 신사업 부문부동산 개발 투자사업 등을 영위하는 종합건설회사입니다 축적된 시공경험과 기술력을 바탕으로 공공발주 물량을 선점하는 한편 주택 시장 내 양호한 브랜드 인지도를 바탕으로 민간 ',\n",
       "  '기업 해당 여부  미해당  중견기업 해당 여부  미해당 회사의 주권상장또는 등록지정여부 및 특례상장에 관한 사항 주권상장 또는등록지정여부  주권상장 또는등록지정일자  특례상장등 여부  특례상장등 적용법규  유가증권시장 상장  년 월 일      사업의 개요 가 업계의 현황  산업의 특성자동차부품산업은 품질 기술 등의 이유로 완성차산업과 밀접하게 관련되어 있어 자동차산업의 특징을 그대로 반영합니다 자동차산업은 철강 화학 전기 전자 등의 산업과 만여개의 부품을 제조하는 부품업체들이 연계되어 있어 국민경제에서 차지하는 비중도 매우 높습니다   산업의 성장성대한민국의 년 자동차생산은 미국 자동차 시장이 큰 폭으로 회복될 것으로 기대되어 전년대비  증가한 만대로 예상하고 있습니다 내수의 경우 민간소비가 전년 내수 진작책 축소 등으로 감소세로 전환하여  감소한 만대로 예상됩니다   경기변동의 특성자동차는 대표적인 내구재 상품으로 경기변동과 밀접한 연관을 맺고 있으며 자동차 보급이 일정 수준 이상에 도달한 선진시장에서는 이런 관계가 더욱 뚜렷하게 나타납니다   경쟁요소자동차산업은 개발과 생산에 막대한 시설투자와 개발비가 소요되어 생산수량의 증가에 따라 나타나는 생산비용의 감소효과규모의 경제 효과가 크기 때문에 신규업체의 진입장벽이 높은 산업입니다 자동차부품산업 또한 기술과 품질이 중요시되고 완성차업체의 주문에 의해 생산 및 판매가 독점적으로 이루',\n",
       "  '또한 영문으로는     로 표기합니다   설립일자 및 존속기간 지배회사는 년 월에 법인전환되었습니다 또한 년 월 코스닥시장 상장을 승인받아  년 월 일자로 상장되어 코스닥시장에서 매매가 개시되었습니다    본사의 주소 전화번호 홈페이지 주소 주소  경기도 안양시 동안구 시민대로 번길 관양동 전화번호   홈페이지    중소기업 해당여부 중소기업 해당 여부  미해당    벤처기업 해당 여부  미해당  중견기업 해당 여부  해당  주요사업의 내용 지배회사는 검사장비  검사장비 등 디스플레이 제조 공정상 주로 후공정의 검사장비를 제조 판매하는 사업을 하고 있습니다  또한 종속회사를 통하여  제조공정상 전공정의 증착장비를 제조하고 있습니다 그리고 년 월 일 신기술사업금융업에  출자 하여 사업영역을 확대하고 있습니다  기타의 자세한 사항은 동 보고서의   사업의 내용 을 참조하시길 바랍니다  신용평가에 관한 사항주식회사 동아엘텍 평가일  재무결산 기준  평가기관명  신용등급  현금흐름등급  유효기간  년 월 일  년 월 일  이크레더블  +    년 월 일년 월 일  년 월 일  년 월 일  나이스디앤비  +  +  년 월 일년 월 일  주식회사 선익시스템 평가일  재무결산 기준  평가기관명  신용등급  현금흐름등급  유효기간  년 월 일  년 월 일  이크레더블      년 월 일년 월 일  년 월 일  년 월 일  나이스디앤비      년 ',\n",
       "  ' 여부  해당    벤처기업 해당 여부  해당  중견기업 해당 여부  미해당 회사의 주권상장또는 등록지정여부 및 특례상장에 관한 사항 주권상장 또는등록지정여부  주권상장 또는등록지정일자  특례상장등 여부  특례상장등 적용법규  주권상장  년 월 일      사업의 개요모회사  에이루트  산업의 특성  미니프린트사업 부문 당사는 특수프린터라 할 수 있는   용 프린터  프린터와  프린터 프린터  등 미니 프린터를 전문적으로 개발 제조 판매하는 회사입니다 미니프린터 산업의 특성은 다음의 가지로 정리할 수 있습니다     노동집약형 고부가가치 산업  미니프린터 산업은 기술 자본 노동집약적 특성을 가진 복합적인 산업입니다 즉 연구개발과 부품생산은 기술 및 자본집약적 공정이며 조립생산은 노동집약적 공정입니다 다만 미니프린터 산업의 생산과정은 노동집약형 산업이라 할 수 있지만 첨단 전자 정보통신 산업분야와 직결되는 산업으로 전자회로 및 소프트웨어 설계의 첨단기술을 요구하는 고부가가치 산업입니다     유사 부품산업 미니 프린터는  시스템 혹은  시스템의 주변기기로서 각 시스템과 결합되어야만 그 기능을 발휘할 수 있는 부분품 산업이라 할 수 있습니다 프린터 메카니즘 역시 완제품으로 보기는 어려우므로 일종의 부품산업이라 할 수 있습니다 이러한 부품과 유사한 성격을 지닌 제품의 특성으로 인하여  주 시스템을 공급하는 공급업체의 상표를 부착하는  혹은',\n",
       "  ' 배급업등을 영위할 목적으로 년 월 일에 설립되었습니다 또한 년 월 일자로 코스닥시장에 상장되어 매매가 개시되었습니다라 본사의 주소 전화번호 및 홈페이지  도로명주소  서울시 강남구 도산대로  층논현동 빌딩  전화번호   홈페이지  마 중소기업 등 해당 여부 중소기업 해당 여부  미해당    벤처기업 해당 여부  미해당  중견기업 해당 여부  해당 당사는 중견기업 성장촉진 및 경쟁력 강화에 관한 특별법 제조에 따른 중견기업입니다   바 주요사업의 내용  당사는 영화 및 영상물 배급 콘텐츠 판권 유통 투자유치 및  방송용 프로그램 제작 등의 종합 콘텐츠 미디어 사업을 주요사업으로 영위하고 있습니다 사업의 내용에 대한 자세한 사항은 동 보고서의  사업의 내용을 참조하시기 바랍니다  사 신용평가에 관한 사항  해당사항 없습니다 아 회사의 주권상장또는 등록지정여부 및 특례상장에 관한 사항 주권상장 또는등록지정여부  주권상장 또는등록지정일자  특례상장등 여부  특례상장등 적용법규  코스닥시장  년 월 일  해당사항 없음  해당사항 없음  사업의 개요당사는 년 월에 주미디어플렉스로 설립되어 메가박스 씨네플렉스로 영화 상영 및 영화관 운영을 쇼박스 브랜드로 영화 투자 및 배급 사업을 진행하였습니다 년 월 메가박스를 매각하면서 영화 투자와 배급 제작 기획에 역량을 집중하였고이후 중국을 비롯한 해외 및 신규 비즈니스 확대를 진행하고 있습니다    또'])"
      ]
     },
     "execution_count": 24,
     "metadata": {},
     "output_type": "execute_result"
    }
   ],
   "source": [
    "print_corp2(news_id, dart_dict, bm25, pre_dart, pre_name)"
   ]
  },
  {
   "cell_type": "code",
   "execution_count": null,
   "metadata": {},
   "outputs": [],
   "source": []
  },
  {
   "cell_type": "code",
   "execution_count": null,
   "metadata": {},
   "outputs": [],
   "source": []
  },
  {
   "cell_type": "code",
   "execution_count": null,
   "metadata": {},
   "outputs": [],
   "source": []
  }
 ],
 "metadata": {
  "interpreter": {
   "hash": "e31c68abf1d5dd3f9e2269f23eadf1b199587e56c0618a30760176a65ebfcab4"
  },
  "kernelspec": {
   "display_name": "Python 3.7.11 64-bit ('lightweight': conda)",
   "language": "python",
   "name": "python3"
  },
  "language_info": {
   "codemirror_mode": {
    "name": "ipython",
    "version": 3
   },
   "file_extension": ".py",
   "mimetype": "text/x-python",
   "name": "python",
   "nbconvert_exporter": "python",
   "pygments_lexer": "ipython3",
   "version": "3.7.11"
  },
  "orig_nbformat": 4
 },
 "nbformat": 4,
 "nbformat_minor": 2
}
