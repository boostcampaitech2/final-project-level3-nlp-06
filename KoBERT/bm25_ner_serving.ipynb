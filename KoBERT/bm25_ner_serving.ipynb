{
 "cells": [
  {
   "cell_type": "markdown",
   "metadata": {},
   "source": [
    "### 1. 데이터 로드"
   ]
  },
  {
   "cell_type": "code",
   "execution_count": 2,
   "metadata": {},
   "outputs": [
    {
     "name": "stderr",
     "output_type": "stream",
     "text": [
      "Using custom data configuration nlpHakdang___aihub-news30k-ee77adb600c7aa5c\n",
      "Reusing dataset csv (/opt/ml/.cache/huggingface/datasets/csv/nlpHakdang___aihub-news30k-ee77adb600c7aa5c/0.0.0/bf68a4c4aefa545d0712b2fcbb1b327f905bbe2f6425fbc5e8c25234acb9e14a)\n"
     ]
    },
    {
     "data": {
      "application/vnd.jupyter.widget-view+json": {
       "model_id": "b04a73b2f34c4da1990bf49e1a971116",
       "version_major": 2,
       "version_minor": 0
      },
      "text/plain": [
       "  0%|          | 0/2 [00:00<?, ?it/s]"
      ]
     },
     "metadata": {},
     "output_type": "display_data"
    }
   ],
   "source": [
    "from datasets import load_dataset\n",
    "import pandas as pd\n",
    "\n",
    "news_dataset = load_dataset('nlpHakdang/aihub-news30k',  data_files={\"train\":\"news_train_1_1.csv\", \"valid\":\"news_valid_1_1.csv\"}, use_auth_token='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')"
   ]
  },
  {
   "cell_type": "code",
   "execution_count": 3,
   "metadata": {},
   "outputs": [
    {
     "name": "stderr",
     "output_type": "stream",
     "text": [
      "Using custom data configuration nlpHakdang___beneficiary-9ee45f4b52a082be\n",
      "Reusing dataset csv (/opt/ml/.cache/huggingface/datasets/csv/nlpHakdang___beneficiary-9ee45f4b52a082be/0.0.0/bf68a4c4aefa545d0712b2fcbb1b327f905bbe2f6425fbc5e8c25234acb9e14a)\n"
     ]
    },
    {
     "data": {
      "application/vnd.jupyter.widget-view+json": {
       "model_id": "3c49551825454d24999a9c2d63f58565",
       "version_major": 2,
       "version_minor": 0
      },
      "text/plain": [
       "  0%|          | 0/1 [00:00<?, ?it/s]"
      ]
     },
     "metadata": {},
     "output_type": "display_data"
    }
   ],
   "source": [
    "dart_dataset = load_dataset('nlpHakdang/beneficiary',  data_files=\"dart_v3_3.csv\", use_auth_token='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')"
   ]
  },
  {
   "cell_type": "markdown",
   "metadata": {},
   "source": [
    "## 2. 전처리"
   ]
  },
  {
   "cell_type": "code",
   "execution_count": 8,
   "metadata": {},
   "outputs": [
    {
     "data": {
      "text/plain": [
       "'‘넥슨’ 이름을 단 시가총액 1조원이 넘는 개발사가 조만간 모습을 드러낼 전망이다. 넥슨은 최근 개발 자회사 넷게임즈와 넥슨지티를 합병한다고 밝혔다. 모바일게임과 PC 온라인게임에 각각 강점을 가지고 있는 두 회사의 합병을 통해 시너지 효과를 낼 것으로 보인다. 아울러 넥슨의 국내 유일 상장법인이라는 점에서 국내 투자자들에게도 많은 주목을 받을 것으로 전망된다.넥슨지티와 넷게임즈의 합병은 오는 2022년 2월 8일 주주총회를 거쳐 최종 결정된다. 합병 기일은 같은 해 3월 31일이다. 합병비율은 1 대 1.0423647(넷게임즈:넥슨지티)로 합병에 따른 존속회사는 넷게임즈이며, 신규 법인명은 넥슨게임즈(가칭)다.두 회사는 이번 합병을 통해 급변하는 글로벌 게임 시장에서 각각의 개발 법인이 가진 성공 노하우와 리소스를 결합해 PC, 모바일, 콘솔 등 멀티플랫폼을 지향하는 최상의 개발 환경을 구축할 계획이다. 넥슨게임즈의 대표이사는 현 넷게임즈 박용현 대표가 선임될 예정이며, 넥슨지티 신지환 대표는 등기이사직을 맡는다. 넥슨게임즈 이사진에는 넥슨코리아 이정헌 대표도 합류해 넥슨코리아와 협업도 강화할 계획이다.넷게임즈는 모바일 RPG ‘히트’와 ‘V4’를 통해 두 번의 대한민국 게임대상 수상 및 ‘오버히트’와 ‘블루아카이브’ 등을 통해 국내·외 모바일게임 시장에 굵직한 족적을 남긴 RPG 전문 개발사다. 넥슨지티는 FPS 게임 ‘서든어택’ 개발사로 슈팅 게임 명가로 자리매김했다. 올해로 서비스 16주년을 맞이했음에도 탁월한 라이브 운영으로 지난 3분기에만 전년 동기 대비 211%의 매출 성장을 기록했다.넥슨은 이번 합병으로 넥슨코리아 신규개발본부, 네오플, 넥슨게임즈, 원더홀딩스와 설립한 합작법인(니트로 스튜디오, 데브캣) 등을 큰 축으로 신규 개발을 이끌어갈 계획이다.'"
      ]
     },
     "execution_count": 8,
     "metadata": {},
     "output_type": "execute_result"
    }
   ],
   "source": [
    "news_text = news_dataset['train']['article'][3830]\n",
    "news_text = \"‘넥슨’ 이름을 단 시가총액 1조원이 넘는 개발사가 조만간 모습을 드러낼 전망이다. 넥슨은 최근 개발 자회사 넷게임즈와 넥슨지티를 합병한다고 밝혔다. 모바일게임과 PC 온라인게임에 각각 강점을 가지고 있는 두 회사의 합병을 통해 시너지 효과를 낼 것으로 보인다. 아울러 넥슨의 국내 유일 상장법인이라는 점에서 국내 투자자들에게도 많은 주목을 받을 것으로 전망된다.넥슨지티와 넷게임즈의 합병은 오는 2022년 2월 8일 주주총회를 거쳐 최종 결정된다. 합병 기일은 같은 해 3월 31일이다. 합병비율은 1 대 1.0423647(넷게임즈:넥슨지티)로 합병에 따른 존속회사는 넷게임즈이며, 신규 법인명은 넥슨게임즈(가칭)다.두 회사는 이번 합병을 통해 급변하는 글로벌 게임 시장에서 각각의 개발 법인이 가진 성공 노하우와 리소스를 결합해 PC, 모바일, 콘솔 등 멀티플랫폼을 지향하는 최상의 개발 환경을 구축할 계획이다. 넥슨게임즈의 대표이사는 현 넷게임즈 박용현 대표가 선임될 예정이며, 넥슨지티 신지환 대표는 등기이사직을 맡는다. 넥슨게임즈 이사진에는 넥슨코리아 이정헌 대표도 합류해 넥슨코리아와 협업도 강화할 계획이다.넷게임즈는 모바일 RPG ‘히트’와 ‘V4’를 통해 두 번의 대한민국 게임대상 수상 및 ‘오버히트’와 ‘블루아카이브’ 등을 통해 국내·외 모바일게임 시장에 굵직한 족적을 남긴 RPG 전문 개발사다. 넥슨지티는 FPS 게임 ‘서든어택’ 개발사로 슈팅 게임 명가로 자리매김했다. 올해로 서비스 16주년을 맞이했음에도 탁월한 라이브 운영으로 지난 3분기에만 전년 동기 대비 211%의 매출 성장을 기록했다.넥슨은 이번 합병으로 넥슨코리아 신규개발본부, 네오플, 넥슨게임즈, 원더홀딩스와 설립한 합작법인(니트로 스튜디오, 데브캣) 등을 큰 축으로 신규 개발을 이끌어갈 계획이다.\"\n",
    "length = 100 # 500글자 단위로 잘라 2차원 배열을 만들고, 공백 기준으로 split\n",
    "split_news_text = [news_text[i:i+length].split() for i in range(0, len(news_text), length)]\n",
    "news_text"
   ]
  },
  {
   "cell_type": "markdown",
   "metadata": {},
   "source": [
    "## 2. NER"
   ]
  },
  {
   "cell_type": "code",
   "execution_count": 9,
   "metadata": {},
   "outputs": [],
   "source": [
    "from utils import load_tokenizer, get_labels\n",
    "from predict import *"
   ]
  },
  {
   "cell_type": "markdown",
   "metadata": {},
   "source": [
    "#### 2.1. Load Model"
   ]
  },
  {
   "cell_type": "code",
   "execution_count": 10,
   "metadata": {},
   "outputs": [],
   "source": [
    "parser = argparse.ArgumentParser()\n",
    "parser.add_argument(\"--model_dir\", default=\"./model\", type=str, help=\"Path to save, load model\")\n",
    "parser.add_argument(\"--batch_size\", default=1, type=int, help=\"Batch size for prediction\")\n",
    "parser.add_argument(\"--no_cuda\", action=\"store_false\", default=False, help=\"Avoid using CUDA when available\")\n",
    "\n",
    "pred_config = parser.parse_args(args=[])"
   ]
  },
  {
   "cell_type": "code",
   "execution_count": 11,
   "metadata": {},
   "outputs": [
    {
     "name": "stdout",
     "output_type": "stream",
     "text": [
      "<class 'transformers.models.auto.tokenization_auto.AutoTokenizer'> klue/roberta-large\n"
     ]
    }
   ],
   "source": [
    "# load model and args\n",
    "args = get_args(pred_config)\n",
    "device = get_device(pred_config)\n",
    "model = load_model(pred_config, args, device)\n",
    "label_lst = get_labels(args)\n",
    "logger.info(args)\n",
    "\n",
    "# Convert input file to TensorDataset\n",
    "pad_token_label_id = torch.nn.CrossEntropyLoss().ignore_index\n",
    "tokenizer = load_tokenizer(args)"
   ]
  },
  {
   "cell_type": "markdown",
   "metadata": {},
   "source": [
    "### 2.2 Evaluation"
   ]
  },
  {
   "cell_type": "code",
   "execution_count": 12,
   "metadata": {},
   "outputs": [],
   "source": [
    "def predict(pred_config):\n",
    "    lines = split_news_text #read_input_file(pred_config)\n",
    "    dataset = convert_input_file_to_tensor_dataset(lines, pred_config, args, tokenizer, pad_token_label_id)\n",
    "\n",
    "    # Predict\n",
    "    sampler = SequentialSampler(dataset)\n",
    "    data_loader = DataLoader(dataset, sampler=sampler, batch_size=pred_config.batch_size)\n",
    "    all_slot_label_mask = None\n",
    "    preds = None\n",
    "\n",
    "    for batch in tqdm(data_loader, desc=\"Predicting\"):\n",
    "        batch = tuple(t.to(device) for t in batch)\n",
    "        with torch.no_grad():\n",
    "            inputs = {\"input_ids\": batch[0],\n",
    "                      \"attention_mask\": batch[1],\n",
    "                      \"labels\": None}\n",
    "            outputs = model(**inputs)\n",
    "            logits = outputs[0]\n",
    "\n",
    "            if preds is None:\n",
    "                preds = logits.detach().cpu().numpy()\n",
    "                all_slot_label_mask = batch[3].detach().cpu().numpy()\n",
    "            else:\n",
    "                preds = np.append(preds, logits.detach().cpu().numpy(), axis=0)\n",
    "                all_slot_label_mask = np.append(all_slot_label_mask, batch[3].detach().cpu().numpy(), axis=0)\n",
    "\n",
    "    preds = np.argmax(preds, axis=2)\n",
    "    slot_label_map = {i: label for i, label in enumerate(label_lst)}\n",
    "    preds_list = [[] for _ in range(preds.shape[0])]\n",
    "\n",
    "    for i in range(preds.shape[0]):\n",
    "        for j in range(preds.shape[1]):\n",
    "            if all_slot_label_mask[i, j] != pad_token_label_id:\n",
    "                preds_list[i].append(slot_label_map[preds[i][j]])\n",
    "    \n",
    "    # return to pred word list\n",
    "    line = []\n",
    "    for words, preds in zip(lines, preds_list):\n",
    "        for word, pred in zip(words, preds):\n",
    "            if pred == 'O' or pred =='UNK':\n",
    "                pass\n",
    "            else:\n",
    "                if not \"기자\" in word:\n",
    "                    line.append(word)\n",
    "\n",
    "    return \"{}\\n\".format(line)"
   ]
  },
  {
   "cell_type": "code",
   "execution_count": 13,
   "metadata": {},
   "outputs": [
    {
     "name": "stderr",
     "output_type": "stream",
     "text": [
      "Predicting: 100%|██████████| 9/9 [00:00<00:00, 41.03it/s]\n"
     ]
    },
    {
     "data": {
      "text/plain": [
       "\"['‘넥슨’', '넥슨은', '넷게임즈와', '넥슨지티를', '모바일게임과', 'PC', '온라인게임에', '넥슨의', '넷게임즈의', '주주총회를', '넷게임즈이며,', '넥슨게임즈(가칭)다.두', 'PC,', '모바일,', '콘솔', '넥슨게임즈의', '대표이사는', '넷게임즈', '대표가', '대표는', '등기이사직을', '넥슨게임즈', '이사진에는', '넥슨코리아', '대표도', '넥슨코리아와', '모바일', 'RPG', '‘히트’와', '게임대상', '‘오버히트’와', '‘블루아카이브’', '모바일게임', 'RPG', '넥슨지티는', 'FPS', '‘서든어택’', '슈팅', '게임', '넥슨코리아', '신규개발본부,', '네오플,', '넥슨게임즈,', '원더홀딩스와', '합작법인(니트로', '스튜디오,', '데브캣)']\\n\""
      ]
     },
     "execution_count": 13,
     "metadata": {},
     "output_type": "execute_result"
    }
   ],
   "source": [
    "ner_result = predict(pred_config)\n",
    "ner_result"
   ]
  },
  {
   "cell_type": "markdown",
   "metadata": {},
   "source": [
    "## 3. BM25 문서검색"
   ]
  },
  {
   "cell_type": "code",
   "execution_count": 14,
   "metadata": {},
   "outputs": [
    {
     "data": {
      "text/plain": [
       "Dataset({\n",
       "    features: ['Unnamed: 0', 'index', '주식 코드', 'report_idx', '기업 코드', '기업 이름', '수정 일자', '회사의 개요', '사업의 개요'],\n",
       "    num_rows: 2313\n",
       "})"
      ]
     },
     "execution_count": 14,
     "metadata": {},
     "output_type": "execute_result"
    }
   ],
   "source": [
    "dart_dataset['train']#['기업 이름']"
   ]
  },
  {
   "cell_type": "code",
   "execution_count": 15,
   "metadata": {},
   "outputs": [],
   "source": [
    "contents_list = ['회사의 개요',  '사업의 개요']\n",
    "dart_dict= { \"corp_name\" :[], \"corp_text\":[]}\n",
    "\n",
    "for corp in dart_dataset['train']:\n",
    "    dart_text = \"\"\n",
    "    dart_dict['corp_name'].append(corp['기업 이름'])\n",
    "    for content in contents_list:\n",
    "        dart_text += corp[content]\n",
    "    dart_dict['corp_text'].append(dart_text)"
   ]
  },
  {
   "cell_type": "code",
   "execution_count": 16,
   "metadata": {},
   "outputs": [],
   "source": [
    "import re\n",
    "def preprocessing(s): \n",
    "        hangul = re.compile('[^ ㄱ-ㅣ가-힣+]')\n",
    "        result = hangul.sub('', s).strip()\n",
    "        return result\n",
    "\n",
    "pre_dart = {}\n",
    "for idx in range(len(dart_dict['corp_name'])):\n",
    "    pre_dart[dart_dict['corp_name'][idx]] = preprocessing(dart_dict['corp_text'][idx])\n",
    "    \n",
    "pre_name = {}\n",
    "for idx in range(len(dart_dict['corp_name'])):\n",
    "    pre_name[preprocessing(dart_dict['corp_text'][idx])] = dart_dict['corp_name'][idx]"
   ]
  },
  {
   "cell_type": "markdown",
   "metadata": {},
   "source": [
    "### 3.1. NER with BM25"
   ]
  },
  {
   "cell_type": "code",
   "execution_count": 17,
   "metadata": {},
   "outputs": [
    {
     "name": "stderr",
     "output_type": "stream",
     "text": [
      "100%|██████████| 2313/2313 [00:16<00:00, 139.92it/s]\n"
     ]
    }
   ],
   "source": [
    "from konlpy.tag import Mecab\n",
    "from rank_bm25 import BM25Okapi\n",
    "from krwordrank.word import summarize_with_keywords\n",
    "\n",
    "mecab_tokenizer = Mecab()\n",
    "tot = []#[tokenizer.nouns(txt) for txt in list(pre_dart.values())]\n",
    "\n",
    "for txt in tqdm(list(pre_dart.values())):\n",
    "    tot.append(mecab_tokenizer.nouns(txt))\n",
    "\n",
    "bm25 = BM25Okapi(tot)"
   ]
  },
  {
   "cell_type": "code",
   "execution_count": 18,
   "metadata": {},
   "outputs": [],
   "source": [
    "def print_corp(news_text, dart_dict, bm25, pre_dart, pre_name, ner=False):\n",
    "    \"\"\"\n",
    "        tokenized_query : keywords\n",
    "        inside_corp : 언급된 회사\n",
    "        \" \".join(target) : 뉴스텍스트\n",
    "        corps : topk의 회사이름\n",
    "        list_dart_n : topk dart\n",
    "    \"\"\"\n",
    "\n",
    "    target = news_text\n",
    "    inside_corp = []\n",
    "    stopwords=['모두','지난','있다','회의','강조','성과','오는','모집','과정','계약',\"체결\",\"건립\",'현대식','사업',\n",
    "            '주관사로','통해','일까지','이벤트','지원','지역','기자','실험','한다','진행','설명회','예정이다',\n",
    "            '이번','방문','올해','제공','찾아가','재림','당시','한국','프로젝트','있는','추진','다양한','적극',\n",
    "            '위해','나갈','협력','협약','상당의','물품','명으로','지난해','증가했다','의한','영향','보면','통계',\n",
    "            '순위','명당','관련','업체','부실','관심','명칭','합작법인','일자리','시흥배곧','서울대','했다',\n",
    "            '한다고','위원장은','기반','혁신','인재','마련','정책','권고안','함께','시장','성장','대비','전월',\n",
    "            '전년','동월','물가','하락','소비자','상승','운영','증가','억원','억만원','할인','사용','것으']\n",
    "\n",
    "    if ner==False:\n",
    "        keywords = summarize_with_keywords(target, min_count=4, max_length=7, beta=0.85, max_iter=10,stopwords=stopwords,verbose=True)\n",
    "        tokenized_query = list(keywords.keys())\n",
    "    else:\n",
    "        tokenized_query = mecab_tokenizer.nouns(ner_result)\n",
    "\n",
    "    print(tokenized_query)\n",
    "    for key in target.split(\" \"):\n",
    "        if key in dart_dict['corp_name']:\n",
    "            inside_corp.append(key)\n",
    "\n",
    "    for key in tokenized_query:\n",
    "        if key in dart_dict['corp_name']:\n",
    "            inside_corp.append(key)\n",
    "    \n",
    "    inside_corp = list(set(inside_corp))\n",
    "    \n",
    "    doc_scores = bm25.get_scores(tokenized_query)\n",
    "    \n",
    "    if max(doc_scores) <3: #마땅한 회사가 없음\n",
    "        return False\n",
    "    else:\n",
    "        list_dart_n = bm25.get_top_n(tokenized_query, list(pre_dart.values()), n=5)\n",
    "        corps = [pre_name[dart] for dart in list_dart_n]\n",
    "\n",
    "    return corps #tokenized_query, inside_corp, \" \".join(target) , corps"
   ]
  },
  {
   "cell_type": "markdown",
   "metadata": {},
   "source": [
    "### 3.3 Eval with NER & kwordrank with BM25"
   ]
  },
  {
   "cell_type": "code",
   "execution_count": 19,
   "metadata": {},
   "outputs": [
    {
     "name": "stdout",
     "output_type": "stream",
     "text": [
      "['넥슨', '넥슨', '게임즈', '넥슨', '지티', '모바일게임', '온라인', '게임', '넥슨', '게임즈', '주주', '총회', '게임즈', '넥슨', '게임즈', '가칭', '모바일', '콘솔', '넥슨', '게임즈', '대표', '이사', '게임즈', '대표', '대표', '등기', '이사', '직', '넥슨', '게임즈', '사진', '넥슨', '코리아', '대표', '넥슨', '코리아', '모바일', '히트', '게임', '대상', '오버히트', '블루', '아카이브', '모바일게임', '넥슨', '지티', '서든', '어택', '슈팅', '게임', '넥슨', '코리아', '신규', '개발', '본부', '네오플', '넥슨', '게임즈', '원더', '홀딩스', '합작', '법인', '니트로', '스튜디오', '데브캣']\n"
     ]
    },
    {
     "data": {
      "text/plain": [
       "['넷게임즈', '넥슨지티', '넵튠', '카카오게임즈', '위메이드맥스']"
      ]
     },
     "execution_count": 19,
     "metadata": {},
     "output_type": "execute_result"
    }
   ],
   "source": [
    "print_corp(news_text, dart_dict, bm25, pre_dart, pre_name, ner=True)"
   ]
  },
  {
   "cell_type": "code",
   "execution_count": null,
   "metadata": {},
   "outputs": [],
   "source": []
  }
 ],
 "metadata": {
  "interpreter": {
   "hash": "e31c68abf1d5dd3f9e2269f23eadf1b199587e56c0618a30760176a65ebfcab4"
  },
  "kernelspec": {
   "display_name": "Python 3.7.11 64-bit ('lightweight': conda)",
   "language": "python",
   "name": "python3"
  },
  "language_info": {
   "codemirror_mode": {
    "name": "ipython",
    "version": 3
   },
   "file_extension": ".py",
   "mimetype": "text/x-python",
   "name": "python",
   "nbconvert_exporter": "python",
   "pygments_lexer": "ipython3",
   "version": "3.7.11"
  },
  "orig_nbformat": 4
 },
 "nbformat": 4,
 "nbformat_minor": 2
}
