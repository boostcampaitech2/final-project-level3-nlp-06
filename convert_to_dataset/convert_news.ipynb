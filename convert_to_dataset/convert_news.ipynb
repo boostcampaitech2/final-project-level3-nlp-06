{
 "cells": [
  {
   "cell_type": "markdown",
   "metadata": {},
   "source": [
    "## Load AiHub News Data 30k into huggingface datasets"
   ]
  },
  {
   "cell_type": "code",
   "execution_count": 1,
   "metadata": {},
   "outputs": [
    {
     "name": "stdout",
     "output_type": "stream",
     "text": [
      "Downloading and preparing dataset ai_hub_news/AiHubNews to /opt/ml/.cache/huggingface/datasets/ai_hub_news/AiHubNews/1.0.0/695caf813144277dc62de1297ab305042f58b6d5f9958f5749160938f29cd242...\n"
     ]
    },
    {
     "data": {
      "application/vnd.jupyter.widget-view+json": {
       "model_id": "edbf1f9a9b854caf8205f79eca38b03d",
       "version_major": 2,
       "version_minor": 0
      },
      "text/plain": [
       "  0%|          | 0/2 [00:00<?, ?it/s]"
      ]
     },
     "metadata": {},
     "output_type": "display_data"
    },
    {
     "data": {
      "application/vnd.jupyter.widget-view+json": {
       "model_id": "e5e49c188c71489a8e562468ca94062f",
       "version_major": 2,
       "version_minor": 0
      },
      "text/plain": [
       "  0%|          | 0/2 [00:00<?, ?it/s]"
      ]
     },
     "metadata": {},
     "output_type": "display_data"
    },
    {
     "data": {
      "application/vnd.jupyter.widget-view+json": {
       "model_id": "42bae710218142728c92f96b542bfe14",
       "version_major": 2,
       "version_minor": 0
      },
      "text/plain": [
       "0 examples [00:00, ? examples/s]"
      ]
     },
     "metadata": {},
     "output_type": "display_data"
    },
    {
     "data": {
      "application/vnd.jupyter.widget-view+json": {
       "model_id": "c6449ca1aa4b4c039c7a9552a4846019",
       "version_major": 2,
       "version_minor": 0
      },
      "text/plain": [
       "0 examples [00:00, ? examples/s]"
      ]
     },
     "metadata": {},
     "output_type": "display_data"
    },
    {
     "name": "stdout",
     "output_type": "stream",
     "text": [
      "Dataset ai_hub_news downloaded and prepared to /opt/ml/.cache/huggingface/datasets/ai_hub_news/AiHubNews/1.0.0/695caf813144277dc62de1297ab305042f58b6d5f9958f5749160938f29cd242. Subsequent calls will reuse this data.\n"
     ]
    },
    {
     "data": {
      "application/vnd.jupyter.widget-view+json": {
       "model_id": "72e9eff28d5245f588aaca72dd6a268d",
       "version_major": 2,
       "version_minor": 0
      },
      "text/plain": [
       "  0%|          | 0/2 [00:00<?, ?it/s]"
      ]
     },
     "metadata": {},
     "output_type": "display_data"
    }
   ],
   "source": [
    "import datasets\n",
    "dataset = datasets.load_dataset('aihub_news')#, data_dir='../../data/news/', data_files={'train':'train_original.json', 'valid':'valid_original.json'})"
   ]
  },
  {
   "cell_type": "code",
   "execution_count": 2,
   "metadata": {},
   "outputs": [
    {
     "data": {
      "text/plain": [
       "DatasetDict({\n",
       "    train: Dataset({\n",
       "        features: ['id', 'category', 'media_type', 'media_sub_type', 'media_name', 'size', 'char_count', 'publish_date', 'title', 'text', 'extractive', 'abstractive'],\n",
       "        num_rows: 271093\n",
       "    })\n",
       "    validation: Dataset({\n",
       "        features: ['id', 'category', 'media_type', 'media_sub_type', 'media_name', 'size', 'char_count', 'publish_date', 'title', 'text', 'extractive', 'abstractive'],\n",
       "        num_rows: 30122\n",
       "    })\n",
       "})"
      ]
     },
     "execution_count": 2,
     "metadata": {},
     "output_type": "execute_result"
    }
   ],
   "source": [
    "dataset"
   ]
  },
  {
   "cell_type": "code",
   "execution_count": 3,
   "metadata": {},
   "outputs": [
    {
     "data": {
      "text/plain": [
       "{'id': '296096194',\n",
       " 'category': '종합',\n",
       " 'media_type': 'online',\n",
       " 'media_sub_type': '지역지',\n",
       " 'media_name': '광양신문',\n",
       " 'size': 'medium',\n",
       " 'char_count': 1356,\n",
       " 'publish_date': '2018-02-23 19:10:36',\n",
       " 'title': '광양보건대 시 재정 지원‘일단 보류’...“검토 후 판단”',\n",
       " 'text': '학생 해외연수비 등 지원 요청…위원들“학교 노력이 우선”지적 이성훈 sinawi@hanmail.net 광양시가 광양보건대가 요청한 예산지원을 일단 보류했다. 대학 측의 학교 살리기 자구 노력 움직임을 살펴본 후 검토하겠다는 입장이다. 시는 지난 20일, 지방대학 지원 사업 심의위원회를 열어 광양보건대가 지원을 요청한 20여억원의 지원근거 등에 대해 심의했다. 보건대는 교육부의 재정지원제한조치에도 불구하고 학생들에 대한 직접 지원은 가능함에 따라 광양시에 학생 해외연수비로 1억5000만원을 지원해 줄 것을 요청한 것으로 알려졌다. 또한 자격증 취득 과정 지원 등 20억원대 지원을 요청했다. 광양보건대가 자체적으로 자구노력을 하지 않는 상태에서 교육부의 방침을 어기고 재정지원을 하는 것은 불가능하다는 의견이다. 이는 지난해 11월 열린 보건대-한려대 살리기 위한 범시민대책위원회에서 나온 의견가 대부분 일치한다. 반면 보건대는 통합 대신 신입생 유치와 시 지원을 통해 회생을 꾀하며 위기를 벗어나려고 했다. 참석한 위원들은“두 대학이 함께 살아갈 수 있는 방법을 찾아야 하는데 자구노력이 너무 부족하다”면서 남에게 의지하는 방식으로 대학을 살리는 방안에 대해 부정적인 입장을 밝혔었다. 교육부로부터 재정지원제한대학으로 지정된 광양보건대는 정부 및 지방자치단체의 재정지원에서 배제되면서 학교 운영에 어려움을 겪고 있으며, 설립자의 비리로 부실대학의 굴레를 벗어나지 못하고 있다. 이에 광양시는 지난 해 11월부터 시행된 광양시 지방대학 및 지역균형 및 인재육성에 관한 지원 조례에 의거 광양보건대에 대한 재정지원의 타당성을 심의하기 위해 이날 위원회를 개최한 것이다. 시 관계자는“보건대가 요청한 예산을 지원하지 않겠다는 것이 아니라 앞으로 스스로 생존할 수 있는 방법을 찾아 얼마나 노력하고 위원들을 설득하느냐에 따라 지원 방향이 결정될 것”이라며“보건대의 자구노력 방안을 지켜보고 지원여부를 결정하겠다는 것이 위원회의 입장이다”고 밝혔다. ',\n",
       " 'extractive': '시는 지난 20일, 지방대학 지원 사업 심의위원회를 열어 광양보건대가 지원을 요청한 20여억원의 지원근거 등에 대해 심의했다. 광양보건대가 자체적으로 자구노력을 하지 않는 상태에서 교육부의 방침을 어기고 재정지원을 하는 것은 불가능하다는 의견이다. ',\n",
       " 'abstractive': '광양시는 광양보건대가 자체적으로 자구노력을 하지 않은 상태에서 시민들의 세금으로 해당 학교의 재정지원을 하는 것은 적절하지 않다고 판단하여 보건대의 예산지원 요청을 보류한 상태이다.\\n'}"
      ]
     },
     "execution_count": 3,
     "metadata": {},
     "output_type": "execute_result"
    }
   ],
   "source": [
    "dataset['train'][100]"
   ]
  },
  {
   "cell_type": "code",
   "execution_count": null,
   "metadata": {},
   "outputs": [],
   "source": []
  }
 ],
 "metadata": {
  "interpreter": {
   "hash": "e31c68abf1d5dd3f9e2269f23eadf1b199587e56c0618a30760176a65ebfcab4"
  },
  "kernelspec": {
   "display_name": "Python 3.7.11 64-bit ('lightweight': conda)",
   "language": "python",
   "name": "python3"
  },
  "language_info": {
   "codemirror_mode": {
    "name": "ipython",
    "version": 3
   },
   "file_extension": ".py",
   "mimetype": "text/x-python",
   "name": "python",
   "nbconvert_exporter": "python",
   "pygments_lexer": "ipython3",
   "version": "3.7.11"
  },
  "orig_nbformat": 4
 },
 "nbformat": 4,
 "nbformat_minor": 2
}
