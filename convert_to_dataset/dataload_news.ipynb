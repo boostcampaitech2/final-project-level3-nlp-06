{
 "cells": [
  {
   "cell_type": "markdown",
   "metadata": {},
   "source": [
    "## MainData.pickle"
   ]
  },
  {
   "cell_type": "code",
   "execution_count": 1,
   "metadata": {},
   "outputs": [],
   "source": [
    "import pandas as pd\n",
    "import json\n",
    "\n",
    "with open(\"train_original.json\", \"r\",encoding='utf-8-sig') as st_json:\n",
    "    train_original = json.load(st_json)"
   ]
  },
  {
   "cell_type": "code",
   "execution_count": null,
   "metadata": {},
   "outputs": [],
   "source": [
    "#모든 카테고리\n",
    "cate_list = ['보건/의료',\n",
    " 'IT,과학',\n",
    " '정치',\n",
    " '부동산',\n",
    " '기업',\n",
    " '종합',\n",
    " '북한/한반도정세',\n",
    " '스포츠',\n",
    " '교육/입시/NIE',\n",
    " '경제',\n",
    " '사회',\n",
    " '선거']\n",
    "\n",
    "#경제와 기업선택\n",
    "cate_list = ['경제','기업']"
   ]
  },
  {
   "cell_type": "code",
   "execution_count": 5,
   "metadata": {},
   "outputs": [],
   "source": [
    "extractive_list = []\n",
    "abstracte_list = []\n",
    "origianl_list = []\n",
    "article_list =[] \n",
    "data_dict = {}\n",
    "for data in train_original['documents']:\n",
    "    if data['category'] in cate_list:\n",
    "        extractive = data['extractive']\n",
    "        abstracte_list.append(data['abstractive'])\n",
    "        full_text = \"\"\n",
    "        extractive_text = \"\"\n",
    "        origin = []\n",
    "        for texts in data['text']:\n",
    "            for text in texts:\n",
    "                origin.append(text['sentence'])\n",
    "                full_text+=text['sentence']\n",
    "                if text['index'] in extractive:\n",
    "                    extractive_text += text['sentence']\n",
    "        origianl_list.append(origin)\n",
    "        article_list.append(full_text)\n",
    "        extractive_list.append(extractive_text)\n",
    "data_dict['summarized'] = extractive_list\n",
    "data_dict['original'] = origianl_list\n",
    "data_dict['article'] = article_list\n",
    "data_dict['abstract'] = abstracte_list\n",
    "\n",
    "main_df = pd.DataFrame(data_dict)"
   ]
  },
  {
   "cell_type": "code",
   "execution_count": 12,
   "metadata": {},
   "outputs": [
    {
     "data": {
      "text/plain": [
       "27303"
      ]
     },
     "execution_count": 12,
     "metadata": {},
     "output_type": "execute_result"
    }
   ],
   "source": [
    "len(main_df)"
   ]
  },
  {
   "cell_type": "code",
   "execution_count": null,
   "metadata": {},
   "outputs": [],
   "source": [
    "main_df.to_pickle(\"MainData.pickle\")\n"
   ]
  },
  {
   "cell_type": "markdown",
   "metadata": {},
   "source": [
    "## SubData.pickle"
   ]
  },
  {
   "cell_type": "code",
   "execution_count": 7,
   "metadata": {},
   "outputs": [],
   "source": [
    "with open(\"train.json\", \"r\",encoding='utf-8-sig') as st_json:\n",
    "    train = json.load(st_json)"
   ]
  },
  {
   "cell_type": "code",
   "execution_count": 9,
   "metadata": {},
   "outputs": [],
   "source": [
    "data = {}\n",
    "id_list = []\n",
    "num = 0\n",
    "article_list = []\n",
    "origin_list = []\n",
    "summarized_list = []\n",
    "for sub in train:\n",
    "    origin_list.append(sub['article_original'])\n",
    "    article_list.append(\" \".join(sub['article_original']))\n",
    "    extractive = sub['extractive']\n",
    "    summarized = \"\"\n",
    "    for exe in extractive:\n",
    "        summarized += sub['article_original'][exe]\n",
    "    summarized_list.append(summarized)\n",
    "data['summarized'] = summarized_list\n",
    "data['original'] = origin_list\n",
    "data['article'] = article_list\n",
    "sub_df = pd.DataFrame(data)"
   ]
  },
  {
   "cell_type": "code",
   "execution_count": null,
   "metadata": {},
   "outputs": [],
   "source": []
  },
  {
   "cell_type": "code",
   "execution_count": 10,
   "metadata": {},
   "outputs": [
    {
     "data": {
      "text/plain": [
       "28784"
      ]
     },
     "execution_count": 10,
     "metadata": {},
     "output_type": "execute_result"
    }
   ],
   "source": [
    "len(sub_df)"
   ]
  },
  {
   "cell_type": "code",
   "execution_count": null,
   "metadata": {},
   "outputs": [],
   "source": [
    "sub_df = pd.DataFrame(data)"
   ]
  }
 ],
 "metadata": {
  "interpreter": {
   "hash": "2ed4a71e0b52845796795684c845ed9425cdd404b8f8b655b622c7f66b7d417d"
  },
  "kernelspec": {
   "display_name": "Python 3.9.7 64-bit ('base': conda)",
   "language": "python",
   "name": "python3"
  },
  "language_info": {
   "codemirror_mode": {
    "name": "ipython",
    "version": 3
   },
   "file_extension": ".py",
   "mimetype": "text/x-python",
   "name": "python",
   "nbconvert_exporter": "python",
   "pygments_lexer": "ipython3",
   "version": "3.9.7"
  },
  "orig_nbformat": 4
 },
 "nbformat": 4,
 "nbformat_minor": 2
}
