{
 "cells": [
  {
   "cell_type": "code",
   "execution_count": 1,
   "metadata": {},
   "outputs": [],
   "source": [
    "# !wget --load-cookies /tmp/cookies.txt \"https://docs.google.com/uc?export=download&confirm=$(wget --quiet --save-cookies /tmp/cookies.txt --keep-session-cookies --no-check-certificate 'https://docs.google.com/uc?export=download&id=1nIUZxASrbIa0Z2xzGVgX1dqjtnFCoKNT' -O- | sed -rn 's/.*confirm=([0-9A-Za-z_]+).*/\\1\\n/p')&id=1nIUZxASrbIa0Z2xzGVgX1dqjtnFCoKNT\" -O dart.csv && rm -rf /tmp/cookies.txt"
   ]
  },
  {
   "cell_type": "code",
   "execution_count": 5,
   "metadata": {},
   "outputs": [],
   "source": [
    "from gensim.models import doc2vec\n",
    "import pandas as pd\n",
    "from konlpy.tag import Mecab\n",
    "from gensim.models.doc2vec import TaggedDocument\n",
    "from tqdm import tqdm\n",
    "from datasets import load_dataset\n",
    "\n",
    "df = pd.read_csv('dart_v2_1.csv') # loda dataset으로 똑같은거 불러오시면 됩니다.\n"
   ]
  },
  {
   "cell_type": "code",
   "execution_count": 6,
   "metadata": {},
   "outputs": [
    {
     "data": {
      "text/html": [
       "<div>\n",
       "<style scoped>\n",
       "    .dataframe tbody tr th:only-of-type {\n",
       "        vertical-align: middle;\n",
       "    }\n",
       "\n",
       "    .dataframe tbody tr th {\n",
       "        vertical-align: top;\n",
       "    }\n",
       "\n",
       "    .dataframe thead th {\n",
       "        text-align: right;\n",
       "    }\n",
       "</style>\n",
       "<table border=\"1\" class=\"dataframe\">\n",
       "  <thead>\n",
       "    <tr style=\"text-align: right;\">\n",
       "      <th></th>\n",
       "      <th>Unnamed: 0</th>\n",
       "      <th>stock_code</th>\n",
       "      <th>report_idx</th>\n",
       "      <th>corp_code</th>\n",
       "      <th>corp_name</th>\n",
       "      <th>report_date</th>\n",
       "      <th>clean</th>\n",
       "      <th>회사의 개요</th>\n",
       "      <th>사업의 개요</th>\n",
       "    </tr>\n",
       "  </thead>\n",
       "  <tbody>\n",
       "    <tr>\n",
       "      <th>0</th>\n",
       "      <td>0</td>\n",
       "      <td>950130</td>\n",
       "      <td>20211115000151</td>\n",
       "      <td>956028</td>\n",
       "      <td>엑세스바이오</td>\n",
       "      <td>20170630</td>\n",
       "      <td>{'【 대표이사 등의 확인 】': {}, 'I. 회사의 개요': {'1. 회사의 개...</td>\n",
       "      <td>1. 회사의 개요1. 연결대상 종속회사 개황(연결재무제표를 작성하는 주권상장법인이 ...</td>\n",
       "      <td>1. 사업의 개요당사는 체외진단 기술을 토대로  면역화학진단, 바이오센서, 분자진단...</td>\n",
       "    </tr>\n",
       "    <tr>\n",
       "      <th>1</th>\n",
       "      <td>1</td>\n",
       "      <td>900070</td>\n",
       "      <td>20211125000049</td>\n",
       "      <td>783246</td>\n",
       "      <td>글로벌에스엠</td>\n",
       "      <td>20170703</td>\n",
       "      <td>{'【 대표이사 등의 확인 】': {}, 'I. 회사의 개요': {'1. 회사의 개...</td>\n",
       "      <td>1. 회사의 개요1. 연결대상 종속회사 개황(연결재무제표를 작성하는 주권상장법인이 ...</td>\n",
       "      <td>1. 사업의 개요지주회사(持株會社, Holding Company)란 다른 회사의 주...</td>\n",
       "    </tr>\n",
       "    <tr>\n",
       "      <th>2</th>\n",
       "      <td>2</td>\n",
       "      <td>900120</td>\n",
       "      <td>20211028000448</td>\n",
       "      <td>800084</td>\n",
       "      <td>씨케이에이치</td>\n",
       "      <td>20170703</td>\n",
       "      <td>{'【 대표이사 등의 확인 】': {}, 'I. 회사의 개요': {'1. 회사의 개...</td>\n",
       "      <td>1. 회사의 개요 (1) 연결대상 종속회사 개황연결대상 종속회사 현황(요약) (단위...</td>\n",
       "      <td>1. 사업의 개요가. 산업개황 및 전망 당사의 매출과 이익은 중국 내에서의 건강식품...</td>\n",
       "    </tr>\n",
       "    <tr>\n",
       "      <th>3</th>\n",
       "      <td>3</td>\n",
       "      <td>900290</td>\n",
       "      <td>20211028000456</td>\n",
       "      <td>1170962</td>\n",
       "      <td>GRT</td>\n",
       "      <td>20181122</td>\n",
       "      <td>{'【 대표이사 등의 확인 】': {}, 'I. 회사의 개요': {'1. 회사의 개...</td>\n",
       "      <td>1. 회사의 개요가. 연결대상 종속회사 현황(요약) (단위 : 사)  구분  연결대...</td>\n",
       "      <td>1. 사업의 개요가. 산업의 이해  (1) 영위하고 있는 사업당사의 주요 사업영역으...</td>\n",
       "    </tr>\n",
       "    <tr>\n",
       "      <th>4</th>\n",
       "      <td>4</td>\n",
       "      <td>900340</td>\n",
       "      <td>20210830000685</td>\n",
       "      <td>1328639</td>\n",
       "      <td>윙입푸드</td>\n",
       "      <td>20181130</td>\n",
       "      <td>{'【 대표이사 등의 확인 】': {}, 'I. 회사의 개요': {'1. 회사의 개...</td>\n",
       "      <td>1. 회사의 개요가. 연결대상 종속회사 개황  1-1 연결대상 종속회사 현황(요약)...</td>\n",
       "      <td>1. 사업의 개요   당사는 한국 표준산업 분류 기준 대분류상 식료품 제조업 산업에...</td>\n",
       "    </tr>\n",
       "    <tr>\n",
       "      <th>...</th>\n",
       "      <td>...</td>\n",
       "      <td>...</td>\n",
       "      <td>...</td>\n",
       "      <td>...</td>\n",
       "      <td>...</td>\n",
       "      <td>...</td>\n",
       "      <td>...</td>\n",
       "      <td>...</td>\n",
       "      <td>...</td>\n",
       "    </tr>\n",
       "    <tr>\n",
       "      <th>2308</th>\n",
       "      <td>2308</td>\n",
       "      <td>17800</td>\n",
       "      <td>20211115002172</td>\n",
       "      <td>164724</td>\n",
       "      <td>현대엘리베이터</td>\n",
       "      <td>20210512</td>\n",
       "      <td>{'【 대표이사 등의 확인 】': {}, 'I. 회사의 개요': {'1. 회사의 개...</td>\n",
       "      <td>1. 회사의 개요가. 회사의 법적ㆍ상업적 명칭    - 당사의 명칭은 '현대엘리베이...</td>\n",
       "      <td>1. 사업의 개요◆ 당사는 1984년 5월 23일 설립하여 엘리베이터, 에스컬레이터...</td>\n",
       "    </tr>\n",
       "    <tr>\n",
       "      <th>2309</th>\n",
       "      <td>2309</td>\n",
       "      <td>3410</td>\n",
       "      <td>20211115002437</td>\n",
       "      <td>138224</td>\n",
       "      <td>쌍용씨앤이</td>\n",
       "      <td>20211020</td>\n",
       "      <td>{'【 대표이사 등의 확인 】': {}, 'I. 회사의 개요': {'1. 회사의 개...</td>\n",
       "      <td>1. 회사의 개요 가. 연결대상 종속회사 현황(요약) (단위 : 사)  구분  연결...</td>\n",
       "      <td>1. 사업의 개요  쌍용C&amp;E㈜는 시멘트사업을 중심으로 환경자원사업, 레미콘사업, ...</td>\n",
       "    </tr>\n",
       "    <tr>\n",
       "      <th>2310</th>\n",
       "      <td>2310</td>\n",
       "      <td>15760</td>\n",
       "      <td>20211115001967</td>\n",
       "      <td>159193</td>\n",
       "      <td>한국전력공사</td>\n",
       "      <td>20210602</td>\n",
       "      <td>{'【 대표이사 등의 확인 】': {}, 'I. 회사의 개요': {'1. 회사의 개...</td>\n",
       "      <td>1. 회사의 개요  한국전력공사는 1982년 1월 1일 설립되어 1989년 8월 1...</td>\n",
       "      <td>1. 사업의 개요현재 국내 전력 산업의 체계는 전력생산, 수송, 판매 체계로 이뤄지...</td>\n",
       "    </tr>\n",
       "    <tr>\n",
       "      <th>2311</th>\n",
       "      <td>2311</td>\n",
       "      <td>900140</td>\n",
       "      <td>20211126000686</td>\n",
       "      <td>838500</td>\n",
       "      <td>엘브이엠씨</td>\n",
       "      <td>20210611</td>\n",
       "      <td>{'【 대표이사 등의 확인 】': {}, 'I. 회사의 개요': {'1. 회사의 개...</td>\n",
       "      <td>1. 회사의 개요가. 연결대상 종속회사 개황(연결재무제표를 작성하는 주권상장법인이 ...</td>\n",
       "      <td>1. 사업의 개요당사는 2009년 6월 16일 라오스 소재의 사업자회사인 Auto ...</td>\n",
       "    </tr>\n",
       "    <tr>\n",
       "      <th>2312</th>\n",
       "      <td>2312</td>\n",
       "      <td>5380</td>\n",
       "      <td>20211115001980</td>\n",
       "      <td>164742</td>\n",
       "      <td>현대자동차</td>\n",
       "      <td>20210512</td>\n",
       "      <td>{'【 대표이사 등의 확인 】': {}, 'I. 회사의 개요': {'1. 회사의 개...</td>\n",
       "      <td>1. 회사의 개요가.연결대상 종속회사 개황  1. 연결대상 종속회사 현황(요약) (...</td>\n",
       "      <td>1. (제조서비스업)사업의 개요[차량부문] 당사는 제 54기 3분기 누적 293만대...</td>\n",
       "    </tr>\n",
       "  </tbody>\n",
       "</table>\n",
       "<p>2313 rows × 9 columns</p>\n",
       "</div>"
      ],
      "text/plain": [
       "      Unnamed: 0  stock_code      report_idx  corp_code corp_name  \\\n",
       "0              0      950130  20211115000151     956028    엑세스바이오   \n",
       "1              1      900070  20211125000049     783246    글로벌에스엠   \n",
       "2              2      900120  20211028000448     800084    씨케이에이치   \n",
       "3              3      900290  20211028000456    1170962       GRT   \n",
       "4              4      900340  20210830000685    1328639      윙입푸드   \n",
       "...          ...         ...             ...        ...       ...   \n",
       "2308        2308       17800  20211115002172     164724   현대엘리베이터   \n",
       "2309        2309        3410  20211115002437     138224     쌍용씨앤이   \n",
       "2310        2310       15760  20211115001967     159193    한국전력공사   \n",
       "2311        2311      900140  20211126000686     838500     엘브이엠씨   \n",
       "2312        2312        5380  20211115001980     164742     현대자동차   \n",
       "\n",
       "      report_date                                              clean  \\\n",
       "0        20170630  {'【 대표이사 등의 확인 】': {}, 'I. 회사의 개요': {'1. 회사의 개...   \n",
       "1        20170703  {'【 대표이사 등의 확인 】': {}, 'I. 회사의 개요': {'1. 회사의 개...   \n",
       "2        20170703  {'【 대표이사 등의 확인 】': {}, 'I. 회사의 개요': {'1. 회사의 개...   \n",
       "3        20181122  {'【 대표이사 등의 확인 】': {}, 'I. 회사의 개요': {'1. 회사의 개...   \n",
       "4        20181130  {'【 대표이사 등의 확인 】': {}, 'I. 회사의 개요': {'1. 회사의 개...   \n",
       "...           ...                                                ...   \n",
       "2308     20210512  {'【 대표이사 등의 확인 】': {}, 'I. 회사의 개요': {'1. 회사의 개...   \n",
       "2309     20211020  {'【 대표이사 등의 확인 】': {}, 'I. 회사의 개요': {'1. 회사의 개...   \n",
       "2310     20210602  {'【 대표이사 등의 확인 】': {}, 'I. 회사의 개요': {'1. 회사의 개...   \n",
       "2311     20210611  {'【 대표이사 등의 확인 】': {}, 'I. 회사의 개요': {'1. 회사의 개...   \n",
       "2312     20210512  {'【 대표이사 등의 확인 】': {}, 'I. 회사의 개요': {'1. 회사의 개...   \n",
       "\n",
       "                                                 회사의 개요  \\\n",
       "0     1. 회사의 개요1. 연결대상 종속회사 개황(연결재무제표를 작성하는 주권상장법인이 ...   \n",
       "1     1. 회사의 개요1. 연결대상 종속회사 개황(연결재무제표를 작성하는 주권상장법인이 ...   \n",
       "2     1. 회사의 개요 (1) 연결대상 종속회사 개황연결대상 종속회사 현황(요약) (단위...   \n",
       "3     1. 회사의 개요가. 연결대상 종속회사 현황(요약) (단위 : 사)  구분  연결대...   \n",
       "4     1. 회사의 개요가. 연결대상 종속회사 개황  1-1 연결대상 종속회사 현황(요약)...   \n",
       "...                                                 ...   \n",
       "2308  1. 회사의 개요가. 회사의 법적ㆍ상업적 명칭    - 당사의 명칭은 '현대엘리베이...   \n",
       "2309  1. 회사의 개요 가. 연결대상 종속회사 현황(요약) (단위 : 사)  구분  연결...   \n",
       "2310  1. 회사의 개요  한국전력공사는 1982년 1월 1일 설립되어 1989년 8월 1...   \n",
       "2311  1. 회사의 개요가. 연결대상 종속회사 개황(연결재무제표를 작성하는 주권상장법인이 ...   \n",
       "2312  1. 회사의 개요가.연결대상 종속회사 개황  1. 연결대상 종속회사 현황(요약) (...   \n",
       "\n",
       "                                                 사업의 개요  \n",
       "0     1. 사업의 개요당사는 체외진단 기술을 토대로  면역화학진단, 바이오센서, 분자진단...  \n",
       "1     1. 사업의 개요지주회사(持株會社, Holding Company)란 다른 회사의 주...  \n",
       "2     1. 사업의 개요가. 산업개황 및 전망 당사의 매출과 이익은 중국 내에서의 건강식품...  \n",
       "3     1. 사업의 개요가. 산업의 이해  (1) 영위하고 있는 사업당사의 주요 사업영역으...  \n",
       "4     1. 사업의 개요   당사는 한국 표준산업 분류 기준 대분류상 식료품 제조업 산업에...  \n",
       "...                                                 ...  \n",
       "2308  1. 사업의 개요◆ 당사는 1984년 5월 23일 설립하여 엘리베이터, 에스컬레이터...  \n",
       "2309  1. 사업의 개요  쌍용C&E㈜는 시멘트사업을 중심으로 환경자원사업, 레미콘사업, ...  \n",
       "2310  1. 사업의 개요현재 국내 전력 산업의 체계는 전력생산, 수송, 판매 체계로 이뤄지...  \n",
       "2311  1. 사업의 개요당사는 2009년 6월 16일 라오스 소재의 사업자회사인 Auto ...  \n",
       "2312  1. (제조서비스업)사업의 개요[차량부문] 당사는 제 54기 3분기 누적 293만대...  \n",
       "\n",
       "[2313 rows x 9 columns]"
      ]
     },
     "execution_count": 6,
     "metadata": {},
     "output_type": "execute_result"
    }
   ],
   "source": [
    "df"
   ]
  },
  {
   "cell_type": "code",
   "execution_count": 7,
   "metadata": {},
   "outputs": [
    {
     "name": "stderr",
     "output_type": "stream",
     "text": [
      "100%|██████████| 2313/2313 [07:13<00:00,  5.34it/s]"
     ]
    },
    {
     "name": "stdout",
     "output_type": "stream",
     "text": [
      "문서의 수 : 2313\n"
     ]
    },
    {
     "name": "stderr",
     "output_type": "stream",
     "text": [
      "\n"
     ]
    }
   ],
   "source": [
    "mecab = Mecab()\n",
    "\n",
    "tagged_corpus_list = []\n",
    "\n",
    "for index, row in tqdm(df.iterrows(), total=len(df)):\n",
    "  text = row['clean']\n",
    "  tag = row['corp_name']\n",
    "  tagged_corpus_list.append(TaggedDocument(tags=[tag], words=mecab.morphs(text)))\n",
    "\n",
    "print('문서의 수 :', len(tagged_corpus_list))"
   ]
  },
  {
   "cell_type": "code",
   "execution_count": 39,
   "metadata": {},
   "outputs": [],
   "source": [
    "# tagged_corpus_list[0]\n"
   ]
  },
  {
   "cell_type": "code",
   "execution_count": 6,
   "metadata": {},
   "outputs": [
    {
     "data": {
      "text/plain": [
       "'3.8.3'"
      ]
     },
     "execution_count": 6,
     "metadata": {},
     "output_type": "execute_result"
    }
   ],
   "source": [
    "from gensim.models import doc2vec\n",
    "import gensim\n",
    "\n",
    "# !pip install gensim==3.8.3\n",
    "gensim.__version__"
   ]
  },
  {
   "cell_type": "code",
   "execution_count": 24,
   "metadata": {},
   "outputs": [
    {
     "name": "stdout",
     "output_type": "stream",
     "text": [
      "Tag Size: 2313 / "
     ]
    }
   ],
   "source": [
    "model = doc2vec.Doc2Vec(vector_size=300, alpha=0.025, min_alpha=0.025, workers=8, window=8)\n",
    "\n",
    "# Vocabulary 빌드\n",
    "model.build_vocab(tagged_corpus_list)\n",
    "print(f\"Tag Size: {len(model.docvecs.doctags.keys())}\", end=' / ')\n",
    "\n",
    "# Doc2Vec 학습\n",
    "model.train(tagged_corpus_list, total_examples=model.corpus_count, epochs=50)\n",
    "\n",
    "# 모델 저장\n",
    "model.save('dart.doc2vec')"
   ]
  },
  {
   "cell_type": "code",
   "execution_count": 38,
   "metadata": {},
   "outputs": [
    {
     "name": "stdout",
     "output_type": "stream",
     "text": [
      "[('대상홀딩스', 0.6068530082702637), ('신송홀딩스', 0.4938071072101593), ('샘표식품', 0.4451195001602173), ('CJ제일제당', 0.43365150690078735), ('동원F&B', 0.4312994182109833), ('네오크레마', 0.42146843671798706), ('CJ씨푸드', 0.42137080430984497), ('대한제당', 0.42110705375671387), ('샘표', 0.4198298454284668), ('오뚜기', 0.41936951875686646)]\n"
     ]
    }
   ],
   "source": [
    "model = doc2vec.Doc2Vec.load('dart.doc2vec')\n",
    "similar_doc = model.docvecs.most_similar('대상', topn=10)\n",
    "print(similar_doc)"
   ]
  },
  {
   "cell_type": "code",
   "execution_count": 29,
   "metadata": {},
   "outputs": [
    {
     "name": "stdout",
     "output_type": "stream",
     "text": [
      "[('삼성전기', 0.5503195524215698), ('코미코', 0.45464521646499634), ('LG디스플레이', 0.4512143135070801), ('솔루엠', 0.43255314230918884), ('LG전자', 0.4290298521518707), ('현대모비스', 0.41662076115608215), ('삼성SDI', 0.41464823484420776), ('영풍', 0.41451069712638855), ('피에스케이', 0.40894365310668945), ('화신', 0.4028289318084717), ('신성이엔지', 0.40143483877182007), ('원익IPS', 0.40046101808547974), ('AP시스템', 0.39835667610168457), ('LG화학', 0.3982613682746887), ('심텍홀딩스', 0.39380714297294617), ('현대자동차', 0.3906320631504059), ('이라이콤', 0.3900991380214691), ('에이스테크', 0.38972240686416626), ('이마트', 0.3890407979488373), ('한미반도체', 0.38878360390663147)]\n"
     ]
    }
   ],
   "source": [
    "model = doc2vec.Doc2Vec.load('dart100.doc2vec')\n",
    "similar_doc = model.docvecs.most_similar('삼성전자', topn=10)\n",
    "print(similar_doc)"
   ]
  },
  {
   "cell_type": "code",
   "execution_count": null,
   "metadata": {},
   "outputs": [],
   "source": []
  }
 ],
 "metadata": {
  "interpreter": {
   "hash": "e31c68abf1d5dd3f9e2269f23eadf1b199587e56c0618a30760176a65ebfcab4"
  },
  "kernelspec": {
   "display_name": "Python 3.7.11 64-bit ('lightweight': conda)",
   "language": "python",
   "name": "python3"
  },
  "language_info": {
   "codemirror_mode": {
    "name": "ipython",
    "version": 3
   },
   "file_extension": ".py",
   "mimetype": "text/x-python",
   "name": "python",
   "nbconvert_exporter": "python",
   "pygments_lexer": "ipython3",
   "version": "3.7.11"
  },
  "orig_nbformat": 4
 },
 "nbformat": 4,
 "nbformat_minor": 2
}
