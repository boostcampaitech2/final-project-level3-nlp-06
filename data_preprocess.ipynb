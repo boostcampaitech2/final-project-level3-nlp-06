{
 "cells": [
  {
   "cell_type": "code",
   "execution_count": null,
   "metadata": {},
   "outputs": [],
   "source": [
    "import re\n",
    "import pickle"
   ]
  },
  {
   "cell_type": "code",
   "execution_count": null,
   "metadata": {},
   "outputs": [],
   "source": [
    "with open('corp_2500_result.pickle', 'rb') as f :\n",
    "    corp_2500 = pickle.load(f)\n",
    "     "
   ]
  },
  {
   "cell_type": "code",
   "execution_count": null,
   "metadata": {},
   "outputs": [],
   "source": [
    "def preprocess(text):\n",
    "    text = re.sub(r'\\n', ' ', text)\n",
    "    text = re.sub(r'\\n\\n', \" \", text)\n",
    "    text = re.sub(r\"&cr\", \" \", text)\n",
    "    return text "
   ]
  },
  {
   "cell_type": "code",
   "execution_count": null,
   "metadata": {},
   "outputs": [],
   "source": [
    "def corp_preprocess(corp_2500):\n",
    "    for i in range(len(corp_2500)):\n",
    "\n",
    "        first_list = list(corp_2500[i].keys())\n",
    "\n",
    "        for content in first_list:\n",
    "            if type(corp_2500[i][content]) == str:\n",
    "                pass\n",
    "\n",
    "            elif type(corp_2500[i][content]) == dict:\n",
    "                second_list = list(corp_2500[i][content].keys())\n",
    "\n",
    "                for context in second_list :\n",
    "                    if type(corp_2500[i][content][context]) == str:\n",
    "                        text = corp_2500[i][content][context]\n",
    "                        text = preprocess(text)\n",
    "                        corp_2500[i][content][context] = text\n",
    "\n",
    "                    elif type(corp_2500[i][content][context]) == dict:\n",
    "                        third_list = list(corp_2500[i][content][context].keys())\n",
    "                        for last in third_list :\n",
    "                            text = corp_2500[i][content][context][last]\n",
    "                            text = preprocess(text)\n",
    "                            corp_2500[i][content][context][last] = text\n",
    "\n",
    "    return corp_2500\n",
    "                                \n"
   ]
  },
  {
   "cell_type": "code",
   "execution_count": null,
   "metadata": {},
   "outputs": [],
   "source": [
    "# ['주식 코드', 'report_idx', '기업 코드', '기업 이름', '수정 일자', 'contents'] -> dict type\n",
    "\n",
    "'''\n",
    "contents.keys() = ['【 대표이사 등의 확인 】', 'I. 회사의 개요', 'II. 사업의 내용', 'III. 재무에 관한 사항', \n",
    "'IV. 이사의 경영진단 및 분석의견', 'V. 회계감사인의 감사의견 등', 'VI. 이사회 등 회사의 기관에 관한 사항', 'VII. 주주에 관한 사항', \n",
    "'VIII. 임원 및 직원 등에 관한 사항', 'IX. 계열회사 등에 관한 사항', 'X. 대주주 등과의 거래내용', \n",
    "'XI. 그 밖에 투자자 보호를 위하여 필요한 사항', 'XII. 상세표', '【 전문가의 확인 】']\n",
    "'''\n",
    "\n",
    "corp_2500 = corp_preprocess(corp_2500)\n",
    "corp_2500[0]['contents']['I. 회사의 개요']"
   ]
  },
  {
   "cell_type": "code",
   "execution_count": null,
   "metadata": {},
   "outputs": [],
   "source": [
    "corp_2500[0]['contents']['I. 회사의 개요']['1. 회사의 개요']"
   ]
  },
  {
   "cell_type": "code",
   "execution_count": null,
   "metadata": {},
   "outputs": [],
   "source": []
  }
 ],
 "metadata": {
  "interpreter": {
   "hash": "e31c68abf1d5dd3f9e2269f23eadf1b199587e56c0618a30760176a65ebfcab4"
  },
  "kernelspec": {
   "display_name": "Python 3.7.11 64-bit ('lightweight': conda)",
   "language": "python",
   "name": "python3"
  },
  "language_info": {
   "codemirror_mode": {
    "name": "ipython",
    "version": 3
   },
   "file_extension": ".py",
   "mimetype": "text/x-python",
   "name": "python",
   "nbconvert_exporter": "python",
   "pygments_lexer": "ipython3",
   "version": "3.7.11"
  },
  "orig_nbformat": 4
 },
 "nbformat": 4,
 "nbformat_minor": 2
}
