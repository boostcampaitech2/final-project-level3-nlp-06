{
 "cells": [
  {
   "cell_type": "markdown",
   "id": "dc914a58-8042-4504-8295-89b51017825d",
   "metadata": {},
   "source": [
    "# 다트 3.01 데이터 EDA"
   ]
  },
  {
   "cell_type": "code",
   "execution_count": 558,
   "id": "e6ca2dc5-e56d-4406-8b2a-ae7e6dab0a57",
   "metadata": {},
   "outputs": [],
   "source": [
    "import pandas as pd"
   ]
  },
  {
   "cell_type": "code",
   "execution_count": 559,
   "id": "5f238da3-cab9-465c-b244-a45e4afe9c5e",
   "metadata": {},
   "outputs": [
    {
     "data": {
      "text/html": [
       "<div>\n",
       "<style scoped>\n",
       "    .dataframe tbody tr th:only-of-type {\n",
       "        vertical-align: middle;\n",
       "    }\n",
       "\n",
       "    .dataframe tbody tr th {\n",
       "        vertical-align: top;\n",
       "    }\n",
       "\n",
       "    .dataframe thead th {\n",
       "        text-align: right;\n",
       "    }\n",
       "</style>\n",
       "<table border=\"1\" class=\"dataframe\">\n",
       "  <thead>\n",
       "    <tr style=\"text-align: right;\">\n",
       "      <th></th>\n",
       "      <th>Unnamed: 0</th>\n",
       "      <th>Unnamed: 0.1</th>\n",
       "      <th>주식 코드</th>\n",
       "      <th>report_idx</th>\n",
       "      <th>기업 코드</th>\n",
       "      <th>기업 이름</th>\n",
       "      <th>수정 일자</th>\n",
       "      <th>사업의 개요</th>\n",
       "    </tr>\n",
       "  </thead>\n",
       "  <tbody>\n",
       "    <tr>\n",
       "      <th>0</th>\n",
       "      <td>0</td>\n",
       "      <td>0</td>\n",
       "      <td>950130</td>\n",
       "      <td>20211115000151</td>\n",
       "      <td>956028</td>\n",
       "      <td>엑세스바이오</td>\n",
       "      <td>20170630</td>\n",
       "      <td>['당사는 체외진단 기술을 토대로 면역화학진단 바이오센서 분자진단 기술을 기반으로 ...</td>\n",
       "    </tr>\n",
       "    <tr>\n",
       "      <th>1</th>\n",
       "      <td>1</td>\n",
       "      <td>1</td>\n",
       "      <td>33030</td>\n",
       "      <td>20211115002044</td>\n",
       "      <td>232317</td>\n",
       "      <td>지오엠씨</td>\n",
       "      <td>20170630</td>\n",
       "      <td>['가  영업의 현황', '당사는 30년간 지속적으로 진행해 오고 있는 엠씨스퀘어 ...</td>\n",
       "    </tr>\n",
       "    <tr>\n",
       "      <th>2</th>\n",
       "      <td>2</td>\n",
       "      <td>3</td>\n",
       "      <td>139200</td>\n",
       "      <td>20211115002442</td>\n",
       "      <td>855145</td>\n",
       "      <td>하이골드오션2호선박투자회사</td>\n",
       "      <td>20171127</td>\n",
       "      <td>['당사는 선박투자회사법에 따라 케이에스에프선박금융 가 발기인이 되어 설립되었으며 ...</td>\n",
       "    </tr>\n",
       "    <tr>\n",
       "      <th>3</th>\n",
       "      <td>3</td>\n",
       "      <td>4</td>\n",
       "      <td>900070</td>\n",
       "      <td>20211125000049</td>\n",
       "      <td>783246</td>\n",
       "      <td>글로벌에스엠</td>\n",
       "      <td>20170703</td>\n",
       "      <td>['지회사 (持    Holding Company) 란 다른 회사의 식을 소유한 회...</td>\n",
       "    </tr>\n",
       "    <tr>\n",
       "      <th>4</th>\n",
       "      <td>4</td>\n",
       "      <td>5</td>\n",
       "      <td>900120</td>\n",
       "      <td>20211028000448</td>\n",
       "      <td>800084</td>\n",
       "      <td>씨케이에이치</td>\n",
       "      <td>20170703</td>\n",
       "      <td>['가  산업개황 및 전망 당사의 매출과 이익은 중국 내에서의 건강식품 생산 및 판...</td>\n",
       "    </tr>\n",
       "  </tbody>\n",
       "</table>\n",
       "</div>"
      ],
      "text/plain": [
       "   Unnamed: 0  Unnamed: 0.1   주식 코드      report_idx   기업 코드           기업 이름  \\\n",
       "0           0             0  950130  20211115000151  956028          엑세스바이오   \n",
       "1           1             1   33030  20211115002044  232317            지오엠씨   \n",
       "2           2             3  139200  20211115002442  855145  하이골드오션2호선박투자회사   \n",
       "3           3             4  900070  20211125000049  783246          글로벌에스엠   \n",
       "4           4             5  900120  20211028000448  800084          씨케이에이치   \n",
       "\n",
       "      수정 일자                                             사업의 개요  \n",
       "0  20170630  ['당사는 체외진단 기술을 토대로 면역화학진단 바이오센서 분자진단 기술을 기반으로 ...  \n",
       "1  20170630  ['가  영업의 현황', '당사는 30년간 지속적으로 진행해 오고 있는 엠씨스퀘어 ...  \n",
       "2  20171127  ['당사는 선박투자회사법에 따라 케이에스에프선박금융 가 발기인이 되어 설립되었으며 ...  \n",
       "3  20170703  ['지회사 (持    Holding Company) 란 다른 회사의 식을 소유한 회...  \n",
       "4  20170703  ['가  산업개황 및 전망 당사의 매출과 이익은 중국 내에서의 건강식품 생산 및 판...  "
      ]
     },
     "execution_count": 559,
     "metadata": {},
     "output_type": "execute_result"
    }
   ],
   "source": [
    "df = pd.read_csv(\"dart_ret_v0.csv\")\n",
    "df.head()"
   ]
  },
  {
   "cell_type": "markdown",
   "id": "c51ddafd-8e2f-4be1-9d03-cb8b231d3e6c",
   "metadata": {},
   "source": [
    "# 각 기업 마다 몇개의 passage을 가지고 있는지"
   ]
  },
  {
   "cell_type": "code",
   "execution_count": 560,
   "id": "1feb1856-73bc-4ffd-ab21-e04c4f100186",
   "metadata": {},
   "outputs": [
    {
     "data": {
      "text/html": [
       "<div>\n",
       "<style scoped>\n",
       "    .dataframe tbody tr th:only-of-type {\n",
       "        vertical-align: middle;\n",
       "    }\n",
       "\n",
       "    .dataframe tbody tr th {\n",
       "        vertical-align: top;\n",
       "    }\n",
       "\n",
       "    .dataframe thead th {\n",
       "        text-align: right;\n",
       "    }\n",
       "</style>\n",
       "<table border=\"1\" class=\"dataframe\">\n",
       "  <thead>\n",
       "    <tr style=\"text-align: right;\">\n",
       "      <th></th>\n",
       "      <th>0</th>\n",
       "    </tr>\n",
       "  </thead>\n",
       "  <tbody>\n",
       "    <tr>\n",
       "      <th>count</th>\n",
       "      <td>2410.000000</td>\n",
       "    </tr>\n",
       "    <tr>\n",
       "      <th>mean</th>\n",
       "      <td>12.739004</td>\n",
       "    </tr>\n",
       "    <tr>\n",
       "      <th>std</th>\n",
       "      <td>24.764586</td>\n",
       "    </tr>\n",
       "    <tr>\n",
       "      <th>min</th>\n",
       "      <td>0.000000</td>\n",
       "    </tr>\n",
       "    <tr>\n",
       "      <th>25%</th>\n",
       "      <td>1.000000</td>\n",
       "    </tr>\n",
       "    <tr>\n",
       "      <th>50%</th>\n",
       "      <td>4.000000</td>\n",
       "    </tr>\n",
       "    <tr>\n",
       "      <th>75%</th>\n",
       "      <td>12.000000</td>\n",
       "    </tr>\n",
       "    <tr>\n",
       "      <th>max</th>\n",
       "      <td>252.000000</td>\n",
       "    </tr>\n",
       "  </tbody>\n",
       "</table>\n",
       "</div>"
      ],
      "text/plain": [
       "                 0\n",
       "count  2410.000000\n",
       "mean     12.739004\n",
       "std      24.764586\n",
       "min       0.000000\n",
       "25%       1.000000\n",
       "50%       4.000000\n",
       "75%      12.000000\n",
       "max     252.000000"
      ]
     },
     "execution_count": 560,
     "metadata": {},
     "output_type": "execute_result"
    }
   ],
   "source": [
    "summary = df['사업의 개요'].map(eval)\n",
    "len_list = []\n",
    "for summ in summary:\n",
    "    len_list.append( len(summ) )\n",
    "pd.DataFrame(len_list).describe()"
   ]
  },
  {
   "cell_type": "code",
   "execution_count": 561,
   "id": "6e668d1c-61c4-4956-a47f-5775271cc6cf",
   "metadata": {},
   "outputs": [
    {
     "data": {
      "text/plain": [
       "(array([917., 557., 160., 136.,  59., 108.,  40.,  49.,  31.,  36.,  24.,\n",
       "         26.,  23.,  21.,  13.,  15.,  12.,  10.,  10.,  10.,   9.,   7.,\n",
       "          8.,   7.,   4.,   5.,   6.,   8.,   5.,   3.,   6.,   5.,   9.,\n",
       "          6.,   4.,   5.,   8.,   2.,   4.,   2.,   3.,   3.,   2.,   3.,\n",
       "          1.,   0.,   0.,   1.,   1.,   2.,   0.,   2.,   1.,   2.,   1.,\n",
       "          2.,   2.,   1.,   0.,   0.,   0.,   2.,   0.,   3.,   0.,   0.,\n",
       "          0.,   1.,   0.,   0.,   0.,   0.,   0.,   0.,   0.,   0.,   0.,\n",
       "          0.,   0.,   0.,   0.,   0.,   0.,   0.,   4.,   0.,   0.,   0.,\n",
       "          0.,   1.,   0.,   0.,   0.,   0.,   0.,   0.,   1.,   0.,   0.,\n",
       "          1.]),\n",
       " array([  0.  ,   2.52,   5.04,   7.56,  10.08,  12.6 ,  15.12,  17.64,\n",
       "         20.16,  22.68,  25.2 ,  27.72,  30.24,  32.76,  35.28,  37.8 ,\n",
       "         40.32,  42.84,  45.36,  47.88,  50.4 ,  52.92,  55.44,  57.96,\n",
       "         60.48,  63.  ,  65.52,  68.04,  70.56,  73.08,  75.6 ,  78.12,\n",
       "         80.64,  83.16,  85.68,  88.2 ,  90.72,  93.24,  95.76,  98.28,\n",
       "        100.8 , 103.32, 105.84, 108.36, 110.88, 113.4 , 115.92, 118.44,\n",
       "        120.96, 123.48, 126.  , 128.52, 131.04, 133.56, 136.08, 138.6 ,\n",
       "        141.12, 143.64, 146.16, 148.68, 151.2 , 153.72, 156.24, 158.76,\n",
       "        161.28, 163.8 , 166.32, 168.84, 171.36, 173.88, 176.4 , 178.92,\n",
       "        181.44, 183.96, 186.48, 189.  , 191.52, 194.04, 196.56, 199.08,\n",
       "        201.6 , 204.12, 206.64, 209.16, 211.68, 214.2 , 216.72, 219.24,\n",
       "        221.76, 224.28, 226.8 , 229.32, 231.84, 234.36, 236.88, 239.4 ,\n",
       "        241.92, 244.44, 246.96, 249.48, 252.  ]),\n",
       " <BarContainer object of 100 artists>)"
      ]
     },
     "execution_count": 561,
     "metadata": {},
     "output_type": "execute_result"
    },
    {
     "data": {
      "image/png": "[encoded data removed]",
      "text/plain": [
       "<Figure size 432x288 with 1 Axes>"
      ]
     },
     "metadata": {
      "needs_background": "light"
     },
     "output_type": "display_data"
    }
   ],
   "source": [
    "import matplotlib.pyplot as plt\n",
    "fig,ax = plt.subplots(1)\n",
    "ax.hist(len_list, bins = 100)"
   ]
  },
  {
   "cell_type": "markdown",
   "id": "51cb47bd-245e-45f2-97c4-154e4b3fea2b",
   "metadata": {},
   "source": [
    "# 각 passage의 길이가 어떻게 되는지"
   ]
  },
  {
   "cell_type": "code",
   "execution_count": 562,
   "id": "0178d83c-1e96-4683-bd49-b60fdf928c97",
   "metadata": {},
   "outputs": [
    {
     "data": {
      "text/html": [
       "<div>\n",
       "<style scoped>\n",
       "    .dataframe tbody tr th:only-of-type {\n",
       "        vertical-align: middle;\n",
       "    }\n",
       "\n",
       "    .dataframe tbody tr th {\n",
       "        vertical-align: top;\n",
       "    }\n",
       "\n",
       "    .dataframe thead th {\n",
       "        text-align: right;\n",
       "    }\n",
       "</style>\n",
       "<table border=\"1\" class=\"dataframe\">\n",
       "  <thead>\n",
       "    <tr style=\"text-align: right;\">\n",
       "      <th></th>\n",
       "      <th>0</th>\n",
       "    </tr>\n",
       "  </thead>\n",
       "  <tbody>\n",
       "    <tr>\n",
       "      <th>count</th>\n",
       "      <td>30701.000000</td>\n",
       "    </tr>\n",
       "    <tr>\n",
       "      <th>mean</th>\n",
       "      <td>215.975766</td>\n",
       "    </tr>\n",
       "    <tr>\n",
       "      <th>std</th>\n",
       "      <td>350.932006</td>\n",
       "    </tr>\n",
       "    <tr>\n",
       "      <th>min</th>\n",
       "      <td>1.000000</td>\n",
       "    </tr>\n",
       "    <tr>\n",
       "      <th>25%</th>\n",
       "      <td>22.000000</td>\n",
       "    </tr>\n",
       "    <tr>\n",
       "      <th>50%</th>\n",
       "      <td>131.000000</td>\n",
       "    </tr>\n",
       "    <tr>\n",
       "      <th>75%</th>\n",
       "      <td>267.000000</td>\n",
       "    </tr>\n",
       "    <tr>\n",
       "      <th>max</th>\n",
       "      <td>7440.000000</td>\n",
       "    </tr>\n",
       "  </tbody>\n",
       "</table>\n",
       "</div>"
      ],
      "text/plain": [
       "                  0\n",
       "count  30701.000000\n",
       "mean     215.975766\n",
       "std      350.932006\n",
       "min        1.000000\n",
       "25%       22.000000\n",
       "50%      131.000000\n",
       "75%      267.000000\n",
       "max     7440.000000"
      ]
     },
     "execution_count": 562,
     "metadata": {},
     "output_type": "execute_result"
    }
   ],
   "source": [
    "summary = df['사업의 개요'].map(eval)\n",
    "psg_len_list = []\n",
    "for summ in summary:\n",
    "    for psg in summ:\n",
    "        psg_len_list.append( len(psg) )\n",
    "pd.DataFrame(psg_len_list).describe()"
   ]
  },
  {
   "cell_type": "code",
   "execution_count": 563,
   "id": "218b6473-0e08-46cc-bc11-d1437c77a704",
   "metadata": {},
   "outputs": [
    {
     "data": {
      "text/plain": [
       "(array([1.1979e+04, 4.6800e+03, 4.4220e+03, 3.0760e+03, 1.9010e+03,\n",
       "        1.2200e+03, 7.7000e+02, 5.2700e+02, 3.9700e+02, 3.0200e+02,\n",
       "        2.1300e+02, 1.6900e+02, 1.5800e+02, 1.1400e+02, 1.0400e+02,\n",
       "        8.9000e+01, 7.2000e+01, 6.0000e+01, 6.3000e+01, 4.3000e+01,\n",
       "        4.0000e+01, 2.4000e+01, 2.3000e+01, 2.0000e+01, 1.9000e+01,\n",
       "        1.7000e+01, 1.7000e+01, 2.1000e+01, 1.5000e+01, 1.3000e+01,\n",
       "        7.0000e+00, 3.0000e+00, 8.0000e+00, 1.1000e+01, 7.0000e+00,\n",
       "        4.0000e+00, 7.0000e+00, 5.0000e+00, 6.0000e+00, 5.0000e+00,\n",
       "        3.0000e+00, 4.0000e+00, 9.0000e+00, 4.0000e+00, 4.0000e+00,\n",
       "        4.0000e+00, 1.0000e+00, 1.0000e+00, 2.0000e+00, 2.0000e+00,\n",
       "        2.0000e+00, 1.0000e+00, 3.0000e+00, 1.0000e+00, 0.0000e+00,\n",
       "        1.0000e+00, 0.0000e+00, 1.0000e+00, 1.0000e+00, 0.0000e+00,\n",
       "        3.0000e+00, 1.0000e+00, 0.0000e+00, 1.0000e+00, 2.0000e+00,\n",
       "        0.0000e+00, 0.0000e+00, 1.0000e+00, 1.0000e+00, 0.0000e+00,\n",
       "        0.0000e+00, 0.0000e+00, 0.0000e+00, 0.0000e+00, 0.0000e+00,\n",
       "        0.0000e+00, 0.0000e+00, 2.0000e+00, 0.0000e+00, 0.0000e+00,\n",
       "        1.0000e+00, 0.0000e+00, 1.0000e+00, 1.0000e+00, 2.0000e+00,\n",
       "        0.0000e+00, 1.0000e+00, 1.0000e+00, 4.0000e+00, 0.0000e+00,\n",
       "        2.0000e+00, 0.0000e+00, 0.0000e+00, 0.0000e+00, 0.0000e+00,\n",
       "        0.0000e+00, 0.0000e+00, 0.0000e+00, 1.0000e+00, 1.0000e+00]),\n",
       " array([1.00000e+00, 7.53900e+01, 1.49780e+02, 2.24170e+02, 2.98560e+02,\n",
       "        3.72950e+02, 4.47340e+02, 5.21730e+02, 5.96120e+02, 6.70510e+02,\n",
       "        7.44900e+02, 8.19290e+02, 8.93680e+02, 9.68070e+02, 1.04246e+03,\n",
       "        1.11685e+03, 1.19124e+03, 1.26563e+03, 1.34002e+03, 1.41441e+03,\n",
       "        1.48880e+03, 1.56319e+03, 1.63758e+03, 1.71197e+03, 1.78636e+03,\n",
       "        1.86075e+03, 1.93514e+03, 2.00953e+03, 2.08392e+03, 2.15831e+03,\n",
       "        2.23270e+03, 2.30709e+03, 2.38148e+03, 2.45587e+03, 2.53026e+03,\n",
       "        2.60465e+03, 2.67904e+03, 2.75343e+03, 2.82782e+03, 2.90221e+03,\n",
       "        2.97660e+03, 3.05099e+03, 3.12538e+03, 3.19977e+03, 3.27416e+03,\n",
       "        3.34855e+03, 3.42294e+03, 3.49733e+03, 3.57172e+03, 3.64611e+03,\n",
       "        3.72050e+03, 3.79489e+03, 3.86928e+03, 3.94367e+03, 4.01806e+03,\n",
       "        4.09245e+03, 4.16684e+03, 4.24123e+03, 4.31562e+03, 4.39001e+03,\n",
       "        4.46440e+03, 4.53879e+03, 4.61318e+03, 4.68757e+03, 4.76196e+03,\n",
       "        4.83635e+03, 4.91074e+03, 4.98513e+03, 5.05952e+03, 5.13391e+03,\n",
       "        5.20830e+03, 5.28269e+03, 5.35708e+03, 5.43147e+03, 5.50586e+03,\n",
       "        5.58025e+03, 5.65464e+03, 5.72903e+03, 5.80342e+03, 5.87781e+03,\n",
       "        5.95220e+03, 6.02659e+03, 6.10098e+03, 6.17537e+03, 6.24976e+03,\n",
       "        6.32415e+03, 6.39854e+03, 6.47293e+03, 6.54732e+03, 6.62171e+03,\n",
       "        6.69610e+03, 6.77049e+03, 6.84488e+03, 6.91927e+03, 6.99366e+03,\n",
       "        7.06805e+03, 7.14244e+03, 7.21683e+03, 7.29122e+03, 7.36561e+03,\n",
       "        7.44000e+03]),\n",
       " <BarContainer object of 100 artists>)"
      ]
     },
     "execution_count": 563,
     "metadata": {},
     "output_type": "execute_result"
    },
    {
     "data": {
      "image/png": "[encoded data removed]",
      "text/plain": [
       "<Figure size 432x288 with 1 Axes>"
      ]
     },
     "metadata": {
      "needs_background": "light"
     },
     "output_type": "display_data"
    }
   ],
   "source": [
    "import matplotlib.pyplot as plt\n",
    "fig,ax = plt.subplots(1)\n",
    "ax.hist(psg_len_list, bins = 100)"
   ]
  },
  {
   "cell_type": "markdown",
   "id": "bd9f1b2a-cbfe-43bf-8982-2bb9717170cb",
   "metadata": {},
   "source": [
    "# 전체 passage길이는 길다. 토큰은 몇개나?"
   ]
  },
  {
   "cell_type": "code",
   "execution_count": 564,
   "id": "21cfdabe-9b72-4766-8b6f-3ffae9386daf",
   "metadata": {},
   "outputs": [
    {
     "name": "stderr",
     "output_type": "stream",
     "text": [
      "Token indices sequence length is longer than the specified maximum sequence length for this model (563 > 512). Running this sequence through the model will result in indexing errors\n"
     ]
    }
   ],
   "source": [
    "from transformers import (\n",
    "    AutoTokenizer,\n",
    "    BertModel, BertPreTrainedModel,\n",
    "    # AdamW, get_linear_schedule_with_warmup,\n",
    "    # TrainingArguments,\n",
    ")\n",
    "tokenizer = AutoTokenizer.from_pretrained(\"klue/bert-base\")\n",
    "\n",
    "\n",
    "# 각 passage의 길이가 어떻게 되는지\n",
    "summary = df['사업의 개요'].map(eval)\n",
    "psg_list = []\n",
    "for summ in summary:\n",
    "    for psg in summ:\n",
    "        psg_list.append( psg )\n",
    "\n",
    "test = tokenizer(psg_list)"
   ]
  },
  {
   "cell_type": "code",
   "execution_count": 565,
   "id": "aa2464e9-f572-4193-b96a-44347023c85a",
   "metadata": {},
   "outputs": [],
   "source": [
    "tok_len_list = []\n",
    "for id in ids:\n",
    "    tok_len_list.append( len(id) )"
   ]
  },
  {
   "cell_type": "code",
   "execution_count": 566,
   "id": "37279e4d-4114-4fd1-aead-e2565e010d3b",
   "metadata": {},
   "outputs": [
    {
     "data": {
      "text/html": [
       "<div>\n",
       "<style scoped>\n",
       "    .dataframe tbody tr th:only-of-type {\n",
       "        vertical-align: middle;\n",
       "    }\n",
       "\n",
       "    .dataframe tbody tr th {\n",
       "        vertical-align: top;\n",
       "    }\n",
       "\n",
       "    .dataframe thead th {\n",
       "        text-align: right;\n",
       "    }\n",
       "</style>\n",
       "<table border=\"1\" class=\"dataframe\">\n",
       "  <thead>\n",
       "    <tr style=\"text-align: right;\">\n",
       "      <th></th>\n",
       "      <th>0</th>\n",
       "    </tr>\n",
       "  </thead>\n",
       "  <tbody>\n",
       "    <tr>\n",
       "      <th>count</th>\n",
       "      <td>30701.00000</td>\n",
       "    </tr>\n",
       "    <tr>\n",
       "      <th>mean</th>\n",
       "      <td>105.89743</td>\n",
       "    </tr>\n",
       "    <tr>\n",
       "      <th>std</th>\n",
       "      <td>167.73533</td>\n",
       "    </tr>\n",
       "    <tr>\n",
       "      <th>min</th>\n",
       "      <td>2.00000</td>\n",
       "    </tr>\n",
       "    <tr>\n",
       "      <th>25%</th>\n",
       "      <td>13.00000</td>\n",
       "    </tr>\n",
       "    <tr>\n",
       "      <th>50%</th>\n",
       "      <td>65.00000</td>\n",
       "    </tr>\n",
       "    <tr>\n",
       "      <th>75%</th>\n",
       "      <td>130.00000</td>\n",
       "    </tr>\n",
       "    <tr>\n",
       "      <th>max</th>\n",
       "      <td>3617.00000</td>\n",
       "    </tr>\n",
       "  </tbody>\n",
       "</table>\n",
       "</div>"
      ],
      "text/plain": [
       "                 0\n",
       "count  30701.00000\n",
       "mean     105.89743\n",
       "std      167.73533\n",
       "min        2.00000\n",
       "25%       13.00000\n",
       "50%       65.00000\n",
       "75%      130.00000\n",
       "max     3617.00000"
      ]
     },
     "execution_count": 566,
     "metadata": {},
     "output_type": "execute_result"
    }
   ],
   "source": [
    "# 실제 길이나 토큰의 길이나 비슷 비슷하다...\n",
    "pd.DataFrame(tok_len_list).describe()"
   ]
  },
  {
   "cell_type": "markdown",
   "id": "f56a3940-6f16-4e0e-84c0-014e1c3631d9",
   "metadata": {},
   "source": [
    "# 길이 분포에 따라 실제 값을 살펴보기"
   ]
  },
  {
   "cell_type": "code",
   "execution_count": 567,
   "id": "d86c07a6-b0b4-4c8c-8aa6-18306b3dbcc4",
   "metadata": {},
   "outputs": [
    {
     "data": {
      "text/html": [
       "<div>\n",
       "<style scoped>\n",
       "    .dataframe tbody tr th:only-of-type {\n",
       "        vertical-align: middle;\n",
       "    }\n",
       "\n",
       "    .dataframe tbody tr th {\n",
       "        vertical-align: top;\n",
       "    }\n",
       "\n",
       "    .dataframe thead th {\n",
       "        text-align: right;\n",
       "    }\n",
       "</style>\n",
       "<table border=\"1\" class=\"dataframe\">\n",
       "  <thead>\n",
       "    <tr style=\"text-align: right;\">\n",
       "      <th></th>\n",
       "      <th>0</th>\n",
       "      <th>len</th>\n",
       "    </tr>\n",
       "  </thead>\n",
       "  <tbody>\n",
       "    <tr>\n",
       "      <th>0</th>\n",
       "      <td>당사는 체외진단 기술을 토대로 면역화학진단 바이오센서 분자진단 기술을 기반으로 진단...</td>\n",
       "      <td>231</td>\n",
       "    </tr>\n",
       "    <tr>\n",
       "      <th>1</th>\n",
       "      <td>체외진단 시장은 인구 고령화 및 감염성 질병의 퇴치 질병 확산 방지를 위한 수요 증...</td>\n",
       "      <td>905</td>\n",
       "    </tr>\n",
       "    <tr>\n",
       "      <th>2</th>\n",
       "      <td>당사의 매출은 기본적으로 공공부문과 민간부분으로 이루어지고 있습니다  말라리아의 경...</td>\n",
       "      <td>329</td>\n",
       "    </tr>\n",
       "    <tr>\n",
       "      <th>3</th>\n",
       "      <td>가  영업의 현황</td>\n",
       "      <td>9</td>\n",
       "    </tr>\n",
       "    <tr>\n",
       "      <th>4</th>\n",
       "      <td>당사는 30년간 지속적으로 진행해 오고 있는 엠씨스퀘어 사업 부문과 2007년부터 ...</td>\n",
       "      <td>84</td>\n",
       "    </tr>\n",
       "  </tbody>\n",
       "</table>\n",
       "</div>"
      ],
      "text/plain": [
       "                                                   0  len\n",
       "0  당사는 체외진단 기술을 토대로 면역화학진단 바이오센서 분자진단 기술을 기반으로 진단...  231\n",
       "1  체외진단 시장은 인구 고령화 및 감염성 질병의 퇴치 질병 확산 방지를 위한 수요 증...  905\n",
       "2  당사의 매출은 기본적으로 공공부문과 민간부분으로 이루어지고 있습니다  말라리아의 경...  329\n",
       "3                                          가  영업의 현황    9\n",
       "4  당사는 30년간 지속적으로 진행해 오고 있는 엠씨스퀘어 사업 부문과 2007년부터 ...   84"
      ]
     },
     "execution_count": 567,
     "metadata": {},
     "output_type": "execute_result"
    }
   ],
   "source": [
    "psg_df = pd.DataFrame( psg_list )\n",
    "psg_df[\"len\"] = psg_df[0].map(len)\n",
    "psg_df.head()"
   ]
  },
  {
   "cell_type": "code",
   "execution_count": 568,
   "id": "0b9a8791-b56b-4551-bf7a-4055bb8bb53a",
   "metadata": {},
   "outputs": [
    {
     "data": {
      "text/plain": [
       "(                len\n",
       " count  30701.000000\n",
       " mean     215.975766\n",
       " std      350.932006\n",
       " min        1.000000\n",
       " 25%       22.000000\n",
       " 50%      131.000000\n",
       " 75%      267.000000\n",
       " max     7440.000000,\n",
       " 30701)"
      ]
     },
     "execution_count": 568,
     "metadata": {},
     "output_type": "execute_result"
    }
   ],
   "source": [
    "psg_df.describe(), len(psg_df)"
   ]
  },
  {
   "cell_type": "markdown",
   "id": "66c1563f-cda6-4c26-9598-77f30a02aee9",
   "metadata": {},
   "source": [
    "## 버트 기준 512을 넘어가는 데이터 살펴보기"
   ]
  },
  {
   "cell_type": "code",
   "execution_count": 569,
   "id": "c875d6a2-90df-4776-b936-32205f6f3553",
   "metadata": {},
   "outputs": [
    {
     "data": {
      "text/plain": [
       "(2723,\n",
       "                                                      0   len\n",
       " 1    체외진단 시장은 인구 고령화 및 감염성 질병의 퇴치 질병 확산 방지를 위한 수요 증...   905\n",
       " 32   당사는 SM (HK) SM (WH) SM (TJ) SM (HZ) 등 4개자회사를 1...  1194\n",
       " 67   중국은 세계의 공장이라 불릴 만큼 전세계 제조사의 생산 시설이 밀집해 있는 곳이며 ...   675\n",
       " 98   중국 국무원은 지난 2006년 2270㎢ 규모의 천진 빈하이신구를 종합개혁시험구'로...  3595\n",
       " 102  당사는 2005년5월 중국의 최대 무역 중심 도시 중 하나인 산동성 위해에 법인을 ...   960)"
      ]
     },
     "execution_count": 569,
     "metadata": {},
     "output_type": "execute_result"
    }
   ],
   "source": [
    "long_df = psg_df[ psg_df['len'] > 512 ]\n",
    "len( long_df ), long_df.head()"
   ]
  },
  {
   "cell_type": "code",
   "execution_count": 570,
   "id": "7a9009da-3edc-42ee-a689-48f3c5f700cf",
   "metadata": {},
   "outputs": [
    {
     "data": {
      "text/html": [
       "<div>\n",
       "<style scoped>\n",
       "    .dataframe tbody tr th:only-of-type {\n",
       "        vertical-align: middle;\n",
       "    }\n",
       "\n",
       "    .dataframe tbody tr th {\n",
       "        vertical-align: top;\n",
       "    }\n",
       "\n",
       "    .dataframe thead th {\n",
       "        text-align: right;\n",
       "    }\n",
       "</style>\n",
       "<table border=\"1\" class=\"dataframe\">\n",
       "  <thead>\n",
       "    <tr style=\"text-align: right;\">\n",
       "      <th></th>\n",
       "      <th>len</th>\n",
       "    </tr>\n",
       "  </thead>\n",
       "  <tbody>\n",
       "    <tr>\n",
       "      <th>count</th>\n",
       "      <td>2723.000000</td>\n",
       "    </tr>\n",
       "    <tr>\n",
       "      <th>mean</th>\n",
       "      <td>1005.702534</td>\n",
       "    </tr>\n",
       "    <tr>\n",
       "      <th>std</th>\n",
       "      <td>729.638415</td>\n",
       "    </tr>\n",
       "    <tr>\n",
       "      <th>min</th>\n",
       "      <td>513.000000</td>\n",
       "    </tr>\n",
       "    <tr>\n",
       "      <th>25%</th>\n",
       "      <td>613.000000</td>\n",
       "    </tr>\n",
       "    <tr>\n",
       "      <th>50%</th>\n",
       "      <td>766.000000</td>\n",
       "    </tr>\n",
       "    <tr>\n",
       "      <th>75%</th>\n",
       "      <td>1107.500000</td>\n",
       "    </tr>\n",
       "    <tr>\n",
       "      <th>max</th>\n",
       "      <td>7440.000000</td>\n",
       "    </tr>\n",
       "  </tbody>\n",
       "</table>\n",
       "</div>"
      ],
      "text/plain": [
       "               len\n",
       "count  2723.000000\n",
       "mean   1005.702534\n",
       "std     729.638415\n",
       "min     513.000000\n",
       "25%     613.000000\n",
       "50%     766.000000\n",
       "75%    1107.500000\n",
       "max    7440.000000"
      ]
     },
     "execution_count": 570,
     "metadata": {},
     "output_type": "execute_result"
    }
   ],
   "source": [
    "long_df.describe()"
   ]
  },
  {
   "cell_type": "markdown",
   "id": "3a26949f-571f-48f1-93e5-e1a99f6c9531",
   "metadata": {},
   "source": [
    "### 버트를 넘어가는 long text 중에서 절반 766을 넘는 데이터 살펴보기"
   ]
  },
  {
   "cell_type": "code",
   "execution_count": 571,
   "id": "e5aa2c97-ed94-408f-9b1b-b673cb963dbc",
   "metadata": {},
   "outputs": [
    {
     "name": "stderr",
     "output_type": "stream",
     "text": [
      "/tmp/ipykernel_3469/1797209642.py:1: UserWarning: Boolean Series key will be reindexed to match DataFrame index.\n",
      "  tmp = long_df[ psg_df['len'] > 766 ]\n"
     ]
    },
    {
     "data": {
      "text/plain": [
       "(1361,\n",
       "                                                      0   len\n",
       " 1    체외진단 시장은 인구 고령화 및 감염성 질병의 퇴치 질병 확산 방지를 위한 수요 증...   905\n",
       " 32   당사는 SM (HK) SM (WH) SM (TJ) SM (HZ) 등 4개자회사를 1...  1194\n",
       " 98   중국 국무원은 지난 2006년 2270㎢ 규모의 천진 빈하이신구를 종합개혁시험구'로...  3595\n",
       " 102  당사는 2005년5월 중국의 최대 무역 중심 도시 중 하나인 산동성 위해에 법인을 ...   960\n",
       " 103  (마) 베트남법인 베트남은 동남아시아의 지역적 중심이 되는 인도차이나 반도에 위치하...  1248)"
      ]
     },
     "execution_count": 571,
     "metadata": {},
     "output_type": "execute_result"
    }
   ],
   "source": [
    "tmp = long_df[ psg_df['len'] > 766 ]\n",
    "len( tmp ), tmp.head()"
   ]
  },
  {
   "cell_type": "code",
   "execution_count": 572,
   "id": "8fdb8730-f142-4cfe-8ca3-ead5982986f2",
   "metadata": {},
   "outputs": [],
   "source": [
    "import numpy as np"
   ]
  },
  {
   "cell_type": "code",
   "execution_count": 573,
   "id": "9e491aff-68d3-4148-b22c-e13bd5958b8e",
   "metadata": {},
   "outputs": [
    {
     "name": "stdout",
     "output_type": "stream",
     "text": [
      "784\n",
      "아울러 국내업체들의 베트남 현지 Set조립 위탁가공 (외가공) 에 대한 수요도 동반 증가하고 있는 상황으로 향후 이러한 형태의 사업의 확대도 크게 기대되고 있는 상황입니다  당사가 영위하는 SMD PBA와 Set조립 외가공의 매출규모가 산업의 특성을 감안할 경우 점유율 산정이 어렵습니다 마  시장에서 경쟁력을 좌우하는 요인 (회사의 경쟁상의 강점과 단점) (1) 오창사업장 당사의 오창사업장은 이미지센서패키징 중에서도 전장용과 CCTV용 등에 특화되어 있으며 또한 현재 대형패키지 및 특수패키지를 력으로 20년간 전문성을 키워오면서 나름대로의 기술우위를 확보하여 기술경쟁력은 있으나 대량 생산제품에 부합하는 단가 경쟁력은 다소 부족한 상황입니다  따라서 이를 극복하기 위하여 최근들어 특수 패키징 기술에 집중하며 관련 업체들과의 공동개발 등을 통해 시장성을 갖춘 제품을 개발하고 있어 향후 기술경쟁력을 바탕으로 경쟁우위를 확보하기 위해 노력하고 있습니다  (3) 베트남사업장 당사의 베트남사업장은 베트남내 하드보드 SMD 업체가 적어 경쟁면에서 다소 유리한 위치를 차이하고 있으며 베트남 현지 근로자들에 대한 기술교육 및 품질관리 교육을 통해 기술력과 생산효율성을 키워왔습니다  따라서 당사가 보유한 우수한기술 및 품질관리의 강점을 바탕으로 시장 경쟁력을 높여가고 있습니다  하지만 기술의 특성상 우수한 설비를 보유한 업체들의 시장 진입이 늘어난다면 향후 경쟁이 심화될 수 있는 소지가 있습니다  따라서 당사는 우수한 설비와 인력을 유지하기위한 노력을 지속해야 경쟁력을 높여 나갈 수 있을 것입니다 \n"
     ]
    }
   ],
   "source": [
    "r = np.random.randint(len(tmp))\n",
    "print( tmp.iloc[r]['len'])\n",
    "print(tmp.iloc[r][0] )"
   ]
  },
  {
   "cell_type": "markdown",
   "id": "024ff529-e54d-4839-b57d-edda494af22e",
   "metadata": {},
   "source": [
    "### passage 데이터에서 25~50 사이의 데이터살펴보기"
   ]
  },
  {
   "cell_type": "code",
   "execution_count": 574,
   "id": "03467b71-f874-42e2-a7fa-3b54ed5e515b",
   "metadata": {},
   "outputs": [
    {
     "data": {
      "text/plain": [
       "(7479,\n",
       "                                                     0  len\n",
       " 4   당사는 30년간 지속적으로 진행해 오고 있는 엠씨스퀘어 사업 부문과 2007년부터 ...   84\n",
       " 5   엠씨스퀘어 사업은 산업 및 소비자 수요의 변화에 따른 새로운 기능의 제품라인으로 다...  114\n",
       " 6   의료기기 사업은 현재 병원용 모델로 신의료기술평가 절차를 거쳐 인정된 국내 최초 제...  120\n",
       " 8                         1  슬립스퀘어 스마트베개 (2월3일 신규 론칭)   27\n",
       " 11  또한 엠씨스퀘어에 대한 인지도를 높이기 위해 SNS 마케팅을 위한 셀럽및 사회 각 ...   78)"
      ]
     },
     "execution_count": 574,
     "metadata": {},
     "output_type": "execute_result"
    }
   ],
   "source": [
    "short_df = psg_df[ psg_df['len'] < 131 ]\n",
    "\n",
    "short_df = short_df[ short_df['len'] > 22 ]\n",
    "len( short_df ), short_df.head()"
   ]
  },
  {
   "cell_type": "code",
   "execution_count": 575,
   "id": "58f8a787-50a8-4416-bb08-43c291e9dbf5",
   "metadata": {},
   "outputs": [
    {
     "name": "stdout",
     "output_type": "stream",
     "text": [
      "36\n",
      "2013  11  21 환경영향평가 (초안) 접수 (원지방환경청)\n"
     ]
    }
   ],
   "source": [
    "r = np.random.randint(len(short_df))\n",
    "print( short_df.iloc[r]['len'])\n",
    "print(short_df.iloc[r][0] )\n"
   ]
  },
  {
   "cell_type": "markdown",
   "id": "556abdca-c58d-4895-80e3-fd6c4acb2356",
   "metadata": {},
   "source": [
    "#### 간간히 소제목들도 보이고 짧은 문장들도 보인다"
   ]
  },
  {
   "cell_type": "markdown",
   "id": "914ec54e-e7b7-4abc-afad-4d12bbb92e97",
   "metadata": {},
   "source": [
    "### 전체 passage에서 가장 작은 25%의 데이터 살펴보기"
   ]
  },
  {
   "cell_type": "code",
   "execution_count": 576,
   "id": "b6b1e28a-a613-4c38-94b0-d34383e7caeb",
   "metadata": {},
   "outputs": [
    {
     "data": {
      "text/plain": [
       "(7667,\n",
       "                         0  len\n",
       " 3               가  영업의 현황    9\n",
       " 7        [엠씨스퀘어 사업 진행 현황]   16\n",
       " 18     [페인스크램블러 사업 진행 현황]   18\n",
       " 21  2  대기업과 개인통증치료기 사업 진행   21\n",
       " 22       페인스크램블러 개인통증기 사업   16)"
      ]
     },
     "execution_count": 576,
     "metadata": {},
     "output_type": "execute_result"
    }
   ],
   "source": [
    "short_df = psg_df[ psg_df['len'] < 22 ]\n",
    "len( short_df ), short_df.head()"
   ]
  },
  {
   "cell_type": "code",
   "execution_count": 577,
   "id": "47190462-995a-471c-9ba8-9095f11d21c5",
   "metadata": {},
   "outputs": [
    {
     "name": "stdout",
     "output_type": "stream",
     "text": [
      "12\n",
      "[원료의약품 사업부문]\n"
     ]
    }
   ],
   "source": [
    "r = np.random.randint(len(short_df))\n",
    "print( short_df.iloc[r]['len'])\n",
    "print(short_df.iloc[r][0] )\n"
   ]
  },
  {
   "cell_type": "markdown",
   "id": "2de33a08-696f-4578-8079-8bf3bee5eaa0",
   "metadata": {},
   "source": [
    "#### 전부 다 제목들이다"
   ]
  },
  {
   "cell_type": "code",
   "execution_count": null,
   "id": "9e9d0045-0fa4-4f69-a5f7-3f2a3b4f971f",
   "metadata": {},
   "outputs": [],
   "source": []
  },
  {
   "cell_type": "markdown",
   "id": "5b990a88-8051-4106-81d4-0612c6150e38",
   "metadata": {},
   "source": [
    "# 만약에 합친다면?"
   ]
  },
  {
   "cell_type": "code",
   "execution_count": 578,
   "id": "ab0a1d9b-acb7-4526-a4dd-bb46960ce3d7",
   "metadata": {},
   "outputs": [
    {
     "data": {
      "text/html": [
       "<div>\n",
       "<style scoped>\n",
       "    .dataframe tbody tr th:only-of-type {\n",
       "        vertical-align: middle;\n",
       "    }\n",
       "\n",
       "    .dataframe tbody tr th {\n",
       "        vertical-align: top;\n",
       "    }\n",
       "\n",
       "    .dataframe thead th {\n",
       "        text-align: right;\n",
       "    }\n",
       "</style>\n",
       "<table border=\"1\" class=\"dataframe\">\n",
       "  <thead>\n",
       "    <tr style=\"text-align: right;\">\n",
       "      <th></th>\n",
       "      <th>사업의 개요</th>\n",
       "    </tr>\n",
       "  </thead>\n",
       "  <tbody>\n",
       "    <tr>\n",
       "      <th>0</th>\n",
       "      <td>당사는 체외진단 기술을 토대로 면역화학진단 바이오센서 분자진단 기술을 기반으로 진단...</td>\n",
       "    </tr>\n",
       "    <tr>\n",
       "      <th>1</th>\n",
       "      <td>가  영업의 현황 당사는 30년간 지속적으로 진행해 오고 있는 엠씨스퀘어 사업 부문...</td>\n",
       "    </tr>\n",
       "    <tr>\n",
       "      <th>2</th>\n",
       "      <td>당사는 선박투자회사법에 따라 케이에스에프선박금융 가 발기인이 되어 설립되었으며 선박...</td>\n",
       "    </tr>\n",
       "    <tr>\n",
       "      <th>3</th>\n",
       "      <td>지회사 (持    Holding Company) 란 다른 회사의 식을 소유한 회사이...</td>\n",
       "    </tr>\n",
       "    <tr>\n",
       "      <th>4</th>\n",
       "      <td>가  산업개황 및 전망 당사의 매출과 이익은 중국 내에서의 건강식품 생산 및 판매사...</td>\n",
       "    </tr>\n",
       "  </tbody>\n",
       "</table>\n",
       "</div>"
      ],
      "text/plain": [
       "                                              사업의 개요\n",
       "0  당사는 체외진단 기술을 토대로 면역화학진단 바이오센서 분자진단 기술을 기반으로 진단...\n",
       "1  가  영업의 현황 당사는 30년간 지속적으로 진행해 오고 있는 엠씨스퀘어 사업 부문...\n",
       "2  당사는 선박투자회사법에 따라 케이에스에프선박금융 가 발기인이 되어 설립되었으며 선박...\n",
       "3  지회사 (持    Holding Company) 란 다른 회사의 식을 소유한 회사이...\n",
       "4  가  산업개황 및 전망 당사의 매출과 이익은 중국 내에서의 건강식품 생산 및 판매사..."
      ]
     },
     "execution_count": 578,
     "metadata": {},
     "output_type": "execute_result"
    }
   ],
   "source": [
    "def combine(psg_list_str):\n",
    "    return \" \".join( eval( psg_list_str ) )\n",
    "\n",
    "comb_df= pd.DataFrame(df['사업의 개요'].map(combine))\n",
    "comb_df.head()"
   ]
  },
  {
   "cell_type": "code",
   "execution_count": 579,
   "id": "72a837dd-28e7-4602-9a72-775bc4c17bd8",
   "metadata": {},
   "outputs": [],
   "source": [
    "combined_list = []\n",
    "for c in comb_df['사업의 개요']:\n",
    "    combined_list.append( len(c) )"
   ]
  },
  {
   "cell_type": "code",
   "execution_count": 580,
   "id": "dc990676-651f-46c1-ad1f-7833df8916f7",
   "metadata": {},
   "outputs": [
    {
     "data": {
      "text/html": [
       "<div>\n",
       "<style scoped>\n",
       "    .dataframe tbody tr th:only-of-type {\n",
       "        vertical-align: middle;\n",
       "    }\n",
       "\n",
       "    .dataframe tbody tr th {\n",
       "        vertical-align: top;\n",
       "    }\n",
       "\n",
       "    .dataframe thead th {\n",
       "        text-align: right;\n",
       "    }\n",
       "</style>\n",
       "<table border=\"1\" class=\"dataframe\">\n",
       "  <thead>\n",
       "    <tr style=\"text-align: right;\">\n",
       "      <th></th>\n",
       "      <th>사업의 개요</th>\n",
       "      <th>combined_len</th>\n",
       "    </tr>\n",
       "  </thead>\n",
       "  <tbody>\n",
       "    <tr>\n",
       "      <th>0</th>\n",
       "      <td>당사는 체외진단 기술을 토대로 면역화학진단 바이오센서 분자진단 기술을 기반으로 진단...</td>\n",
       "      <td>1467</td>\n",
       "    </tr>\n",
       "    <tr>\n",
       "      <th>1</th>\n",
       "      <td>가  영업의 현황 당사는 30년간 지속적으로 진행해 오고 있는 엠씨스퀘어 사업 부문...</td>\n",
       "      <td>3120</td>\n",
       "    </tr>\n",
       "    <tr>\n",
       "      <th>2</th>\n",
       "      <td>당사는 선박투자회사법에 따라 케이에스에프선박금융 가 발기인이 되어 설립되었으며 선박...</td>\n",
       "      <td>447</td>\n",
       "    </tr>\n",
       "    <tr>\n",
       "      <th>3</th>\n",
       "      <td>지회사 (持    Holding Company) 란 다른 회사의 식을 소유한 회사이...</td>\n",
       "      <td>17196</td>\n",
       "    </tr>\n",
       "    <tr>\n",
       "      <th>4</th>\n",
       "      <td>가  산업개황 및 전망 당사의 매출과 이익은 중국 내에서의 건강식품 생산 및 판매사...</td>\n",
       "      <td>10041</td>\n",
       "    </tr>\n",
       "  </tbody>\n",
       "</table>\n",
       "</div>"
      ],
      "text/plain": [
       "                                              사업의 개요  combined_len\n",
       "0  당사는 체외진단 기술을 토대로 면역화학진단 바이오센서 분자진단 기술을 기반으로 진단...          1467\n",
       "1  가  영업의 현황 당사는 30년간 지속적으로 진행해 오고 있는 엠씨스퀘어 사업 부문...          3120\n",
       "2  당사는 선박투자회사법에 따라 케이에스에프선박금융 가 발기인이 되어 설립되었으며 선박...           447\n",
       "3  지회사 (持    Holding Company) 란 다른 회사의 식을 소유한 회사이...         17196\n",
       "4  가  산업개황 및 전망 당사의 매출과 이익은 중국 내에서의 건강식품 생산 및 판매사...         10041"
      ]
     },
     "execution_count": 580,
     "metadata": {},
     "output_type": "execute_result"
    }
   ],
   "source": [
    "comb_df['combined_len'] = combined_list\n",
    "comb_df.head()"
   ]
  },
  {
   "cell_type": "code",
   "execution_count": 581,
   "id": "b4e9097e-49ef-4dfe-938f-5d4bfad95090",
   "metadata": {},
   "outputs": [
    {
     "data": {
      "text/html": [
       "<div>\n",
       "<style scoped>\n",
       "    .dataframe tbody tr th:only-of-type {\n",
       "        vertical-align: middle;\n",
       "    }\n",
       "\n",
       "    .dataframe tbody tr th {\n",
       "        vertical-align: top;\n",
       "    }\n",
       "\n",
       "    .dataframe thead th {\n",
       "        text-align: right;\n",
       "    }\n",
       "</style>\n",
       "<table border=\"1\" class=\"dataframe\">\n",
       "  <thead>\n",
       "    <tr style=\"text-align: right;\">\n",
       "      <th></th>\n",
       "      <th>combined_len</th>\n",
       "    </tr>\n",
       "  </thead>\n",
       "  <tbody>\n",
       "    <tr>\n",
       "      <th>count</th>\n",
       "      <td>2410.000000</td>\n",
       "    </tr>\n",
       "    <tr>\n",
       "      <th>mean</th>\n",
       "      <td>2763.056432</td>\n",
       "    </tr>\n",
       "    <tr>\n",
       "      <th>std</th>\n",
       "      <td>4291.336439</td>\n",
       "    </tr>\n",
       "    <tr>\n",
       "      <th>min</th>\n",
       "      <td>0.000000</td>\n",
       "    </tr>\n",
       "    <tr>\n",
       "      <th>25%</th>\n",
       "      <td>654.000000</td>\n",
       "    </tr>\n",
       "    <tr>\n",
       "      <th>50%</th>\n",
       "      <td>1154.500000</td>\n",
       "    </tr>\n",
       "    <tr>\n",
       "      <th>75%</th>\n",
       "      <td>2790.500000</td>\n",
       "    </tr>\n",
       "    <tr>\n",
       "      <th>max</th>\n",
       "      <td>50293.000000</td>\n",
       "    </tr>\n",
       "  </tbody>\n",
       "</table>\n",
       "</div>"
      ],
      "text/plain": [
       "       combined_len\n",
       "count   2410.000000\n",
       "mean    2763.056432\n",
       "std     4291.336439\n",
       "min        0.000000\n",
       "25%      654.000000\n",
       "50%     1154.500000\n",
       "75%     2790.500000\n",
       "max    50293.000000"
      ]
     },
     "execution_count": 581,
     "metadata": {},
     "output_type": "execute_result"
    }
   ],
   "source": [
    "comb_df.describe()"
   ]
  },
  {
   "cell_type": "code",
   "execution_count": 582,
   "id": "0482c32b-ca81-4c28-ab42-616f11f9dd95",
   "metadata": {},
   "outputs": [
    {
     "data": {
      "text/html": [
       "<div>\n",
       "<style scoped>\n",
       "    .dataframe tbody tr th:only-of-type {\n",
       "        vertical-align: middle;\n",
       "    }\n",
       "\n",
       "    .dataframe tbody tr th {\n",
       "        vertical-align: top;\n",
       "    }\n",
       "\n",
       "    .dataframe thead th {\n",
       "        text-align: right;\n",
       "    }\n",
       "</style>\n",
       "<table border=\"1\" class=\"dataframe\">\n",
       "  <thead>\n",
       "    <tr style=\"text-align: right;\">\n",
       "      <th></th>\n",
       "      <th>사업의 개요</th>\n",
       "      <th>combined_len</th>\n",
       "    </tr>\n",
       "  </thead>\n",
       "  <tbody>\n",
       "    <tr>\n",
       "      <th>1</th>\n",
       "      <td>가  영업의 현황 당사는 30년간 지속적으로 진행해 오고 있는 엠씨스퀘어 사업 부문...</td>\n",
       "      <td>3120</td>\n",
       "    </tr>\n",
       "    <tr>\n",
       "      <th>3</th>\n",
       "      <td>지회사 (持    Holding Company) 란 다른 회사의 식을 소유한 회사이...</td>\n",
       "      <td>17196</td>\n",
       "    </tr>\n",
       "    <tr>\n",
       "      <th>4</th>\n",
       "      <td>가  산업개황 및 전망 당사의 매출과 이익은 중국 내에서의 건강식품 생산 및 판매사...</td>\n",
       "      <td>10041</td>\n",
       "    </tr>\n",
       "    <tr>\n",
       "      <th>5</th>\n",
       "      <td>가  산업의 이해 (1) 영위하고 있는 사업 당사의 요 사업영역으로는 정밀 코팅 기...</td>\n",
       "      <td>10993</td>\n",
       "    </tr>\n",
       "    <tr>\n",
       "      <th>7</th>\n",
       "      <td>사업의 개요 가  업계의 현황 (1) 사업부분의 내용 당사는 제조현장에서 제품생산 ...</td>\n",
       "      <td>3459</td>\n",
       "    </tr>\n",
       "  </tbody>\n",
       "</table>\n",
       "</div>"
      ],
      "text/plain": [
       "                                              사업의 개요  combined_len\n",
       "1  가  영업의 현황 당사는 30년간 지속적으로 진행해 오고 있는 엠씨스퀘어 사업 부문...          3120\n",
       "3  지회사 (持    Holding Company) 란 다른 회사의 식을 소유한 회사이...         17196\n",
       "4  가  산업개황 및 전망 당사의 매출과 이익은 중국 내에서의 건강식품 생산 및 판매사...         10041\n",
       "5  가  산업의 이해 (1) 영위하고 있는 사업 당사의 요 사업영역으로는 정밀 코팅 기...         10993\n",
       "7  사업의 개요 가  업계의 현황 (1) 사업부분의 내용 당사는 제조현장에서 제품생산 ...          3459"
      ]
     },
     "execution_count": 582,
     "metadata": {},
     "output_type": "execute_result"
    }
   ],
   "source": [
    "half_df = comb_df[ comb_df['combined_len'] > 2790 ]\n",
    "half_df.head()"
   ]
  },
  {
   "cell_type": "code",
   "execution_count": 583,
   "id": "43d2ed22-55e8-421c-b05b-c350708b0136",
   "metadata": {},
   "outputs": [
    {
     "data": {
      "text/plain": [
       "(5566,\n",
       " '가  산업의 개요 (1) 산업의 특성   방위산업의 정의 방위산업은 국가 방위를 위하여 군사적으로 소요되는 물자의 생산과 개발에 기여하는 산업으로 넓은 뜻으로는 무기탄약 등 직접적인 전투 기구 뿐만 아니라 피복군량 등 비전투용 일반 방산물자까지도 포함합니다  그러나 일반적으로는 국방력 형성에 중요한 요소가 되는 총포탄약함정항공기전자기기미사일 등 무기장비의 생산과 개발을 담당하는 산업의 총칭으로 정의하고 있으며 제2차 세계대전 전까지는 군수산업 ( 需  ) 으로 해석되었으나 전쟁 개념이 방위전 개념으로 발전하면서 방위산업이라는 용어를 널리 사용하고 있습니다    방위산업의 특징 방위산업은 국가적으로 가장 중요한 전략산업이면서도 안보에 핵심적 역할을 담당하는 국방의 중추적 산업입니다  최근 들어 대부분의 무기들이 첨단화시스템화 되면서산업간의 융복합화가 급속하게 진행되고 있고 기술 및 제품 개발을 위한 투자규모 역시 계속 증가하고 있습니다  방위산업은 첨단기술이 결집되고 대규모 자본이 투')"
      ]
     },
     "execution_count": 583,
     "metadata": {},
     "output_type": "execute_result"
    }
   ],
   "source": [
    "r = np.random.randint(len(half_df))\n",
    "half_df.iloc[r]['combined_len'], half_df.iloc[r]['사업의 개요'][:500]"
   ]
  },
  {
   "cell_type": "markdown",
   "id": "3be9e63d-c6f8-4219-b015-81723d315860",
   "metadata": {},
   "source": [
    "## 512 단위로 다 자르면?"
   ]
  },
  {
   "cell_type": "code",
   "execution_count": 584,
   "id": "4b624e35-7052-485a-948d-85fa49ad481e",
   "metadata": {},
   "outputs": [
    {
     "data": {
      "text/html": [
       "<div>\n",
       "<style scoped>\n",
       "    .dataframe tbody tr th:only-of-type {\n",
       "        vertical-align: middle;\n",
       "    }\n",
       "\n",
       "    .dataframe tbody tr th {\n",
       "        vertical-align: top;\n",
       "    }\n",
       "\n",
       "    .dataframe thead th {\n",
       "        text-align: right;\n",
       "    }\n",
       "</style>\n",
       "<table border=\"1\" class=\"dataframe\">\n",
       "  <thead>\n",
       "    <tr style=\"text-align: right;\">\n",
       "      <th></th>\n",
       "      <th>Unnamed: 0</th>\n",
       "      <th>Unnamed: 0.1</th>\n",
       "      <th>주식 코드</th>\n",
       "      <th>report_idx</th>\n",
       "      <th>기업 코드</th>\n",
       "      <th>기업 이름</th>\n",
       "      <th>수정 일자</th>\n",
       "      <th>사업의 개요</th>\n",
       "      <th>combined</th>\n",
       "      <th>combined_len</th>\n",
       "    </tr>\n",
       "  </thead>\n",
       "  <tbody>\n",
       "    <tr>\n",
       "      <th>0</th>\n",
       "      <td>0</td>\n",
       "      <td>0</td>\n",
       "      <td>950130</td>\n",
       "      <td>20211115000151</td>\n",
       "      <td>956028</td>\n",
       "      <td>엑세스바이오</td>\n",
       "      <td>20170630</td>\n",
       "      <td>['당사는 체외진단 기술을 토대로 면역화학진단 바이오센서 분자진단 기술을 기반으로 ...</td>\n",
       "      <td>당사는 체외진단 기술을 토대로 면역화학진단 바이오센서 분자진단 기술을 기반으로 진단...</td>\n",
       "      <td>1467</td>\n",
       "    </tr>\n",
       "    <tr>\n",
       "      <th>1</th>\n",
       "      <td>1</td>\n",
       "      <td>1</td>\n",
       "      <td>33030</td>\n",
       "      <td>20211115002044</td>\n",
       "      <td>232317</td>\n",
       "      <td>지오엠씨</td>\n",
       "      <td>20170630</td>\n",
       "      <td>['가  영업의 현황', '당사는 30년간 지속적으로 진행해 오고 있는 엠씨스퀘어 ...</td>\n",
       "      <td>가  영업의 현황 당사는 30년간 지속적으로 진행해 오고 있는 엠씨스퀘어 사업 부문...</td>\n",
       "      <td>3120</td>\n",
       "    </tr>\n",
       "    <tr>\n",
       "      <th>2</th>\n",
       "      <td>2</td>\n",
       "      <td>3</td>\n",
       "      <td>139200</td>\n",
       "      <td>20211115002442</td>\n",
       "      <td>855145</td>\n",
       "      <td>하이골드오션2호선박투자회사</td>\n",
       "      <td>20171127</td>\n",
       "      <td>['당사는 선박투자회사법에 따라 케이에스에프선박금융 가 발기인이 되어 설립되었으며 ...</td>\n",
       "      <td>당사는 선박투자회사법에 따라 케이에스에프선박금융 가 발기인이 되어 설립되었으며 선박...</td>\n",
       "      <td>447</td>\n",
       "    </tr>\n",
       "    <tr>\n",
       "      <th>3</th>\n",
       "      <td>3</td>\n",
       "      <td>4</td>\n",
       "      <td>900070</td>\n",
       "      <td>20211125000049</td>\n",
       "      <td>783246</td>\n",
       "      <td>글로벌에스엠</td>\n",
       "      <td>20170703</td>\n",
       "      <td>['지회사 (持    Holding Company) 란 다른 회사의 식을 소유한 회...</td>\n",
       "      <td>지회사 (持    Holding Company) 란 다른 회사의 식을 소유한 회사이...</td>\n",
       "      <td>17196</td>\n",
       "    </tr>\n",
       "    <tr>\n",
       "      <th>4</th>\n",
       "      <td>4</td>\n",
       "      <td>5</td>\n",
       "      <td>900120</td>\n",
       "      <td>20211028000448</td>\n",
       "      <td>800084</td>\n",
       "      <td>씨케이에이치</td>\n",
       "      <td>20170703</td>\n",
       "      <td>['가  산업개황 및 전망 당사의 매출과 이익은 중국 내에서의 건강식품 생산 및 판...</td>\n",
       "      <td>가  산업개황 및 전망 당사의 매출과 이익은 중국 내에서의 건강식품 생산 및 판매사...</td>\n",
       "      <td>10041</td>\n",
       "    </tr>\n",
       "  </tbody>\n",
       "</table>\n",
       "</div>"
      ],
      "text/plain": [
       "   Unnamed: 0  Unnamed: 0.1   주식 코드      report_idx   기업 코드           기업 이름  \\\n",
       "0           0             0  950130  20211115000151  956028          엑세스바이오   \n",
       "1           1             1   33030  20211115002044  232317            지오엠씨   \n",
       "2           2             3  139200  20211115002442  855145  하이골드오션2호선박투자회사   \n",
       "3           3             4  900070  20211125000049  783246          글로벌에스엠   \n",
       "4           4             5  900120  20211028000448  800084          씨케이에이치   \n",
       "\n",
       "      수정 일자                                             사업의 개요  \\\n",
       "0  20170630  ['당사는 체외진단 기술을 토대로 면역화학진단 바이오센서 분자진단 기술을 기반으로 ...   \n",
       "1  20170630  ['가  영업의 현황', '당사는 30년간 지속적으로 진행해 오고 있는 엠씨스퀘어 ...   \n",
       "2  20171127  ['당사는 선박투자회사법에 따라 케이에스에프선박금융 가 발기인이 되어 설립되었으며 ...   \n",
       "3  20170703  ['지회사 (持    Holding Company) 란 다른 회사의 식을 소유한 회...   \n",
       "4  20170703  ['가  산업개황 및 전망 당사의 매출과 이익은 중국 내에서의 건강식품 생산 및 판...   \n",
       "\n",
       "                                            combined  combined_len  \n",
       "0  당사는 체외진단 기술을 토대로 면역화학진단 바이오센서 분자진단 기술을 기반으로 진단...          1467  \n",
       "1  가  영업의 현황 당사는 30년간 지속적으로 진행해 오고 있는 엠씨스퀘어 사업 부문...          3120  \n",
       "2  당사는 선박투자회사법에 따라 케이에스에프선박금융 가 발기인이 되어 설립되었으며 선박...           447  \n",
       "3  지회사 (持    Holding Company) 란 다른 회사의 식을 소유한 회사이...         17196  \n",
       "4  가  산업개황 및 전망 당사의 매출과 이익은 중국 내에서의 건강식품 생산 및 판매사...         10041  "
      ]
     },
     "execution_count": 584,
     "metadata": {},
     "output_type": "execute_result"
    }
   ],
   "source": [
    "def combine(psg_list_str):\n",
    "    return \" \".join( eval( psg_list_str ) )\n",
    "\n",
    "df['combined']= pd.DataFrame(df['사업의 개요'].map(combine))\n",
    "df['combined_len'] = df['combined'].map(len)\n",
    "df.head()"
   ]
  },
  {
   "cell_type": "code",
   "execution_count": 586,
   "id": "f4d0eff3-42ad-48ce-986c-676e5d39b4b6",
   "metadata": {},
   "outputs": [],
   "source": [
    "for i in range(len(df)):\n",
    "    df.iloc[i]['combined_len']"
   ]
  },
  {
   "cell_type": "code",
   "execution_count": null,
   "id": "6b89409f-4cb5-448a-b2a2-b186190610cb",
   "metadata": {},
   "outputs": [],
   "source": []
  }
 ],
 "metadata": {
  "kernelspec": {
   "display_name": "base",
   "language": "python",
   "name": "base"
  },
  "language_info": {
   "codemirror_mode": {
    "name": "ipython",
    "version": 3
   },
   "file_extension": ".py",
   "mimetype": "text/x-python",
   "name": "python",
   "nbconvert_exporter": "python",
   "pygments_lexer": "ipython3",
   "version": "3.8.12"
  }
 },
 "nbformat": 4,
 "nbformat_minor": 5
}
