{
 "cells": [
  {
   "cell_type": "code",
   "execution_count": 1,
   "id": "7f47ec80-e266-41ae-ba64-84b3dcb3fd1a",
   "metadata": {},
   "outputs": [],
   "source": [
    "import torch\n",
    "\n",
    "import datasets\n",
    "import numpy as np\n",
    "import pandas as pd\n",
    "import tqdm.notebook as tq\n",
    "\n"
   ]
  },
  {
   "cell_type": "code",
   "execution_count": 2,
   "id": "a060274e",
   "metadata": {},
   "outputs": [
    {
     "data": {
      "text/plain": [
       "(   Unnamed: 0 기업 이름                                               news  \\\n",
       " 0           0    남성  중국 투자의향기업 직접 방문 투자협약 체결 협의 이성훈 여수광양항만공사 사장 방희석...   \n",
       " 1           1    남성  중국 투자의향기업 직접 방문 투자협약 체결 협의 이성훈 여수광양항만공사 사장 방희석...   \n",
       " 2           2    남성  중국 투자의향기업 직접 방문 투자협약 체결 협의 이성훈 여수광양항만공사 사장 방희석...   \n",
       " 3           3    남성  중국 투자의향기업 직접 방문 투자협약 체결 협의 이성훈 여수광양항만공사 사장 방희석...   \n",
       " 4           4    남성  중국 투자의향기업 직접 방문 투자협약 체결 협의 이성훈 여수광양항만공사 사장 방희석...   \n",
       " \n",
       "                                                  psg  \n",
       " 0  지배기업  남성은 1965년 6월 10일 설립되어 디지털 전자제품 및 자동차 관련 ...  \n",
       " 1  부동산 임대 사업이 된 사업이나 새로운 사업을 추진하고자 검토중에 있습니다  가  ...  \n",
       " 2   나타내었습니다  컴퓨터 및 변기기 부문도 컴퓨터의 수출 증가로 전년 동기대비16 ...  \n",
       " 3  동지역은 8  감소하는 실적을 나타내었습니다  수입은 아시아지역이 21  증가하였으...  \n",
       " 4  입니다  당사의 수출품목인 모바일미디어 부문도 오디오 비디오 기능의 복합화와 함께 ...  ,\n",
       " 3219)"
      ]
     },
     "execution_count": 2,
     "metadata": {},
     "output_type": "execute_result"
    }
   ],
   "source": [
    "# create data file from retrieal_dataset.ipynb\n",
    "\n",
    "\n",
    "train_df = pd.read_csv(\"proto_train_comb_df.csv\")\n",
    "# train_df = train_df.iloc[:100]\n",
    "train_df.head(), len(train_df)"
   ]
  },
  {
   "cell_type": "code",
   "execution_count": 3,
   "id": "a24e1987",
   "metadata": {},
   "outputs": [
    {
     "data": {
      "text/html": [
       "<div>\n",
       "<style scoped>\n",
       "    .dataframe tbody tr th:only-of-type {\n",
       "        vertical-align: middle;\n",
       "    }\n",
       "\n",
       "    .dataframe tbody tr th {\n",
       "        vertical-align: top;\n",
       "    }\n",
       "\n",
       "    .dataframe thead th {\n",
       "        text-align: right;\n",
       "    }\n",
       "</style>\n",
       "<table border=\"1\" class=\"dataframe\">\n",
       "  <thead>\n",
       "    <tr style=\"text-align: right;\">\n",
       "      <th></th>\n",
       "      <th>Unnamed: 0</th>\n",
       "      <th>기업 이름</th>\n",
       "      <th>news</th>\n",
       "      <th>psg</th>\n",
       "    </tr>\n",
       "  </thead>\n",
       "  <tbody>\n",
       "    <tr>\n",
       "      <th>0</th>\n",
       "      <td>0</td>\n",
       "      <td>KMH</td>\n",
       "      <td>[ 임근호 기자 ] @CORP@ 와 미국 알파벳 구글 지회사 의 간결한 지배구조를 ...</td>\n",
       "      <td>가  업계현황 및 전망 (1) 방송산업 전반에 관한 사항 (가) 방송산업의 개념 및...</td>\n",
       "    </tr>\n",
       "    <tr>\n",
       "      <th>1</th>\n",
       "      <td>1</td>\n",
       "      <td>KMH</td>\n",
       "      <td>[ 임근호 기자 ] @CORP@ 와 미국 알파벳 구글 지회사 의 간결한 지배구조를 ...</td>\n",
       "      <td>사업 종합유선방송사업 위성방송사업 방송채널사용사업 등 4종류로 분류하고 있으며 (법...</td>\n",
       "    </tr>\n",
       "    <tr>\n",
       "      <th>2</th>\n",
       "      <td>2</td>\n",
       "      <td>KMH</td>\n",
       "      <td>[ 임근호 기자 ] @CORP@ 와 미국 알파벳 구글 지회사 의 간결한 지배구조를 ...</td>\n",
       "      <td>편되어 IPTV와 UHD방송과 같은 새로운 디지털방송서비스가 등장하면서 빠르게 성장...</td>\n",
       "    </tr>\n",
       "    <tr>\n",
       "      <th>3</th>\n",
       "      <td>3</td>\n",
       "      <td>KMH</td>\n",
       "      <td>[ 임근호 기자 ] @CORP@ 와 미국 알파벳 구글 지회사 의 간결한 지배구조를 ...</td>\n",
       "      <td>한 기술개발 노하우와 경쟁력을 가지기 위해서는 최소 3 5년 간의 지속적인 투자를 ...</td>\n",
       "    </tr>\n",
       "    <tr>\n",
       "      <th>4</th>\n",
       "      <td>4</td>\n",
       "      <td>KMH</td>\n",
       "      <td>[ 임근호 기자 ] @CORP@ 와 미국 알파벳 구글 지회사 의 간결한 지배구조를 ...</td>\n",
       "      <td>송출서비스시장은 위성방송 외 IPTV 및 기존 케이블TV 등 신규 유료방송 플랫폼의...</td>\n",
       "    </tr>\n",
       "  </tbody>\n",
       "</table>\n",
       "</div>"
      ],
      "text/plain": [
       "   Unnamed: 0 기업 이름                                               news  \\\n",
       "0           0   KMH  [ 임근호 기자 ] @CORP@ 와 미국 알파벳 구글 지회사 의 간결한 지배구조를 ...   \n",
       "1           1   KMH  [ 임근호 기자 ] @CORP@ 와 미국 알파벳 구글 지회사 의 간결한 지배구조를 ...   \n",
       "2           2   KMH  [ 임근호 기자 ] @CORP@ 와 미국 알파벳 구글 지회사 의 간결한 지배구조를 ...   \n",
       "3           3   KMH  [ 임근호 기자 ] @CORP@ 와 미국 알파벳 구글 지회사 의 간결한 지배구조를 ...   \n",
       "4           4   KMH  [ 임근호 기자 ] @CORP@ 와 미국 알파벳 구글 지회사 의 간결한 지배구조를 ...   \n",
       "\n",
       "                                                 psg  \n",
       "0  가  업계현황 및 전망 (1) 방송산업 전반에 관한 사항 (가) 방송산업의 개념 및...  \n",
       "1  사업 종합유선방송사업 위성방송사업 방송채널사용사업 등 4종류로 분류하고 있으며 (법...  \n",
       "2  편되어 IPTV와 UHD방송과 같은 새로운 디지털방송서비스가 등장하면서 빠르게 성장...  \n",
       "3  한 기술개발 노하우와 경쟁력을 가지기 위해서는 최소 3 5년 간의 지속적인 투자를 ...  \n",
       "4  송출서비스시장은 위성방송 외 IPTV 및 기존 케이블TV 등 신규 유료방송 플랫폼의...  "
      ]
     },
     "execution_count": 3,
     "metadata": {},
     "output_type": "execute_result"
    }
   ],
   "source": [
    "valid_df = pd.read_csv(\"proto_valid_comb_df.csv\")\n",
    "valid_df.head()"
   ]
  },
  {
   "cell_type": "code",
   "execution_count": 23,
   "id": "6449e785",
   "metadata": {},
   "outputs": [
    {
     "data": {
      "text/html": [
       "<div>\n",
       "<style scoped>\n",
       "    .dataframe tbody tr th:only-of-type {\n",
       "        vertical-align: middle;\n",
       "    }\n",
       "\n",
       "    .dataframe tbody tr th {\n",
       "        vertical-align: top;\n",
       "    }\n",
       "\n",
       "    .dataframe thead th {\n",
       "        text-align: right;\n",
       "    }\n",
       "</style>\n",
       "<table border=\"1\" class=\"dataframe\">\n",
       "  <thead>\n",
       "    <tr style=\"text-align: right;\">\n",
       "      <th></th>\n",
       "      <th>Unnamed: 0</th>\n",
       "      <th>기업 이름</th>\n",
       "      <th>news</th>\n",
       "      <th>psg</th>\n",
       "      <th>corp_code</th>\n",
       "    </tr>\n",
       "  </thead>\n",
       "  <tbody>\n",
       "    <tr>\n",
       "      <th>0</th>\n",
       "      <td>0</td>\n",
       "      <td>남성</td>\n",
       "      <td>중국 투자의향기업 직접 방문 투자협약 체결 협의 이성훈 여수광양항만공사 사장 방희석...</td>\n",
       "      <td>지배기업  남성은 1965년 6월 10일 설립되어 디지털 전자제품 및 자동차 관련 ...</td>\n",
       "      <td>0</td>\n",
       "    </tr>\n",
       "    <tr>\n",
       "      <th>1</th>\n",
       "      <td>1</td>\n",
       "      <td>남성</td>\n",
       "      <td>중국 투자의향기업 직접 방문 투자협약 체결 협의 이성훈 여수광양항만공사 사장 방희석...</td>\n",
       "      <td>부동산 임대 사업이 된 사업이나 새로운 사업을 추진하고자 검토중에 있습니다  가  ...</td>\n",
       "      <td>0</td>\n",
       "    </tr>\n",
       "    <tr>\n",
       "      <th>2</th>\n",
       "      <td>2</td>\n",
       "      <td>남성</td>\n",
       "      <td>중국 투자의향기업 직접 방문 투자협약 체결 협의 이성훈 여수광양항만공사 사장 방희석...</td>\n",
       "      <td>나타내었습니다  컴퓨터 및 변기기 부문도 컴퓨터의 수출 증가로 전년 동기대비16 ...</td>\n",
       "      <td>0</td>\n",
       "    </tr>\n",
       "    <tr>\n",
       "      <th>3</th>\n",
       "      <td>3</td>\n",
       "      <td>남성</td>\n",
       "      <td>중국 투자의향기업 직접 방문 투자협약 체결 협의 이성훈 여수광양항만공사 사장 방희석...</td>\n",
       "      <td>동지역은 8  감소하는 실적을 나타내었습니다  수입은 아시아지역이 21  증가하였으...</td>\n",
       "      <td>0</td>\n",
       "    </tr>\n",
       "    <tr>\n",
       "      <th>4</th>\n",
       "      <td>4</td>\n",
       "      <td>남성</td>\n",
       "      <td>중국 투자의향기업 직접 방문 투자협약 체결 협의 이성훈 여수광양항만공사 사장 방희석...</td>\n",
       "      <td>입니다  당사의 수출품목인 모바일미디어 부문도 오디오 비디오 기능의 복합화와 함께 ...</td>\n",
       "      <td>0</td>\n",
       "    </tr>\n",
       "  </tbody>\n",
       "</table>\n",
       "</div>"
      ],
      "text/plain": [
       "   Unnamed: 0 기업 이름                                               news  \\\n",
       "0           0    남성  중국 투자의향기업 직접 방문 투자협약 체결 협의 이성훈 여수광양항만공사 사장 방희석...   \n",
       "1           1    남성  중국 투자의향기업 직접 방문 투자협약 체결 협의 이성훈 여수광양항만공사 사장 방희석...   \n",
       "2           2    남성  중국 투자의향기업 직접 방문 투자협약 체결 협의 이성훈 여수광양항만공사 사장 방희석...   \n",
       "3           3    남성  중국 투자의향기업 직접 방문 투자협약 체결 협의 이성훈 여수광양항만공사 사장 방희석...   \n",
       "4           4    남성  중국 투자의향기업 직접 방문 투자협약 체결 협의 이성훈 여수광양항만공사 사장 방희석...   \n",
       "\n",
       "                                                 psg  corp_code  \n",
       "0  지배기업  남성은 1965년 6월 10일 설립되어 디지털 전자제품 및 자동차 관련 ...          0  \n",
       "1  부동산 임대 사업이 된 사업이나 새로운 사업을 추진하고자 검토중에 있습니다  가  ...          0  \n",
       "2   나타내었습니다  컴퓨터 및 변기기 부문도 컴퓨터의 수출 증가로 전년 동기대비16 ...          0  \n",
       "3  동지역은 8  감소하는 실적을 나타내었습니다  수입은 아시아지역이 21  증가하였으...          0  \n",
       "4  입니다  당사의 수출품목인 모바일미디어 부문도 오디오 비디오 기능의 복합화와 함께 ...          0  "
      ]
     },
     "execution_count": 23,
     "metadata": {},
     "output_type": "execute_result"
    }
   ],
   "source": [
    "# 기업 이름을 label으로 만든다. 나중에 table 넘겨서 pooling에 사용할 것\n",
    "dic = {}\n",
    "idx = 0\n",
    "for c in train_df['기업 이름']:\n",
    "    if c not in dic:\n",
    "        dic[c] = idx\n",
    "        idx += 1\n",
    "\n",
    "val_dic = {}\n",
    "idx = 0\n",
    "for c in valid_df['기업 이름']:\n",
    "    if c not in val_dic:\n",
    "        val_dic[c] = idx\n",
    "        idx += 1\n",
    "\n",
    "valid_df['corp_code'] = valid_df['기업 이름'].map(lambda x:val_dic[x])\n",
    "train_df['corp_code'] = train_df['기업 이름'].map(lambda x:dic[x])\n",
    "train_df.head()"
   ]
  },
  {
   "cell_type": "code",
   "execution_count": 5,
   "id": "6d25a292-196e-42b2-9109-9388aa1d5123",
   "metadata": {},
   "outputs": [],
   "source": [
    "from transformers import (\n",
    "    AutoTokenizer,\n",
    "    BertModel, BertPreTrainedModel\n",
    ")\n",
    "import transformers"
   ]
  },
  {
   "cell_type": "code",
   "execution_count": 6,
   "id": "783bf16e",
   "metadata": {},
   "outputs": [
    {
     "name": "stdout",
     "output_type": "stream",
     "text": [
      "4.13.0\n"
     ]
    }
   ],
   "source": [
    "import transformers\n",
    "print(transformers.__version__)"
   ]
  },
  {
   "cell_type": "code",
   "execution_count": 7,
   "id": "c0da3479-7bc2-4ed1-8ee3-6235903977ed",
   "metadata": {},
   "outputs": [],
   "source": [
    "tokenizer = AutoTokenizer.from_pretrained(\"klue/bert-base\")"
   ]
  },
  {
   "cell_type": "code",
   "execution_count": 24,
   "id": "02d5f11a",
   "metadata": {},
   "outputs": [],
   "source": [
    "dart_tok = tokenizer( list(train_df['psg']) ,padding = \"max_length\", return_tensors = \"pt\", truncation = True) \n",
    "news_tok = tokenizer( list(train_df['news']) ,padding = \"max_length\", return_tensors = \"pt\", truncation = True) \n",
    "\n",
    "dart_valid_tok = tokenizer( list(valid_df['psg']) ,padding = \"max_length\", return_tensors = \"pt\", truncation = True) \n",
    "news_valid_tok = tokenizer( list(valid_df['news']) ,padding = \"max_length\", return_tensors = \"pt\", truncation = True) \n"
   ]
  },
  {
   "cell_type": "code",
   "execution_count": 25,
   "id": "2f042caf",
   "metadata": {},
   "outputs": [],
   "source": [
    "corp_code = torch.tensor(train_df['corp_code'])\n",
    "valid_corp_code = torch.tensor(valid_df['corp_code'])"
   ]
  },
  {
   "cell_type": "code",
   "execution_count": 10,
   "id": "74b633cd",
   "metadata": {},
   "outputs": [
    {
     "data": {
      "text/plain": [
       "(torch.Size([3219, 512]), torch.Size([3219, 512]), torch.Size([3219]))"
      ]
     },
     "execution_count": 10,
     "metadata": {},
     "output_type": "execute_result"
    }
   ],
   "source": [
    "dart_tok['input_ids'].shape, news_tok['input_ids'].shape, corp_code.shape"
   ]
  },
  {
   "cell_type": "code",
   "execution_count": 11,
   "id": "d67afd04",
   "metadata": {},
   "outputs": [
    {
     "data": {
      "text/plain": [
       "dict_keys(['input_ids', 'token_type_ids', 'attention_mask'])"
      ]
     },
     "execution_count": 11,
     "metadata": {},
     "output_type": "execute_result"
    }
   ],
   "source": [
    "dart_tok.keys()"
   ]
  },
  {
   "cell_type": "code",
   "execution_count": 12,
   "id": "fb17655c",
   "metadata": {},
   "outputs": [],
   "source": [
    "from torch.utils.data import DataLoader, TensorDataset"
   ]
  },
  {
   "cell_type": "code",
   "execution_count": 27,
   "id": "dfa4ba7f",
   "metadata": {},
   "outputs": [],
   "source": [
    "train_set = TensorDataset(\n",
    "    news_tok['input_ids'], news_tok['token_type_ids'], news_tok['attention_mask'], \\\n",
    "    dart_tok['input_ids'], dart_tok['token_type_ids'], dart_tok['attention_mask'], \\\n",
    "    corp_code)\n",
    "\n",
    "valid_set = TensorDataset(\n",
    "    news_valid_tok['input_ids'], news_valid_tok['token_type_ids'], news_valid_tok['attention_mask'], \\\n",
    "    dart_valid_tok['input_ids'], dart_valid_tok['token_type_ids'], dart_valid_tok['attention_mask'], \\\n",
    "    valid_corp_code)"
   ]
  },
  {
   "cell_type": "code",
   "execution_count": 28,
   "id": "b8a356bb",
   "metadata": {},
   "outputs": [
    {
     "data": {
      "text/plain": [
       "<torch.utils.data.dataloader.DataLoader at 0x7fe72ae55610>"
      ]
     },
     "execution_count": 28,
     "metadata": {},
     "output_type": "execute_result"
    }
   ],
   "source": [
    "BATCH_SIZE = 16\n",
    "dataloader = DataLoader(train_set, batch_size=BATCH_SIZE)\n",
    "\n",
    "val_dataloader = DataLoader(valid_set, batch_size=BATCH_SIZE)\n",
    "\n",
    "dataloader"
   ]
  },
  {
   "cell_type": "markdown",
   "id": "4df3772f",
   "metadata": {},
   "source": [
    "# 모델"
   ]
  },
  {
   "cell_type": "code",
   "execution_count": 15,
   "id": "63ca2c13",
   "metadata": {},
   "outputs": [],
   "source": [
    "class BertEncoder(BertPreTrainedModel):\n",
    "\n",
    "    def __init__(self, config):\n",
    "        super(BertEncoder, self).__init__(config)\n",
    "\n",
    "        self.bert = BertModel(config)\n",
    "        self.init_weights()\n",
    "      \n",
    "      \n",
    "    def forward(self,\n",
    "            input_ids, \n",
    "            attention_mask=None,\n",
    "            token_type_ids=None\n",
    "        ): \n",
    "  \n",
    "        outputs = self.bert(\n",
    "            input_ids,\n",
    "            attention_mask=attention_mask,\n",
    "            token_type_ids=token_type_ids\n",
    "        )\n",
    "        \n",
    "        pooled_output = outputs[1]\n",
    "        return pooled_output"
   ]
  },
  {
   "cell_type": "code",
   "execution_count": 16,
   "id": "7f1bd93d",
   "metadata": {},
   "outputs": [
    {
     "data": {
      "text/plain": [
       "device(type='cuda', index=0)"
      ]
     },
     "execution_count": 16,
     "metadata": {},
     "output_type": "execute_result"
    }
   ],
   "source": [
    "device = torch.device(\"cuda:0\" if torch.cuda.is_available() else \"cpu\")\n",
    "device"
   ]
  },
  {
   "cell_type": "code",
   "execution_count": 17,
   "id": "7ee1d13f",
   "metadata": {},
   "outputs": [
    {
     "name": "stderr",
     "output_type": "stream",
     "text": [
      "Some weights of the model checkpoint at klue/bert-base were not used when initializing BertEncoder: ['cls.predictions.transform.LayerNorm.weight', 'cls.predictions.decoder.weight', 'cls.predictions.decoder.bias', 'cls.seq_relationship.weight', 'cls.predictions.transform.dense.weight', 'cls.predictions.transform.dense.bias', 'cls.predictions.bias', 'cls.predictions.transform.LayerNorm.bias', 'cls.seq_relationship.bias']\n",
      "- This IS expected if you are initializing BertEncoder from the checkpoint of a model trained on another task or with another architecture (e.g. initializing a BertForSequenceClassification model from a BertForPreTraining model).\n",
      "- This IS NOT expected if you are initializing BertEncoder from the checkpoint of a model that you expect to be exactly identical (initializing a BertForSequenceClassification model from a BertForSequenceClassification model).\n",
      "Some weights of the model checkpoint at klue/bert-base were not used when initializing BertEncoder: ['cls.predictions.transform.LayerNorm.weight', 'cls.predictions.decoder.weight', 'cls.predictions.decoder.bias', 'cls.seq_relationship.weight', 'cls.predictions.transform.dense.weight', 'cls.predictions.transform.dense.bias', 'cls.predictions.bias', 'cls.predictions.transform.LayerNorm.bias', 'cls.seq_relationship.bias']\n",
      "- This IS expected if you are initializing BertEncoder from the checkpoint of a model trained on another task or with another architecture (e.g. initializing a BertForSequenceClassification model from a BertForPreTraining model).\n",
      "- This IS NOT expected if you are initializing BertEncoder from the checkpoint of a model that you expect to be exactly identical (initializing a BertForSequenceClassification model from a BertForSequenceClassification model).\n"
     ]
    }
   ],
   "source": [
    "news_encoder = BertEncoder.from_pretrained(\"klue/bert-base\").to(device)\n",
    "dart_encoder = BertEncoder.from_pretrained(\"klue/bert-base\").to(device)\n",
    "\n",
    "\n"
   ]
  },
  {
   "cell_type": "markdown",
   "id": "c29c7217",
   "metadata": {},
   "source": [
    "# 학습"
   ]
  },
  {
   "cell_type": "code",
   "execution_count": 18,
   "id": "eae9024d",
   "metadata": {},
   "outputs": [],
   "source": [
    "from torch import optim\n",
    "news_optimizer = optim.SGD(news_encoder.parameters(), lr=0.01, momentum=0.9)\n",
    "dart_optimizer = optim.SGD(dart_encoder.parameters(), lr=0.01, momentum=0.9)\n",
    "\n",
    "from torch.nn import CrossEntropyLoss"
   ]
  },
  {
   "cell_type": "code",
   "execution_count": 19,
   "id": "d481256c-0a58-4297-8331-8e9301f7cd4c",
   "metadata": {},
   "outputs": [
    {
     "data": {
      "application/vnd.jupyter.widget-view+json": {
       "model_id": "f84cf818efa24c54b5e09b4904ea83a6",
       "version_major": 2,
       "version_minor": 0
      },
      "text/plain": [
       "HBox(children=(FloatProgress(value=0.0, max=202.0), HTML(value='')))"
      ]
     },
     "metadata": {},
     "output_type": "display_data"
    },
    {
     "name": "stdout",
     "output_type": "stream",
     "text": [
      "\n",
      "3.8170815729858854\n"
     ]
    },
    {
     "data": {
      "application/vnd.jupyter.widget-view+json": {
       "model_id": "c63e40c2a4c64d03be4344f900da8454",
       "version_major": 2,
       "version_minor": 0
      },
      "text/plain": [
       "HBox(children=(FloatProgress(value=0.0, max=202.0), HTML(value='')))"
      ]
     },
     "metadata": {},
     "output_type": "display_data"
    },
    {
     "name": "stdout",
     "output_type": "stream",
     "text": [
      "\n",
      "2.764675479714233\n"
     ]
    },
    {
     "data": {
      "application/vnd.jupyter.widget-view+json": {
       "model_id": "5044438a150549d6904b9384910223ac",
       "version_major": 2,
       "version_minor": 0
      },
      "text/plain": [
       "HBox(children=(FloatProgress(value=0.0, max=202.0), HTML(value='')))"
      ]
     },
     "metadata": {},
     "output_type": "display_data"
    },
    {
     "name": "stdout",
     "output_type": "stream",
     "text": [
      "\n",
      "2.7640993264642093\n"
     ]
    }
   ],
   "source": [
    "from collections import Counter\n",
    "\n",
    "epochs = 3\n",
    "for e in range( epochs ):\n",
    "    e_loss = 0\n",
    "    for batch in tq.tqdm( dataloader ):\n",
    "        news_data = {\n",
    "            'input_ids' : batch[0].to(device).to(torch.int64), # ( B, seq_len )\n",
    "            'token_type_ids' : batch[1].to(device).to(torch.int64),\n",
    "            'attention_mask' : batch[2].to(device).to(torch.int64),\n",
    "        }\n",
    "        \n",
    "        dart_data = {\n",
    "            'input_ids' : batch[3].to(device).to(torch.int64), # ( B, seq_len )\n",
    "            'token_type_ids' : batch[4].to(device).to(torch.int64),\n",
    "            'attention_mask' : batch[5].to(device).to(torch.int64),\n",
    "        }\n",
    "\n",
    "        corp_table = batch[6]\n",
    "\n",
    "\n",
    "        corp_code = corp_table.tolist()\n",
    "        dic = {}\n",
    "\n",
    "\n",
    "        batch_size = batch[0].shape[0]\n",
    "        del batch\n",
    "        \n",
    "        news_encoder.train()\n",
    "        news_encoder.zero_grad()\n",
    "        news_emb = news_encoder(**news_data) # (B, hidden_dim)\n",
    "        dart_encoder.train()\n",
    "        dart_encoder.zero_grad()\n",
    "        dart_emb = dart_encoder(**dart_data) # (B, hidden_dim)\n",
    "        sim_score = torch.matmul( news_emb, dart_emb.T ) # (B , B)\n",
    "        \n",
    "        target = torch.arange(start=0, end = batch_size).to(device).to(torch.int64)\n",
    "    \n",
    "        CE_loss = CrossEntropyLoss()\n",
    "        loss = CE_loss(sim_score, target)\n",
    "        e_loss += loss.item()\n",
    "\n",
    "        loss.backward()\n",
    "        dart_optimizer.step()\n",
    "        news_optimizer.step()\n",
    "\n",
    "        del dart_emb\n",
    "        del news_emb\n",
    "        torch.cuda.empty_cache()\n",
    "    print(e_loss / len(dataloader))"
   ]
  },
  {
   "cell_type": "code",
   "execution_count": 32,
   "id": "3d107a26",
   "metadata": {},
   "outputs": [
    {
     "data": {
      "text/plain": [
       "6032"
      ]
     },
     "execution_count": 32,
     "metadata": {},
     "output_type": "execute_result"
    }
   ],
   "source": []
  },
  {
   "cell_type": "markdown",
   "id": "bb6645ae",
   "metadata": {},
   "source": [
    "# validation"
   ]
  },
  {
   "cell_type": "code",
   "execution_count": 33,
   "id": "2591399e-d304-4064-bcd0-6045cd92bfec",
   "metadata": {},
   "outputs": [
    {
     "data": {
      "application/vnd.jupyter.widget-view+json": {
       "model_id": "850b429f087c464083547b92da0110db",
       "version_major": 2,
       "version_minor": 0
      },
      "text/plain": [
       "HBox(children=(FloatProgress(value=0.0, max=377.0), HTML(value='')))"
      ]
     },
     "metadata": {},
     "output_type": "display_data"
    },
    {
     "name": "stdout",
     "output_type": "stream",
     "text": [
      "\n",
      "2.772235010916105\n",
      "16.0\n"
     ]
    }
   ],
   "source": [
    "e_loss = 0\n",
    "news_encoder.eval()\n",
    "dart_encoder.eval()\n",
    "num_correct = 0\n",
    "for batch in tq.tqdm( val_dataloader ):\n",
    "    news_data = {\n",
    "        'input_ids' : batch[0].to(device).to(torch.int64), # ( B, seq_len )\n",
    "        'token_type_ids' : batch[1].to(device).to(torch.int64),\n",
    "        'attention_mask' : batch[2].to(device).to(torch.int64),\n",
    "    }\n",
    "    \n",
    "    dart_data = {\n",
    "        'input_ids' : batch[3].to(device).to(torch.int64), # ( B, seq_len )\n",
    "        'token_type_ids' : batch[4].to(device).to(torch.int64),\n",
    "        'attention_mask' : batch[5].to(device).to(torch.int64),\n",
    "    }\n",
    "\n",
    "    corp_table = batch[6]\n",
    "\n",
    "\n",
    "    corp_code = corp_table.tolist()\n",
    "    dic = {} # for pooling for same corp\n",
    "\n",
    "\n",
    "    batch_size = batch[0].shape[0]\n",
    "    del batch\n",
    "    \n",
    "    with torch.no_grad():\n",
    "        news_emb = news_encoder(**news_data) # (B, hidden_dim)\n",
    "        dart_emb = dart_encoder(**dart_data) # (B, hidden_dim)\n",
    "\n",
    "        sim_score = torch.matmul( news_emb, dart_emb.T ) # (B , B)\n",
    "\n",
    "        top_idx = torch.argmax(sim_score, dim = 1) # (B)\n",
    "\n",
    "        \n",
    "        for p_i, pred in enumerate(top_idx):\n",
    "            if p_i == pred:\n",
    "                num_correct += 1\n",
    "        \n",
    "        target = torch.arange(start=0, end = batch_size).to(device).to(torch.int64)\n",
    "\n",
    "        CE_loss = CrossEntropyLoss()\n",
    "        loss = CE_loss(sim_score, target)\n",
    "        e_loss += loss.item()\n",
    "print(e_loss / len(val_dataloader))\n"
   ]
  },
  {
   "cell_type": "code",
   "execution_count": 34,
   "id": "173c298d",
   "metadata": {},
   "outputs": [
    {
     "name": "stdout",
     "output_type": "stream",
     "text": [
      "0.0625\n"
     ]
    }
   ],
   "source": [
    "print(num_correct / (len(val_dataloader) * BATCH_SIZE))"
   ]
  }
 ],
 "metadata": {
  "interpreter": {
   "hash": "d4d1e4263499bec80672ea0156c357c1ee493ec2b1c70f0acce89fc37c4a6abe"
  },
  "kernelspec": {
   "display_name": "lightweight",
   "language": "python",
   "name": "lightweight"
  },
  "language_info": {
   "codemirror_mode": {
    "name": "ipython",
    "version": 3
   },
   "file_extension": ".py",
   "mimetype": "text/x-python",
   "name": "python",
   "nbconvert_exporter": "python",
   "pygments_lexer": "ipython3",
   "version": "3.7.11"
  }
 },
 "nbformat": 4,
 "nbformat_minor": 5
}
