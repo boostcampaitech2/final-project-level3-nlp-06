{
 "cells": [
  {
   "cell_type": "code",
   "execution_count": 25,
   "metadata": {},
   "outputs": [],
   "source": [
    "import pickle\n",
    "import torch\n",
    "from transformers import AutoModel, AutoTokenizer\n",
    "from tqdm import tqdm "
   ]
  },
  {
   "cell_type": "code",
   "execution_count": 2,
   "metadata": {},
   "outputs": [],
   "source": [
    "with open(\"news_dict.pickle\",\"rb\") as f :\n",
    "    data = pickle.load(f)"
   ]
  },
  {
   "cell_type": "code",
   "execution_count": 13,
   "metadata": {},
   "outputs": [],
   "source": [
    "len_list = []\n",
    "for key, val in data.items():\n",
    "    len_list.append((key, len(val)))"
   ]
  },
  {
   "cell_type": "code",
   "execution_count": 16,
   "metadata": {},
   "outputs": [],
   "source": [
    "data2 = sorted(len_list, key = lambda x: x[1],reverse=True)"
   ]
  },
  {
   "cell_type": "code",
   "execution_count": 21,
   "metadata": {},
   "outputs": [
    {
     "data": {
      "text/plain": [
       "[('대상', 65640),\n",
       " ('레이', 23658),\n",
       " ('SK', 7550),\n",
       " ('동양', 7110),\n",
       " ('LG', 6228),\n",
       " ('신한', 6142),\n",
       " ('디오', 6037),\n",
       " ('성원', 5473),\n",
       " ('동아', 5022),\n",
       " ('남성', 4812)]"
      ]
     },
     "execution_count": 21,
     "metadata": {},
     "output_type": "execute_result"
    }
   ],
   "source": [
    "data2[:10]"
   ]
  },
  {
   "cell_type": "code",
   "execution_count": 24,
   "metadata": {},
   "outputs": [],
   "source": [
    "from konlpy.tag import Mecab\n",
    "tokenizer = Mecab()"
   ]
  },
  {
   "cell_type": "code",
   "execution_count": 27,
   "metadata": {},
   "outputs": [
    {
     "data": {
      "text/plain": [
       "['안녕']"
      ]
     },
     "execution_count": 27,
     "metadata": {},
     "output_type": "execute_result"
    }
   ],
   "source": [
    "tokenizer.nouns(\"안녕하세요\")"
   ]
  },
  {
   "cell_type": "code",
   "execution_count": 28,
   "metadata": {},
   "outputs": [
    {
     "name": "stderr",
     "output_type": "stream",
     "text": [
      "100%|██████████| 2592/2592 [12:24<00:00,  3.48it/s] \n"
     ]
    }
   ],
   "source": [
    "nouns = {}\n",
    "for key, vals in tqdm(data.items()):\n",
    "    tot = []\n",
    "    for txt in vals:\n",
    "        txt_list = tokenizer.nouns(txt)\n",
    "        if key in txt_list :\n",
    "            tot.append(txt_list)\n",
    "    nouns[key] = tot\n",
    "    "
   ]
  },
  {
   "cell_type": "code",
   "execution_count": 29,
   "metadata": {},
   "outputs": [],
   "source": [
    "len_list = []\n",
    "for key, val in nouns.items():\n",
    "    len_list.append((key, len(val)))"
   ]
  },
  {
   "cell_type": "code",
   "execution_count": 30,
   "metadata": {},
   "outputs": [],
   "source": [
    "data2 = sorted(len_list, key = lambda x: x[1],reverse=True)"
   ]
  },
  {
   "cell_type": "code",
   "execution_count": 31,
   "metadata": {},
   "outputs": [
    {
     "data": {
      "text/plain": [
       "[('대상', 61032),\n",
       " ('남성', 4512),\n",
       " ('삼성전자', 4401),\n",
       " ('선진', 2754),\n",
       " ('전방', 2546),\n",
       " ('한화', 2125),\n",
       " ('이마트', 2100),\n",
       " ('신한', 2060),\n",
       " ('카카오', 1780),\n",
       " ('동서', 1683)]"
      ]
     },
     "execution_count": 31,
     "metadata": {},
     "output_type": "execute_result"
    }
   ],
   "source": [
    "data2[:10]"
   ]
  },
  {
   "cell_type": "code",
   "execution_count": 32,
   "metadata": {},
   "outputs": [],
   "source": [
    "pre_dict = {}\n",
    "for key, vals in data.items():\n",
    "    pre_list = []\n",
    "    if len(vals) == 0:\n",
    "        continue\n",
    "    for val in vals:\n",
    "        val.replace(key,\"[MASK]\")\n",
    "        pre_list.append(val)\n",
    "    pre_dict[key] = pre_list"
   ]
  },
  {
   "cell_type": "code",
   "execution_count": 35,
   "metadata": {},
   "outputs": [],
   "source": [
    "with open(\"news_dict_nouns.pickle\",\"wb\") as f:\n",
    "    pickle.dump(nouns, f)"
   ]
  },
  {
   "cell_type": "markdown",
   "metadata": {},
   "source": []
  },
  {
   "cell_type": "code",
   "execution_count": null,
   "metadata": {},
   "outputs": [],
   "source": []
  }
 ],
 "metadata": {
  "kernelspec": {
   "display_name": "lightweight",
   "language": "python",
   "name": "lightweight"
  },
  "language_info": {
   "codemirror_mode": {
    "name": "ipython",
    "version": 3
   },
   "file_extension": ".py",
   "mimetype": "text/x-python",
   "name": "python",
   "nbconvert_exporter": "python",
   "pygments_lexer": "ipython3",
   "version": "3.7.11"
  },
  "orig_nbformat": 4
 },
 "nbformat": 4,
 "nbformat_minor": 2
}
