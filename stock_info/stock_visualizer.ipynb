{
 "cells": [
  {
   "cell_type": "markdown",
   "metadata": {},
   "source": [
    "# 1. 주식데이터 시각화"
   ]
  },
  {
   "cell_type": "markdown",
   "metadata": {},
   "source": [
    "!pip install pandas_datareader\n",
    "!pip install mplfinance "
   ]
  },
  {
   "cell_type": "markdown",
   "metadata": {},
   "source": [
    "# 2. 주식데이터 시각화"
   ]
  },
  {
   "cell_type": "code",
   "execution_count": 11,
   "metadata": {},
   "outputs": [],
   "source": [
    "import pandas_datareader.data as web\n",
    "import datetime\n",
    "import matplotlib.pyplot as plt\n",
    "import mpl_finance as matfin\n",
    "import matplotlib.ticker as ticker\n",
    "\n",
    "def visualize_stock(start_date, end_date, stock_code):\n",
    "    stock = web.DataReader(stock_code + \".KS\", \"yahoo\", start_date, end_date)\n",
    "    fig = plt.figure(figsize=(8, 6))\n",
    "    ax = fig.add_subplot(111)\n",
    "\n",
    "    day_list = []\n",
    "    name_list = []\n",
    "    for i, day in enumerate(stock.index):\n",
    "        if day.dayofweek == 0:\n",
    "            day_list.append(i)\n",
    "            name_list.append(day.strftime('%Y-%m-%d') + '(Mon)')\n",
    "\n",
    "    ax.xaxis.set_major_locator(ticker.FixedLocator(day_list))\n",
    "    ax.xaxis.set_major_formatter(ticker.FixedFormatter(name_list))\n",
    "\n",
    "    matfin.candlestick2_ohlc(ax, stock['Open'], stock['High'], stock['Low'], stock['Close'], width=0.5, colorup='r', colordown='b')\n",
    "    plt.grid()\n",
    "    plt.show()"
   ]
  },
  {
   "cell_type": "code",
   "execution_count": 12,
   "metadata": {},
   "outputs": [
    {
     "data": {
      "image/png": "[encoded data removed]",
      "text/plain": [
       "<Figure size 576x432 with 1 Axes>"
      ]
     },
     "metadata": {
      "needs_background": "light"
     },
     "output_type": "display_data"
    }
   ],
   "source": [
    "stock_code = \"000660\"\n",
    "start_date = datetime.datetime(2021, 12, 1)\n",
    "end_date = datetime.datetime(2021, 12, 31)\n",
    "\n",
    "visualize_stock(start_date, end_date, stock_code)"
   ]
  },
  {
   "cell_type": "code",
   "execution_count": null,
   "metadata": {},
   "outputs": [],
   "source": []
  }
 ],
 "metadata": {
  "interpreter": {
   "hash": "e31c68abf1d5dd3f9e2269f23eadf1b199587e56c0618a30760176a65ebfcab4"
  },
  "kernelspec": {
   "display_name": "Python 3.7.11 64-bit ('lightweight': conda)",
   "language": "python",
   "name": "python3"
  },
  "language_info": {
   "codemirror_mode": {
    "name": "ipython",
    "version": 3
   },
   "file_extension": ".py",
   "mimetype": "text/x-python",
   "name": "python",
   "nbconvert_exporter": "python",
   "pygments_lexer": "ipython3",
   "version": "3.7.11"
  },
  "orig_nbformat": 4
 },
 "nbformat": 4,
 "nbformat_minor": 2
}
