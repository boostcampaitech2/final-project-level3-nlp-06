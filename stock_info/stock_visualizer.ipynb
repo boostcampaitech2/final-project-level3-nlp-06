{
 "cells": [
  {
   "cell_type": "markdown",
   "metadata": {},
   "source": [
    "# 1. 주식데이터 시각화"
   ]
  },
  {
   "cell_type": "markdown",
   "metadata": {},
   "source": [
    "!pip install pandas_datareader\n",
    "!pip install mplfinance "
   ]
  },
  {
   "cell_type": "markdown",
   "metadata": {},
   "source": [
    "# 2. 주식데이터 시각화"
   ]
  },
  {
   "cell_type": "code",
   "execution_count": 74,
   "metadata": {},
   "outputs": [],
   "source": [
    "import FinanceDataReader as fdr\n",
    "import datetime\n",
    "import matplotlib.pyplot as plt\n",
    "from mplfinance.original_flavor import candlestick2_ohlc\n",
    "import matplotlib.ticker as ticker\n",
    "\n",
    "def visualize_stock(start_date, end_date, stock_code):\n",
    "    stock = fdr.DataReader(stock_code, start_date, end_date)\n",
    "    fig = plt.figure(figsize=(8, 6))\n",
    "    ax = fig.add_subplot(111)\n",
    "    print(stock)\n",
    "    day_list = []\n",
    "    name_list = []\n",
    "    for i, day in enumerate(stock.index):\n",
    "        if day.dayofweek == 0:\n",
    "            day_list.append(i)\n",
    "            name_list.append(day.strftime('%Y-%m-%d'))\n",
    "\n",
    "    ax.xaxis.set_major_locator(ticker.FixedLocator(day_list))\n",
    "    ax.xaxis.set_major_formatter(ticker.FixedFormatter(name_list))\n",
    "\n",
    "    candlestick2_ohlc(ax, stock['Open'], stock['High'], stock['Low'], stock['Close'], width=0.5, colorup='r', colordown='b')\n",
    "    plt.grid()\n",
    "    plt.show()"
   ]
  },
  {
   "cell_type": "code",
   "execution_count": 79,
   "metadata": {},
   "outputs": [
    {
     "name": "stdout",
     "output_type": "stream",
     "text": [
      "              Open    High     Low   Close   Volume    Change\n",
      "Date                                                         \n",
      "2021-12-01  114500  117500  112000  116500  4214135  0.021930\n",
      "2021-12-02  115500  120500  115000  120000  6980518  0.030043\n",
      "2021-12-03  119000  119500  115500  118000  4567843 -0.016667\n",
      "2021-12-06  116000  119000  115500  118500  4318893  0.004237\n",
      "2021-12-07  119000  122500  118000  121500  5112025  0.025316\n",
      "2021-12-08  124000  125000  119500  120000  6168137 -0.012346\n",
      "2021-12-09  120500  123500  119000  123500  5631833  0.029167\n",
      "2021-12-10  120500  121500  119500  120500  2512642 -0.024291\n",
      "2021-12-13  121000  124000  121000  121500  3329176  0.008299\n",
      "2021-12-14  120500  123000  120000  121000  2201003 -0.004115\n",
      "2021-12-15  120000  123500  120000  123500  2681332  0.020661\n",
      "2021-12-16  125000  125500  122500  124000  3869086  0.004049\n",
      "2021-12-17  120500  123000  120500  122000  3850444 -0.016129\n",
      "2021-12-20  121500  123500  120500  120500  2846815 -0.012295\n",
      "2021-12-21  124000  124500  122500  124500  3678590  0.033195\n",
      "2021-12-22  127500  128500  126000  127000  3817689  0.020080\n",
      "2021-12-23  129000  129000  126500  127500  2398358  0.003937\n",
      "2021-12-24  129000  130000  128000  128500  1866562  0.007843\n"
     ]
    },
    {
     "data": {
      "image/png": "[encoded data removed]",
      "text/plain": [
       "<Figure size 576x432 with 1 Axes>"
      ]
     },
     "metadata": {
      "needs_background": "light"
     },
     "output_type": "display_data"
    }
   ],
   "source": [
    "stock_code = \"000660\"\n",
    "start_date = datetime.datetime(2021, 12, 1)\n",
    "end_date = datetime.datetime(2021, 12, 30)\n",
    "\n",
    "visualize_stock(start_date, end_date, stock_code)"
   ]
  },
  {
   "cell_type": "code",
   "execution_count": 81,
   "metadata": {},
   "outputs": [
    {
     "name": "stdout",
     "output_type": "stream",
     "text": [
      "[3, 8, 13]\n",
      "['2021-12-06', '2021-12-13', '2021-12-20']\n"
     ]
    }
   ],
   "source": [
    "stock = fdr.DataReader(stock_code, start_date, end_date)\n",
    "day_list = []\n",
    "name_list = []\n",
    "for i, day in enumerate(stock.index):\n",
    "    if day.dayofweek == 0:\n",
    "        day_list.append(i)\n",
    "        name_list.append(day.strftime('%Y-%m-%d'))\n",
    "print(day_list)\n",
    "print(name_list)"
   ]
  },
  {
   "cell_type": "code",
   "execution_count": null,
   "metadata": {},
   "outputs": [],
   "source": []
  }
 ],
 "metadata": {
  "interpreter": {
   "hash": "e31c68abf1d5dd3f9e2269f23eadf1b199587e56c0618a30760176a65ebfcab4"
  },
  "kernelspec": {
   "display_name": "Python 3.7.11 64-bit ('lightweight': conda)",
   "language": "python",
   "name": "python3"
  },
  "language_info": {
   "codemirror_mode": {
    "name": "ipython",
    "version": 3
   },
   "file_extension": ".py",
   "mimetype": "text/x-python",
   "name": "python",
   "nbconvert_exporter": "python",
   "pygments_lexer": "ipython3",
   "version": "3.7.11"
  },
  "orig_nbformat": 4
 },
 "nbformat": 4,
 "nbformat_minor": 2
}
