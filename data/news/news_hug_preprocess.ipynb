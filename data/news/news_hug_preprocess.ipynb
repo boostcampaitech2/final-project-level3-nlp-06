{
 "cells": [
  {
   "cell_type": "markdown",
   "metadata": {},
   "source": [
    "# 1. 기존 데이터 로드"
   ]
  },
  {
   "cell_type": "code",
   "execution_count": 14,
   "metadata": {},
   "outputs": [],
   "source": [
    "from datasets import Dataset, load_dataset\n",
    "import pandas as pd\n",
    "import json"
   ]
  },
  {
   "cell_type": "code",
   "execution_count": 15,
   "metadata": {},
   "outputs": [
    {
     "name": "stderr",
     "output_type": "stream",
     "text": [
      "Using custom data configuration nlpHakdang___aihub-news30k-4ae9b68bff3cf5c2\n",
      "Reusing dataset csv (/opt/ml/.cache/huggingface/datasets/csv/nlpHakdang___aihub-news30k-4ae9b68bff3cf5c2/0.0.0/bf68a4c4aefa545d0712b2fcbb1b327f905bbe2f6425fbc5e8c25234acb9e14a)\n"
     ]
    },
    {
     "data": {
      "application/vnd.jupyter.widget-view+json": {
       "model_id": "918a9b7834314080a64f9bcfc8edd0b0",
       "version_major": 2,
       "version_minor": 0
      },
      "text/plain": [
       "  0%|          | 0/2 [00:00<?, ?it/s]"
      ]
     },
     "metadata": {},
     "output_type": "display_data"
    }
   ],
   "source": [
    "dataset = load_dataset('nlpHakdang/aihub-news30k',  data_files={\"train\":\"news_train_1_1.csv\", \"valid\":\"news_valid_1_1.csv\"}, use_auth_token='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')"
   ]
  },
  {
   "cell_type": "code",
   "execution_count": 16,
   "metadata": {},
   "outputs": [
    {
     "data": {
      "text/plain": [
       "DatasetDict({\n",
       "    train: Dataset({\n",
       "        features: ['Unnamed: 0', 'id', 'category', 'media_sub_type', 'media_name', 'char_count', 'publish_date', 'title', 'original', 'article', 'extractive', 'abstractive'],\n",
       "        num_rows: 271093\n",
       "    })\n",
       "    valid: Dataset({\n",
       "        features: ['Unnamed: 0', 'id', 'category', 'media_sub_type', 'media_name', 'char_count', 'publish_date', 'title', 'original', 'article', 'extractive', 'abstractive'],\n",
       "        num_rows: 30122\n",
       "    })\n",
       "})"
      ]
     },
     "execution_count": 16,
     "metadata": {},
     "output_type": "execute_result"
    }
   ],
   "source": [
    "dataset"
   ]
  },
  {
   "cell_type": "code",
   "execution_count": 17,
   "metadata": {},
   "outputs": [],
   "source": [
    "df_train = pd.DataFrame(dataset['train'])\n",
    "df_valid = pd.DataFrame(dataset['valid'])"
   ]
  },
  {
   "cell_type": "code",
   "execution_count": 18,
   "metadata": {},
   "outputs": [
    {
     "data": {
      "text/plain": [
       "Unnamed: 0                                                        0\n",
       "id                                                        290741778\n",
       "category                                                         종합\n",
       "media_sub_type                                                  지역지\n",
       "media_name                                                     광양신문\n",
       "char_count                                                      927\n",
       "publish_date                                    2018-01-05 18:54:55\n",
       "title                                        논 타작물 재배, 2월 말까지 신청하세요\n",
       "original          ['ha당 조사료 400만원…작물별 차등 지원', '이성훈 sinawi@hanmai...\n",
       "article           ha당 조사료 400만원작물별 차등 지원이성훈 전라남도가 쌀 과잉문제를 근본적으로 ...\n",
       "extractive        전라남도가 쌀 과잉문제를 근본적으로 해결하기 위해 올해부터 시행하는 쌀 생산조정제를...\n",
       "abstractive       전라남도가 쌀 과잉문제를 근본적으로 해결하기 위해 올해부터 벼를 심었던 논에 벼 대...\n",
       "Name: 0, dtype: object"
      ]
     },
     "execution_count": 18,
     "metadata": {},
     "output_type": "execute_result"
    }
   ],
   "source": [
    "df_train.iloc[0]"
   ]
  },
  {
   "cell_type": "code",
   "execution_count": 19,
   "metadata": {},
   "outputs": [
    {
     "name": "stdout",
     "output_type": "stream",
     "text": [
      "<class 'pandas.core.frame.DataFrame'>\n",
      "RangeIndex: 271093 entries, 0 to 271092\n",
      "Data columns (total 12 columns):\n",
      " #   Column          Non-Null Count   Dtype \n",
      "---  ------          --------------   ----- \n",
      " 0   Unnamed: 0      271093 non-null  int64 \n",
      " 1   id              271093 non-null  int64 \n",
      " 2   category        271093 non-null  object\n",
      " 3   media_sub_type  271093 non-null  object\n",
      " 4   media_name      271093 non-null  object\n",
      " 5   char_count      271093 non-null  int64 \n",
      " 6   publish_date    271093 non-null  object\n",
      " 7   title           271093 non-null  object\n",
      " 8   original        271093 non-null  object\n",
      " 9   article         271093 non-null  object\n",
      " 10  extractive      271091 non-null  object\n",
      " 11  abstractive     271089 non-null  object\n",
      "dtypes: int64(3), object(9)\n",
      "memory usage: 24.8+ MB\n"
     ]
    }
   ],
   "source": [
    "df_train.info()"
   ]
  },
  {
   "cell_type": "code",
   "execution_count": 20,
   "metadata": {},
   "outputs": [
    {
     "name": "stdout",
     "output_type": "stream",
     "text": [
      "<class 'pandas.core.frame.DataFrame'>\n",
      "RangeIndex: 30122 entries, 0 to 30121\n",
      "Data columns (total 12 columns):\n",
      " #   Column          Non-Null Count  Dtype \n",
      "---  ------          --------------  ----- \n",
      " 0   Unnamed: 0      30122 non-null  int64 \n",
      " 1   id              30122 non-null  int64 \n",
      " 2   category        30122 non-null  object\n",
      " 3   media_sub_type  30122 non-null  object\n",
      " 4   media_name      30122 non-null  object\n",
      " 5   char_count      30122 non-null  int64 \n",
      " 6   publish_date    30122 non-null  object\n",
      " 7   title           30122 non-null  object\n",
      " 8   original        30122 non-null  object\n",
      " 9   article         30122 non-null  object\n",
      " 10  extractive      30122 non-null  object\n",
      " 11  abstractive     30122 non-null  object\n",
      "dtypes: int64(3), object(9)\n",
      "memory usage: 2.8+ MB\n"
     ]
    }
   ],
   "source": [
    "df_valid.info()"
   ]
  },
  {
   "cell_type": "markdown",
   "metadata": {},
   "source": [
    "# 2. 전처리 코드"
   ]
  },
  {
   "cell_type": "code",
   "execution_count": 21,
   "metadata": {},
   "outputs": [],
   "source": [
    "def preprocess(content):\n",
    "    import re\n",
    "    content = re.sub(\"([a-zA-Z0-9_.+-]+@[a-zA-Z0-9-]+.[a-zA-Z0-9-]+)\", \"\", content)\n",
    "    content = re.sub(\"[-=+,#/\\?:^.@*\\\"※~ㆍ!』‘|\\(\\)\\[\\]`\\'…》\\”\\“\\’·]\", \"\", content)\n",
    "    content = ' '.join(content.split())\n",
    "    return content\n",
    "    \n",
    "series_train = pd.Series([preprocess(article) for article in df_train.article])\n",
    "series_valid = pd.Series([preprocess(article) for article in df_valid.article])"
   ]
  },
  {
   "cell_type": "code",
   "execution_count": 22,
   "metadata": {},
   "outputs": [],
   "source": [
    "df_valid['article'] = series_valid\n",
    "df_train['article'] = series_train"
   ]
  },
  {
   "cell_type": "code",
   "execution_count": 23,
   "metadata": {},
   "outputs": [
    {
     "data": {
      "text/plain": [
       "0         ha당 조사료 400만원작물별 차등 지원이성훈 전라남도가 쌀 과잉문제를 근본적으로 ...\n",
       "1         8억 투입 고소천사벽화자산마을에 색채 입혀이성훈 여수시는 원도심 일대에서 추진된 컬...\n",
       "2         전남드래곤즈 해맞이 다짐선수 영입 활발이성훈 전남드래곤즈사장 신승재는 지난 4일 구...\n",
       "3         1124일 매실감참다래 등 지역특화작목이성훈 광양시는 오는 11일부터 24일까지 농...\n",
       "4         홍콩 크루즈선사아쿠아리우스 4 6월 여수항 입항이성훈 타이완의 크루즈관광객 4000...\n",
       "                                ...                        \n",
       "271088    노유정 기자 조양호 한진그룹 회장의 갑작스런 타계 소식이 전해진 8일 오전 서울 공...\n",
       "271089    조양호 한진그룹 회장이 타계하자 재계는 일제히 추모성명을 냈다전국경제인연합회는 8일...\n",
       "271090    김익환 기자 조양호 한진그룹 회장이 타계하면서 그의 재산을 물려받을 장남 조원태 대...\n",
       "271091    김보형 기자 조양호 한진그룹 회장이 8일 타계하면서 그의 장남인 조원태 대한항공 사...\n",
       "271092    박동휘 기자 국방부가 8일 상반기 군 장성 인사를 단행했다한국군 주도의 한미 연합작...\n",
       "Name: article, Length: 271093, dtype: object"
      ]
     },
     "execution_count": 23,
     "metadata": {},
     "output_type": "execute_result"
    }
   ],
   "source": [
    "df_train['article']"
   ]
  },
  {
   "cell_type": "markdown",
   "metadata": {},
   "source": [
    "df_train['article'].to_csv('article_train.csv', index=False)\n",
    "df_valid['article'].to_csv('article_valid.csv', index=False)"
   ]
  },
  {
   "cell_type": "code",
   "execution_count": 25,
   "metadata": {},
   "outputs": [],
   "source": [
    "df_train.to_csv('news_train_1_1.csv', index=False)\n",
    "df_valid.to_csv('news_valid_1_1.csv', index=False)"
   ]
  },
  {
   "cell_type": "code",
   "execution_count": 26,
   "metadata": {},
   "outputs": [
    {
     "data": {
      "text/html": [
       "<div>\n",
       "<style scoped>\n",
       "    .dataframe tbody tr th:only-of-type {\n",
       "        vertical-align: middle;\n",
       "    }\n",
       "\n",
       "    .dataframe tbody tr th {\n",
       "        vertical-align: top;\n",
       "    }\n",
       "\n",
       "    .dataframe thead th {\n",
       "        text-align: right;\n",
       "    }\n",
       "</style>\n",
       "<table border=\"1\" class=\"dataframe\">\n",
       "  <thead>\n",
       "    <tr style=\"text-align: right;\">\n",
       "      <th></th>\n",
       "      <th>Unnamed: 0</th>\n",
       "      <th>id</th>\n",
       "      <th>category</th>\n",
       "      <th>media_sub_type</th>\n",
       "      <th>media_name</th>\n",
       "      <th>char_count</th>\n",
       "      <th>publish_date</th>\n",
       "      <th>title</th>\n",
       "      <th>original</th>\n",
       "      <th>article</th>\n",
       "      <th>extractive</th>\n",
       "      <th>abstractive</th>\n",
       "    </tr>\n",
       "  </thead>\n",
       "  <tbody>\n",
       "    <tr>\n",
       "      <th>0</th>\n",
       "      <td>0</td>\n",
       "      <td>340626877</td>\n",
       "      <td>정치</td>\n",
       "      <td>경제지</td>\n",
       "      <td>한국경제</td>\n",
       "      <td>1111</td>\n",
       "      <td>2019-04-08 17:43:00</td>\n",
       "      <td>文대통령 \"5G는 4차산업혁명 시대의 고속도로\"</td>\n",
       "      <td>['[ 박재원 기자 ] \\'대한민국 5G 홍보대사\\'를 자처한 문재인 대통령은 \"넓...</td>\n",
       "      <td>박재원 기자 대한민국 5G 홍보대사를 자처한 문재인 대통령은 넓고 체증 없는 통신 ...</td>\n",
       "      <td>[ 박재원 기자 ] '대한민국 5G 홍보대사'를 자처한 문재인 대통령은 \"넓고, 체...</td>\n",
       "      <td>8일 서울에서 열린 5G플러스 전략발표에 참석한 문재인 대통령은 5G는 대한민국 혁...</td>\n",
       "    </tr>\n",
       "    <tr>\n",
       "      <th>1</th>\n",
       "      <td>1</td>\n",
       "      <td>340626896</td>\n",
       "      <td>종합</td>\n",
       "      <td>경제지</td>\n",
       "      <td>한국경제</td>\n",
       "      <td>904</td>\n",
       "      <td>2019-04-08 17:41:00</td>\n",
       "      <td>\"손학규 물러나라\"...바른계, 최고위 회의 '보이콧'</td>\n",
       "      <td>['] 당 지도부 퇴진을 놓고 바른미래당 내홍이 격화되고 있다.', '바른미래당이 ...</td>\n",
       "      <td>당 지도부 퇴진을 놓고 바른미래당 내홍이 격화되고 있다바른미래당이 8일 연 최고위원...</td>\n",
       "      <td>바른미래당이 8일 연 최고위원 회의에는 7명의 최고위원 중 손학규 대표와 김관영 원...</td>\n",
       "      <td>8일 바른미래당 최고의원 회의에 하태경 의원 등 5명의 최고의원이 지도부 퇴진을 요...</td>\n",
       "    </tr>\n",
       "    <tr>\n",
       "      <th>2</th>\n",
       "      <td>2</td>\n",
       "      <td>340626904</td>\n",
       "      <td>IT,과학</td>\n",
       "      <td>경제지</td>\n",
       "      <td>한국경제</td>\n",
       "      <td>1104</td>\n",
       "      <td>2019-04-08 17:44:00</td>\n",
       "      <td>\"마치 한 장소처럼\" ... 5G로 서울·부산·광주 원격협연</td>\n",
       "      <td>['[ 홍윤정 기자 ] 8일 서울 올림픽공원 K아트홀.', \"지난 3일 한국이 세계...</td>\n",
       "      <td>홍윤정 기자 8일 서울 올림픽공원 K아트홀지난 3일 한국이 세계 최초로 5세대5G ...</td>\n",
       "      <td>지난 3일 한국이 세계 최초로 5세대(5G) 이동통신 서비스를 상용화한 것을 기념하...</td>\n",
       "      <td>지난 3일 한국이 세계 첫 5세대 이동통신 서비스를 보편화한 것을 축하하는 '코리안...</td>\n",
       "    </tr>\n",
       "    <tr>\n",
       "      <th>3</th>\n",
       "      <td>3</td>\n",
       "      <td>340627450</td>\n",
       "      <td>사회</td>\n",
       "      <td>경제지</td>\n",
       "      <td>한국경제</td>\n",
       "      <td>740</td>\n",
       "      <td>2019-04-08 17:48:00</td>\n",
       "      <td>\"이웃도 모르는데, 이게 서울 미래냐\"...'고층 재개발 요구' 작심 비판한 박원순</td>\n",
       "      <td>['] 박원순 서울시장(사진)이 8일 고층 재개발·재건축 관련 요구에 작심한 듯 쓴...</td>\n",
       "      <td>박원순 서울시장사진이 8일 고층 재개발재건축 관련 요구에 작심한 듯 쓴소리를 쏟아냈...</td>\n",
       "      <td>] 박원순 서울시장(사진)이 8일 고층 재개발·재건축 관련 요구에 작심한 듯 쓴소리...</td>\n",
       "      <td>박원순 서울시장은 8일 서울시청에서 열린 '골목길 재생 시민 정책 대화'에 참석하여...</td>\n",
       "    </tr>\n",
       "    <tr>\n",
       "      <th>4</th>\n",
       "      <td>4</td>\n",
       "      <td>340627465</td>\n",
       "      <td>경제</td>\n",
       "      <td>경제지</td>\n",
       "      <td>한국경제</td>\n",
       "      <td>1389</td>\n",
       "      <td>2019-04-08 17:49:00</td>\n",
       "      <td>\"SK·알파벳 벤치마킹해야\"...KB운용, KMH에 주주서한</td>\n",
       "      <td>['[ 임근호 기자 ] \"SK(주)와 미국 알파벳(구글 지주회사)의 간결한 지배구조...</td>\n",
       "      <td>임근호 기자 SK주와 미국 알파벳구글 지주회사의 간결한 지배구조를 배워라기업 지배구...</td>\n",
       "      <td>기업 지배구조 개선 등을 통해 높은 수익률을 올리는 것을 목표로 하는 공모펀드 'K...</td>\n",
       "      <td>주주가치 포커스를 운용하는 KB자산운용이  SK와 알파벳(구글 지주회사)의 모범적 ...</td>\n",
       "    </tr>\n",
       "    <tr>\n",
       "      <th>...</th>\n",
       "      <td>...</td>\n",
       "      <td>...</td>\n",
       "      <td>...</td>\n",
       "      <td>...</td>\n",
       "      <td>...</td>\n",
       "      <td>...</td>\n",
       "      <td>...</td>\n",
       "      <td>...</td>\n",
       "      <td>...</td>\n",
       "      <td>...</td>\n",
       "      <td>...</td>\n",
       "      <td>...</td>\n",
       "    </tr>\n",
       "    <tr>\n",
       "      <th>30117</th>\n",
       "      <td>30117</td>\n",
       "      <td>350851474</td>\n",
       "      <td>종합</td>\n",
       "      <td>경제지</td>\n",
       "      <td>헤럴드경제</td>\n",
       "      <td>700</td>\n",
       "      <td>2019-06-30 20:46:00</td>\n",
       "      <td>영주시,외국인근로자 관광명소 문화탐방... 한국생활 정착도와</td>\n",
       "      <td>['영주시는 이억만리에서 건너온 계절근로자들의 향수를 달래고 안정된 한국생활 적응을...</td>\n",
       "      <td>영주시는 이억만리에서 건너온 계절근로자들의 향수를 달래고 안정된 한국생활 적응을 돕...</td>\n",
       "      <td>영주시는 이억만리에서 건너온 계절근로자들의 향수를 달래고 안정된 한국생활 적응을 돕...</td>\n",
       "      <td>영주시는 외국인 근로자들의 향수를 달래고, 안정적인 한국생활 적응을 지원하기 위해 ...</td>\n",
       "    </tr>\n",
       "    <tr>\n",
       "      <th>30118</th>\n",
       "      <td>30118</td>\n",
       "      <td>350851925</td>\n",
       "      <td>경제</td>\n",
       "      <td>경제지</td>\n",
       "      <td>헤럴드경제</td>\n",
       "      <td>706</td>\n",
       "      <td>2019-06-30 20:59:00</td>\n",
       "      <td>달 탐사 50주년 기념...전국 과학관에서 우주특별전 열린다</td>\n",
       "      <td>['여름 방학을 맞아 전국의 국립과학관에서 달 탐사 50주년과 국제천문연맹(IAU)...</td>\n",
       "      <td>여름 방학을 맞아 전국의 국립과학관에서 달 탐사 50주년과 국제천문연맹IAU 설립 ...</td>\n",
       "      <td>여름 방학을 맞아 전국의 국립과학관에서 달 탐사 50주년과 국제천문연맹(IAU) 설...</td>\n",
       "      <td>달 탐사 50주년과 국제천문연맹(IAU)설립 100주년 기념하는 특별전시가 전국의 ...</td>\n",
       "    </tr>\n",
       "    <tr>\n",
       "      <th>30119</th>\n",
       "      <td>30119</td>\n",
       "      <td>350854748</td>\n",
       "      <td>종합</td>\n",
       "      <td>경제지</td>\n",
       "      <td>헤럴드경제</td>\n",
       "      <td>1221</td>\n",
       "      <td>2019-06-30 21:53:00</td>\n",
       "      <td>황교안대표 영주서 자유한국당 영주.문경예천당원협의회 시국강연 가져 ....내년총선 ...</td>\n",
       "      <td>['영주문경예천 당원협의회 시국강연 및 당원교육에 참석차 영주를 방문한 황교안(오른...</td>\n",
       "      <td>영주문경예천 당원협의회 시국강연 및 당원교육에 참석차 영주를 방문한 황교안오른쪽 자...</td>\n",
       "      <td>영주문경예천 당원협의회 시국강연 및 당원교육에 참석차 영주를 방문한 황교안(오른쪽)...</td>\n",
       "      <td>황교안 대표는 지난 29일 자유한국당 대표로 경북 영주문경예청 당원협의회 당원교육에...</td>\n",
       "    </tr>\n",
       "    <tr>\n",
       "      <th>30120</th>\n",
       "      <td>30120</td>\n",
       "      <td>350857648</td>\n",
       "      <td>종합</td>\n",
       "      <td>경제지</td>\n",
       "      <td>헤럴드경제</td>\n",
       "      <td>817</td>\n",
       "      <td>2019-06-30 22:14:00</td>\n",
       "      <td>예천군,양질의 일자리 창출 총력....사회적 경제 기업 활성화에 두팔걷어</td>\n",
       "      <td>['경북예천군은 장기적인 국내 경기침체가 지속됨에 따라 사회적경제 기업 육성 등을 ...</td>\n",
       "      <td>경북예천군은 장기적인 국내 경기침체가 지속됨에 따라 사회적경제 기업 육성 등을 통한...</td>\n",
       "      <td>경북예천군은 장기적인 국내 경기침체가 지속됨에 따라 사회적경제 기업 육성 등을 통한...</td>\n",
       "      <td>경북예천군은 사회적경제 기업 육성 등을 통한 일자리 창출에 행정동력을 집중한 결과 ...</td>\n",
       "    </tr>\n",
       "    <tr>\n",
       "      <th>30121</th>\n",
       "      <td>30121</td>\n",
       "      <td>350861693</td>\n",
       "      <td>경제</td>\n",
       "      <td>경제지</td>\n",
       "      <td>헤럴드경제</td>\n",
       "      <td>778</td>\n",
       "      <td>2019-06-30 23:00:00</td>\n",
       "      <td>‘수도권 30만가구 공급 본격화... 의왕 청계2 등 지구 지정</td>\n",
       "      <td>[\"3기 신도시 등 '수도권 30만 가구 공급' 계획이 7월 의왕 청계2, 성남 신...</td>\n",
       "      <td>3기 신도시 등 수도권 30만 가구 공급 계획이 7월 의왕 청계2 성남 신촌 등 공...</td>\n",
       "      <td>3기 신도시 등 '수도권 30만 가구 공급' 계획이 7월 의왕 청계2, 성남 신촌 ...</td>\n",
       "      <td>국토교통부에 따르면 의왕 청계2, 성남 신총 등 4개 지구가 중앙도시계획위 심의를 ...</td>\n",
       "    </tr>\n",
       "  </tbody>\n",
       "</table>\n",
       "<p>30122 rows × 12 columns</p>\n",
       "</div>"
      ],
      "text/plain": [
       "       Unnamed: 0         id category media_sub_type media_name  char_count  \\\n",
       "0               0  340626877       정치            경제지       한국경제        1111   \n",
       "1               1  340626896       종합            경제지       한국경제         904   \n",
       "2               2  340626904    IT,과학            경제지       한국경제        1104   \n",
       "3               3  340627450       사회            경제지       한국경제         740   \n",
       "4               4  340627465       경제            경제지       한국경제        1389   \n",
       "...           ...        ...      ...            ...        ...         ...   \n",
       "30117       30117  350851474       종합            경제지      헤럴드경제         700   \n",
       "30118       30118  350851925       경제            경제지      헤럴드경제         706   \n",
       "30119       30119  350854748       종합            경제지      헤럴드경제        1221   \n",
       "30120       30120  350857648       종합            경제지      헤럴드경제         817   \n",
       "30121       30121  350861693       경제            경제지      헤럴드경제         778   \n",
       "\n",
       "              publish_date                                              title  \\\n",
       "0      2019-04-08 17:43:00                         文대통령 \"5G는 4차산업혁명 시대의 고속도로\"   \n",
       "1      2019-04-08 17:41:00                     \"손학규 물러나라\"...바른계, 최고위 회의 '보이콧'   \n",
       "2      2019-04-08 17:44:00                  \"마치 한 장소처럼\" ... 5G로 서울·부산·광주 원격협연   \n",
       "3      2019-04-08 17:48:00     \"이웃도 모르는데, 이게 서울 미래냐\"...'고층 재개발 요구' 작심 비판한 박원순   \n",
       "4      2019-04-08 17:49:00                  \"SK·알파벳 벤치마킹해야\"...KB운용, KMH에 주주서한   \n",
       "...                    ...                                                ...   \n",
       "30117  2019-06-30 20:46:00                  영주시,외국인근로자 관광명소 문화탐방... 한국생활 정착도와   \n",
       "30118  2019-06-30 20:59:00                  달 탐사 50주년 기념...전국 과학관에서 우주특별전 열린다   \n",
       "30119  2019-06-30 21:53:00  황교안대표 영주서 자유한국당 영주.문경예천당원협의회 시국강연 가져 ....내년총선 ...   \n",
       "30120  2019-06-30 22:14:00           예천군,양질의 일자리 창출 총력....사회적 경제 기업 활성화에 두팔걷어   \n",
       "30121  2019-06-30 23:00:00                ‘수도권 30만가구 공급 본격화... 의왕 청계2 등 지구 지정   \n",
       "\n",
       "                                                original  \\\n",
       "0      ['[ 박재원 기자 ] \\'대한민국 5G 홍보대사\\'를 자처한 문재인 대통령은 \"넓...   \n",
       "1      ['] 당 지도부 퇴진을 놓고 바른미래당 내홍이 격화되고 있다.', '바른미래당이 ...   \n",
       "2      ['[ 홍윤정 기자 ] 8일 서울 올림픽공원 K아트홀.', \"지난 3일 한국이 세계...   \n",
       "3      ['] 박원순 서울시장(사진)이 8일 고층 재개발·재건축 관련 요구에 작심한 듯 쓴...   \n",
       "4      ['[ 임근호 기자 ] \"SK(주)와 미국 알파벳(구글 지주회사)의 간결한 지배구조...   \n",
       "...                                                  ...   \n",
       "30117  ['영주시는 이억만리에서 건너온 계절근로자들의 향수를 달래고 안정된 한국생활 적응을...   \n",
       "30118  ['여름 방학을 맞아 전국의 국립과학관에서 달 탐사 50주년과 국제천문연맹(IAU)...   \n",
       "30119  ['영주문경예천 당원협의회 시국강연 및 당원교육에 참석차 영주를 방문한 황교안(오른...   \n",
       "30120  ['경북예천군은 장기적인 국내 경기침체가 지속됨에 따라 사회적경제 기업 육성 등을 ...   \n",
       "30121  [\"3기 신도시 등 '수도권 30만 가구 공급' 계획이 7월 의왕 청계2, 성남 신...   \n",
       "\n",
       "                                                 article  \\\n",
       "0      박재원 기자 대한민국 5G 홍보대사를 자처한 문재인 대통령은 넓고 체증 없는 통신 ...   \n",
       "1      당 지도부 퇴진을 놓고 바른미래당 내홍이 격화되고 있다바른미래당이 8일 연 최고위원...   \n",
       "2      홍윤정 기자 8일 서울 올림픽공원 K아트홀지난 3일 한국이 세계 최초로 5세대5G ...   \n",
       "3      박원순 서울시장사진이 8일 고층 재개발재건축 관련 요구에 작심한 듯 쓴소리를 쏟아냈...   \n",
       "4      임근호 기자 SK주와 미국 알파벳구글 지주회사의 간결한 지배구조를 배워라기업 지배구...   \n",
       "...                                                  ...   \n",
       "30117  영주시는 이억만리에서 건너온 계절근로자들의 향수를 달래고 안정된 한국생활 적응을 돕...   \n",
       "30118  여름 방학을 맞아 전국의 국립과학관에서 달 탐사 50주년과 국제천문연맹IAU 설립 ...   \n",
       "30119  영주문경예천 당원협의회 시국강연 및 당원교육에 참석차 영주를 방문한 황교안오른쪽 자...   \n",
       "30120  경북예천군은 장기적인 국내 경기침체가 지속됨에 따라 사회적경제 기업 육성 등을 통한...   \n",
       "30121  3기 신도시 등 수도권 30만 가구 공급 계획이 7월 의왕 청계2 성남 신촌 등 공...   \n",
       "\n",
       "                                              extractive  \\\n",
       "0      [ 박재원 기자 ] '대한민국 5G 홍보대사'를 자처한 문재인 대통령은 \"넓고, 체...   \n",
       "1      바른미래당이 8일 연 최고위원 회의에는 7명의 최고위원 중 손학규 대표와 김관영 원...   \n",
       "2      지난 3일 한국이 세계 최초로 5세대(5G) 이동통신 서비스를 상용화한 것을 기념하...   \n",
       "3      ] 박원순 서울시장(사진)이 8일 고층 재개발·재건축 관련 요구에 작심한 듯 쓴소리...   \n",
       "4      기업 지배구조 개선 등을 통해 높은 수익률을 올리는 것을 목표로 하는 공모펀드 'K...   \n",
       "...                                                  ...   \n",
       "30117  영주시는 이억만리에서 건너온 계절근로자들의 향수를 달래고 안정된 한국생활 적응을 돕...   \n",
       "30118  여름 방학을 맞아 전국의 국립과학관에서 달 탐사 50주년과 국제천문연맹(IAU) 설...   \n",
       "30119  영주문경예천 당원협의회 시국강연 및 당원교육에 참석차 영주를 방문한 황교안(오른쪽)...   \n",
       "30120  경북예천군은 장기적인 국내 경기침체가 지속됨에 따라 사회적경제 기업 육성 등을 통한...   \n",
       "30121  3기 신도시 등 '수도권 30만 가구 공급' 계획이 7월 의왕 청계2, 성남 신촌 ...   \n",
       "\n",
       "                                             abstractive  \n",
       "0      8일 서울에서 열린 5G플러스 전략발표에 참석한 문재인 대통령은 5G는 대한민국 혁...  \n",
       "1      8일 바른미래당 최고의원 회의에 하태경 의원 등 5명의 최고의원이 지도부 퇴진을 요...  \n",
       "2      지난 3일 한국이 세계 첫 5세대 이동통신 서비스를 보편화한 것을 축하하는 '코리안...  \n",
       "3      박원순 서울시장은 8일 서울시청에서 열린 '골목길 재생 시민 정책 대화'에 참석하여...  \n",
       "4      주주가치 포커스를 운용하는 KB자산운용이  SK와 알파벳(구글 지주회사)의 모범적 ...  \n",
       "...                                                  ...  \n",
       "30117  영주시는 외국인 근로자들의 향수를 달래고, 안정적인 한국생활 적응을 지원하기 위해 ...  \n",
       "30118  달 탐사 50주년과 국제천문연맹(IAU)설립 100주년 기념하는 특별전시가 전국의 ...  \n",
       "30119  황교안 대표는 지난 29일 자유한국당 대표로 경북 영주문경예청 당원협의회 당원교육에...  \n",
       "30120  경북예천군은 사회적경제 기업 육성 등을 통한 일자리 창출에 행정동력을 집중한 결과 ...  \n",
       "30121  국토교통부에 따르면 의왕 청계2, 성남 신총 등 4개 지구가 중앙도시계획위 심의를 ...  \n",
       "\n",
       "[30122 rows x 12 columns]"
      ]
     },
     "execution_count": 26,
     "metadata": {},
     "output_type": "execute_result"
    }
   ],
   "source": [
    "with open('./news_valid_1_1.csv', 'r') as f:\n",
    "    valid = pd.read_csv(f)\n",
    "valid"
   ]
  }
 ],
 "metadata": {
  "interpreter": {
   "hash": "e31c68abf1d5dd3f9e2269f23eadf1b199587e56c0618a30760176a65ebfcab4"
  },
  "kernelspec": {
   "display_name": "Python 3.7.11 64-bit ('lightweight': conda)",
   "language": "python",
   "name": "python3"
  },
  "language_info": {
   "codemirror_mode": {
    "name": "ipython",
    "version": 3
   },
   "file_extension": ".py",
   "mimetype": "text/x-python",
   "name": "python",
   "nbconvert_exporter": "python",
   "pygments_lexer": "ipython3",
   "version": "3.7.11"
  },
  "orig_nbformat": 4
 },
 "nbformat": 4,
 "nbformat_minor": 2
}
