{
 "cells": [
  {
   "cell_type": "code",
   "execution_count": 1,
   "metadata": {},
   "outputs": [
    {
     "data": {
      "text/plain": [
       "2599"
      ]
     },
     "execution_count": 1,
     "metadata": {},
     "output_type": "execute_result"
    }
   ],
   "source": [
    "# # load 하기. \n",
    "# content_orig_total 파일은 data_collect 디렉토리의 get_dart.ipynb에서 생성해야 함.\n",
    "import pickle\n",
    "with open(\"../../../content_orig_total.pickle\", \"rb\") as fp:   # Unpickling the original xml file\n",
    "  content_orig_total = pickle.load(fp)\n",
    "len(content_orig_total)\n",
    "\n"
   ]
  },
  {
   "cell_type": "code",
   "execution_count": 3,
   "metadata": {},
   "outputs": [],
   "source": [
    "# # dict으로 만들기\n",
    "# stock_code = []\n",
    "# report_idx = []\n",
    "# corp_code = []\n",
    "# corp_name = []\n",
    "# report_date = []\n",
    "# original_xml = []\n",
    "# contents = []\n",
    "# cleans = []\n",
    "\n",
    "# for c in content_orig_total:\n",
    "#     try:\n",
    "#         stock_code.append(  c['주식 코드'] )\n",
    "#         report_idx.append(      c['report_idx'] )\n",
    "#         corp_code.append(      c['기업 코드'] )\n",
    "#         corp_name.append(      c['기업 이름'] )\n",
    "#         report_date.append(      c['수정 일자'] )\n",
    "#         # original_xml.append(     c['original_xml'] )\n",
    "#         # contents.append(      c['contents'] )\n",
    "#         cleans.append( str(c['clean'] ))\n",
    "#     except:\n",
    "#         print(c['기업 이름'])\n"
   ]
  },
  {
   "cell_type": "code",
   "execution_count": null,
   "metadata": {},
   "outputs": [],
   "source": [
    "# my_dict = {'stock_code':stock_code,\n",
    "# 'report_idx':report_idx,\n",
    "# 'corp_code':corp_code,\n",
    "# 'corp_name':corp_name,\n",
    "# 'report_date':report_date,\n",
    "# 'original_xml':original_xml,\n",
    "# # 'contents':contents,\n",
    "# 'clean' : cleans}"
   ]
  },
  {
   "cell_type": "code",
   "execution_count": null,
   "metadata": {},
   "outputs": [],
   "source": [
    "# # check if all columns have same length. else, cannot create dataframe\n",
    "# for k , v in my_dict.items():\n",
    "#     print(len(v))"
   ]
  },
  {
   "cell_type": "code",
   "execution_count": 5,
   "metadata": {},
   "outputs": [],
   "source": [
    "import pandas as pd"
   ]
  },
  {
   "cell_type": "code",
   "execution_count": 7,
   "metadata": {},
   "outputs": [
    {
     "name": "stdout",
     "output_type": "stream",
     "text": [
      "2599\n"
     ]
    },
    {
     "data": {
      "text/html": [
       "<div>\n",
       "<style scoped>\n",
       "    .dataframe tbody tr th:only-of-type {\n",
       "        vertical-align: middle;\n",
       "    }\n",
       "\n",
       "    .dataframe tbody tr th {\n",
       "        vertical-align: top;\n",
       "    }\n",
       "\n",
       "    .dataframe thead th {\n",
       "        text-align: right;\n",
       "    }\n",
       "</style>\n",
       "<table border=\"1\" class=\"dataframe\">\n",
       "  <thead>\n",
       "    <tr style=\"text-align: right;\">\n",
       "      <th></th>\n",
       "      <th>주식 코드</th>\n",
       "      <th>report_idx</th>\n",
       "      <th>기업 코드</th>\n",
       "      <th>기업 이름</th>\n",
       "      <th>수정 일자</th>\n",
       "      <th>original_xml</th>\n",
       "      <th>contents</th>\n",
       "    </tr>\n",
       "  </thead>\n",
       "  <tbody>\n",
       "    <tr>\n",
       "      <th>0</th>\n",
       "      <td>950130</td>\n",
       "      <td>20211115000151</td>\n",
       "      <td>00956028</td>\n",
       "      <td>엑세스바이오</td>\n",
       "      <td>20170630</td>\n",
       "      <td>&lt;?xml version=\"1.0\" encoding=\"utf-8\"?&gt;&lt;html&gt;&lt;b...</td>\n",
       "      <td>{'【 대표이사 등의 확인 】': {}, 'I. 회사의 개요': {'1. 회사의 개...</td>\n",
       "    </tr>\n",
       "    <tr>\n",
       "      <th>1</th>\n",
       "      <td>033030</td>\n",
       "      <td>20211115002044</td>\n",
       "      <td>00232317</td>\n",
       "      <td>지오엠씨</td>\n",
       "      <td>20170630</td>\n",
       "      <td>&lt;?xml version=\"1.0\" encoding=\"utf-8\"?&gt;&lt;html&gt;&lt;b...</td>\n",
       "      <td>{'【 대표이사 등의 확인 】': {}, 'I. 회사의 개요': {'1. 회사의 개...</td>\n",
       "    </tr>\n",
       "    <tr>\n",
       "      <th>2</th>\n",
       "      <td>067130</td>\n",
       "      <td>20211112000043</td>\n",
       "      <td>00419989</td>\n",
       "      <td>클루넷</td>\n",
       "      <td>20170630</td>\n",
       "      <td>&lt;?xml version=\"1.0\" encoding=\"utf-8\"?&gt;&lt;html&gt;&lt;b...</td>\n",
       "      <td>{'【 대표이사 등의 확인 】': {}, 'I. 회사의 개요': {'1. 회사의 개...</td>\n",
       "    </tr>\n",
       "    <tr>\n",
       "      <th>3</th>\n",
       "      <td>139200</td>\n",
       "      <td>20211115002442</td>\n",
       "      <td>00855145</td>\n",
       "      <td>하이골드오션2호선박투자회사</td>\n",
       "      <td>20171127</td>\n",
       "      <td>&lt;?xml version=\"1.0\" encoding=\"utf-8\"?&gt;&lt;html&gt;&lt;b...</td>\n",
       "      <td>{'【 대표이사 등의 확인 】': {}, 'I. 회사의 개요': {'1. 회사의 개...</td>\n",
       "    </tr>\n",
       "    <tr>\n",
       "      <th>4</th>\n",
       "      <td>900070</td>\n",
       "      <td>20211125000049</td>\n",
       "      <td>00783246</td>\n",
       "      <td>글로벌에스엠</td>\n",
       "      <td>20170703</td>\n",
       "      <td>&lt;?xml version=\"1.0\" encoding=\"utf-8\"?&gt;&lt;html&gt;&lt;b...</td>\n",
       "      <td>{'【 대표이사 등의 확인 】': {}, 'I. 회사의 개요': {'1. 회사의 개...</td>\n",
       "    </tr>\n",
       "  </tbody>\n",
       "</table>\n",
       "</div>"
      ],
      "text/plain": [
       "    주식 코드      report_idx     기업 코드           기업 이름     수정 일자  \\\n",
       "0  950130  20211115000151  00956028          엑세스바이오  20170630   \n",
       "1  033030  20211115002044  00232317            지오엠씨  20170630   \n",
       "2  067130  20211112000043  00419989             클루넷  20170630   \n",
       "3  139200  20211115002442  00855145  하이골드오션2호선박투자회사  20171127   \n",
       "4  900070  20211125000049  00783246          글로벌에스엠  20170703   \n",
       "\n",
       "                                        original_xml  \\\n",
       "0  <?xml version=\"1.0\" encoding=\"utf-8\"?><html><b...   \n",
       "1  <?xml version=\"1.0\" encoding=\"utf-8\"?><html><b...   \n",
       "2  <?xml version=\"1.0\" encoding=\"utf-8\"?><html><b...   \n",
       "3  <?xml version=\"1.0\" encoding=\"utf-8\"?><html><b...   \n",
       "4  <?xml version=\"1.0\" encoding=\"utf-8\"?><html><b...   \n",
       "\n",
       "                                            contents  \n",
       "0  {'【 대표이사 등의 확인 】': {}, 'I. 회사의 개요': {'1. 회사의 개...  \n",
       "1  {'【 대표이사 등의 확인 】': {}, 'I. 회사의 개요': {'1. 회사의 개...  \n",
       "2  {'【 대표이사 등의 확인 】': {}, 'I. 회사의 개요': {'1. 회사의 개...  \n",
       "3  {'【 대표이사 등의 확인 】': {}, 'I. 회사의 개요': {'1. 회사의 개...  \n",
       "4  {'【 대표이사 등의 확인 】': {}, 'I. 회사의 개요': {'1. 회사의 개...  "
      ]
     },
     "execution_count": 7,
     "metadata": {},
     "output_type": "execute_result"
    }
   ],
   "source": [
    "df = pd.DataFrame(content_orig_total)\n",
    "print(len(df))\n",
    "df.head()"
   ]
  },
  {
   "cell_type": "code",
   "execution_count": null,
   "metadata": {},
   "outputs": [],
   "source": [
    "# df.to_csv(\"dart_v0.csv\")"
   ]
  }
 ],
 "metadata": {
  "interpreter": {
   "hash": "e31c68abf1d5dd3f9e2269f23eadf1b199587e56c0618a30760176a65ebfcab4"
  },
  "kernelspec": {
   "display_name": "Python 3.7.11 64-bit ('lightweight': conda)",
   "language": "python",
   "name": "python3"
  },
  "language_info": {
   "codemirror_mode": {
    "name": "ipython",
    "version": 3
   },
   "file_extension": ".py",
   "mimetype": "text/x-python",
   "name": "python",
   "nbconvert_exporter": "python",
   "pygments_lexer": "ipython3",
   "version": "3.7.11"
  },
  "orig_nbformat": 4
 },
 "nbformat": 4,
 "nbformat_minor": 2
}
