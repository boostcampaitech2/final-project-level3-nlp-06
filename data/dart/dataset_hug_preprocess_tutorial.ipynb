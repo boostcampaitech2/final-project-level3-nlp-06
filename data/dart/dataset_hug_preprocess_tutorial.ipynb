{
 "cells": [
  {
   "cell_type": "code",
   "execution_count": 109,
   "metadata": {},
   "outputs": [],
   "source": [
    "from datasets import Dataset, load_dataset\n",
    "import pandas as pd\n",
    "import json"
   ]
  },
  {
   "cell_type": "code",
   "execution_count": 112,
   "metadata": {},
   "outputs": [
    {
     "name": "stderr",
     "output_type": "stream",
     "text": [
      "Using custom data configuration nlpHakdang___beneficiary-1d32d2b062b3ea54\n"
     ]
    },
    {
     "name": "stdout",
     "output_type": "stream",
     "text": [
      "Downloading and preparing dataset csv/nlpHakdang___beneficiary to /opt/ml/.cache/huggingface/datasets/csv/nlpHakdang___beneficiary-1d32d2b062b3ea54/0.0.0/bf68a4c4aefa545d0712b2fcbb1b327f905bbe2f6425fbc5e8c25234acb9e14a...\n"
     ]
    },
    {
     "data": {
      "application/vnd.jupyter.widget-view+json": {
       "model_id": "28c836df89304ff1a66b97c762ea35d6",
       "version_major": 2,
       "version_minor": 0
      },
      "text/plain": [
       "  0%|          | 0/1 [00:00<?, ?it/s]"
      ]
     },
     "metadata": {},
     "output_type": "display_data"
    },
    {
     "data": {
      "application/vnd.jupyter.widget-view+json": {
       "model_id": "40bc48ebd2624a94854f2575b42df00a",
       "version_major": 2,
       "version_minor": 0
      },
      "text/plain": [
       "Downloading:   0%|          | 0.00/67.6M [00:00<?, ?B/s]"
      ]
     },
     "metadata": {},
     "output_type": "display_data"
    },
    {
     "data": {
      "application/vnd.jupyter.widget-view+json": {
       "model_id": "a346c8ff11cb4064bdd75a153d5860bb",
       "version_major": 2,
       "version_minor": 0
      },
      "text/plain": [
       "  0%|          | 0/1 [00:00<?, ?it/s]"
      ]
     },
     "metadata": {},
     "output_type": "display_data"
    },
    {
     "name": "stdout",
     "output_type": "stream",
     "text": [
      "Dataset csv downloaded and prepared to /opt/ml/.cache/huggingface/datasets/csv/nlpHakdang___beneficiary-1d32d2b062b3ea54/0.0.0/bf68a4c4aefa545d0712b2fcbb1b327f905bbe2f6425fbc5e8c25234acb9e14a. Subsequent calls will reuse this data.\n"
     ]
    },
    {
     "data": {
      "application/vnd.jupyter.widget-view+json": {
       "model_id": "b1b89d277b05440baccbdbda4847a059",
       "version_major": 2,
       "version_minor": 0
      },
      "text/plain": [
       "  0%|          | 0/1 [00:00<?, ?it/s]"
      ]
     },
     "metadata": {},
     "output_type": "display_data"
    },
    {
     "data": {
      "text/plain": [
       "DatasetDict({\n",
       "    train: Dataset({\n",
       "        features: ['Unnamed: 0', 'Unnamed: 0.1', 'stock_code', 'report_idx', 'corp_code', 'corp_name', 'report_date', 'clean'],\n",
       "        num_rows: 2318\n",
       "    })\n",
       "})"
      ]
     },
     "execution_count": 112,
     "metadata": {},
     "output_type": "execute_result"
    }
   ],
   "source": [
    "# use_auth_token을 자기 토큰으로 교체하세여. 토큰은 개인 profile의 api token에서 가지고 올 수 있어요\n",
    "dataset = load_dataset(\"nlpHakdang/beneficiary\", data_files = \"dart_ver1_1.csv\", use_auth_token= \"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\")\n",
    "dataset"
   ]
  },
  {
   "cell_type": "code",
   "execution_count": 113,
   "metadata": {},
   "outputs": [
    {
     "data": {
      "text/html": [
       "<div>\n",
       "<style scoped>\n",
       "    .dataframe tbody tr th:only-of-type {\n",
       "        vertical-align: middle;\n",
       "    }\n",
       "\n",
       "    .dataframe tbody tr th {\n",
       "        vertical-align: top;\n",
       "    }\n",
       "\n",
       "    .dataframe thead th {\n",
       "        text-align: right;\n",
       "    }\n",
       "</style>\n",
       "<table border=\"1\" class=\"dataframe\">\n",
       "  <thead>\n",
       "    <tr style=\"text-align: right;\">\n",
       "      <th></th>\n",
       "      <th>Unnamed: 0</th>\n",
       "      <th>Unnamed: 0.1</th>\n",
       "      <th>stock_code</th>\n",
       "      <th>report_idx</th>\n",
       "      <th>corp_code</th>\n",
       "      <th>corp_name</th>\n",
       "      <th>report_date</th>\n",
       "      <th>clean</th>\n",
       "    </tr>\n",
       "  </thead>\n",
       "  <tbody>\n",
       "    <tr>\n",
       "      <th>0</th>\n",
       "      <td>False</td>\n",
       "      <td>False</td>\n",
       "      <td>False</td>\n",
       "      <td>False</td>\n",
       "      <td>False</td>\n",
       "      <td>False</td>\n",
       "      <td>False</td>\n",
       "      <td>False</td>\n",
       "    </tr>\n",
       "    <tr>\n",
       "      <th>1</th>\n",
       "      <td>False</td>\n",
       "      <td>False</td>\n",
       "      <td>False</td>\n",
       "      <td>False</td>\n",
       "      <td>False</td>\n",
       "      <td>False</td>\n",
       "      <td>False</td>\n",
       "      <td>False</td>\n",
       "    </tr>\n",
       "    <tr>\n",
       "      <th>2</th>\n",
       "      <td>False</td>\n",
       "      <td>False</td>\n",
       "      <td>False</td>\n",
       "      <td>False</td>\n",
       "      <td>False</td>\n",
       "      <td>False</td>\n",
       "      <td>False</td>\n",
       "      <td>False</td>\n",
       "    </tr>\n",
       "    <tr>\n",
       "      <th>3</th>\n",
       "      <td>False</td>\n",
       "      <td>False</td>\n",
       "      <td>False</td>\n",
       "      <td>False</td>\n",
       "      <td>False</td>\n",
       "      <td>False</td>\n",
       "      <td>False</td>\n",
       "      <td>False</td>\n",
       "    </tr>\n",
       "    <tr>\n",
       "      <th>4</th>\n",
       "      <td>False</td>\n",
       "      <td>False</td>\n",
       "      <td>False</td>\n",
       "      <td>False</td>\n",
       "      <td>False</td>\n",
       "      <td>False</td>\n",
       "      <td>False</td>\n",
       "      <td>False</td>\n",
       "    </tr>\n",
       "    <tr>\n",
       "      <th>...</th>\n",
       "      <td>...</td>\n",
       "      <td>...</td>\n",
       "      <td>...</td>\n",
       "      <td>...</td>\n",
       "      <td>...</td>\n",
       "      <td>...</td>\n",
       "      <td>...</td>\n",
       "      <td>...</td>\n",
       "    </tr>\n",
       "    <tr>\n",
       "      <th>2313</th>\n",
       "      <td>False</td>\n",
       "      <td>False</td>\n",
       "      <td>False</td>\n",
       "      <td>False</td>\n",
       "      <td>False</td>\n",
       "      <td>False</td>\n",
       "      <td>False</td>\n",
       "      <td>False</td>\n",
       "    </tr>\n",
       "    <tr>\n",
       "      <th>2314</th>\n",
       "      <td>False</td>\n",
       "      <td>False</td>\n",
       "      <td>False</td>\n",
       "      <td>False</td>\n",
       "      <td>False</td>\n",
       "      <td>False</td>\n",
       "      <td>False</td>\n",
       "      <td>False</td>\n",
       "    </tr>\n",
       "    <tr>\n",
       "      <th>2315</th>\n",
       "      <td>False</td>\n",
       "      <td>False</td>\n",
       "      <td>False</td>\n",
       "      <td>False</td>\n",
       "      <td>False</td>\n",
       "      <td>False</td>\n",
       "      <td>False</td>\n",
       "      <td>False</td>\n",
       "    </tr>\n",
       "    <tr>\n",
       "      <th>2316</th>\n",
       "      <td>False</td>\n",
       "      <td>False</td>\n",
       "      <td>False</td>\n",
       "      <td>False</td>\n",
       "      <td>False</td>\n",
       "      <td>False</td>\n",
       "      <td>False</td>\n",
       "      <td>False</td>\n",
       "    </tr>\n",
       "    <tr>\n",
       "      <th>2317</th>\n",
       "      <td>False</td>\n",
       "      <td>False</td>\n",
       "      <td>False</td>\n",
       "      <td>False</td>\n",
       "      <td>False</td>\n",
       "      <td>False</td>\n",
       "      <td>False</td>\n",
       "      <td>False</td>\n",
       "    </tr>\n",
       "  </tbody>\n",
       "</table>\n",
       "<p>2318 rows × 8 columns</p>\n",
       "</div>"
      ],
      "text/plain": [
       "      Unnamed: 0  Unnamed: 0.1  stock_code  report_idx  corp_code  corp_name  \\\n",
       "0          False         False       False       False      False      False   \n",
       "1          False         False       False       False      False      False   \n",
       "2          False         False       False       False      False      False   \n",
       "3          False         False       False       False      False      False   \n",
       "4          False         False       False       False      False      False   \n",
       "...          ...           ...         ...         ...        ...        ...   \n",
       "2313       False         False       False       False      False      False   \n",
       "2314       False         False       False       False      False      False   \n",
       "2315       False         False       False       False      False      False   \n",
       "2316       False         False       False       False      False      False   \n",
       "2317       False         False       False       False      False      False   \n",
       "\n",
       "      report_date  clean  \n",
       "0           False  False  \n",
       "1           False  False  \n",
       "2           False  False  \n",
       "3           False  False  \n",
       "4           False  False  \n",
       "...           ...    ...  \n",
       "2313        False  False  \n",
       "2314        False  False  \n",
       "2315        False  False  \n",
       "2316        False  False  \n",
       "2317        False  False  \n",
       "\n",
       "[2318 rows x 8 columns]"
      ]
     },
     "execution_count": 113,
     "metadata": {},
     "output_type": "execute_result"
    }
   ],
   "source": [
    "df = pd.DataFrame(dataset['train'])\n",
    "df.isna()"
   ]
  },
  {
   "cell_type": "code",
   "execution_count": 114,
   "metadata": {},
   "outputs": [
    {
     "data": {
      "text/html": [
       "<div>\n",
       "<style scoped>\n",
       "    .dataframe tbody tr th:only-of-type {\n",
       "        vertical-align: middle;\n",
       "    }\n",
       "\n",
       "    .dataframe tbody tr th {\n",
       "        vertical-align: top;\n",
       "    }\n",
       "\n",
       "    .dataframe thead th {\n",
       "        text-align: right;\n",
       "    }\n",
       "</style>\n",
       "<table border=\"1\" class=\"dataframe\">\n",
       "  <thead>\n",
       "    <tr style=\"text-align: right;\">\n",
       "      <th></th>\n",
       "      <th>Unnamed: 0</th>\n",
       "      <th>Unnamed: 0.1</th>\n",
       "      <th>stock_code</th>\n",
       "      <th>report_idx</th>\n",
       "      <th>corp_code</th>\n",
       "      <th>corp_name</th>\n",
       "      <th>report_date</th>\n",
       "      <th>clean</th>\n",
       "    </tr>\n",
       "  </thead>\n",
       "  <tbody>\n",
       "    <tr>\n",
       "      <th>0</th>\n",
       "      <td>0</td>\n",
       "      <td>0</td>\n",
       "      <td>950130</td>\n",
       "      <td>20211115000151</td>\n",
       "      <td>956028</td>\n",
       "      <td>엑세스바이오</td>\n",
       "      <td>20170630</td>\n",
       "      <td>{'I. 회사의 개요': {'1. 회사의 개요': \"1. 회사의 개요1. 연결대상 ...</td>\n",
       "    </tr>\n",
       "    <tr>\n",
       "      <th>1</th>\n",
       "      <td>1</td>\n",
       "      <td>1</td>\n",
       "      <td>33030</td>\n",
       "      <td>20211115002044</td>\n",
       "      <td>232317</td>\n",
       "      <td>지오엠씨</td>\n",
       "      <td>20170630</td>\n",
       "      <td>{'I. 회사의 개요': {'1. 회사의 개요': '1. 회사의 개요 가. 연결대상...</td>\n",
       "    </tr>\n",
       "    <tr>\n",
       "      <th>2</th>\n",
       "      <td>2</td>\n",
       "      <td>2</td>\n",
       "      <td>67130</td>\n",
       "      <td>20211112000043</td>\n",
       "      <td>419989</td>\n",
       "      <td>클루넷</td>\n",
       "      <td>20170630</td>\n",
       "      <td>{'I. 회사의 개요': {'1. 회사의 개요': \"1. 회사의 개요1. 연결대상 ...</td>\n",
       "    </tr>\n",
       "    <tr>\n",
       "      <th>3</th>\n",
       "      <td>4</td>\n",
       "      <td>4</td>\n",
       "      <td>900070</td>\n",
       "      <td>20211125000049</td>\n",
       "      <td>783246</td>\n",
       "      <td>글로벌에스엠</td>\n",
       "      <td>20170703</td>\n",
       "      <td>{'I. 회사의 개요': {'1. 회사의 개요': '1. 회사의 개요1. 연결대상 ...</td>\n",
       "    </tr>\n",
       "    <tr>\n",
       "      <th>4</th>\n",
       "      <td>5</td>\n",
       "      <td>5</td>\n",
       "      <td>900120</td>\n",
       "      <td>20211028000448</td>\n",
       "      <td>800084</td>\n",
       "      <td>씨케이에이치</td>\n",
       "      <td>20170703</td>\n",
       "      <td>{'I. 회사의 개요': {'1. 회사의 개요': \"1. 회사의 개요 (1) 연결대...</td>\n",
       "    </tr>\n",
       "    <tr>\n",
       "      <th>...</th>\n",
       "      <td>...</td>\n",
       "      <td>...</td>\n",
       "      <td>...</td>\n",
       "      <td>...</td>\n",
       "      <td>...</td>\n",
       "      <td>...</td>\n",
       "      <td>...</td>\n",
       "      <td>...</td>\n",
       "    </tr>\n",
       "    <tr>\n",
       "      <th>2313</th>\n",
       "      <td>2594</td>\n",
       "      <td>2594</td>\n",
       "      <td>340440</td>\n",
       "      <td>20211115000416</td>\n",
       "      <td>1416572</td>\n",
       "      <td>한화플러스제1호스팩</td>\n",
       "      <td>20211125</td>\n",
       "      <td>{'I. 회사의 개요': {'1. 회사의 개요': '1. 회사의 개요 ※ 한화플러스...</td>\n",
       "    </tr>\n",
       "    <tr>\n",
       "      <th>2314</th>\n",
       "      <td>2595</td>\n",
       "      <td>2595</td>\n",
       "      <td>137950</td>\n",
       "      <td>20211111000044</td>\n",
       "      <td>664853</td>\n",
       "      <td>제이씨케미칼</td>\n",
       "      <td>20211126</td>\n",
       "      <td>{'I. 회사의 개요': {'1. 회사의 개요': '1. 회사의 개요 제이씨케미칼(...</td>\n",
       "    </tr>\n",
       "    <tr>\n",
       "      <th>2315</th>\n",
       "      <td>2596</td>\n",
       "      <td>2596</td>\n",
       "      <td>9540</td>\n",
       "      <td>20211115001694</td>\n",
       "      <td>164830</td>\n",
       "      <td>한국조선해양</td>\n",
       "      <td>20211022</td>\n",
       "      <td>{'I. 회사의 개요': {'1. 회사의 개요': \"1. 회사의 개요가. 연결대상 ...</td>\n",
       "    </tr>\n",
       "    <tr>\n",
       "      <th>2316</th>\n",
       "      <td>2597</td>\n",
       "      <td>2597</td>\n",
       "      <td>128820</td>\n",
       "      <td>20211115000893</td>\n",
       "      <td>828789</td>\n",
       "      <td>대성산업</td>\n",
       "      <td>20211111</td>\n",
       "      <td>{'I. 회사의 개요': {'1. 회사의 개요': '1. 회사의 개요가. 회사의 법...</td>\n",
       "    </tr>\n",
       "    <tr>\n",
       "      <th>2317</th>\n",
       "      <td>2598</td>\n",
       "      <td>2598</td>\n",
       "      <td>289220</td>\n",
       "      <td>20211110000405</td>\n",
       "      <td>1264438</td>\n",
       "      <td>자이언트스텝</td>\n",
       "      <td>20211028</td>\n",
       "      <td>{'I. 회사의 개요': {'1. 회사의 개요': '1. 회사의 개요주식회사 자이언...</td>\n",
       "    </tr>\n",
       "  </tbody>\n",
       "</table>\n",
       "<p>2318 rows × 8 columns</p>\n",
       "</div>"
      ],
      "text/plain": [
       "      Unnamed: 0  Unnamed: 0.1  stock_code      report_idx  corp_code  \\\n",
       "0              0             0      950130  20211115000151     956028   \n",
       "1              1             1       33030  20211115002044     232317   \n",
       "2              2             2       67130  20211112000043     419989   \n",
       "3              4             4      900070  20211125000049     783246   \n",
       "4              5             5      900120  20211028000448     800084   \n",
       "...          ...           ...         ...             ...        ...   \n",
       "2313        2594          2594      340440  20211115000416    1416572   \n",
       "2314        2595          2595      137950  20211111000044     664853   \n",
       "2315        2596          2596        9540  20211115001694     164830   \n",
       "2316        2597          2597      128820  20211115000893     828789   \n",
       "2317        2598          2598      289220  20211110000405    1264438   \n",
       "\n",
       "       corp_name  report_date  \\\n",
       "0         엑세스바이오     20170630   \n",
       "1           지오엠씨     20170630   \n",
       "2            클루넷     20170630   \n",
       "3         글로벌에스엠     20170703   \n",
       "4         씨케이에이치     20170703   \n",
       "...          ...          ...   \n",
       "2313  한화플러스제1호스팩     20211125   \n",
       "2314      제이씨케미칼     20211126   \n",
       "2315      한국조선해양     20211022   \n",
       "2316        대성산업     20211111   \n",
       "2317      자이언트스텝     20211028   \n",
       "\n",
       "                                                  clean  \n",
       "0     {'I. 회사의 개요': {'1. 회사의 개요': \"1. 회사의 개요1. 연결대상 ...  \n",
       "1     {'I. 회사의 개요': {'1. 회사의 개요': '1. 회사의 개요 가. 연결대상...  \n",
       "2     {'I. 회사의 개요': {'1. 회사의 개요': \"1. 회사의 개요1. 연결대상 ...  \n",
       "3     {'I. 회사의 개요': {'1. 회사의 개요': '1. 회사의 개요1. 연결대상 ...  \n",
       "4     {'I. 회사의 개요': {'1. 회사의 개요': \"1. 회사의 개요 (1) 연결대...  \n",
       "...                                                 ...  \n",
       "2313  {'I. 회사의 개요': {'1. 회사의 개요': '1. 회사의 개요 ※ 한화플러스...  \n",
       "2314  {'I. 회사의 개요': {'1. 회사의 개요': '1. 회사의 개요 제이씨케미칼(...  \n",
       "2315  {'I. 회사의 개요': {'1. 회사의 개요': \"1. 회사의 개요가. 연결대상 ...  \n",
       "2316  {'I. 회사의 개요': {'1. 회사의 개요': '1. 회사의 개요가. 회사의 법...  \n",
       "2317  {'I. 회사의 개요': {'1. 회사의 개요': '1. 회사의 개요주식회사 자이언...  \n",
       "\n",
       "[2318 rows x 8 columns]"
      ]
     },
     "execution_count": 114,
     "metadata": {},
     "output_type": "execute_result"
    }
   ],
   "source": [
    "df = df.dropna()\n",
    "df"
   ]
  },
  {
   "cell_type": "code",
   "execution_count": 116,
   "metadata": {},
   "outputs": [],
   "source": [
    "df.clean = df.clean.map(eval)\n"
   ]
  },
  {
   "cell_type": "code",
   "execution_count": 117,
   "metadata": {},
   "outputs": [],
   "source": [
    "import copy\n",
    "\n",
    "orig_sample = copy.deepcopy(df.clean[0])"
   ]
  },
  {
   "cell_type": "code",
   "execution_count": 118,
   "metadata": {},
   "outputs": [],
   "source": [
    "# dict type check\n",
    "for idx in df.clean.index:\n",
    "    assert dict == type( df.clean[idx] ), f\"eval not work for {idx}.\""
   ]
  },
  {
   "cell_type": "code",
   "execution_count": 119,
   "metadata": {},
   "outputs": [],
   "source": [
    "from dart_prcs import *\n",
    "# 이 함수를 수정하세요.\n",
    "import re\n",
    "def preprocess(content):\n",
    "    content = re.sub(\"-\", \"\", content)\n",
    "    content = re.sub(\"\\\"\", \"\", content)\n",
    "    content = re.sub(\"\\'\", \"\", content)\n",
    "    content = re.sub(\",\", \"\", content)\n",
    "    content = re.sub(\"(주)\", \"\", content)\n",
    "    content = re.sub(\"[(]\", \" (\", content)\n",
    "    content = re.sub(\"[)]\", \") \", content)\n",
    "    content = remove_repeated_spacing(content)\n",
    "    content = clean_punc(content)\n",
    "    content = remove_useless_breacket(content)\n",
    "    content = remove_email(content)\n",
    "    content = remove_url(content)\n",
    "    \n",
    "    # rm_char = \"■\"\n",
    "    rm_char = '■\\.:%/~0㈜&※·00→①②$③○-ㆍ」「■>Ⅱ④;▶●?⑤社⑥⑦□=ㅇ『』外<◆△【】現▲▷美∼用☞@前000㎡◇中Ⅲ－無新內％◈}株ㅁ會㎥{ㄱⅠ化高＋ㄴ日有：ㄷ公司全後限，〔〕學↑式月|＆ℓㄹ…業人名《》年^韓部▼本大小海│愛故食形㎏獨山多水東可非思州國家生上℃ㅂ合金發在同⊙軍英物實田開○○○○○作性體度産空分子光重ㅅ島間時利＂面母≪㎖資心別氣仁未京來對成雲淸聖命保的集史靑場法神正第一硏㎞ㅡ★太民如理出入下解得安平＝帝所市石門相方元政先富北木自車南地―｜求ㅎㅎ≫西長銀者規制女江福和ㅌ通主義村當代力㎝善原選色；古河──都能動歌〈〉不定ㅠ吉事理張數朝金㎜記書'\n",
    "    content = re.sub(rm_char, \" \", content)\n",
    "    return content\n",
    "\n",
    "for i in range(len(df)):\n",
    "    content = df.iloc[i].clean\n",
    "    for k ,v in content.items():\n",
    "        for kk, vv in v.items():\n",
    "            try:\n",
    "                v[kk] = preprocess(vv)\n",
    "            except Exception as e:\n",
    "                # print(vv)\n",
    "                print(e)\n",
    "                # print(i)\n",
    "    "
   ]
  },
  {
   "cell_type": "code",
   "execution_count": null,
   "metadata": {},
   "outputs": [],
   "source": []
  },
  {
   "cell_type": "code",
   "execution_count": 93,
   "metadata": {},
   "outputs": [],
   "source": [
    "# df.clean[0] == orig_sample"
   ]
  },
  {
   "cell_type": "code",
   "execution_count": 94,
   "metadata": {},
   "outputs": [],
   "source": [
    "# df.to_csv(\"sample.csv\")"
   ]
  },
  {
   "cell_type": "code",
   "execution_count": 120,
   "metadata": {},
   "outputs": [
    {
     "ename": "NameError",
     "evalue": "name 'defalutdict' is not defined",
     "output_type": "error",
     "traceback": [
      "\u001b[0;31m---------------------------------------------------------------------------\u001b[0m",
      "\u001b[0;31mNameError\u001b[0m                                 Traceback (most recent call last)",
      "\u001b[0;32m/tmp/ipykernel_20143/3259882689.py\u001b[0m in \u001b[0;36m<module>\u001b[0;34m\u001b[0m\n\u001b[1;32m     10\u001b[0m \u001b[0;34m\u001b[0m\u001b[0m\n\u001b[1;32m     11\u001b[0m \u001b[0;32mfor\u001b[0m \u001b[0mk\u001b[0m \u001b[0;34m,\u001b[0m \u001b[0mv\u001b[0m \u001b[0;32min\u001b[0m \u001b[0mdf\u001b[0m\u001b[0;34m.\u001b[0m\u001b[0mclean\u001b[0m\u001b[0;34m.\u001b[0m\u001b[0mitems\u001b[0m\u001b[0;34m(\u001b[0m\u001b[0;34m)\u001b[0m\u001b[0;34m:\u001b[0m\u001b[0;34m\u001b[0m\u001b[0;34m\u001b[0m\u001b[0m\n\u001b[0;32m---> 12\u001b[0;31m     \u001b[0mdict\u001b[0m \u001b[0;34m=\u001b[0m \u001b[0mdefalutdict\u001b[0m\u001b[0;34m(\u001b[0m\u001b[0;34m\"\"\u001b[0m\u001b[0;34m)\u001b[0m\u001b[0;34m\u001b[0m\u001b[0;34m\u001b[0m\u001b[0m\n\u001b[0m\u001b[1;32m     13\u001b[0m     \u001b[0;32mfor\u001b[0m \u001b[0mkk\u001b[0m\u001b[0;34m,\u001b[0m \u001b[0mvv\u001b[0m \u001b[0;32min\u001b[0m \u001b[0mv\u001b[0m\u001b[0;34m.\u001b[0m\u001b[0mitmes\u001b[0m\u001b[0;34m(\u001b[0m\u001b[0;34m)\u001b[0m\u001b[0;34m:\u001b[0m\u001b[0;34m\u001b[0m\u001b[0;34m\u001b[0m\u001b[0m\n\u001b[1;32m     14\u001b[0m         \u001b[0mdict\u001b[0m\u001b[0;34m[\u001b[0m\u001b[0mkk\u001b[0m\u001b[0;34m]\u001b[0m \u001b[0;34m=\u001b[0m \u001b[0mvv\u001b[0m\u001b[0;34m\u001b[0m\u001b[0;34m\u001b[0m\u001b[0m\n",
      "\u001b[0;31mNameError\u001b[0m: name 'defalutdict' is not defined"
     ]
    }
   ],
   "source": [
    "# for k , v in df.clean[0].items():\n",
    "#     for kk, vv in v.items():\n",
    "#         reg = df.clean[0][k][kk]\n",
    "#         print(kk,len(reg) )\n",
    "#         # print(re.sub(\"\", \"\", reg))\n",
    "#         # break\n",
    "\n",
    "# pd.DataFrame(df.clean)\n",
    "from collections import defaultdict\n",
    "\n",
    "for k , v in df.clean.items():\n",
    "    dict = defalutdict(\"\")\n",
    "    for kk, vv in v.itmes():\n",
    "        dict[kk] = vv"
   ]
  },
  {
   "cell_type": "markdown",
   "metadata": {},
   "source": [
    "# 전처리 한 데이터셋 업로드하기\n",
    "\n",
    "사전 준비\n",
    "\n",
    "0. 허깅페이스 가입 후 아래 명령어 치고 console에 뜨는 링크 타고 들어가서 api key을 받아옵니다. 혹시 안되면, org api key가 아니라 본인의 api key을 받아오고 있는지 확인하세여\n",
    "`huggingface-cli login`\n",
    "\n",
    "**그리고 가입한 이메일을 이미 허깅페이스 레포로 가입되어 있는 사람들에게 알려주시면 초대 링크를 보내겠습니다**\n",
    "\n",
    "1. git lfs을 설치\n",
    "`apt-get install git-lfs`\n",
    "\n",
    "2. huggingface repository fetch\n",
    "`git clone https://huggingface.co/datasets/nlpHakdang/beneficiary`\n",
    "\n",
    "3. dataset_dir으로 이동\n",
    "`cd beneficiary`\n",
    "\n",
    "4. git lfs을 이 디렉토리에 설치\n",
    "`git lfs install`"
   ]
  },
  {
   "cell_type": "code",
   "execution_count": null,
   "metadata": {},
   "outputs": [],
   "source": [
    "# # 전처리 한 dataset 업로드 위해 파일로 만듦.\n",
    "\n",
    "# dataset_dir = \"./beneficiary/\" # huggingface dataset local repositoy\n",
    "# df.to_csv(dataset_dir+\"dart_v0_remove_dash.csv\")j"
   ]
  },
  {
   "cell_type": "markdown",
   "metadata": {},
   "source": [
    "## 업로드\n",
    "\n",
    "1. branch 구분하기\n",
    "main branch에는 main 혹은 다른 전처리에 동일하게 들어갈 내용만 넣으면 좋을 것 같습니다. \n",
    "`git branch ...`\n",
    "\n",
    "2. git lfs tracking\n",
    "데이터 파일이 용량이 커서 git lfs으로 tracking을 해줘야 해요\n",
    "`git lfs track {dataset_file.csv}`\n",
    "\n",
    "3. git stage\n",
    "`git add dataset_file.csv`\n",
    "`git add .gitattributes`\n",
    "\n",
    "4. git commit\n",
    "\n",
    "5. git push\n",
    "\n",
    "6. main branch으로 이동해서 readme에 특정 브랜치에 어떤 전처리가 수행되었는지 적어주고 main branch을 push 해주시면 다른 task에서 비슷한 전처리가 있을 때 활용할 수 있겠지여?"
   ]
  },
  {
   "cell_type": "markdown",
   "metadata": {},
   "source": []
  }
 ],
 "metadata": {
  "interpreter": {
   "hash": "e31c68abf1d5dd3f9e2269f23eadf1b199587e56c0618a30760176a65ebfcab4"
  },
  "kernelspec": {
   "display_name": "Python 3 (ipykernel)",
   "language": "python",
   "name": "python3"
  },
  "language_info": {
   "codemirror_mode": {
    "name": "ipython",
    "version": 3
   },
   "file_extension": ".py",
   "mimetype": "text/x-python",
   "name": "python",
   "nbconvert_exporter": "python",
   "pygments_lexer": "ipython3",
   "version": "3.7.11"
  }
 },
 "nbformat": 4,
 "nbformat_minor": 4
}
